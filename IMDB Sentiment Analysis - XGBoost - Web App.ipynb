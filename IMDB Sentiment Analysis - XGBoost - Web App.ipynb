{
 "cells": [
  {
   "cell_type": "markdown",
   "metadata": {},
   "source": [
    "# Sentiment Analysis Web App\n",
    "\n",
    "---\n",
    "\n",
    "In this notebook we will use Amazon's SageMaker service to construct a random tree model to predict the sentiment of a movie review. In addition, we will deploy this model to an endpoint and construct a very simple web app which will interact with our model's deployed endpoint.\n",
    "\n",
    "## General Outline\n",
    "\n",
    "Typically, when using a notebook instance with SageMaker, you will proceed through the following steps. Of course, not every step will need to be done with each project. Also, there is quite a lot of room for variation in many of the steps, as you will see throughout these lessons.\n",
    "\n",
    "1. Download or otherwise retrieve the data.\n",
    "2. Process / Prepare the data.\n",
    "3. Upload the processed data to S3.\n",
    "4. Train a chosen model.\n",
    "5. Test the trained model (typically using a batch transform job).\n",
    "6. Deploy the trained model.\n",
    "7. Use the deployed model.\n",
    "\n",
    "In this notebook we will progress through each of the steps above. We will also see that the final step, using the deployed model, can be quite challenging."
   ]
  },
  {
   "cell_type": "code",
   "execution_count": 1,
   "metadata": {},
   "outputs": [
    {
     "name": "stdout",
     "output_type": "stream",
     "text": [
      "Requirement already satisfied: sagemaker==1.72.0 in /home/ec2-user/anaconda3/envs/pytorch_p36/lib/python3.6/site-packages (1.72.0)\n",
      "Requirement already satisfied: packaging>=20.0 in /home/ec2-user/anaconda3/envs/pytorch_p36/lib/python3.6/site-packages (from sagemaker==1.72.0) (21.3)\n",
      "Requirement already satisfied: protobuf>=3.1 in /home/ec2-user/anaconda3/envs/pytorch_p36/lib/python3.6/site-packages (from sagemaker==1.72.0) (3.17.2)\n",
      "Requirement already satisfied: importlib-metadata>=1.4.0 in /home/ec2-user/anaconda3/envs/pytorch_p36/lib/python3.6/site-packages (from sagemaker==1.72.0) (4.5.0)\n",
      "Requirement already satisfied: protobuf3-to-dict>=0.1.5 in /home/ec2-user/anaconda3/envs/pytorch_p36/lib/python3.6/site-packages (from sagemaker==1.72.0) (0.1.5)\n",
      "Requirement already satisfied: numpy>=1.9.0 in /home/ec2-user/anaconda3/envs/pytorch_p36/lib/python3.6/site-packages (from sagemaker==1.72.0) (1.19.5)\n",
      "Requirement already satisfied: smdebug-rulesconfig==0.1.4 in /home/ec2-user/anaconda3/envs/pytorch_p36/lib/python3.6/site-packages (from sagemaker==1.72.0) (0.1.4)\n",
      "Requirement already satisfied: scipy>=0.19.0 in /home/ec2-user/anaconda3/envs/pytorch_p36/lib/python3.6/site-packages (from sagemaker==1.72.0) (1.5.3)\n",
      "Requirement already satisfied: boto3>=1.14.12 in /home/ec2-user/anaconda3/envs/pytorch_p36/lib/python3.6/site-packages (from sagemaker==1.72.0) (1.21.42)\n",
      "Requirement already satisfied: s3transfer<0.6.0,>=0.5.0 in /home/ec2-user/anaconda3/envs/pytorch_p36/lib/python3.6/site-packages (from boto3>=1.14.12->sagemaker==1.72.0) (0.5.0)\n",
      "Requirement already satisfied: jmespath<2.0.0,>=0.7.1 in /home/ec2-user/anaconda3/envs/pytorch_p36/lib/python3.6/site-packages (from boto3>=1.14.12->sagemaker==1.72.0) (0.10.0)\n",
      "Requirement already satisfied: botocore<1.25.0,>=1.24.42 in /home/ec2-user/anaconda3/envs/pytorch_p36/lib/python3.6/site-packages (from boto3>=1.14.12->sagemaker==1.72.0) (1.24.42)\n",
      "Requirement already satisfied: zipp>=0.5 in /home/ec2-user/anaconda3/envs/pytorch_p36/lib/python3.6/site-packages (from importlib-metadata>=1.4.0->sagemaker==1.72.0) (3.4.1)\n",
      "Requirement already satisfied: typing-extensions>=3.6.4 in /home/ec2-user/anaconda3/envs/pytorch_p36/lib/python3.6/site-packages (from importlib-metadata>=1.4.0->sagemaker==1.72.0) (3.10.0.0)\n",
      "Requirement already satisfied: pyparsing!=3.0.5,>=2.0.2 in /home/ec2-user/anaconda3/envs/pytorch_p36/lib/python3.6/site-packages (from packaging>=20.0->sagemaker==1.72.0) (2.4.7)\n",
      "Requirement already satisfied: six>=1.9 in /home/ec2-user/anaconda3/envs/pytorch_p36/lib/python3.6/site-packages (from protobuf>=3.1->sagemaker==1.72.0) (1.16.0)\n",
      "Requirement already satisfied: urllib3<1.27,>=1.25.4 in /home/ec2-user/anaconda3/envs/pytorch_p36/lib/python3.6/site-packages (from botocore<1.25.0,>=1.24.42->boto3>=1.14.12->sagemaker==1.72.0) (1.26.8)\n",
      "Requirement already satisfied: python-dateutil<3.0.0,>=2.1 in /home/ec2-user/anaconda3/envs/pytorch_p36/lib/python3.6/site-packages (from botocore<1.25.0,>=1.24.42->boto3>=1.14.12->sagemaker==1.72.0) (2.8.1)\n"
     ]
    }
   ],
   "source": [
    "# Make sure that we use SageMaker 1.x\n",
    "!pip install sagemaker==1.72.0"
   ]
  },
  {
   "cell_type": "markdown",
   "metadata": {},
   "source": [
    "## Step 1: Downloading the data\n",
    "\n",
    "The dataset we are going to use is very popular among researchers in Natural Language Processing, usually referred to as the [IMDb dataset](http://ai.stanford.edu/~amaas/data/sentiment/). It consists of movie reviews from the website [imdb.com](http://www.imdb.com/), each labeled as either '**pos**itive', if the reviewer enjoyed the film, or '**neg**ative' otherwise.\n",
    "\n",
    "> Maas, Andrew L., et al. [Learning Word Vectors for Sentiment Analysis](http://ai.stanford.edu/~amaas/data/sentiment/). In _Proceedings of the 49th Annual Meeting of the Association for Computational Linguistics: Human Language Technologies_. Association for Computational Linguistics, 2011.\n",
    "\n",
    "We begin by using some Jupyter Notebook magic to download and extract the dataset."
   ]
  },
  {
   "cell_type": "code",
   "execution_count": 2,
   "metadata": {},
   "outputs": [
    {
     "name": "stdout",
     "output_type": "stream",
     "text": [
      "mkdir: cannot create directory ‘../data’: File exists\n",
      "--2022-06-06 11:17:24--  http://ai.stanford.edu/~amaas/data/sentiment/aclImdb_v1.tar.gz\n",
      "Resolving ai.stanford.edu (ai.stanford.edu)... 171.64.68.10\n",
      "Connecting to ai.stanford.edu (ai.stanford.edu)|171.64.68.10|:80... connected.\n",
      "HTTP request sent, awaiting response... 200 OK\n",
      "Length: 84125825 (80M) [application/x-gzip]\n",
      "Saving to: ‘../data/aclImdb_v1.tar.gz’\n",
      "\n",
      "../data/aclImdb_v1. 100%[===================>]  80.23M  8.62MB/s    in 14s     \n",
      "\n",
      "2022-06-06 11:17:39 (5.60 MB/s) - ‘../data/aclImdb_v1.tar.gz’ saved [84125825/84125825]\n",
      "\n"
     ]
    }
   ],
   "source": [
    "%mkdir ../data\n",
    "!wget -O ../data/aclImdb_v1.tar.gz http://ai.stanford.edu/~amaas/data/sentiment/aclImdb_v1.tar.gz\n",
    "!tar -zxf ../data/aclImdb_v1.tar.gz -C ../data"
   ]
  },
  {
   "cell_type": "markdown",
   "metadata": {},
   "source": [
    "## Step 2: Preparing and Processing the data\n",
    "\n",
    "The data we have downloaded is split into various files, each of which contains a single review. It will be much easier going forward if we combine these individual files into two large files, one for training and one for testing."
   ]
  },
  {
   "cell_type": "code",
   "execution_count": 3,
   "metadata": {},
   "outputs": [],
   "source": [
    "import os\n",
    "import glob\n",
    "\n",
    "def read_imdb_data(data_dir='../data/aclImdb'):\n",
    "    data = {}\n",
    "    labels = {}\n",
    "    \n",
    "    for data_type in ['train', 'test']:\n",
    "        data[data_type] = {}\n",
    "        labels[data_type] = {}\n",
    "        \n",
    "        for sentiment in ['pos', 'neg']:\n",
    "            data[data_type][sentiment] = []\n",
    "            labels[data_type][sentiment] = []\n",
    "            \n",
    "            path = os.path.join(data_dir, data_type, sentiment, '*.txt')\n",
    "            files = glob.glob(path)\n",
    "            \n",
    "            for f in files:\n",
    "                with open(f) as review:\n",
    "                    data[data_type][sentiment].append(review.read())\n",
    "                    # Here we represent a positive review by '1' and a negative review by '0'\n",
    "                    labels[data_type][sentiment].append(1 if sentiment == 'pos' else 0)\n",
    "                    \n",
    "            assert len(data[data_type][sentiment]) == len(labels[data_type][sentiment]), \\\n",
    "                    \"{}/{} data size does not match labels size\".format(data_type, sentiment)\n",
    "                \n",
    "    return data, labels"
   ]
  },
  {
   "cell_type": "code",
   "execution_count": 4,
   "metadata": {},
   "outputs": [
    {
     "name": "stdout",
     "output_type": "stream",
     "text": [
      "IMDB reviews: train = 12500 pos / 12500 neg, test = 12500 pos / 12500 neg\n"
     ]
    }
   ],
   "source": [
    "data, labels = read_imdb_data()\n",
    "print(\"IMDB reviews: train = {} pos / {} neg, test = {} pos / {} neg\".format(\n",
    "            len(data['train']['pos']), len(data['train']['neg']),\n",
    "            len(data['test']['pos']), len(data['test']['neg'])))"
   ]
  },
  {
   "cell_type": "code",
   "execution_count": 5,
   "metadata": {},
   "outputs": [],
   "source": [
    "from sklearn.utils import shuffle\n",
    "\n",
    "def prepare_imdb_data(data, labels):\n",
    "    \"\"\"Prepare training and test sets from IMDb movie reviews.\"\"\"\n",
    "    \n",
    "    #Combine positive and negative reviews and labels\n",
    "    data_train = data['train']['pos'] + data['train']['neg']\n",
    "    data_test = data['test']['pos'] + data['test']['neg']\n",
    "    labels_train = labels['train']['pos'] + labels['train']['neg']\n",
    "    labels_test = labels['test']['pos'] + labels['test']['neg']\n",
    "    \n",
    "    #Shuffle reviews and corresponding labels within training and test sets\n",
    "    data_train, labels_train = shuffle(data_train, labels_train)\n",
    "    data_test, labels_test = shuffle(data_test, labels_test)\n",
    "    \n",
    "    # Return a unified training data, test data, training labels, test labets\n",
    "    return data_train, data_test, labels_train, labels_test"
   ]
  },
  {
   "cell_type": "code",
   "execution_count": 6,
   "metadata": {},
   "outputs": [
    {
     "name": "stdout",
     "output_type": "stream",
     "text": [
      "IMDb reviews (combined): train = 25000, test = 25000\n"
     ]
    }
   ],
   "source": [
    "train_X, test_X, train_y, test_y = prepare_imdb_data(data, labels)\n",
    "print(\"IMDb reviews (combined): train = {}, test = {}\".format(len(train_X), len(test_X)))"
   ]
  },
  {
   "cell_type": "code",
   "execution_count": 7,
   "metadata": {},
   "outputs": [
    {
     "data": {
      "text/plain": [
       "\"This is a low-budget spoof of the espionage genre. To help frame your expectations, you should know that: (1) The acting is wildly heavy-handed. The stars are having great fun delivering their lines with excessive eye movement, frequent hand gestures, and off-key pacing. (2) The script deliberately lacks continuity and plausibility. Oftentimes lines are abruptly jarring and humorous because they have absolutely no relevance to previous plot elements. (3) Shots are frequently framed in off-balance angles, poking fun at genre excesses. (4) A pop-eyed Jeff Goldblum delivers complex and classically preposterous dialog in a winningly sarcastic manner.<br /><br />The film has a guiding intelligence, deliberately starting with a plot element stolen from the B-films of the 1930's: a secret code with a structure that would defy explanation by Carl Sagan. The film's over-the-top acting is used mostly for comic effect during the first 90 minutes. In an early running gag, Fay Grim's son Ned is so frequently told to leave that you can't help chuckling while feeling sorry for the lad. Parker Posey's nicely choreographed fall from bed also helps set a humorous tone early in the film.<br /><br />The film's slow pacing does not enhance the comedy elements or the drama elements that later emerge. The film's impact as drama is significantly lessened by the early comedy. Moreover, it is hard to be overly involved with the characters and their fates when the early portions of the film are so sarcastic. The musical score is intentionally heavy handed, and I found this (and the off-kilter camera angles) more irritating than humorous.<br /><br />The over-the-top acting, the implausible and nearly incomprehensible plot of conspiracies/counter conspiracies, and the slow pacing will grind on many viewers. The movie is much too long at 158 minutes.<br /><br />That said, fans who are receptive to the film's sarcasm might want to watch again ... using closed captioning to best catch the intelligent ridiculousness of the dialog. The film was too slow for me and the sarcasm felt more heavy-handed than light-hearted. But, the comedy may well appeal to your tastes. The film is worth a view for those who enjoy independent films, fans of director Hal Harley, or devotees of Parker Posey (who has the most camera time).\""
      ]
     },
     "execution_count": 7,
     "metadata": {},
     "output_type": "execute_result"
    }
   ],
   "source": [
    "train_X[100]"
   ]
  },
  {
   "cell_type": "markdown",
   "metadata": {},
   "source": [
    "## Processing the data\n",
    "\n",
    "Now that we have our training and testing datasets merged and ready to use, we need to start processing the raw data into something that will be useable by our machine learning algorithm. To begin with, we remove any html formatting and any non-alpha numeric characters that may appear in the reviews. We will do this in a very simplistic way using Python's regular expression module. We will discuss the reason for this rather simplistic pre-processing later on."
   ]
  },
  {
   "cell_type": "code",
   "execution_count": 8,
   "metadata": {},
   "outputs": [],
   "source": [
    "import re\n",
    "\n",
    "REPLACE_NO_SPACE = re.compile(\"(\\.)|(\\;)|(\\:)|(\\!)|(\\')|(\\?)|(\\,)|(\\\")|(\\()|(\\))|(\\[)|(\\])\")\n",
    "REPLACE_WITH_SPACE = re.compile(\"(<br\\s*/><br\\s*/>)|(\\-)|(\\/)\")\n",
    "\n",
    "def review_to_words(review):\n",
    "    words = REPLACE_NO_SPACE.sub(\"\", review.lower())\n",
    "    words = REPLACE_WITH_SPACE.sub(\" \", words)\n",
    "    return words"
   ]
  },
  {
   "cell_type": "code",
   "execution_count": 9,
   "metadata": {},
   "outputs": [
    {
     "data": {
      "text/plain": [
       "'this is a low budget spoof of the espionage genre to help frame your expectations you should know that 1 the acting is wildly heavy handed the stars are having great fun delivering their lines with excessive eye movement frequent hand gestures and off key pacing 2 the script deliberately lacks continuity and plausibility oftentimes lines are abruptly jarring and humorous because they have absolutely no relevance to previous plot elements 3 shots are frequently framed in off balance angles poking fun at genre excesses 4 a pop eyed jeff goldblum delivers complex and classically preposterous dialog in a winningly sarcastic manner the film has a guiding intelligence deliberately starting with a plot element stolen from the b films of the 1930s a secret code with a structure that would defy explanation by carl sagan the films over the top acting is used mostly for comic effect during the first 90 minutes in an early running gag fay grims son ned is so frequently told to leave that you cant help chuckling while feeling sorry for the lad parker poseys nicely choreographed fall from bed also helps set a humorous tone early in the film the films slow pacing does not enhance the comedy elements or the drama elements that later emerge the films impact as drama is significantly lessened by the early comedy moreover it is hard to be overly involved with the characters and their fates when the early portions of the film are so sarcastic the musical score is intentionally heavy handed and i found this and the off kilter camera angles more irritating than humorous the over the top acting the implausible and nearly incomprehensible plot of conspiracies counter conspiracies and the slow pacing will grind on many viewers the movie is much too long at 158 minutes that said fans who are receptive to the films sarcasm might want to watch again  using closed captioning to best catch the intelligent ridiculousness of the dialog the film was too slow for me and the sarcasm felt more heavy handed than light hearted but the comedy may well appeal to your tastes the film is worth a view for those who enjoy independent films fans of director hal harley or devotees of parker posey who has the most camera time'"
      ]
     },
     "execution_count": 9,
     "metadata": {},
     "output_type": "execute_result"
    }
   ],
   "source": [
    "review_to_words(train_X[100])"
   ]
  },
  {
   "cell_type": "code",
   "execution_count": 10,
   "metadata": {},
   "outputs": [],
   "source": [
    "import pickle\n",
    "\n",
    "cache_dir = os.path.join(\"../cache\", \"sentiment_web_app\")  # where to store cache files\n",
    "os.makedirs(cache_dir, exist_ok=True)  # ensure cache directory exists\n",
    "\n",
    "def preprocess_data(data_train, data_test, labels_train, labels_test,\n",
    "                    cache_dir=cache_dir, cache_file=\"preprocessed_data.pkl\"):\n",
    "    \"\"\"Convert each review to words; read from cache if available.\"\"\"\n",
    "\n",
    "    # If cache_file is not None, try to read from it first\n",
    "    cache_data = None\n",
    "    if cache_file is not None:\n",
    "        try:\n",
    "            with open(os.path.join(cache_dir, cache_file), \"rb\") as f:\n",
    "                cache_data = pickle.load(f)\n",
    "            print(\"Read preprocessed data from cache file:\", cache_file)\n",
    "        except:\n",
    "            pass  # unable to read from cache, but that's okay\n",
    "    \n",
    "    # If cache is missing, then do the heavy lifting\n",
    "    if cache_data is None:\n",
    "        # Preprocess training and test data to obtain words for each review\n",
    "        #words_train = list(map(review_to_words, data_train))\n",
    "        #words_test = list(map(review_to_words, data_test))\n",
    "        words_train = [review_to_words(review) for review in data_train]\n",
    "        words_test = [review_to_words(review) for review in data_test]\n",
    "        \n",
    "        # Write to cache file for future runs\n",
    "        if cache_file is not None:\n",
    "            cache_data = dict(words_train=words_train, words_test=words_test,\n",
    "                              labels_train=labels_train, labels_test=labels_test)\n",
    "            with open(os.path.join(cache_dir, cache_file), \"wb\") as f:\n",
    "                pickle.dump(cache_data, f)\n",
    "            print(\"Wrote preprocessed data to cache file:\", cache_file)\n",
    "    else:\n",
    "        # Unpack data loaded from cache file\n",
    "        words_train, words_test, labels_train, labels_test = (cache_data['words_train'],\n",
    "                cache_data['words_test'], cache_data['labels_train'], cache_data['labels_test'])\n",
    "    \n",
    "    return words_train, words_test, labels_train, labels_test"
   ]
  },
  {
   "cell_type": "code",
   "execution_count": 11,
   "metadata": {},
   "outputs": [
    {
     "name": "stdout",
     "output_type": "stream",
     "text": [
      "Read preprocessed data from cache file: preprocessed_data.pkl\n"
     ]
    }
   ],
   "source": [
    "# Preprocess data\n",
    "train_X, test_X, train_y, test_y = preprocess_data(train_X, test_X, train_y, test_y)"
   ]
  },
  {
   "cell_type": "markdown",
   "metadata": {},
   "source": [
    "### Extract Bag-of-Words features\n",
    "\n",
    "For the model we will be implementing, rather than using the reviews directly, we are going to transform each review into a Bag-of-Words feature representation. Keep in mind that 'in the wild' we will only have access to the training set so our transformer can only use the training set to construct a representation."
   ]
  },
  {
   "cell_type": "code",
   "execution_count": 12,
   "metadata": {},
   "outputs": [],
   "source": [
    "import numpy as np\n",
    "from sklearn.feature_extraction.text import CountVectorizer\n",
    "\n",
    "# sklearn.externals.joblib is deprecated in 0.21 and will be removed in 0.23. \n",
    "# from sklearn.externals import joblib\n",
    "\n",
    "# Import joblib package directly\n",
    "import joblib\n",
    "# joblib is an enhanced version of pickle that is more efficient for storing NumPy arrays\n",
    "\n",
    "def extract_BoW_features(words_train, words_test, vocabulary_size=5000,\n",
    "                         cache_dir=cache_dir, cache_file=\"bow_features.pkl\"):\n",
    "    \"\"\"Extract Bag-of-Words for a given set of documents, already preprocessed into words.\"\"\"\n",
    "    \n",
    "    # If cache_file is not None, try to read from it first\n",
    "    cache_data = None\n",
    "    if cache_file is not None:\n",
    "        try:\n",
    "            with open(os.path.join(cache_dir, cache_file), \"rb\") as f:\n",
    "                cache_data = joblib.load(f)\n",
    "            print(\"Read features from cache file:\", cache_file)\n",
    "        except:\n",
    "            pass  # unable to read from cache, but that's okay\n",
    "    \n",
    "    # If cache is missing, then do the heavy lifting\n",
    "    if cache_data is None:\n",
    "        # Fit a vectorizer to training documents and use it to transform them\n",
    "        # NOTE: Training documents have already been preprocessed and tokenized into words;\n",
    "        #       pass in dummy functions to skip those steps, e.g. preprocessor=lambda x: x\n",
    "        vectorizer = CountVectorizer(max_features=vocabulary_size)\n",
    "        features_train = vectorizer.fit_transform(words_train).toarray()\n",
    "\n",
    "        # Apply the same vectorizer to transform the test documents (ignore unknown words)\n",
    "        features_test = vectorizer.transform(words_test).toarray()\n",
    "        \n",
    "        # NOTE: Remember to convert the features using .toarray() for a compact representation\n",
    "        \n",
    "        # Write to cache file for future runs (store vocabulary as well)\n",
    "        if cache_file is not None:\n",
    "            vocabulary = vectorizer.vocabulary_\n",
    "            cache_data = dict(features_train=features_train, features_test=features_test,\n",
    "                             vocabulary=vocabulary)\n",
    "            with open(os.path.join(cache_dir, cache_file), \"wb\") as f:\n",
    "                joblib.dump(cache_data, f)\n",
    "            print(\"Wrote features to cache file:\", cache_file)\n",
    "    else:\n",
    "        # Unpack data loaded from cache file\n",
    "        features_train, features_test, vocabulary = (cache_data['features_train'],\n",
    "                cache_data['features_test'], cache_data['vocabulary'])\n",
    "    \n",
    "    # Return both the extracted features as well as the vocabulary\n",
    "    return features_train, features_test, vocabulary"
   ]
  },
  {
   "cell_type": "code",
   "execution_count": 13,
   "metadata": {},
   "outputs": [
    {
     "name": "stdout",
     "output_type": "stream",
     "text": [
      "Read features from cache file: bow_features.pkl\n"
     ]
    }
   ],
   "source": [
    "# Extract Bag of Words features for both training and test datasets\n",
    "train_X, test_X, vocabulary = extract_BoW_features(train_X, test_X)"
   ]
  },
  {
   "cell_type": "code",
   "execution_count": 14,
   "metadata": {},
   "outputs": [
    {
     "data": {
      "text/plain": [
       "5000"
      ]
     },
     "execution_count": 14,
     "metadata": {},
     "output_type": "execute_result"
    }
   ],
   "source": [
    "len(train_X[100])"
   ]
  },
  {
   "cell_type": "markdown",
   "metadata": {},
   "source": [
    "## Step 3: Upload data to S3\n",
    "\n",
    "Now that we have created the feature representation of our training (and testing) data, it is time to start setting up and using the XGBoost classifier provided by SageMaker.\n",
    "\n",
    "### Writing the datasets\n",
    "\n",
    "The XGBoost classifier that we will be using requires the dataset to be written to a file and stored using Amazon S3. To do this, we will start by splitting the training dataset into two parts, the data we will train the model with and a validation set. Then, we will write those datasets to a file locally and then upload the files to S3. In addition, we will write the test set to a file and upload that file to S3. This is so that we can use SageMakers Batch Transform functionality to test our model once we've fit it."
   ]
  },
  {
   "cell_type": "code",
   "execution_count": 15,
   "metadata": {},
   "outputs": [],
   "source": [
    "import pandas as pd\n",
    "\n",
    "# Earlier we shuffled the training dataset so to make things simple we can just assign\n",
    "# the first 10 000 reviews to the validation set and use the remaining reviews for training.\n",
    "val_X = pd.DataFrame(train_X[:10000])\n",
    "train_X = pd.DataFrame(train_X[10000:])\n",
    "\n",
    "val_y = pd.DataFrame(train_y[:10000])\n",
    "train_y = pd.DataFrame(train_y[10000:])"
   ]
  },
  {
   "cell_type": "markdown",
   "metadata": {},
   "source": [
    "The documentation for the XGBoost algorithm in SageMaker requires that the training and validation datasets should contain no headers or index and that the label should occur first for each sample.\n",
    "\n",
    "For more information about this and other algorithms, the SageMaker developer documentation can be found on __[Amazon's website.](https://docs.aws.amazon.com/sagemaker/latest/dg/)__"
   ]
  },
  {
   "cell_type": "code",
   "execution_count": 16,
   "metadata": {},
   "outputs": [],
   "source": [
    "# First we make sure that the local directory in which we'd like to store the training and validation csv files exists.\n",
    "data_dir = '../data/sentiment_web_app'\n",
    "if not os.path.exists(data_dir):\n",
    "    os.makedirs(data_dir)"
   ]
  },
  {
   "cell_type": "code",
   "execution_count": 17,
   "metadata": {},
   "outputs": [],
   "source": [
    "pd.DataFrame(test_X).to_csv(os.path.join(data_dir, 'test.csv'), header=False, index=False)\n",
    "\n",
    "pd.concat([val_y, val_X], axis=1).to_csv(os.path.join(data_dir, 'validation.csv'), header=False, index=False)\n",
    "pd.concat([train_y, train_X], axis=1).to_csv(os.path.join(data_dir, 'train.csv'), header=False, index=False)"
   ]
  },
  {
   "cell_type": "code",
   "execution_count": 18,
   "metadata": {},
   "outputs": [],
   "source": [
    "# To save a bit of memory we can set text_X, train_X, val_X, train_y and val_y to None.\n",
    "\n",
    "test_X = train_X = val_X = train_y = val_y = None"
   ]
  },
  {
   "cell_type": "markdown",
   "metadata": {},
   "source": [
    "### Uploading Training / Validation files to S3\n",
    "\n",
    "Amazon's S3 service allows us to store files that can be accessed by both the built-in training models such as the XGBoost model we will be using as well as custom models such as the one we will see a little later.\n",
    "\n",
    "For this and most other tasks we will be doing using SageMaker, there are two methods we could use. The first is to use the low level functionality of SageMaker which requires knowing each of the objects involved in the SageMaker environment. The second is to use the high level functionality in which certain choices have been made on the user's behalf. The low level approach benefits from allowing the user a great deal of flexibility while the high level approach makes development much quicker. For our purposes we will opt to use the high level approach although using the low-level approach is certainly an option.\n",
    "\n",
    "Recall the method `upload_data()` which is a member of the object representing our current SageMaker session. What this method does is upload the data to the default bucket (which is created if it does not exist) into the path described by the key_prefix variable. To see this for yourself, once you have uploaded the data files, go to the S3 console and look to see where the files have been uploaded.\n",
    "\n",
    "For additional resources, see the __[SageMaker API documentation](http://sagemaker.readthedocs.io/en/latest/)__ and in addition the __[SageMaker Developer Guide.](https://docs.aws.amazon.com/sagemaker/latest/dg/)__"
   ]
  },
  {
   "cell_type": "code",
   "execution_count": 19,
   "metadata": {},
   "outputs": [],
   "source": [
    "import sagemaker\n",
    "\n",
    "session = sagemaker.Session() # Store the current SageMaker session\n",
    "\n",
    "# S3 prefix (which folder will we use)\n",
    "prefix = 'sentiment-web-app'\n",
    "\n",
    "test_location = session.upload_data(os.path.join(data_dir, 'test.csv'), key_prefix=prefix)\n",
    "val_location = session.upload_data(os.path.join(data_dir, 'validation.csv'), key_prefix=prefix)\n",
    "train_location = session.upload_data(os.path.join(data_dir, 'train.csv'), key_prefix=prefix)"
   ]
  },
  {
   "cell_type": "markdown",
   "metadata": {},
   "source": [
    "## Step 4: Creating the XGBoost model\n",
    "\n",
    "Now that the data has been uploaded it is time to create the XGBoost model. To begin with, we need to do some setup. At this point it is worth discussing what a model is in SageMaker. It is easiest to think of a model of comprising three different objects in the SageMaker ecosystem, which interact with one another.\n",
    "\n",
    "- Model Artifacts\n",
    "- Training Code (Container)\n",
    "- Inference Code (Container)\n",
    "\n",
    "The Model Artifacts are what you might think of as the actual model itself. For example, if you were building a neural network, the model artifacts would be the weights of the various layers. In our case, for an XGBoost model, the artifacts are the actual trees that are created during training.\n",
    "\n",
    "The other two objects, the training code and the inference code are then used to manipulate the training artifacts. More precisely, the training code uses the training data that is provided and creates the model artifacts, while the inference code uses the model artifacts to make predictions on new data.\n",
    "\n",
    "The way that SageMaker runs the training and inference code is by making use of Docker containers. For now, think of a container as being a way of packaging code up so that dependencies aren't an issue."
   ]
  },
  {
   "cell_type": "code",
   "execution_count": 20,
   "metadata": {},
   "outputs": [],
   "source": [
    "from sagemaker import get_execution_role\n",
    "\n",
    "# Our current execution role is required when creating the model as the training\n",
    "# and inference code will need to access the model artifacts.\n",
    "role = get_execution_role()"
   ]
  },
  {
   "cell_type": "code",
   "execution_count": 21,
   "metadata": {},
   "outputs": [
    {
     "name": "stderr",
     "output_type": "stream",
     "text": [
      "'get_image_uri' method will be deprecated in favor of 'ImageURIProvider' class in SageMaker Python SDK v2.\n",
      "There is a more up to date SageMaker XGBoost image. To use the newer image, please set 'repo_version'='1.0-1'. For example:\n",
      "\tget_image_uri(region, 'xgboost', '1.0-1').\n"
     ]
    }
   ],
   "source": [
    "# We need to retrieve the location of the container which is provided by Amazon for using XGBoost.\n",
    "# As a matter of convenience, the training and inference code both use the same container.\n",
    "from sagemaker.amazon.amazon_estimator import get_image_uri\n",
    "\n",
    "container = get_image_uri(session.boto_region_name, 'xgboost')"
   ]
  },
  {
   "cell_type": "code",
   "execution_count": 22,
   "metadata": {},
   "outputs": [
    {
     "name": "stderr",
     "output_type": "stream",
     "text": [
      "Parameter image_name will be renamed to image_uri in SageMaker Python SDK v2.\n"
     ]
    }
   ],
   "source": [
    "# First we create a SageMaker estimator object for our model.\n",
    "xgb = sagemaker.estimator.Estimator(container, # The location of the container we wish to use\n",
    "                                    role,                                    # What is our current IAM Role\n",
    "                                    train_instance_count=1,                  # How many compute instances\n",
    "                                    train_instance_type='ml.m4.xlarge',      # What kind of compute instances\n",
    "                                    output_path='s3://{}/{}/output'.format(session.default_bucket(), prefix),\n",
    "                                    sagemaker_session=session)\n",
    "\n",
    "# And then set the algorithm specific parameters.\n",
    "xgb.set_hyperparameters(max_depth=5,\n",
    "                        eta=0.2,\n",
    "                        gamma=4,\n",
    "                        min_child_weight=6,\n",
    "                        subsample=0.8,\n",
    "                        silent=0,\n",
    "                        objective='binary:logistic',\n",
    "                        early_stopping_rounds=10,\n",
    "                        num_round=250)"
   ]
  },
  {
   "cell_type": "markdown",
   "metadata": {},
   "source": [
    "### Fit the XGBoost model\n",
    "\n",
    "Now that our model has been set up we simply need to attach the training and validation datasets and then ask SageMaker to set up the computation."
   ]
  },
  {
   "cell_type": "code",
   "execution_count": 23,
   "metadata": {},
   "outputs": [
    {
     "name": "stderr",
     "output_type": "stream",
     "text": [
      "'s3_input' class will be renamed to 'TrainingInput' in SageMaker Python SDK v2.\n",
      "'s3_input' class will be renamed to 'TrainingInput' in SageMaker Python SDK v2.\n"
     ]
    }
   ],
   "source": [
    "s3_input_train = sagemaker.s3_input(s3_data=train_location, content_type='csv')\n",
    "s3_input_validation = sagemaker.s3_input(s3_data=val_location, content_type='csv')"
   ]
  },
  {
   "cell_type": "code",
   "execution_count": 24,
   "metadata": {},
   "outputs": [
    {
     "name": "stdout",
     "output_type": "stream",
     "text": [
      "2022-06-06 11:19:16 Starting - Starting the training job...\n",
      "2022-06-06 11:19:42 Starting - Preparing the instances for training.........\n",
      "2022-06-06 11:21:06 Downloading - Downloading input data...\n",
      "2022-06-06 11:21:36 Training - Downloading the training image......\n",
      "2022-06-06 11:22:47 Training - Training image download completed. Training in progress...\u001b[34mArguments: train\u001b[0m\n",
      "\u001b[34m[2022-06-06:11:22:51:INFO] Running standalone xgboost training.\u001b[0m\n",
      "\u001b[34m[2022-06-06:11:22:51:INFO] File size need to be processed in the node: 238.5mb. Available memory size in the node: 8487.8mb\u001b[0m\n",
      "\u001b[34m[2022-06-06:11:22:51:INFO] Determined delimiter of CSV input is ','\u001b[0m\n",
      "\u001b[34m[11:22:51] S3DistributionType set as FullyReplicated\u001b[0m\n",
      "\u001b[34m[11:22:53] 15000x5000 matrix with 75000000 entries loaded from /opt/ml/input/data/train?format=csv&label_column=0&delimiter=,\u001b[0m\n",
      "\u001b[34m[2022-06-06:11:22:53:INFO] Determined delimiter of CSV input is ','\u001b[0m\n",
      "\u001b[34m[11:22:53] S3DistributionType set as FullyReplicated\u001b[0m\n",
      "\u001b[34m[11:22:54] 10000x5000 matrix with 50000000 entries loaded from /opt/ml/input/data/validation?format=csv&label_column=0&delimiter=,\u001b[0m\n",
      "\u001b[34m[11:22:59] src/tree/updater_prune.cc:74: tree pruning end, 1 roots, 36 extra nodes, 6 pruned nodes, max_depth=5\u001b[0m\n",
      "\u001b[34m[0]#011train-error:0.305333#011validation-error:0.3103\u001b[0m\n",
      "\u001b[34mMultiple eval metrics have been passed: 'validation-error' will be used for early stopping.\u001b[0m\n",
      "\u001b[34mWill train until validation-error hasn't improved in 10 rounds.\u001b[0m\n",
      "\u001b[34m[11:23:00] src/tree/updater_prune.cc:74: tree pruning end, 1 roots, 40 extra nodes, 6 pruned nodes, max_depth=5\u001b[0m\n",
      "\u001b[34m[1]#011train-error:0.3036#011validation-error:0.308\u001b[0m\n",
      "\u001b[34m[11:23:02] src/tree/updater_prune.cc:74: tree pruning end, 1 roots, 44 extra nodes, 6 pruned nodes, max_depth=5\u001b[0m\n",
      "\u001b[34m[2]#011train-error:0.281067#011validation-error:0.2917\u001b[0m\n",
      "\u001b[34m[11:23:04] src/tree/updater_prune.cc:74: tree pruning end, 1 roots, 32 extra nodes, 2 pruned nodes, max_depth=5\u001b[0m\n",
      "\u001b[34m[3]#011train-error:0.2732#011validation-error:0.285\u001b[0m\n",
      "\u001b[34m[11:23:06] src/tree/updater_prune.cc:74: tree pruning end, 1 roots, 36 extra nodes, 8 pruned nodes, max_depth=5\u001b[0m\n",
      "\u001b[34m[4]#011train-error:0.270333#011validation-error:0.2818\u001b[0m\n",
      "\u001b[34m[11:23:08] src/tree/updater_prune.cc:74: tree pruning end, 1 roots, 30 extra nodes, 18 pruned nodes, max_depth=5\u001b[0m\n",
      "\u001b[34m[5]#011train-error:0.2638#011validation-error:0.2758\u001b[0m\n",
      "\u001b[34m[11:23:10] src/tree/updater_prune.cc:74: tree pruning end, 1 roots, 28 extra nodes, 8 pruned nodes, max_depth=5\u001b[0m\n",
      "\u001b[34m[6]#011train-error:0.254667#011validation-error:0.269\u001b[0m\n",
      "\u001b[34m[11:23:12] src/tree/updater_prune.cc:74: tree pruning end, 1 roots, 40 extra nodes, 10 pruned nodes, max_depth=5\u001b[0m\n",
      "\u001b[34m[7]#011train-error:0.241933#011validation-error:0.2603\u001b[0m\n",
      "\u001b[34m[11:23:14] src/tree/updater_prune.cc:74: tree pruning end, 1 roots, 30 extra nodes, 8 pruned nodes, max_depth=5\u001b[0m\n",
      "\u001b[34m[8]#011train-error:0.232933#011validation-error:0.2511\u001b[0m\n",
      "\u001b[34m[11:23:16] src/tree/updater_prune.cc:74: tree pruning end, 1 roots, 28 extra nodes, 4 pruned nodes, max_depth=5\u001b[0m\n",
      "\u001b[34m[9]#011train-error:0.2262#011validation-error:0.2452\u001b[0m\n",
      "\u001b[34m[11:23:18] src/tree/updater_prune.cc:74: tree pruning end, 1 roots, 30 extra nodes, 6 pruned nodes, max_depth=5\u001b[0m\n",
      "\u001b[34m[10]#011train-error:0.222067#011validation-error:0.2402\u001b[0m\n",
      "\u001b[34m[11:23:20] src/tree/updater_prune.cc:74: tree pruning end, 1 roots, 28 extra nodes, 8 pruned nodes, max_depth=5\u001b[0m\n",
      "\u001b[34m[11]#011train-error:0.219733#011validation-error:0.2369\u001b[0m\n",
      "\u001b[34m[11:23:22] src/tree/updater_prune.cc:74: tree pruning end, 1 roots, 34 extra nodes, 2 pruned nodes, max_depth=5\u001b[0m\n",
      "\u001b[34m[12]#011train-error:0.2148#011validation-error:0.235\u001b[0m\n",
      "\u001b[34m[11:23:24] src/tree/updater_prune.cc:74: tree pruning end, 1 roots, 40 extra nodes, 8 pruned nodes, max_depth=5\u001b[0m\n",
      "\u001b[34m[13]#011train-error:0.211#011validation-error:0.2315\u001b[0m\n",
      "\u001b[34m[11:23:26] src/tree/updater_prune.cc:74: tree pruning end, 1 roots, 32 extra nodes, 4 pruned nodes, max_depth=5\u001b[0m\n",
      "\u001b[34m[14]#011train-error:0.208467#011validation-error:0.2302\u001b[0m\n",
      "\u001b[34m[11:23:28] src/tree/updater_prune.cc:74: tree pruning end, 1 roots, 30 extra nodes, 6 pruned nodes, max_depth=5\u001b[0m\n",
      "\u001b[34m[15]#011train-error:0.202067#011validation-error:0.2238\u001b[0m\n",
      "\u001b[34m[11:23:29] src/tree/updater_prune.cc:74: tree pruning end, 1 roots, 38 extra nodes, 10 pruned nodes, max_depth=5\u001b[0m\n",
      "\u001b[34m[16]#011train-error:0.199#011validation-error:0.2223\u001b[0m\n",
      "\u001b[34m[11:23:31] src/tree/updater_prune.cc:74: tree pruning end, 1 roots, 22 extra nodes, 8 pruned nodes, max_depth=5\u001b[0m\n",
      "\u001b[34m[17]#011train-error:0.1956#011validation-error:0.2174\u001b[0m\n",
      "\u001b[34m[11:23:33] src/tree/updater_prune.cc:74: tree pruning end, 1 roots, 28 extra nodes, 10 pruned nodes, max_depth=5\u001b[0m\n",
      "\u001b[34m[18]#011train-error:0.1918#011validation-error:0.2138\u001b[0m\n",
      "\u001b[34m[11:23:34] src/tree/updater_prune.cc:74: tree pruning end, 1 roots, 20 extra nodes, 12 pruned nodes, max_depth=5\u001b[0m\n",
      "\u001b[34m[19]#011train-error:0.190067#011validation-error:0.2123\u001b[0m\n",
      "\u001b[34m[11:23:36] src/tree/updater_prune.cc:74: tree pruning end, 1 roots, 24 extra nodes, 8 pruned nodes, max_depth=5\u001b[0m\n",
      "\u001b[34m[20]#011train-error:0.187067#011validation-error:0.2098\u001b[0m\n",
      "\u001b[34m[11:23:38] src/tree/updater_prune.cc:74: tree pruning end, 1 roots, 28 extra nodes, 6 pruned nodes, max_depth=5\u001b[0m\n",
      "\u001b[34m[21]#011train-error:0.1858#011validation-error:0.2079\u001b[0m\n",
      "\u001b[34m[11:23:40] src/tree/updater_prune.cc:74: tree pruning end, 1 roots, 34 extra nodes, 6 pruned nodes, max_depth=5\u001b[0m\n",
      "\u001b[34m[22]#011train-error:0.1836#011validation-error:0.2061\u001b[0m\n",
      "\u001b[34m[11:23:42] src/tree/updater_prune.cc:74: tree pruning end, 1 roots, 22 extra nodes, 10 pruned nodes, max_depth=5\u001b[0m\n",
      "\u001b[34m[23]#011train-error:0.1814#011validation-error:0.2046\u001b[0m\n",
      "\u001b[34m[11:23:44] src/tree/updater_prune.cc:74: tree pruning end, 1 roots, 30 extra nodes, 8 pruned nodes, max_depth=5\u001b[0m\n",
      "\u001b[34m[24]#011train-error:0.179933#011validation-error:0.2017\u001b[0m\n",
      "\u001b[34m[11:23:46] src/tree/updater_prune.cc:74: tree pruning end, 1 roots, 26 extra nodes, 12 pruned nodes, max_depth=5\u001b[0m\n",
      "\u001b[34m[25]#011train-error:0.178467#011validation-error:0.2009\u001b[0m\n",
      "\u001b[34m[11:23:48] src/tree/updater_prune.cc:74: tree pruning end, 1 roots, 22 extra nodes, 10 pruned nodes, max_depth=5\u001b[0m\n",
      "\u001b[34m[26]#011train-error:0.177067#011validation-error:0.1991\u001b[0m\n",
      "\u001b[34m[11:23:49] src/tree/updater_prune.cc:74: tree pruning end, 1 roots, 20 extra nodes, 6 pruned nodes, max_depth=5\u001b[0m\n",
      "\u001b[34m[27]#011train-error:0.175067#011validation-error:0.1975\u001b[0m\n",
      "\u001b[34m[11:23:51] src/tree/updater_prune.cc:74: tree pruning end, 1 roots, 22 extra nodes, 8 pruned nodes, max_depth=5\u001b[0m\n",
      "\u001b[34m[28]#011train-error:0.1718#011validation-error:0.1949\u001b[0m\n",
      "\u001b[34m[11:23:53] src/tree/updater_prune.cc:74: tree pruning end, 1 roots, 22 extra nodes, 6 pruned nodes, max_depth=5\u001b[0m\n",
      "\u001b[34m[29]#011train-error:0.1726#011validation-error:0.194\u001b[0m\n",
      "\u001b[34m[11:23:55] src/tree/updater_prune.cc:74: tree pruning end, 1 roots, 26 extra nodes, 4 pruned nodes, max_depth=5\u001b[0m\n",
      "\u001b[34m[30]#011train-error:0.169933#011validation-error:0.1937\u001b[0m\n",
      "\u001b[34m[11:23:57] src/tree/updater_prune.cc:74: tree pruning end, 1 roots, 26 extra nodes, 14 pruned nodes, max_depth=5\u001b[0m\n",
      "\u001b[34m[31]#011train-error:0.167933#011validation-error:0.1925\u001b[0m\n",
      "\u001b[34m[11:23:59] src/tree/updater_prune.cc:74: tree pruning end, 1 roots, 32 extra nodes, 12 pruned nodes, max_depth=5\u001b[0m\n",
      "\u001b[34m[32]#011train-error:0.165867#011validation-error:0.1914\u001b[0m\n",
      "\u001b[34m[11:24:01] src/tree/updater_prune.cc:74: tree pruning end, 1 roots, 18 extra nodes, 6 pruned nodes, max_depth=5\u001b[0m\n",
      "\u001b[34m[33]#011train-error:0.1652#011validation-error:0.1913\u001b[0m\n",
      "\u001b[34m[11:24:03] src/tree/updater_prune.cc:74: tree pruning end, 1 roots, 38 extra nodes, 8 pruned nodes, max_depth=5\u001b[0m\n",
      "\u001b[34m[34]#011train-error:0.1632#011validation-error:0.191\u001b[0m\n",
      "\u001b[34m[11:24:05] src/tree/updater_prune.cc:74: tree pruning end, 1 roots, 22 extra nodes, 6 pruned nodes, max_depth=5\u001b[0m\n",
      "\u001b[34m[35]#011train-error:0.1618#011validation-error:0.1889\u001b[0m\n",
      "\u001b[34m[11:24:07] src/tree/updater_prune.cc:74: tree pruning end, 1 roots, 34 extra nodes, 8 pruned nodes, max_depth=5\u001b[0m\n",
      "\u001b[34m[36]#011train-error:0.1586#011validation-error:0.1895\u001b[0m\n",
      "\u001b[34m[11:24:09] src/tree/updater_prune.cc:74: tree pruning end, 1 roots, 26 extra nodes, 12 pruned nodes, max_depth=5\u001b[0m\n",
      "\u001b[34m[37]#011train-error:0.1568#011validation-error:0.1875\u001b[0m\n",
      "\u001b[34m[11:24:11] src/tree/updater_prune.cc:74: tree pruning end, 1 roots, 22 extra nodes, 6 pruned nodes, max_depth=5\u001b[0m\n",
      "\u001b[34m[38]#011train-error:0.155667#011validation-error:0.1869\u001b[0m\n",
      "\u001b[34m[11:24:12] src/tree/updater_prune.cc:74: tree pruning end, 1 roots, 14 extra nodes, 16 pruned nodes, max_depth=5\u001b[0m\n",
      "\u001b[34m[39]#011train-error:0.1548#011validation-error:0.1855\u001b[0m\n",
      "\u001b[34m[11:24:14] src/tree/updater_prune.cc:74: tree pruning end, 1 roots, 20 extra nodes, 12 pruned nodes, max_depth=5\u001b[0m\n",
      "\u001b[34m[40]#011train-error:0.1542#011validation-error:0.1851\u001b[0m\n"
     ]
    },
    {
     "name": "stdout",
     "output_type": "stream",
     "text": [
      "\u001b[34m[11:24:16] src/tree/updater_prune.cc:74: tree pruning end, 1 roots, 30 extra nodes, 4 pruned nodes, max_depth=5\u001b[0m\n",
      "\u001b[34m[41]#011train-error:0.154#011validation-error:0.1848\u001b[0m\n",
      "\u001b[34m[11:24:18] src/tree/updater_prune.cc:74: tree pruning end, 1 roots, 30 extra nodes, 10 pruned nodes, max_depth=5\u001b[0m\n",
      "\u001b[34m[42]#011train-error:0.1526#011validation-error:0.1845\u001b[0m\n",
      "\u001b[34m[11:24:20] src/tree/updater_prune.cc:74: tree pruning end, 1 roots, 28 extra nodes, 6 pruned nodes, max_depth=5\u001b[0m\n",
      "\u001b[34m[43]#011train-error:0.151533#011validation-error:0.1836\u001b[0m\n",
      "\u001b[34m[11:24:22] src/tree/updater_prune.cc:74: tree pruning end, 1 roots, 26 extra nodes, 4 pruned nodes, max_depth=5\u001b[0m\n",
      "\u001b[34m[44]#011train-error:0.150467#011validation-error:0.1821\u001b[0m\n",
      "\u001b[34m[11:24:24] src/tree/updater_prune.cc:74: tree pruning end, 1 roots, 14 extra nodes, 8 pruned nodes, max_depth=5\u001b[0m\n",
      "\u001b[34m[45]#011train-error:0.150067#011validation-error:0.181\u001b[0m\n",
      "\u001b[34m[11:24:26] src/tree/updater_prune.cc:74: tree pruning end, 1 roots, 30 extra nodes, 2 pruned nodes, max_depth=5\u001b[0m\n",
      "\u001b[34m[46]#011train-error:0.148467#011validation-error:0.1804\u001b[0m\n",
      "\u001b[34m[11:24:28] src/tree/updater_prune.cc:74: tree pruning end, 1 roots, 24 extra nodes, 2 pruned nodes, max_depth=5\u001b[0m\n",
      "\u001b[34m[47]#011train-error:0.146533#011validation-error:0.1786\u001b[0m\n",
      "\u001b[34m[11:24:30] src/tree/updater_prune.cc:74: tree pruning end, 1 roots, 36 extra nodes, 4 pruned nodes, max_depth=5\u001b[0m\n",
      "\u001b[34m[48]#011train-error:0.144467#011validation-error:0.1771\u001b[0m\n",
      "\u001b[34m[11:24:32] src/tree/updater_prune.cc:74: tree pruning end, 1 roots, 32 extra nodes, 14 pruned nodes, max_depth=5\u001b[0m\n",
      "\u001b[34m[49]#011train-error:0.142867#011validation-error:0.1767\u001b[0m\n",
      "\u001b[34m[11:24:33] src/tree/updater_prune.cc:74: tree pruning end, 1 roots, 30 extra nodes, 10 pruned nodes, max_depth=5\u001b[0m\n",
      "\u001b[34m[50]#011train-error:0.140533#011validation-error:0.1768\u001b[0m\n",
      "\u001b[34m[11:24:35] src/tree/updater_prune.cc:74: tree pruning end, 1 roots, 20 extra nodes, 8 pruned nodes, max_depth=5\u001b[0m\n",
      "\u001b[34m[51]#011train-error:0.1408#011validation-error:0.1753\u001b[0m\n",
      "\u001b[34m[11:24:37] src/tree/updater_prune.cc:74: tree pruning end, 1 roots, 14 extra nodes, 14 pruned nodes, max_depth=5\u001b[0m\n",
      "\u001b[34m[52]#011train-error:0.139133#011validation-error:0.1748\u001b[0m\n",
      "\u001b[34m[11:24:39] src/tree/updater_prune.cc:74: tree pruning end, 1 roots, 18 extra nodes, 18 pruned nodes, max_depth=5\u001b[0m\n",
      "\u001b[34m[53]#011train-error:0.1392#011validation-error:0.1738\u001b[0m\n",
      "\u001b[34m[11:24:40] src/tree/updater_prune.cc:74: tree pruning end, 1 roots, 26 extra nodes, 12 pruned nodes, max_depth=5\u001b[0m\n",
      "\u001b[34m[54]#011train-error:0.1384#011validation-error:0.1733\u001b[0m\n",
      "\u001b[34m[11:24:42] src/tree/updater_prune.cc:74: tree pruning end, 1 roots, 16 extra nodes, 10 pruned nodes, max_depth=5\u001b[0m\n",
      "\u001b[34m[55]#011train-error:0.1372#011validation-error:0.1726\u001b[0m\n",
      "\u001b[34m[11:24:44] src/tree/updater_prune.cc:74: tree pruning end, 1 roots, 20 extra nodes, 16 pruned nodes, max_depth=5\u001b[0m\n",
      "\u001b[34m[56]#011train-error:0.136333#011validation-error:0.1724\u001b[0m\n",
      "\u001b[34m[11:24:46] src/tree/updater_prune.cc:74: tree pruning end, 1 roots, 18 extra nodes, 12 pruned nodes, max_depth=5\u001b[0m\n",
      "\u001b[34m[57]#011train-error:0.134933#011validation-error:0.1711\u001b[0m\n",
      "\u001b[34m[11:24:48] src/tree/updater_prune.cc:74: tree pruning end, 1 roots, 24 extra nodes, 6 pruned nodes, max_depth=5\u001b[0m\n",
      "\u001b[34m[58]#011train-error:0.134667#011validation-error:0.1712\u001b[0m\n",
      "\u001b[34m[11:24:50] src/tree/updater_prune.cc:74: tree pruning end, 1 roots, 14 extra nodes, 20 pruned nodes, max_depth=5\u001b[0m\n",
      "\u001b[34m[59]#011train-error:0.134533#011validation-error:0.1706\u001b[0m\n",
      "\u001b[34m[11:24:52] src/tree/updater_prune.cc:74: tree pruning end, 1 roots, 20 extra nodes, 4 pruned nodes, max_depth=5\u001b[0m\n",
      "\u001b[34m[60]#011train-error:0.1326#011validation-error:0.1704\u001b[0m\n",
      "\u001b[34m[11:24:54] src/tree/updater_prune.cc:74: tree pruning end, 1 roots, 22 extra nodes, 6 pruned nodes, max_depth=5\u001b[0m\n",
      "\u001b[34m[61]#011train-error:0.1314#011validation-error:0.1696\u001b[0m\n",
      "\u001b[34m[11:24:56] src/tree/updater_prune.cc:74: tree pruning end, 1 roots, 20 extra nodes, 10 pruned nodes, max_depth=5\u001b[0m\n",
      "\u001b[34m[62]#011train-error:0.130533#011validation-error:0.1687\u001b[0m\n",
      "\u001b[34m[11:24:58] src/tree/updater_prune.cc:74: tree pruning end, 1 roots, 16 extra nodes, 6 pruned nodes, max_depth=5\u001b[0m\n",
      "\u001b[34m[63]#011train-error:0.130467#011validation-error:0.1685\u001b[0m\n",
      "\u001b[34m[11:24:59] src/tree/updater_prune.cc:74: tree pruning end, 1 roots, 22 extra nodes, 4 pruned nodes, max_depth=5\u001b[0m\n",
      "\u001b[34m[64]#011train-error:0.129533#011validation-error:0.1678\u001b[0m\n",
      "\u001b[34m[11:25:01] src/tree/updater_prune.cc:74: tree pruning end, 1 roots, 22 extra nodes, 4 pruned nodes, max_depth=5\u001b[0m\n",
      "\u001b[34m[65]#011train-error:0.128733#011validation-error:0.1677\u001b[0m\n",
      "\u001b[34m[11:25:03] src/tree/updater_prune.cc:74: tree pruning end, 1 roots, 14 extra nodes, 8 pruned nodes, max_depth=5\u001b[0m\n",
      "\u001b[34m[66]#011train-error:0.127933#011validation-error:0.1674\u001b[0m\n",
      "\u001b[34m[11:25:05] src/tree/updater_prune.cc:74: tree pruning end, 1 roots, 22 extra nodes, 4 pruned nodes, max_depth=5\u001b[0m\n",
      "\u001b[34m[67]#011train-error:0.127333#011validation-error:0.1669\u001b[0m\n",
      "\u001b[34m[11:25:07] src/tree/updater_prune.cc:74: tree pruning end, 1 roots, 24 extra nodes, 6 pruned nodes, max_depth=5\u001b[0m\n",
      "\u001b[34m[68]#011train-error:0.126133#011validation-error:0.1667\u001b[0m\n",
      "\u001b[34m[11:25:08] src/tree/updater_prune.cc:74: tree pruning end, 1 roots, 34 extra nodes, 6 pruned nodes, max_depth=5\u001b[0m\n",
      "\u001b[34m[69]#011train-error:0.124733#011validation-error:0.1673\u001b[0m\n",
      "\u001b[34m[11:25:10] src/tree/updater_prune.cc:74: tree pruning end, 1 roots, 28 extra nodes, 8 pruned nodes, max_depth=5\u001b[0m\n",
      "\u001b[34m[70]#011train-error:0.1242#011validation-error:0.1675\u001b[0m\n",
      "\u001b[34m[11:25:12] src/tree/updater_prune.cc:74: tree pruning end, 1 roots, 12 extra nodes, 4 pruned nodes, max_depth=5\u001b[0m\n",
      "\u001b[34m[71]#011train-error:0.1236#011validation-error:0.1667\u001b[0m\n",
      "\u001b[34m[11:25:13] src/tree/updater_prune.cc:74: tree pruning end, 1 roots, 26 extra nodes, 8 pruned nodes, max_depth=5\u001b[0m\n",
      "\u001b[34m[72]#011train-error:0.122333#011validation-error:0.1657\u001b[0m\n",
      "\u001b[34m[11:25:15] src/tree/updater_prune.cc:74: tree pruning end, 1 roots, 16 extra nodes, 4 pruned nodes, max_depth=5\u001b[0m\n",
      "\u001b[34m[73]#011train-error:0.1226#011validation-error:0.1653\u001b[0m\n",
      "\u001b[34m[11:25:17] src/tree/updater_prune.cc:74: tree pruning end, 1 roots, 24 extra nodes, 8 pruned nodes, max_depth=5\u001b[0m\n",
      "\u001b[34m[74]#011train-error:0.122#011validation-error:0.165\u001b[0m\n",
      "\u001b[34m[11:25:19] src/tree/updater_prune.cc:74: tree pruning end, 1 roots, 16 extra nodes, 4 pruned nodes, max_depth=5\u001b[0m\n",
      "\u001b[34m[75]#011train-error:0.120667#011validation-error:0.1633\u001b[0m\n",
      "\u001b[34m[11:25:21] src/tree/updater_prune.cc:74: tree pruning end, 1 roots, 14 extra nodes, 2 pruned nodes, max_depth=5\u001b[0m\n",
      "\u001b[34m[76]#011train-error:0.120467#011validation-error:0.163\u001b[0m\n",
      "\u001b[34m[11:25:23] src/tree/updater_prune.cc:74: tree pruning end, 1 roots, 18 extra nodes, 6 pruned nodes, max_depth=5\u001b[0m\n",
      "\u001b[34m[77]#011train-error:0.120067#011validation-error:0.1629\u001b[0m\n",
      "\u001b[34m[11:25:25] src/tree/updater_prune.cc:74: tree pruning end, 1 roots, 24 extra nodes, 0 pruned nodes, max_depth=5\u001b[0m\n",
      "\u001b[34m[78]#011train-error:0.119533#011validation-error:0.1639\u001b[0m\n",
      "\u001b[34m[11:25:27] src/tree/updater_prune.cc:74: tree pruning end, 1 roots, 16 extra nodes, 6 pruned nodes, max_depth=5\u001b[0m\n",
      "\u001b[34m[79]#011train-error:0.118733#011validation-error:0.1635\u001b[0m\n",
      "\u001b[34m[11:25:28] src/tree/updater_prune.cc:74: tree pruning end, 1 roots, 16 extra nodes, 10 pruned nodes, max_depth=5\u001b[0m\n",
      "\u001b[34m[80]#011train-error:0.118133#011validation-error:0.1626\u001b[0m\n",
      "\u001b[34m[11:25:30] src/tree/updater_prune.cc:74: tree pruning end, 1 roots, 16 extra nodes, 6 pruned nodes, max_depth=5\u001b[0m\n",
      "\u001b[34m[81]#011train-error:0.117667#011validation-error:0.1619\u001b[0m\n",
      "\u001b[34m[11:25:32] src/tree/updater_prune.cc:74: tree pruning end, 1 roots, 14 extra nodes, 8 pruned nodes, max_depth=5\u001b[0m\n",
      "\u001b[34m[82]#011train-error:0.116867#011validation-error:0.1621\u001b[0m\n",
      "\u001b[34m[11:25:34] src/tree/updater_prune.cc:74: tree pruning end, 1 roots, 28 extra nodes, 8 pruned nodes, max_depth=5\u001b[0m\n",
      "\u001b[34m[83]#011train-error:0.114667#011validation-error:0.16\u001b[0m\n",
      "\u001b[34m[11:25:35] src/tree/updater_prune.cc:74: tree pruning end, 1 roots, 16 extra nodes, 2 pruned nodes, max_depth=5\u001b[0m\n",
      "\u001b[34m[84]#011train-error:0.114067#011validation-error:0.1591\u001b[0m\n",
      "\u001b[34m[11:25:37] src/tree/updater_prune.cc:74: tree pruning end, 1 roots, 20 extra nodes, 6 pruned nodes, max_depth=5\u001b[0m\n",
      "\u001b[34m[85]#011train-error:0.1142#011validation-error:0.1591\u001b[0m\n",
      "\u001b[34m[11:25:39] src/tree/updater_prune.cc:74: tree pruning end, 1 roots, 12 extra nodes, 6 pruned nodes, max_depth=5\u001b[0m\n",
      "\u001b[34m[86]#011train-error:0.1138#011validation-error:0.1589\u001b[0m\n",
      "\u001b[34m[11:25:41] src/tree/updater_prune.cc:74: tree pruning end, 1 roots, 12 extra nodes, 12 pruned nodes, max_depth=5\u001b[0m\n",
      "\u001b[34m[87]#011train-error:0.113667#011validation-error:0.1582\u001b[0m\n",
      "\u001b[34m[11:25:43] src/tree/updater_prune.cc:74: tree pruning end, 1 roots, 24 extra nodes, 6 pruned nodes, max_depth=5\u001b[0m\n",
      "\u001b[34m[88]#011train-error:0.112067#011validation-error:0.1571\u001b[0m\n"
     ]
    },
    {
     "name": "stdout",
     "output_type": "stream",
     "text": [
      "\u001b[34m[11:25:45] src/tree/updater_prune.cc:74: tree pruning end, 1 roots, 20 extra nodes, 8 pruned nodes, max_depth=5\u001b[0m\n",
      "\u001b[34m[89]#011train-error:0.1108#011validation-error:0.1577\u001b[0m\n",
      "\u001b[34m[11:25:47] src/tree/updater_prune.cc:74: tree pruning end, 1 roots, 18 extra nodes, 6 pruned nodes, max_depth=5\u001b[0m\n",
      "\u001b[34m[90]#011train-error:0.110267#011validation-error:0.1571\u001b[0m\n",
      "\u001b[34m[11:25:49] src/tree/updater_prune.cc:74: tree pruning end, 1 roots, 26 extra nodes, 8 pruned nodes, max_depth=5\u001b[0m\n",
      "\u001b[34m[91]#011train-error:0.108867#011validation-error:0.1549\u001b[0m\n",
      "\u001b[34m[11:25:51] src/tree/updater_prune.cc:74: tree pruning end, 1 roots, 18 extra nodes, 8 pruned nodes, max_depth=5\u001b[0m\n",
      "\u001b[34m[92]#011train-error:0.108533#011validation-error:0.1547\u001b[0m\n",
      "\u001b[34m[11:25:53] src/tree/updater_prune.cc:74: tree pruning end, 1 roots, 18 extra nodes, 8 pruned nodes, max_depth=5\u001b[0m\n",
      "\u001b[34m[93]#011train-error:0.107933#011validation-error:0.154\u001b[0m\n",
      "\u001b[34m[11:25:54] src/tree/updater_prune.cc:74: tree pruning end, 1 roots, 20 extra nodes, 8 pruned nodes, max_depth=5\u001b[0m\n",
      "\u001b[34m[94]#011train-error:0.1072#011validation-error:0.1532\u001b[0m\n",
      "\u001b[34m[11:25:56] src/tree/updater_prune.cc:74: tree pruning end, 1 roots, 16 extra nodes, 4 pruned nodes, max_depth=5\u001b[0m\n",
      "\u001b[34m[95]#011train-error:0.107533#011validation-error:0.1533\u001b[0m\n",
      "\u001b[34m[11:25:58] src/tree/updater_prune.cc:74: tree pruning end, 1 roots, 26 extra nodes, 6 pruned nodes, max_depth=5\u001b[0m\n",
      "\u001b[34m[96]#011train-error:0.106267#011validation-error:0.154\u001b[0m\n",
      "\u001b[34m[11:26:00] src/tree/updater_prune.cc:74: tree pruning end, 1 roots, 38 extra nodes, 4 pruned nodes, max_depth=5\u001b[0m\n",
      "\u001b[34m[97]#011train-error:0.104867#011validation-error:0.1527\u001b[0m\n",
      "\u001b[34m[11:26:02] src/tree/updater_prune.cc:74: tree pruning end, 1 roots, 26 extra nodes, 8 pruned nodes, max_depth=5\u001b[0m\n",
      "\u001b[34m[98]#011train-error:0.104467#011validation-error:0.1523\u001b[0m\n",
      "\u001b[34m[11:26:04] src/tree/updater_prune.cc:74: tree pruning end, 1 roots, 18 extra nodes, 2 pruned nodes, max_depth=5\u001b[0m\n",
      "\u001b[34m[99]#011train-error:0.104067#011validation-error:0.1515\u001b[0m\n",
      "\u001b[34m[11:26:06] src/tree/updater_prune.cc:74: tree pruning end, 1 roots, 18 extra nodes, 10 pruned nodes, max_depth=5\u001b[0m\n",
      "\u001b[34m[100]#011train-error:0.103267#011validation-error:0.1518\u001b[0m\n",
      "\u001b[34m[11:26:08] src/tree/updater_prune.cc:74: tree pruning end, 1 roots, 18 extra nodes, 6 pruned nodes, max_depth=5\u001b[0m\n",
      "\u001b[34m[101]#011train-error:0.1034#011validation-error:0.1522\u001b[0m\n",
      "\u001b[34m[11:26:10] src/tree/updater_prune.cc:74: tree pruning end, 1 roots, 14 extra nodes, 10 pruned nodes, max_depth=5\u001b[0m\n",
      "\u001b[34m[102]#011train-error:0.103333#011validation-error:0.1528\u001b[0m\n",
      "\u001b[34m[11:26:12] src/tree/updater_prune.cc:74: tree pruning end, 1 roots, 16 extra nodes, 6 pruned nodes, max_depth=5\u001b[0m\n",
      "\u001b[34m[103]#011train-error:0.102533#011validation-error:0.1519\u001b[0m\n",
      "\u001b[34m[11:26:14] src/tree/updater_prune.cc:74: tree pruning end, 1 roots, 18 extra nodes, 6 pruned nodes, max_depth=5\u001b[0m\n",
      "\u001b[34m[104]#011train-error:0.102467#011validation-error:0.1514\u001b[0m\n",
      "\u001b[34m[11:26:16] src/tree/updater_prune.cc:74: tree pruning end, 1 roots, 26 extra nodes, 2 pruned nodes, max_depth=5\u001b[0m\n",
      "\u001b[34m[105]#011train-error:0.100667#011validation-error:0.1516\u001b[0m\n",
      "\u001b[34m[11:26:18] src/tree/updater_prune.cc:74: tree pruning end, 1 roots, 18 extra nodes, 4 pruned nodes, max_depth=5\u001b[0m\n",
      "\u001b[34m[106]#011train-error:0.100133#011validation-error:0.1509\u001b[0m\n",
      "\u001b[34m[11:26:19] src/tree/updater_prune.cc:74: tree pruning end, 1 roots, 14 extra nodes, 12 pruned nodes, max_depth=5\u001b[0m\n",
      "\u001b[34m[107]#011train-error:0.1#011validation-error:0.1498\u001b[0m\n",
      "\u001b[34m[11:26:21] src/tree/updater_prune.cc:74: tree pruning end, 1 roots, 10 extra nodes, 10 pruned nodes, max_depth=5\u001b[0m\n",
      "\u001b[34m[108]#011train-error:0.1002#011validation-error:0.1495\u001b[0m\n",
      "\u001b[34m[11:26:23] src/tree/updater_prune.cc:74: tree pruning end, 1 roots, 12 extra nodes, 4 pruned nodes, max_depth=5\u001b[0m\n",
      "\u001b[34m[109]#011train-error:0.0996#011validation-error:0.1488\u001b[0m\n",
      "\u001b[34m[11:26:25] src/tree/updater_prune.cc:74: tree pruning end, 1 roots, 12 extra nodes, 14 pruned nodes, max_depth=5\u001b[0m\n",
      "\u001b[34m[110]#011train-error:0.099333#011validation-error:0.1483\u001b[0m\n",
      "\u001b[34m[11:26:27] src/tree/updater_prune.cc:74: tree pruning end, 1 roots, 16 extra nodes, 10 pruned nodes, max_depth=5\u001b[0m\n",
      "\u001b[34m[111]#011train-error:0.099#011validation-error:0.1475\u001b[0m\n",
      "\u001b[34m[11:26:29] src/tree/updater_prune.cc:74: tree pruning end, 1 roots, 18 extra nodes, 8 pruned nodes, max_depth=5\u001b[0m\n",
      "\u001b[34m[112]#011train-error:0.0984#011validation-error:0.147\u001b[0m\n",
      "\u001b[34m[11:26:30] src/tree/updater_prune.cc:74: tree pruning end, 1 roots, 14 extra nodes, 12 pruned nodes, max_depth=5\u001b[0m\n",
      "\u001b[34m[113]#011train-error:0.098333#011validation-error:0.1464\u001b[0m\n",
      "\u001b[34m[11:26:32] src/tree/updater_prune.cc:74: tree pruning end, 1 roots, 20 extra nodes, 16 pruned nodes, max_depth=5\u001b[0m\n",
      "\u001b[34m[114]#011train-error:0.098667#011validation-error:0.1474\u001b[0m\n",
      "\u001b[34m[11:26:34] src/tree/updater_prune.cc:74: tree pruning end, 1 roots, 18 extra nodes, 8 pruned nodes, max_depth=5\u001b[0m\n",
      "\u001b[34m[115]#011train-error:0.0982#011validation-error:0.147\u001b[0m\n",
      "\u001b[34m[11:26:36] src/tree/updater_prune.cc:74: tree pruning end, 1 roots, 36 extra nodes, 4 pruned nodes, max_depth=5\u001b[0m\n",
      "\u001b[34m[116]#011train-error:0.096667#011validation-error:0.1474\u001b[0m\n",
      "\u001b[34m[11:26:38] src/tree/updater_prune.cc:74: tree pruning end, 1 roots, 16 extra nodes, 12 pruned nodes, max_depth=5\u001b[0m\n",
      "\u001b[34m[117]#011train-error:0.096533#011validation-error:0.1474\u001b[0m\n",
      "\u001b[34m[11:26:40] src/tree/updater_prune.cc:74: tree pruning end, 1 roots, 14 extra nodes, 6 pruned nodes, max_depth=5\u001b[0m\n",
      "\u001b[34m[118]#011train-error:0.096267#011validation-error:0.1469\u001b[0m\n",
      "\u001b[34m[11:26:42] src/tree/updater_prune.cc:74: tree pruning end, 1 roots, 16 extra nodes, 8 pruned nodes, max_depth=5\u001b[0m\n",
      "\u001b[34m[119]#011train-error:0.095667#011validation-error:0.1471\u001b[0m\n",
      "\u001b[34m[11:26:43] src/tree/updater_prune.cc:74: tree pruning end, 1 roots, 24 extra nodes, 6 pruned nodes, max_depth=5\u001b[0m\n",
      "\u001b[34m[120]#011train-error:0.094733#011validation-error:0.1476\u001b[0m\n",
      "\u001b[34m[11:26:45] src/tree/updater_prune.cc:74: tree pruning end, 1 roots, 12 extra nodes, 12 pruned nodes, max_depth=5\u001b[0m\n",
      "\u001b[34m[121]#011train-error:0.0944#011validation-error:0.1476\u001b[0m\n",
      "\u001b[34m[11:26:47] src/tree/updater_prune.cc:74: tree pruning end, 1 roots, 20 extra nodes, 8 pruned nodes, max_depth=5\u001b[0m\n",
      "\u001b[34m[122]#011train-error:0.093933#011validation-error:0.1469\u001b[0m\n",
      "\u001b[34m[11:26:48] src/tree/updater_prune.cc:74: tree pruning end, 1 roots, 12 extra nodes, 12 pruned nodes, max_depth=5\u001b[0m\n",
      "\u001b[34m[123]#011train-error:0.093533#011validation-error:0.1468\u001b[0m\n",
      "\u001b[34mStopping. Best iteration:\u001b[0m\n",
      "\u001b[34m[113]#011train-error:0.098333#011validation-error:0.1464\u001b[0m\n",
      "\n",
      "2022-06-06 11:26:54 Uploading - Uploading generated training model\n",
      "2022-06-06 11:27:30 Completed - Training job completed\n",
      "Training seconds: 384\n",
      "Billable seconds: 384\n"
     ]
    }
   ],
   "source": [
    "xgb.fit({'train': s3_input_train, 'validation': s3_input_validation})"
   ]
  },
  {
   "cell_type": "markdown",
   "metadata": {},
   "source": [
    "## Step 5: Testing the model\n",
    "\n",
    "Now that we've fit our XGBoost model, it's time to see how well it performs. To do this we will use SageMakers Batch Transform functionality. Batch Transform is a convenient way to perform inference on a large dataset in a way that is not realtime. That is, we don't necessarily need to use our model's results immediately and instead we can perform inference on a large number of samples. An example of this in industry might be performing an end of month report. This method of inference can also be useful to us as it means that we can perform inference on our entire test set. \n",
    "\n",
    "To perform a Batch Transformation we need to first create a transformer objects from our trained estimator object."
   ]
  },
  {
   "cell_type": "code",
   "execution_count": 25,
   "metadata": {},
   "outputs": [
    {
     "name": "stderr",
     "output_type": "stream",
     "text": [
      "Parameter image will be renamed to image_uri in SageMaker Python SDK v2.\n"
     ]
    }
   ],
   "source": [
    "xgb_transformer = xgb.transformer(instance_count = 1, instance_type = 'ml.m4.xlarge')"
   ]
  },
  {
   "cell_type": "markdown",
   "metadata": {},
   "source": [
    "Next we actually perform the transform job. When doing so we need to make sure to specify the type of data we are sending so that it is serialized correctly in the background. In our case we are providing our model with csv data so we specify `text/csv`. Also, if the test data that we have provided is too large to process all at once then we need to specify how the data file should be split up. Since each line is a single entry in our data set we tell SageMaker that it can split the input on each line."
   ]
  },
  {
   "cell_type": "code",
   "execution_count": 26,
   "metadata": {},
   "outputs": [],
   "source": [
    "xgb_transformer.transform(test_location, content_type='text/csv', split_type='Line')"
   ]
  },
  {
   "cell_type": "markdown",
   "metadata": {},
   "source": [
    "Currently the transform job is running but it is doing so in the background. Since we wish to wait until the transform job is done and we would like a bit of feedback we can run the `wait()` method."
   ]
  },
  {
   "cell_type": "code",
   "execution_count": 27,
   "metadata": {},
   "outputs": [
    {
     "name": "stdout",
     "output_type": "stream",
     "text": [
      "...................................\u001b[34mArguments: serve\u001b[0m\n",
      "\u001b[34m[2022-06-06 11:33:41 +0000] [1] [INFO] Starting gunicorn 19.9.0\u001b[0m\n",
      "\u001b[34m[2022-06-06 11:33:41 +0000] [1] [INFO] Listening at: http://0.0.0.0:8080 (1)\u001b[0m\n",
      "\u001b[34m[2022-06-06 11:33:41 +0000] [1] [INFO] Using worker: gevent\u001b[0m\n",
      "\u001b[35mArguments: serve\u001b[0m\n",
      "\u001b[35m[2022-06-06 11:33:41 +0000] [1] [INFO] Starting gunicorn 19.9.0\u001b[0m\n",
      "\u001b[35m[2022-06-06 11:33:41 +0000] [1] [INFO] Listening at: http://0.0.0.0:8080 (1)\u001b[0m\n",
      "\u001b[35m[2022-06-06 11:33:41 +0000] [1] [INFO] Using worker: gevent\u001b[0m\n",
      "\u001b[34m[2022-06-06 11:33:41 +0000] [21] [INFO] Booting worker with pid: 21\u001b[0m\n",
      "\u001b[34m[2022-06-06 11:33:41 +0000] [22] [INFO] Booting worker with pid: 22\u001b[0m\n",
      "\u001b[34m[2022-06-06 11:33:41 +0000] [23] [INFO] Booting worker with pid: 23\u001b[0m\n",
      "\u001b[34m[2022-06-06 11:33:41 +0000] [24] [INFO] Booting worker with pid: 24\u001b[0m\n",
      "\u001b[34m/opt/amazon/lib/python3.7/site-packages/gunicorn/workers/ggevent.py:65: MonkeyPatchWarning: Monkey-patching ssl after ssl has already been imported may lead to errors, including RecursionError on Python 3.6. It may also silently lead to incorrect behaviour on Python 3.7. Please monkey-patch earlier. See https://github.com/gevent/gevent/issues/1016. Modules that had direct imports (NOT patched): ['urllib3.util.ssl_ (/opt/amazon/lib/python3.7/site-packages/urllib3/util/ssl_.py)', 'urllib3.util (/opt/amazon/lib/python3.7/site-packages/urllib3/util/__init__.py)']. \n",
      "  monkey.patch_all(subprocess=True)\u001b[0m\n",
      "\u001b[34m[2022-06-06:11:33:41:INFO] Model loaded successfully for worker : 21\u001b[0m\n",
      "\u001b[34m/opt/amazon/lib/python3.7/site-packages/gunicorn/workers/ggevent.py:65: MonkeyPatchWarning: Monkey-patching ssl after ssl has already been imported may lead to errors, including RecursionError on Python 3.6. It may also silently lead to incorrect behaviour on Python 3.7. Please monkey-patch earlier. See https://github.com/gevent/gevent/issues/1016. Modules that had direct imports (NOT patched): ['urllib3.util.ssl_ (/opt/amazon/lib/python3.7/site-packages/urllib3/util/ssl_.py)', 'urllib3.util (/opt/amazon/lib/python3.7/site-packages/urllib3/util/__init__.py)']. \n",
      "  monkey.patch_all(subprocess=True)\u001b[0m\n",
      "\u001b[34m[2022-06-06:11:33:41:INFO] Model loaded successfully for worker : 22\u001b[0m\n",
      "\u001b[34m/opt/amazon/lib/python3.7/site-packages/gunicorn/workers/ggevent.py:65: MonkeyPatchWarning: Monkey-patching ssl after ssl has already been imported may lead to errors, including RecursionError on Python 3.6. It may also silently lead to incorrect behaviour on Python 3.7. Please monkey-patch earlier. See https://github.com/gevent/gevent/issues/1016. Modules that had direct imports (NOT patched): ['urllib3.util.ssl_ (/opt/amazon/lib/python3.7/site-packages/urllib3/util/ssl_.py)', 'urllib3.util (/opt/amazon/lib/python3.7/site-packages/urllib3/util/__init__.py)']. \n",
      "  monkey.patch_all(subprocess=True)\u001b[0m\n",
      "\u001b[34m/opt/amazon/lib/python3.7/site-packages/gunicorn/workers/ggevent.py:65: MonkeyPatchWarning: Monkey-patching ssl after ssl has already been imported may lead to errors, including RecursionError on Python 3.6. It may also silently lead to incorrect behaviour on Python 3.7. Please monkey-patch earlier. See https://github.com/gevent/gevent/issues/1016. Modules that had direct imports (NOT patched): ['urllib3.util.ssl_ (/opt/amazon/lib/python3.7/site-packages/urllib3/util/ssl_.py)', 'urllib3.util (/opt/amazon/lib/python3.7/site-packages/urllib3/util/__init__.py)']. \n",
      "  monkey.patch_all(subprocess=True)\u001b[0m\n",
      "\u001b[34m[2022-06-06:11:33:41:INFO] Model loaded successfully for worker : 23\u001b[0m\n",
      "\u001b[34m[2022-06-06:11:33:41:INFO] Model loaded successfully for worker : 24\u001b[0m\n",
      "\u001b[35m[2022-06-06 11:33:41 +0000] [21] [INFO] Booting worker with pid: 21\u001b[0m\n",
      "\u001b[35m[2022-06-06 11:33:41 +0000] [22] [INFO] Booting worker with pid: 22\u001b[0m\n",
      "\u001b[35m[2022-06-06 11:33:41 +0000] [23] [INFO] Booting worker with pid: 23\u001b[0m\n",
      "\u001b[35m[2022-06-06 11:33:41 +0000] [24] [INFO] Booting worker with pid: 24\u001b[0m\n",
      "\u001b[35m/opt/amazon/lib/python3.7/site-packages/gunicorn/workers/ggevent.py:65: MonkeyPatchWarning: Monkey-patching ssl after ssl has already been imported may lead to errors, including RecursionError on Python 3.6. It may also silently lead to incorrect behaviour on Python 3.7. Please monkey-patch earlier. See https://github.com/gevent/gevent/issues/1016. Modules that had direct imports (NOT patched): ['urllib3.util.ssl_ (/opt/amazon/lib/python3.7/site-packages/urllib3/util/ssl_.py)', 'urllib3.util (/opt/amazon/lib/python3.7/site-packages/urllib3/util/__init__.py)']. \n",
      "  monkey.patch_all(subprocess=True)\u001b[0m\n",
      "\u001b[35m[2022-06-06:11:33:41:INFO] Model loaded successfully for worker : 21\u001b[0m\n",
      "\u001b[35m/opt/amazon/lib/python3.7/site-packages/gunicorn/workers/ggevent.py:65: MonkeyPatchWarning: Monkey-patching ssl after ssl has already been imported may lead to errors, including RecursionError on Python 3.6. It may also silently lead to incorrect behaviour on Python 3.7. Please monkey-patch earlier. See https://github.com/gevent/gevent/issues/1016. Modules that had direct imports (NOT patched): ['urllib3.util.ssl_ (/opt/amazon/lib/python3.7/site-packages/urllib3/util/ssl_.py)', 'urllib3.util (/opt/amazon/lib/python3.7/site-packages/urllib3/util/__init__.py)']. \n",
      "  monkey.patch_all(subprocess=True)\u001b[0m\n",
      "\u001b[35m[2022-06-06:11:33:41:INFO] Model loaded successfully for worker : 22\u001b[0m\n",
      "\u001b[35m/opt/amazon/lib/python3.7/site-packages/gunicorn/workers/ggevent.py:65: MonkeyPatchWarning: Monkey-patching ssl after ssl has already been imported may lead to errors, including RecursionError on Python 3.6. It may also silently lead to incorrect behaviour on Python 3.7. Please monkey-patch earlier. See https://github.com/gevent/gevent/issues/1016. Modules that had direct imports (NOT patched): ['urllib3.util.ssl_ (/opt/amazon/lib/python3.7/site-packages/urllib3/util/ssl_.py)', 'urllib3.util (/opt/amazon/lib/python3.7/site-packages/urllib3/util/__init__.py)']. \n",
      "  monkey.patch_all(subprocess=True)\u001b[0m\n",
      "\u001b[35m/opt/amazon/lib/python3.7/site-packages/gunicorn/workers/ggevent.py:65: MonkeyPatchWarning: Monkey-patching ssl after ssl has already been imported may lead to errors, including RecursionError on Python 3.6. It may also silently lead to incorrect behaviour on Python 3.7. Please monkey-patch earlier. See https://github.com/gevent/gevent/issues/1016. Modules that had direct imports (NOT patched): ['urllib3.util.ssl_ (/opt/amazon/lib/python3.7/site-packages/urllib3/util/ssl_.py)', 'urllib3.util (/opt/amazon/lib/python3.7/site-packages/urllib3/util/__init__.py)']. \n",
      "  monkey.patch_all(subprocess=True)\u001b[0m\n",
      "\u001b[35m[2022-06-06:11:33:41:INFO] Model loaded successfully for worker : 23\u001b[0m\n",
      "\u001b[35m[2022-06-06:11:33:41:INFO] Model loaded successfully for worker : 24\u001b[0m\n",
      "\u001b[32m2022-06-06T11:33:45.155:[sagemaker logs]: MaxConcurrentTransforms=4, MaxPayloadInMB=6, BatchStrategy=MULTI_RECORD\u001b[0m\n",
      "\u001b[34m[2022-06-06:11:33:48:INFO] Sniff delimiter as ','\u001b[0m\n",
      "\u001b[35m[2022-06-06:11:33:48:INFO] Sniff delimiter as ','\u001b[0m\n",
      "\u001b[34m[2022-06-06:11:33:48:INFO] Determined delimiter of CSV input is ','\u001b[0m\n",
      "\u001b[34m[2022-06-06:11:33:48:INFO] Sniff delimiter as ','\u001b[0m\n",
      "\u001b[34m[2022-06-06:11:33:48:INFO] Determined delimiter of CSV input is ','\u001b[0m\n",
      "\u001b[34m[2022-06-06:11:33:48:INFO] Sniff delimiter as ','\u001b[0m\n",
      "\u001b[34m[2022-06-06:11:33:48:INFO] Determined delimiter of CSV input is ','\u001b[0m\n",
      "\u001b[35m[2022-06-06:11:33:48:INFO] Determined delimiter of CSV input is ','\u001b[0m\n",
      "\u001b[35m[2022-06-06:11:33:48:INFO] Sniff delimiter as ','\u001b[0m\n",
      "\u001b[35m[2022-06-06:11:33:48:INFO] Determined delimiter of CSV input is ','\u001b[0m\n",
      "\u001b[35m[2022-06-06:11:33:48:INFO] Sniff delimiter as ','\u001b[0m\n",
      "\u001b[35m[2022-06-06:11:33:48:INFO] Determined delimiter of CSV input is ','\u001b[0m\n",
      "\u001b[34m[2022-06-06:11:33:50:INFO] Sniff delimiter as ','\u001b[0m\n",
      "\u001b[35m[2022-06-06:11:33:50:INFO] Sniff delimiter as ','\u001b[0m\n",
      "\u001b[34m[2022-06-06:11:33:50:INFO] Determined delimiter of CSV input is ','\u001b[0m\n",
      "\u001b[35m[2022-06-06:11:33:50:INFO] Determined delimiter of CSV input is ','\u001b[0m\n",
      "\u001b[34m[2022-06-06:11:33:52:INFO] Sniff delimiter as ','\u001b[0m\n",
      "\u001b[34m[2022-06-06:11:33:52:INFO] Determined delimiter of CSV input is ','\u001b[0m\n",
      "\u001b[34m[2022-06-06:11:33:52:INFO] Sniff delimiter as ','\u001b[0m\n",
      "\u001b[34m[2022-06-06:11:33:52:INFO] Determined delimiter of CSV input is ','\u001b[0m\n",
      "\u001b[34m[2022-06-06:11:33:52:INFO] Sniff delimiter as ','\u001b[0m\n",
      "\u001b[34m[2022-06-06:11:33:52:INFO] Determined delimiter of CSV input is ','\u001b[0m\n",
      "\u001b[35m[2022-06-06:11:33:52:INFO] Sniff delimiter as ','\u001b[0m\n",
      "\u001b[35m[2022-06-06:11:33:52:INFO] Determined delimiter of CSV input is ','\u001b[0m\n",
      "\u001b[35m[2022-06-06:11:33:52:INFO] Sniff delimiter as ','\u001b[0m\n",
      "\u001b[35m[2022-06-06:11:33:52:INFO] Determined delimiter of CSV input is ','\u001b[0m\n",
      "\u001b[35m[2022-06-06:11:33:52:INFO] Sniff delimiter as ','\u001b[0m\n",
      "\u001b[35m[2022-06-06:11:33:52:INFO] Determined delimiter of CSV input is ','\u001b[0m\n"
     ]
    },
    {
     "name": "stdout",
     "output_type": "stream",
     "text": [
      "\u001b[34m[2022-06-06:11:33:58:INFO] Sniff delimiter as ','\u001b[0m\n",
      "\u001b[34m[2022-06-06:11:33:58:INFO] Determined delimiter of CSV input is ','\u001b[0m\n",
      "\u001b[35m[2022-06-06:11:33:58:INFO] Sniff delimiter as ','\u001b[0m\n",
      "\u001b[35m[2022-06-06:11:33:58:INFO] Determined delimiter of CSV input is ','\u001b[0m\n",
      "\u001b[34m[2022-06-06:11:33:58:INFO] Sniff delimiter as ','\u001b[0m\n",
      "\u001b[34m[2022-06-06:11:33:58:INFO] Determined delimiter of CSV input is ','\u001b[0m\n",
      "\u001b[35m[2022-06-06:11:33:58:INFO] Sniff delimiter as ','\u001b[0m\n",
      "\u001b[35m[2022-06-06:11:33:58:INFO] Determined delimiter of CSV input is ','\u001b[0m\n",
      "\u001b[34m[2022-06-06:11:34:01:INFO] Sniff delimiter as ','\u001b[0m\n",
      "\u001b[34m[2022-06-06:11:34:01:INFO] Determined delimiter of CSV input is ','\u001b[0m\n",
      "\u001b[34m[2022-06-06:11:34:01:INFO] Sniff delimiter as ','\u001b[0m\n",
      "\u001b[34m[2022-06-06:11:34:01:INFO] Determined delimiter of CSV input is ','\u001b[0m\n",
      "\u001b[35m[2022-06-06:11:34:01:INFO] Sniff delimiter as ','\u001b[0m\n",
      "\u001b[35m[2022-06-06:11:34:01:INFO] Determined delimiter of CSV input is ','\u001b[0m\n",
      "\u001b[35m[2022-06-06:11:34:01:INFO] Sniff delimiter as ','\u001b[0m\n",
      "\u001b[35m[2022-06-06:11:34:01:INFO] Determined delimiter of CSV input is ','\u001b[0m\n",
      "\u001b[34m[2022-06-06:11:34:03:INFO] Sniff delimiter as ','\u001b[0m\n",
      "\u001b[34m[2022-06-06:11:34:03:INFO] Determined delimiter of CSV input is ','\u001b[0m\n",
      "\u001b[34m[2022-06-06:11:34:03:INFO] Sniff delimiter as ','\u001b[0m\n",
      "\u001b[34m[2022-06-06:11:34:03:INFO] Determined delimiter of CSV input is ','\u001b[0m\n",
      "\u001b[34m[2022-06-06:11:34:03:INFO] Sniff delimiter as ','\u001b[0m\n",
      "\u001b[34m[2022-06-06:11:34:03:INFO] Determined delimiter of CSV input is ','\u001b[0m\n",
      "\u001b[35m[2022-06-06:11:34:03:INFO] Sniff delimiter as ','\u001b[0m\n",
      "\u001b[35m[2022-06-06:11:34:03:INFO] Determined delimiter of CSV input is ','\u001b[0m\n",
      "\u001b[35m[2022-06-06:11:34:03:INFO] Sniff delimiter as ','\u001b[0m\n",
      "\u001b[35m[2022-06-06:11:34:03:INFO] Determined delimiter of CSV input is ','\u001b[0m\n",
      "\u001b[35m[2022-06-06:11:34:03:INFO] Sniff delimiter as ','\u001b[0m\n",
      "\u001b[35m[2022-06-06:11:34:03:INFO] Determined delimiter of CSV input is ','\u001b[0m\n",
      "\u001b[34m[2022-06-06:11:34:03:INFO] Sniff delimiter as ','\u001b[0m\n",
      "\u001b[34m[2022-06-06:11:34:03:INFO] Determined delimiter of CSV input is ','\u001b[0m\n",
      "\u001b[35m[2022-06-06:11:34:03:INFO] Sniff delimiter as ','\u001b[0m\n",
      "\u001b[35m[2022-06-06:11:34:03:INFO] Determined delimiter of CSV input is ','\u001b[0m\n",
      "\u001b[34m[2022-06-06:11:34:06:INFO] Sniff delimiter as ','\u001b[0m\n",
      "\u001b[34m[2022-06-06:11:34:06:INFO] Determined delimiter of CSV input is ','\u001b[0m\n",
      "\u001b[34m[2022-06-06:11:34:07:INFO] Sniff delimiter as ','\u001b[0m\n",
      "\u001b[34m[2022-06-06:11:34:07:INFO] Determined delimiter of CSV input is ','\u001b[0m\n",
      "\u001b[34m[2022-06-06:11:34:07:INFO] Sniff delimiter as ','\u001b[0m\n",
      "\u001b[34m[2022-06-06:11:34:07:INFO] Determined delimiter of CSV input is ','\u001b[0m\n",
      "\u001b[35m[2022-06-06:11:34:06:INFO] Sniff delimiter as ','\u001b[0m\n",
      "\u001b[35m[2022-06-06:11:34:06:INFO] Determined delimiter of CSV input is ','\u001b[0m\n",
      "\u001b[35m[2022-06-06:11:34:07:INFO] Sniff delimiter as ','\u001b[0m\n",
      "\u001b[35m[2022-06-06:11:34:07:INFO] Determined delimiter of CSV input is ','\u001b[0m\n",
      "\u001b[35m[2022-06-06:11:34:07:INFO] Sniff delimiter as ','\u001b[0m\n",
      "\u001b[35m[2022-06-06:11:34:07:INFO] Determined delimiter of CSV input is ','\u001b[0m\n",
      "\u001b[34m[2022-06-06:11:34:10:INFO] Sniff delimiter as ','\u001b[0m\n",
      "\u001b[34m[2022-06-06:11:34:10:INFO] Determined delimiter of CSV input is ','\u001b[0m\n",
      "\u001b[34m[2022-06-06:11:34:10:INFO] Sniff delimiter as ','\u001b[0m\n",
      "\u001b[34m[2022-06-06:11:34:10:INFO] Determined delimiter of CSV input is ','\u001b[0m\n",
      "\u001b[34m[2022-06-06:11:34:10:INFO] Sniff delimiter as ','\u001b[0m\n",
      "\u001b[34m[2022-06-06:11:34:10:INFO] Determined delimiter of CSV input is ','\u001b[0m\n",
      "\u001b[34m[2022-06-06:11:34:10:INFO] Sniff delimiter as ','\u001b[0m\n",
      "\u001b[34m[2022-06-06:11:34:10:INFO] Determined delimiter of CSV input is ','\u001b[0m\n",
      "\u001b[35m[2022-06-06:11:34:10:INFO] Sniff delimiter as ','\u001b[0m\n",
      "\u001b[35m[2022-06-06:11:34:10:INFO] Determined delimiter of CSV input is ','\u001b[0m\n",
      "\u001b[35m[2022-06-06:11:34:10:INFO] Sniff delimiter as ','\u001b[0m\n",
      "\u001b[35m[2022-06-06:11:34:10:INFO] Determined delimiter of CSV input is ','\u001b[0m\n",
      "\u001b[35m[2022-06-06:11:34:10:INFO] Sniff delimiter as ','\u001b[0m\n",
      "\u001b[35m[2022-06-06:11:34:10:INFO] Determined delimiter of CSV input is ','\u001b[0m\n",
      "\u001b[35m[2022-06-06:11:34:10:INFO] Sniff delimiter as ','\u001b[0m\n",
      "\u001b[35m[2022-06-06:11:34:10:INFO] Determined delimiter of CSV input is ','\u001b[0m\n",
      "\u001b[34m[2022-06-06:11:34:18:INFO] Sniff delimiter as ','\u001b[0m\n",
      "\u001b[34m[2022-06-06:11:34:18:INFO] Determined delimiter of CSV input is ','\u001b[0m\n",
      "\u001b[34m[2022-06-06:11:34:18:INFO] Sniff delimiter as ','\u001b[0m\n",
      "\u001b[34m[2022-06-06:11:34:18:INFO] Determined delimiter of CSV input is ','\u001b[0m\n",
      "\u001b[34m[2022-06-06:11:34:18:INFO] Sniff delimiter as ','\u001b[0m\n",
      "\u001b[34m[2022-06-06:11:34:18:INFO] Determined delimiter of CSV input is ','\u001b[0m\n",
      "\u001b[34m[2022-06-06:11:34:18:INFO] Sniff delimiter as ','\u001b[0m\n",
      "\u001b[34m[2022-06-06:11:34:18:INFO] Determined delimiter of CSV input is ','\u001b[0m\n",
      "\u001b[35m[2022-06-06:11:34:18:INFO] Sniff delimiter as ','\u001b[0m\n",
      "\u001b[35m[2022-06-06:11:34:18:INFO] Determined delimiter of CSV input is ','\u001b[0m\n",
      "\u001b[35m[2022-06-06:11:34:18:INFO] Sniff delimiter as ','\u001b[0m\n",
      "\u001b[35m[2022-06-06:11:34:18:INFO] Determined delimiter of CSV input is ','\u001b[0m\n",
      "\u001b[35m[2022-06-06:11:34:18:INFO] Sniff delimiter as ','\u001b[0m\n",
      "\u001b[35m[2022-06-06:11:34:18:INFO] Determined delimiter of CSV input is ','\u001b[0m\n",
      "\u001b[35m[2022-06-06:11:34:18:INFO] Sniff delimiter as ','\u001b[0m\n",
      "\u001b[35m[2022-06-06:11:34:18:INFO] Determined delimiter of CSV input is ','\u001b[0m\n",
      "\n",
      "\u001b[34m[2022-06-06:11:34:25:INFO] Sniff delimiter as ','\u001b[0m\n",
      "\u001b[34m[2022-06-06:11:34:25:INFO] Determined delimiter of CSV input is ','\u001b[0m\n",
      "\u001b[34m[2022-06-06:11:34:25:INFO] Sniff delimiter as ','\u001b[0m\n",
      "\u001b[34m[2022-06-06:11:34:25:INFO] Determined delimiter of CSV input is ','\u001b[0m\n",
      "\u001b[35m[2022-06-06:11:34:25:INFO] Sniff delimiter as ','\u001b[0m\n",
      "\u001b[35m[2022-06-06:11:34:25:INFO] Determined delimiter of CSV input is ','\u001b[0m\n",
      "\u001b[35m[2022-06-06:11:34:25:INFO] Sniff delimiter as ','\u001b[0m\n",
      "\u001b[35m[2022-06-06:11:34:25:INFO] Determined delimiter of CSV input is ','\u001b[0m\n"
     ]
    }
   ],
   "source": [
    "xgb_transformer.wait()"
   ]
  },
  {
   "cell_type": "markdown",
   "metadata": {},
   "source": [
    "Now the transform job has executed and the result, the estimated sentiment of each review, has been saved on S3. Since we would rather work on this file locally we can perform a bit of notebook magic to copy the file to the `data_dir`."
   ]
  },
  {
   "cell_type": "code",
   "execution_count": 28,
   "metadata": {},
   "outputs": [
    {
     "name": "stdout",
     "output_type": "stream",
     "text": [
      "Completed 256.0 KiB/472.2 KiB (3.7 MiB/s) with 1 file(s) remaining\r",
      "Completed 472.2 KiB/472.2 KiB (6.5 MiB/s) with 1 file(s) remaining\r",
      "download: s3://sagemaker-ap-southeast-1-551625235247/xgboost-2022-06-06-11-28-04-006/test.csv.out to ../data/sentiment_web_app/test.csv.out\r\n"
     ]
    }
   ],
   "source": [
    "!aws s3 cp --recursive $xgb_transformer.output_path $data_dir"
   ]
  },
  {
   "cell_type": "markdown",
   "metadata": {},
   "source": [
    "The last step is now to read in the output from our model, convert the output to something a little more usable, in this case we want the sentiment to be either `1` (positive) or `0` (negative), and then compare to the ground truth labels."
   ]
  },
  {
   "cell_type": "code",
   "execution_count": 29,
   "metadata": {},
   "outputs": [],
   "source": [
    "predictions = pd.read_csv(os.path.join(data_dir, 'test.csv.out'), header=None)\n",
    "predictions = [round(num) for num in predictions.squeeze().values]"
   ]
  },
  {
   "cell_type": "code",
   "execution_count": 30,
   "metadata": {},
   "outputs": [
    {
     "data": {
      "text/plain": [
       "0.85148"
      ]
     },
     "execution_count": 30,
     "metadata": {},
     "output_type": "execute_result"
    }
   ],
   "source": [
    "from sklearn.metrics import accuracy_score\n",
    "accuracy_score(test_y, predictions)"
   ]
  },
  {
   "cell_type": "markdown",
   "metadata": {},
   "source": [
    "## Step 6: Deploying the model\n",
    "\n",
    "Once we construct and fit our model, SageMaker stores the resulting model artifacts and we can use those to deploy an endpoint (inference code). To see this, look in the SageMaker console and you should see that a model has been created along with a link to the S3 location where the model artifacts have been stored.\n",
    "\n",
    "Deploying an endpoint is a lot like training the model with a few important differences. The first is that a deployed model doesn't change the model artifacts, so as you send it various testing instances the model won't change. Another difference is that since we aren't performing a fixed computation, as we were in the training step or while performing a batch transform, the compute instance that gets started stays running until we tell it to stop. This is important to note as if we forget and leave it running we will be charged the entire time.\n",
    "\n",
    "In other words **If you are no longer using a deployed endpoint, shut it down!**"
   ]
  },
  {
   "cell_type": "code",
   "execution_count": 31,
   "metadata": {},
   "outputs": [
    {
     "name": "stderr",
     "output_type": "stream",
     "text": [
      "Parameter image will be renamed to image_uri in SageMaker Python SDK v2.\n",
      "Using already existing model: xgboost-2022-06-06-11-19-16-628\n"
     ]
    },
    {
     "name": "stdout",
     "output_type": "stream",
     "text": [
      "------!"
     ]
    }
   ],
   "source": [
    "xgb_predictor = xgb.deploy(initial_instance_count = 1, instance_type = 'ml.m4.xlarge')"
   ]
  },
  {
   "cell_type": "markdown",
   "metadata": {},
   "source": [
    "### Testing the model (again)\n",
    "\n",
    "Now that we have deployed our endpoint, we can send the testing data to it and get back the inference results. We already did this earlier using the batch transform functionality of SageMaker, however, we will test our model again using the newly deployed endpoint so that we can make sure that it works properly and to get a bit of a feel for how the endpoint works.\n",
    "\n",
    "When using the created endpoint it is important to know that we are limited in the amount of information we can send in each call so we need to break the testing data up into chunks and then send each chunk. Also, we need to serialize our data before we send it to the endpoint to ensure that our data is transmitted properly. Fortunately, SageMaker can do the serialization part for us provided we tell it the format of our data."
   ]
  },
  {
   "cell_type": "code",
   "execution_count": 32,
   "metadata": {},
   "outputs": [],
   "source": [
    "from sagemaker.predictor import csv_serializer\n",
    "\n",
    "# We need to tell the endpoint what format the data we are sending is in so that SageMaker can perform the serialization.\n",
    "xgb_predictor.content_type = 'text/csv'\n",
    "xgb_predictor.serializer = csv_serializer"
   ]
  },
  {
   "cell_type": "code",
   "execution_count": 33,
   "metadata": {},
   "outputs": [],
   "source": [
    "# We split the data into chunks and send each chunk seperately, accumulating the results.\n",
    "\n",
    "def predict(data, rows=512):\n",
    "    split_array = np.array_split(data, int(data.shape[0] / float(rows) + 1))\n",
    "    predictions = ''\n",
    "    for array in split_array:\n",
    "        predictions = ','.join([predictions, xgb_predictor.predict(array).decode('utf-8')])\n",
    "    \n",
    "    return np.fromstring(predictions[1:], sep=',')"
   ]
  },
  {
   "cell_type": "code",
   "execution_count": 34,
   "metadata": {},
   "outputs": [],
   "source": [
    "test_X = pd.read_csv(os.path.join(data_dir, 'test.csv'), header=None).values\n",
    "\n",
    "predictions = predict(test_X)\n",
    "predictions = [round(num) for num in predictions]"
   ]
  },
  {
   "cell_type": "markdown",
   "metadata": {},
   "source": [
    "Lastly, we check to see what the accuracy of our model is."
   ]
  },
  {
   "cell_type": "code",
   "execution_count": 35,
   "metadata": {},
   "outputs": [
    {
     "data": {
      "text/plain": [
       "0.85148"
      ]
     },
     "execution_count": 35,
     "metadata": {},
     "output_type": "execute_result"
    }
   ],
   "source": [
    "from sklearn.metrics import accuracy_score\n",
    "accuracy_score(test_y, predictions)"
   ]
  },
  {
   "cell_type": "markdown",
   "metadata": {},
   "source": [
    "And the results here should agree with the model testing that we did earlier using the batch transform job.\n",
    "\n",
    "### Cleaning up\n",
    "\n",
    "Now that we've determined that deploying our model works as expected, we are going to shut it down. Remember that the longer the endpoint is left running, the greater the cost and since we have a bit more work to do before we are able to use our endpoint with our simple web app, we should shut everything down."
   ]
  },
  {
   "cell_type": "code",
   "execution_count": 36,
   "metadata": {},
   "outputs": [],
   "source": [
    "xgb_predictor.delete_endpoint()"
   ]
  },
  {
   "cell_type": "markdown",
   "metadata": {},
   "source": [
    "## Step 7: Putting our model to work\n",
    "\n",
    "As we've mentioned a few times now, our goal is to have our model deployed and then access it using a very simple web app. The intent is for this web app to take some user submitted data (a review), send it off to our endpoint (the model) and then display the result.\n",
    "\n",
    "However, there is a small catch. Currently the only way we can access the endpoint to send it data is using the SageMaker API. We can, if we wish, expose the actual URL that our model's endpoint is receiving data from, however, if we just send it data ourselves we will not get anything in return. This is because the endpoint created by SageMaker requires the entity accessing it have the correct permissions. So, we would need to somehow authenticate our web app with AWS.\n",
    "\n",
    "Having a website that authenticates to AWS seems a bit beyond the scope of this lesson so we will opt for an alternative approach. Namely, we will create a new endpoint which does not require authentication and which acts as a proxy for the SageMaker endpoint.\n",
    "\n",
    "As an additional constraint, we will try to avoid doing any data processing in the web app itself. Remember that when we constructed and tested our model we started with a movie review, then we simplified it by removing any html formatting and punctuation, then we constructed a bag of words embedding and the resulting vector is what we sent to our model. All of this needs to be done to our user input as well.\n",
    "\n",
    "Fortunately we can do all of this data processing in the backend, using Amazon's Lambda service.\n",
    "\n",
    "<img src=\"Web App Diagram.svg\">\n",
    "\n",
    "The diagram above gives an overview of how the various services will work together. On the far right is the model which we trained above and which will be deployed using SageMaker. On the far left is our web app that collects a user's movie review, sends it off and expects a positive or negative sentiment in return.\n",
    "\n",
    "In the middle is where some of the magic happens. We will construct a Lambda function, which you can think of as a straightforward Python function that can be executed whenever a specified event occurs. This Python function will do the data processing we need to perform on a user submitted review. In addition, we will give this function permission to send and recieve data from a SageMaker endpoint.\n",
    "\n",
    "Lastly, the method we will use to execute the Lambda function is a new endpoint that we will create using API Gateway. This endpoint will be a url that listens for data to be sent to it. Once it gets some data it will pass that data on to the Lambda function and then return whatever the Lambda function returns. Essentially it will act as an interface that lets our web app communicate with the Lambda function.\n",
    "\n",
    "### Processing a single review\n",
    "\n",
    "For now, suppose we are given a movie review by our user in the form of a string, like so:"
   ]
  },
  {
   "cell_type": "code",
   "execution_count": 37,
   "metadata": {},
   "outputs": [],
   "source": [
    "test_review = \"Nothing but a disgusting materialistic pageant of glistening abed remote control greed zombies, totally devoid of any heart or heat. A romantic comedy that has zero romantic chemestry and zero laughs!\""
   ]
  },
  {
   "cell_type": "markdown",
   "metadata": {},
   "source": [
    "How do we go from this string to the bag of words feature vector that is expected by our model?\n",
    "\n",
    "If we recall at the beginning of this notebook, the first step is to remove any unnecessary characters using the `review_to_words` method. Remember that we intentionally did this in a very simplistic way. This is because we are going to have to copy this method to our (eventual) Lambda function (we will go into more detail later) and this means it needs to be rather simplistic."
   ]
  },
  {
   "cell_type": "code",
   "execution_count": 38,
   "metadata": {},
   "outputs": [
    {
     "name": "stdout",
     "output_type": "stream",
     "text": [
      "nothing but a disgusting materialistic pageant of glistening abed remote control greed zombies totally devoid of any heart or heat a romantic comedy that has zero romantic chemestry and zero laughs\n"
     ]
    }
   ],
   "source": [
    "test_words = review_to_words(test_review)\n",
    "print(test_words)"
   ]
  },
  {
   "cell_type": "markdown",
   "metadata": {},
   "source": [
    "Next, we need to construct a bag of words embedding of the `test_words` string. To do this, remember that a bag of words embedding uses a `vocabulary` consisting of the most frequently appearing words in a set of documents. Then, for each word in the vocabulary we record the number of times that word appears in `test_words`. We constructed the `vocabulary` earlier using the training set for our problem so encoding `test_words` is relatively straightforward."
   ]
  },
  {
   "cell_type": "code",
   "execution_count": 39,
   "metadata": {},
   "outputs": [],
   "source": [
    "def bow_encoding(words, vocabulary):\n",
    "    bow = [0] * len(vocabulary) # Start by setting the count for each word in the vocabulary to zero.\n",
    "    for word in words.split():  # For each word in the string\n",
    "        if word in vocabulary:  # If the word is one that occurs in the vocabulary, increase its count.\n",
    "            bow[vocabulary[word]] += 1\n",
    "    return bow"
   ]
  },
  {
   "cell_type": "code",
   "execution_count": 40,
   "metadata": {},
   "outputs": [
    {
     "name": "stdout",
     "output_type": "stream",
     "text": [
      "[0, 0, 0, 0, 0, 0, 0, 0, 0, 0, 0, 0, 0, 0, 0, 0, 0, 0, 0, 0, 0, 0, 0, 0, 0, 0, 0, 0, 0, 0, 0, 0, 0, 0, 0, 0, 0, 0, 0, 0, 0, 0, 0, 0, 0, 0, 0, 0, 0, 0, 0, 0, 0, 0, 0, 0, 0, 0, 0, 0, 0, 0, 0, 0, 0, 0, 0, 0, 0, 0, 0, 0, 0, 0, 0, 0, 0, 0, 0, 0, 0, 0, 0, 0, 0, 0, 0, 0, 0, 0, 0, 0, 0, 0, 0, 0, 0, 0, 0, 0, 0, 0, 0, 0, 0, 0, 0, 0, 0, 0, 0, 0, 0, 0, 0, 0, 0, 0, 0, 0, 0, 0, 0, 0, 0, 0, 0, 0, 0, 0, 0, 0, 0, 0, 0, 0, 0, 0, 0, 0, 0, 0, 0, 0, 0, 0, 0, 0, 0, 0, 0, 0, 0, 0, 0, 0, 0, 0, 0, 0, 0, 0, 0, 0, 0, 0, 0, 0, 0, 0, 0, 0, 0, 0, 0, 0, 0, 0, 0, 0, 0, 0, 0, 0, 0, 0, 0, 0, 0, 0, 0, 0, 0, 0, 0, 0, 0, 0, 0, 0, 0, 0, 0, 0, 0, 0, 0, 0, 0, 0, 0, 0, 0, 0, 0, 0, 0, 0, 0, 0, 0, 0, 0, 0, 0, 0, 1, 0, 0, 0, 0, 0, 0, 0, 0, 0, 0, 0, 0, 0, 0, 0, 0, 0, 0, 0, 0, 0, 0, 0, 0, 0, 0, 0, 0, 0, 1, 0, 0, 0, 0, 0, 0, 0, 0, 0, 0, 0, 0, 0, 0, 0, 0, 0, 0, 0, 0, 0, 0, 0, 0, 0, 0, 0, 0, 0, 0, 0, 0, 0, 0, 0, 0, 0, 0, 0, 0, 0, 0, 0, 0, 0, 0, 0, 0, 0, 0, 0, 0, 0, 0, 0, 0, 0, 0, 0, 0, 0, 0, 0, 0, 0, 0, 0, 0, 0, 0, 0, 0, 0, 0, 0, 0, 0, 0, 0, 0, 0, 0, 0, 0, 0, 0, 0, 0, 0, 0, 0, 0, 0, 0, 0, 0, 0, 0, 0, 0, 0, 0, 0, 0, 0, 0, 0, 0, 0, 0, 0, 0, 0, 0, 0, 0, 0, 0, 0, 0, 0, 0, 0, 0, 0, 0, 0, 0, 0, 0, 0, 0, 0, 0, 0, 0, 0, 0, 0, 0, 0, 0, 0, 0, 0, 0, 0, 0, 0, 0, 0, 0, 0, 0, 0, 0, 0, 0, 0, 0, 0, 0, 0, 0, 0, 0, 0, 0, 0, 0, 0, 0, 0, 0, 0, 0, 0, 0, 0, 0, 0, 0, 0, 0, 0, 0, 0, 0, 0, 0, 0, 0, 0, 0, 0, 0, 0, 0, 0, 0, 0, 0, 0, 0, 0, 0, 0, 0, 0, 0, 0, 0, 0, 0, 0, 0, 0, 0, 0, 0, 0, 0, 0, 0, 0, 0, 0, 0, 0, 0, 0, 0, 0, 0, 0, 0, 0, 0, 0, 0, 0, 0, 0, 0, 0, 0, 0, 0, 0, 0, 0, 0, 0, 0, 0, 0, 0, 0, 0, 0, 0, 0, 0, 0, 0, 0, 0, 0, 0, 0, 0, 0, 0, 0, 0, 0, 0, 0, 0, 0, 0, 0, 0, 0, 0, 0, 0, 0, 0, 0, 0, 0, 0, 0, 0, 0, 0, 0, 0, 0, 0, 0, 0, 0, 0, 0, 0, 0, 0, 0, 0, 0, 0, 0, 0, 0, 0, 0, 0, 0, 0, 0, 0, 0, 0, 0, 0, 0, 0, 0, 0, 0, 0, 0, 0, 0, 0, 0, 0, 0, 0, 0, 0, 0, 0, 0, 0, 0, 0, 0, 0, 0, 0, 0, 0, 0, 0, 0, 0, 0, 0, 0, 0, 0, 0, 0, 0, 0, 0, 0, 0, 0, 0, 0, 0, 0, 0, 0, 0, 1, 0, 0, 0, 0, 0, 0, 0, 0, 0, 0, 0, 0, 0, 0, 0, 0, 0, 0, 0, 0, 0, 0, 0, 0, 0, 0, 0, 0, 0, 0, 0, 0, 0, 0, 0, 0, 0, 0, 0, 0, 0, 0, 0, 0, 0, 0, 0, 0, 0, 0, 0, 0, 0, 0, 0, 0, 0, 0, 0, 0, 0, 0, 0, 0, 0, 0, 0, 0, 0, 0, 0, 0, 0, 0, 0, 0, 0, 0, 0, 0, 0, 0, 0, 0, 0, 0, 0, 0, 0, 0, 0, 0, 0, 0, 0, 0, 0, 0, 0, 0, 0, 0, 0, 0, 0, 0, 0, 0, 0, 0, 0, 0, 0, 0, 0, 0, 0, 0, 0, 0, 0, 0, 0, 0, 0, 0, 0, 0, 0, 0, 0, 0, 0, 0, 0, 0, 0, 0, 0, 0, 0, 0, 0, 0, 0, 0, 0, 0, 0, 0, 0, 0, 0, 0, 0, 0, 0, 0, 0, 0, 0, 0, 0, 0, 0, 0, 0, 0, 0, 0, 0, 0, 0, 0, 0, 0, 0, 0, 0, 0, 0, 0, 0, 0, 0, 0, 0, 0, 0, 0, 0, 0, 0, 0, 0, 0, 0, 0, 0, 0, 0, 0, 0, 0, 0, 0, 0, 0, 0, 0, 0, 0, 0, 0, 0, 0, 0, 0, 0, 0, 0, 0, 0, 0, 0, 0, 0, 0, 0, 0, 0, 0, 0, 0, 0, 0, 0, 0, 0, 0, 0, 0, 0, 0, 0, 0, 0, 0, 0, 0, 0, 0, 0, 1, 0, 0, 0, 0, 0, 0, 0, 0, 0, 0, 0, 0, 0, 0, 0, 0, 0, 0, 0, 0, 0, 0, 0, 0, 0, 0, 0, 0, 0, 0, 0, 0, 0, 0, 0, 0, 0, 0, 0, 0, 0, 0, 0, 0, 0, 0, 0, 0, 0, 0, 0, 0, 0, 0, 0, 0, 0, 0, 0, 0, 0, 0, 0, 0, 0, 0, 0, 0, 0, 0, 0, 0, 0, 0, 0, 0, 0, 0, 0, 0, 0, 0, 0, 0, 0, 0, 1, 0, 0, 0, 0, 0, 0, 0, 0, 0, 0, 0, 0, 0, 0, 0, 0, 0, 0, 0, 0, 0, 0, 0, 0, 0, 0, 0, 0, 0, 0, 0, 0, 0, 0, 0, 0, 0, 0, 0, 0, 0, 0, 0, 0, 0, 0, 0, 0, 0, 0, 0, 0, 0, 0, 0, 0, 0, 0, 0, 0, 0, 0, 0, 0, 0, 0, 0, 0, 0, 0, 0, 0, 0, 0, 0, 0, 0, 0, 0, 0, 0, 0, 0, 0, 0, 0, 0, 0, 0, 0, 0, 0, 0, 0, 0, 0, 0, 0, 0, 0, 0, 0, 0, 0, 0, 0, 0, 0, 0, 0, 0, 0, 0, 0, 0, 0, 0, 0, 0, 0, 0, 0, 0, 0, 0, 0, 0, 0, 0, 0, 0, 0, 0, 0, 0, 0, 0, 0, 0, 0, 0, 0, 0, 0, 0, 0, 0, 0, 0, 0, 0, 0, 0, 0, 0, 0, 0, 0, 0, 0, 0, 0, 0, 0, 0, 0, 0, 0, 0, 0, 0, 0, 0, 0, 0, 0, 0, 0, 0, 0, 0, 0, 0, 0, 0, 0, 0, 0, 0, 0, 0, 0, 0, 0, 0, 0, 0, 0, 0, 0, 0, 0, 0, 0, 0, 0, 0, 0, 0, 0, 0, 0, 0, 0, 0, 0, 0, 0, 0, 0, 0, 0, 0, 0, 0, 0, 0, 0, 0, 0, 0, 0, 0, 0, 0, 0, 0, 0, 0, 0, 0, 0, 0, 0, 0, 0, 0, 0, 0, 0, 0, 0, 1, 0, 0, 0, 0, 0, 0, 0, 0, 0, 0, 0, 0, 0, 0, 0, 0, 0, 0, 0, 0, 0, 0, 0, 0, 0, 0, 0, 0, 0, 0, 0, 0, 0, 0, 0, 0, 0, 0, 0, 0, 0, 0, 0, 0, 0, 0, 0, 0, 0, 0, 0, 0, 0, 0, 0, 1, 0, 0, 0, 0, 0, 0, 0, 0, 0, 0, 0, 0, 0, 0, 0, 0, 0, 0, 0, 0, 0, 0, 0, 0, 0, 0, 0, 0, 0, 0, 0, 0, 0, 0, 0, 0, 0, 0, 0, 0, 0, 0, 0, 0, 0, 0, 0, 0, 0, 0, 0, 0, 0, 0, 0, 0, 0, 0, 0, 0, 0, 0, 0, 0, 0, 0, 0, 0, 0, 0, 0, 0, 0, 0, 0, 0, 0, 0, 0, 0, 0, 0, 0, 0, 0, 0, 0, 0, 0, 0, 0, 0, 0, 0, 0, 0, 0, 0, 0, 0, 0, 0, 0, 0, 0, 0, 0, 0, 0, 0, 0, 0, 0, 0, 0, 0, 0, 0, 0, 0, 0, 0, 0, 0, 0, 0, 0, 0, 0, 0, 0, 0, 0, 0, 0, 0, 0, 0, 0, 0, 0, 0, 0, 0, 0, 0, 0, 0, 0, 0, 0, 0, 0, 0, 0, 0, 0, 0, 0, 0, 0, 0, 0, 0, 0, 0, 0, 0, 0, 0, 0, 0, 0, 0, 0, 0, 0, 0, 0, 0, 0, 0, 0, 0, 0, 0, 0, 0, 0, 0, 0, 0, 0, 0, 0, 0, 0, 0, 0, 0, 0, 0, 0, 0, 0, 0, 0, 0, 0, 0, 0, 0, 0, 0, 0, 0, 0, 0, 0, 0, 0, 0, 0, 0, 0, 0, 0, 0, 0, 0, 0, 0, 0, 0, 0, 0, 0, 0, 0, 0, 0, 0, 0, 0, 0, 0, 0, 0, 0, 0, 0, 0, 0, 0, 0, 0, 0, 0, 0, 0, 0, 0, 0, 0, 0, 0, 0, 0, 0, 0, 0, 0, 0, 0, 0, 0, 0, 0, 0, 0, 0, 0, 0, 0, 0, 0, 0, 0, 0, 0, 0, 0, 0, 0, 0, 0, 0, 0, 0, 0, 0, 0, 0, 0, 0, 0, 0, 0, 0, 0, 0, 0, 0, 0, 0, 0, 0, 0, 0, 0, 0, 0, 0, 0, 0, 0, 0, 0, 0, 0, 0, 0, 0, 0, 0, 0, 0, 0, 0, 0, 0, 0, 0, 0, 0, 0, 0, 0, 0, 0, 0, 0, 0, 0, 0, 0, 0, 0, 0, 0, 0, 0, 0, 0, 0, 0, 0, 0, 0, 0, 0, 0, 0, 0, 0, 0, 0, 0, 0, 0, 0, 0, 0, 0, 0, 0, 0, 0, 0, 0, 0, 0, 0, 0, 0, 0, 0, 0, 0, 0, 0, 0, 0, 0, 0, 0, 0, 0, 0, 0, 0, 0, 0, 0, 0, 0, 0, 0, 0, 0, 0, 0, 0, 0, 0, 0, 0, 0, 0, 0, 0, 0, 0, 0, 0, 0, 0, 0, 0, 0, 0, 0, 0, 0, 0, 0, 0, 0, 0, 0, 0, 0, 0, 0, 0, 0, 0, 0, 0, 0, 0, 0, 0, 0, 0, 0, 0, 0, 0, 0, 0, 0, 0, 0, 0, 0, 0, 0, 0, 0, 0, 0, 0, 0, 0, 0, 0, 0, 0, 0, 0, 0, 0, 0, 0, 0, 0, 0, 0, 0, 0, 0, 0, 0, 0, 0, 0, 0, 0, 0, 0, 0, 0, 0, 0, 0, 0, 0, 0, 0, 0, 0, 0, 0, 0, 0, 0, 0, 0, 0, 0, 0, 0, 0, 0, 0, 0, 0, 0, 0, 0, 0, 0, 0, 0, 0, 0, 0, 0, 0, 0, 0, 0, 0, 0, 0, 0, 0, 0, 0, 0, 0, 0, 0, 0, 0, 0, 0, 0, 0, 0, 0, 0, 0, 0, 0, 0, 0, 0, 0, 0, 0, 0, 0, 0, 0, 0, 0, 0, 0, 0, 0, 0, 0, 0, 0, 0, 0, 0, 0, 0, 0, 0, 0, 0, 0, 0, 0, 0, 0, 0, 0, 0, 0, 0, 0, 0, 0, 0, 0, 0, 0, 0, 0, 0, 0, 0, 0, 0, 0, 0, 0, 0, 0, 0, 0, 0, 0, 0, 0, 0, 0, 0, 0, 0, 0, 0, 0, 0, 0, 0, 0, 0, 0, 0, 0, 0, 0, 0, 0, 0, 0, 0, 0, 0, 0, 0, 0, 0, 0, 0, 0, 0, 0, 0, 0, 0, 0, 0, 0, 0, 1, 0, 0, 0, 0, 0, 0, 0, 0, 0, 0, 0, 0, 0, 0, 0, 0, 0, 0, 0, 0, 0, 0, 0, 0, 0, 0, 0, 0, 0, 0, 0, 0, 0, 0, 0, 0, 0, 0, 0, 0, 0, 0, 0, 0, 0, 0, 0, 0, 0, 0, 0, 0, 0, 0, 0, 0, 0, 0, 0, 0, 0, 0, 0, 0, 0, 0, 0, 0, 0, 0, 0, 0, 0, 0, 1, 0, 0, 0, 0, 0, 0, 0, 0, 0, 0, 0, 0, 0, 0, 0, 0, 0, 0, 0, 0, 1, 0, 0, 1, 0, 0, 0, 0, 0, 0, 0, 0, 0, 0, 0, 0, 0, 0, 0, 0, 0, 0, 0, 0, 0, 0, 0, 0, 0, 0, 0, 0, 0, 0, 0, 0, 0, 0, 0, 0, 0, 0, 0, 0, 0, 0, 0, 0, 0, 0, 0, 0, 0, 0, 0, 0, 0, 0, 0, 0, 0, 0, 0, 0, 0, 0, 0, 0, 0, 0, 0, 0, 0, 0, 0, 0, 0, 0, 0, 0, 0, 0, 0, 0, 0, 0, 0, 0, 0, 0, 0, 0, 0, 0, 0, 0, 0, 0, 0, 0, 0, 0, 0, 0, 0, 0, 0, 0, 0, 0, 0, 0, 0, 0, 0, 0, 0, 0, 0, 0, 0, 0, 0, 0, 0, 0, 0, 0, 0, 0, 0, 0, 0, 0, 0, 0, 0, 0, 0, 0, 0, 0, 0, 0, 0, 0, 0, 0, 0, 0, 0, 0, 0, 0, 0, 0, 0, 0, 0, 0, 0, 0, 0, 0, 0, 0, 0, 0, 0, 0, 0, 0, 0, 0, 0, 0, 0, 0, 0, 0, 0, 0, 0, 0, 0, 0, 0, 0, 0, 0, 0, 0, 0, 0, 0, 0, 0, 0, 0, 0, 0, 0, 0, 0, 0, 0, 0, 0, 0, 0, 0, 0, 0, 0, 0, 0, 0, 0, 0, 0, 0, 0, 0, 0, 0, 0, 0, 0, 0, 0, 0, 0, 0, 0, 0, 0, 0, 0, 0, 0, 0, 0, 0, 0, 0, 0, 0, 0, 0, 0, 0, 0, 0, 0, 0, 0, 0, 0, 0, 0, 0, 0, 0, 0, 0, 0, 0, 0, 0, 0, 0, 0, 0, 0, 0, 0, 0, 0, 0, 0, 0, 0, 0, 0, 0, 0, 0, 0, 0, 0, 0, 0, 0, 0, 0, 0, 0, 0, 0, 0, 0, 0, 0, 0, 0, 0, 0, 0, 0, 0, 0, 0, 0, 0, 0, 0, 0, 0, 0, 0, 0, 0, 0, 0, 0, 0, 0, 0, 0, 0, 0, 0, 0, 0, 0, 0, 0, 0, 0, 0, 0, 0, 0, 0, 0, 0, 0, 0, 0, 0, 0, 0, 0, 0, 0, 0, 0, 0, 0, 0, 0, 0, 0, 0, 0, 0, 0, 0, 0, 0, 0, 0, 0, 0, 0, 0, 0, 0, 0, 0, 0, 0, 0, 0, 0, 0, 0, 0, 0, 0, 0, 0, 0, 0, 0, 0, 0, 0, 0, 0, 0, 0, 0, 0, 0, 0, 0, 0, 0, 0, 0, 0, 0, 0, 0, 0, 0, 0, 0, 0, 0, 0, 0, 0, 0, 0, 0, 0, 0, 0, 0, 0, 0, 0, 0, 0, 0, 0, 0, 0, 0, 0, 0, 0, 0, 0, 0, 0, 0, 0, 0, 0, 0, 0, 0, 0, 0, 0, 0, 0, 0, 0, 0, 0, 0, 0, 0, 0, 0, 0, 1, 0, 0, 0, 0, 0, 0, 0, 0, 0, 0, 0, 0, 0, 0, 0, 0, 0, 0, 0, 0, 0, 0, 0, 0, 0, 0, 0, 0, 0, 0, 0, 0, 0, 0, 0, 0, 0, 0, 0, 0, 0, 0, 0, 0, 0, 0, 0, 0, 0, 0, 0, 0, 0, 0, 0, 0, 0, 0, 0, 0, 0, 0, 0, 0, 0, 0, 0, 0, 0, 0, 0, 0, 0, 0, 0, 0, 0, 0, 0, 0, 0, 0, 0, 0, 0, 0, 0, 0, 0, 0, 0, 0, 0, 0, 0, 0, 0, 0, 0, 0, 0, 0, 0, 0, 0, 0, 0, 0, 0, 0, 0, 0, 0, 0, 0, 0, 0, 0, 0, 0, 0, 0, 0, 0, 0, 0, 0, 0, 0, 0, 0, 0, 0, 0, 0, 0, 0, 0, 0, 0, 0, 0, 0, 0, 0, 0, 0, 0, 0, 0, 0, 0, 0, 0, 0, 0, 0, 0, 0, 0, 0, 0, 0, 0, 0, 0, 0, 0, 0, 0, 0, 0, 0, 0, 0, 0, 0, 0, 0, 0, 0, 0, 0, 0, 0, 0, 0, 0, 0, 0, 0, 0, 0, 0, 0, 0, 0, 0, 0, 0, 0, 0, 0, 0, 0, 0, 0, 0, 0, 0, 0, 0, 0, 0, 0, 0, 0, 0, 0, 0, 0, 0, 0, 0, 0, 0, 0, 0, 0, 0, 0, 0, 0, 0, 0, 0, 0, 0, 0, 0, 0, 0, 0, 0, 0, 0, 0, 0, 0, 0, 0, 0, 0, 0, 0, 0, 0, 0, 0, 0, 0, 0, 0, 0, 0, 0, 0, 0, 0, 0, 0, 0, 0, 0, 0, 0, 0, 0, 0, 0, 0, 0, 0, 0, 0, 0, 0, 0, 0, 0, 0, 0, 0, 0, 0, 0, 0, 0, 0, 0, 0, 0, 0, 0, 0, 0, 0, 0, 0, 0, 0, 0, 0, 0, 0, 0, 0, 0, 0, 0, 0, 0, 0, 0, 0, 0, 0, 0, 0, 0, 0, 0, 0, 0, 0, 0, 0, 0, 0, 0, 0, 0, 0, 0, 0, 0, 0, 0, 0, 0, 0, 0, 0, 0, 0, 0, 0, 0, 0, 0, 0, 0, 0, 0, 0, 0, 0, 0, 0, 0, 0, 0, 0, 0, 0, 0, 0, 0, 0, 0, 0, 0, 0, 0, 0, 0, 0, 0, 0, 0, 0, 0, 0, 0, 0, 0, 0, 0, 0, 0, 0, 0, 0, 0, 0, 0, 0, 0, 0, 0, 0, 0, 0, 0, 0, 0, 0, 0, 0, 0, 0, 0, 0, 0, 0, 0, 0, 0, 0, 0, 0, 0, 0, 0, 0, 0, 0, 0, 0, 0, 0, 0, 0, 0, 0, 0, 0, 0, 0, 0, 0, 0, 0, 0, 0, 0, 0, 0, 0, 0, 0, 0, 0, 0, 0, 0, 0, 0, 0, 0, 0, 0, 0, 0, 0, 0, 0, 0, 0, 0, 0, 0, 0, 0, 0, 0, 0, 0, 0, 0, 0, 0, 0, 0, 0, 0, 0, 0, 0, 0, 0, 0, 0, 0, 0, 0, 0, 0, 0, 0, 0, 0, 1, 0, 0, 0, 0, 0, 0, 0, 0, 0, 0, 0, 0, 0, 0, 0, 0, 0, 0, 0, 0, 0, 0, 0, 0, 0, 0, 0, 0, 0, 0, 0, 0, 0, 0, 0, 2, 0, 0, 0, 0, 0, 0, 0, 0, 0, 0, 0, 0, 0, 0, 0, 0, 0, 0, 0, 0, 0, 0, 0, 0, 0, 0, 0, 0, 0, 0, 0, 0, 0, 0, 0, 0, 0, 0, 0, 0, 1, 0, 0, 0, 0, 0, 0, 0, 0, 0, 0, 0, 0, 0, 0, 0, 0, 0, 0, 0, 0, 0, 0, 0, 0, 0, 0, 0, 0, 0, 0, 0, 0, 0, 0, 0, 0, 0, 0, 0, 0, 0, 0, 0, 0, 0, 0, 0, 0, 0, 0, 0, 0, 0, 0, 0, 0, 0, 0, 0, 0, 0, 0, 0, 0, 0, 0, 0, 0, 0, 0, 0, 0, 0, 0, 0, 0, 0, 0, 0, 0, 0, 0, 0, 0, 0, 0, 0, 0, 0, 0, 0, 0, 0, 0, 0, 0, 0, 0, 0, 0, 0, 0, 0, 0, 0, 0, 0, 0, 0, 0, 0, 0, 0, 0, 0, 0, 0, 0, 0, 0, 0, 0, 0, 0, 0, 0, 0, 0, 0, 0, 0, 0, 0, 0, 0, 0, 0, 0, 0, 0, 0, 0, 0, 0, 0, 0, 0, 0, 0, 0, 0, 0, 0, 0, 0, 0, 0, 0, 0, 0, 0, 0, 0, 0, 0, 0, 0, 0, 0, 0, 0, 0, 0, 0, 0, 0, 0, 0, 0, 0, 0, 0, 0, 0, 0, 0, 0, 0, 0, 0, 0, 0, 0, 0, 0, 0, 0, 0, 0, 0, 0, 0, 0, 0, 0, 0, 0, 0, 0, 0, 0, 0, 0, 0, 0, 0, 0, 0, 0, 0, 0, 0, 0, 0, 0, 0, 0, 0, 0, 0, 0, 0, 0, 0, 0, 0, 0, 0, 0, 0, 0, 0, 0, 0, 0, 0, 0, 0, 0, 0, 0, 0, 0, 0, 0, 0, 0, 0, 0, 0, 0, 0, 0, 0, 0, 0, 0, 0, 0, 0, 0, 0, 0, 0, 0, 0, 0, 0, 0, 0, 0, 0, 0, 0, 0, 0, 0, 0, 0, 0, 0, 0, 0, 0, 0, 0, 0, 0, 0, 0, 0, 0, 0, 0, 0, 0, 0, 0, 0, 0, 0, 0, 0, 0, 0, 0, 0, 0, 0, 0, 0, 0, 0, 0, 0, 0, 0, 0, 0, 0, 0, 0, 0, 0, 0, 0, 0, 0, 0, 0, 0, 0, 0, 0, 0, 0, 0, 0, 0, 0, 0, 0, 0, 0, 0, 0, 0, 0, 0, 0, 0, 0, 0, 0, 0, 0, 0, 0, 0, 0, 0, 0, 0, 0, 0, 0, 0, 0, 0, 0, 0, 0, 0, 0, 0, 0, 0, 0, 0, 0, 0, 0, 0, 0, 0, 0, 0, 0, 0, 0, 0, 0, 0, 0, 0, 0, 0, 0, 0, 0, 0, 0, 0, 0, 0, 0, 0, 0, 0, 0, 0, 0, 0, 0, 0, 0, 0, 0, 0, 0, 0, 0, 0, 0, 0, 0, 0, 0, 0, 0, 0, 0, 0, 0, 0, 0, 0, 0, 0, 0, 0, 0, 0, 0, 0, 0, 0, 0, 0, 0, 0, 0, 0, 0, 0, 0, 0, 0, 0, 0, 0, 0, 0, 0, 0, 0, 0, 0, 0, 0, 0, 0, 0, 0, 0, 0, 0, 0, 0, 0, 0, 0, 0, 0, 0, 0, 0, 1, 0, 0, 0, 0, 0, 0, 0, 0, 0, 0, 0, 0, 0, 0, 0, 0, 0, 0, 0, 0, 0, 0, 0, 0, 0, 0, 0, 0, 0, 0, 0, 0, 0, 0, 0, 0, 0, 0, 0, 0, 0, 0, 0, 0, 0, 0, 0, 0, 0, 0, 0, 0, 0, 0, 0, 0, 0, 0, 0, 0, 0, 0, 0, 0, 0, 0, 0, 0, 0, 0, 0, 0, 0, 0, 0, 0, 0, 0, 0, 0, 0, 0, 0, 0, 0, 0, 0, 0, 0, 0, 0, 0, 0, 0, 0, 0, 0, 0, 0, 0, 0, 0, 0, 0, 0, 0, 0, 0, 0, 0, 2, 0, 0, 0, 0, 0, 0, 0, 0, 0, 0, 0, 0, 0, 0, 0, 0, 0, 0, 0, 0, 0, 0, 0, 0, 0, 0, 0, 0, 0, 0, 0, 0, 0, 0, 0, 0, 0, 0, 0, 0, 0, 0, 0, 0, 0, 0, 0, 0, 0, 0, 0, 0, 0, 0, 0, 0, 0, 0, 0, 0, 0, 0, 0, 0, 0, 0, 0, 0, 0, 0, 0, 0, 0, 0, 0, 0, 0, 0, 0, 0, 0, 0, 0, 0, 0, 0, 0, 0, 0, 0, 0, 0, 0, 0, 0, 0, 0, 0, 0, 0, 0, 0, 0, 0, 0, 0, 0, 0, 0, 0, 0, 0, 0, 0, 0, 0, 0, 0, 0, 0, 0, 0, 0, 0, 0, 0, 0, 0, 0, 0, 0, 0, 0, 0, 0, 0, 0, 0, 0, 0, 0, 0, 0, 0, 0, 0, 0, 0, 0, 0, 0, 0, 0, 0, 0, 0, 0, 0, 0, 0, 0, 0, 0, 0, 0, 0, 0, 0, 0, 0, 0, 0, 0, 0, 0, 0, 0, 0, 0, 0, 0, 0, 0, 0, 0, 0, 0, 0, 0, 0, 0, 0, 0, 0, 0, 0, 0, 0, 0, 0, 0, 0, 0, 0, 0, 0, 0, 0, 0, 0, 0, 0, 0, 0, 0, 0, 0, 0, 0, 0, 0, 0, 0, 0, 0, 0, 0, 0, 0, 0, 0, 0, 0, 0, 0, 0, 0, 0, 0, 0, 0, 0, 0, 0, 0, 0, 0, 0, 0, 0, 0, 0, 0, 0, 0, 0, 0, 0, 0, 0, 0, 0, 0, 0, 0, 0, 0, 0, 0, 0, 0, 0, 0, 0, 0, 0, 0, 0, 0, 0, 0, 0, 0, 0, 0, 0, 0, 0, 0, 0, 0, 0, 0, 0, 0, 0, 0, 0, 0, 0, 0, 0, 0, 0, 0, 0, 0, 0, 0, 0, 0, 0, 0, 0, 0, 0, 0, 0, 0, 0, 0, 0, 0, 0, 0, 0, 0, 0, 0, 0, 0, 0, 0, 0, 0, 0, 0, 0, 0, 0, 0, 0, 0, 0, 0, 0, 0, 0, 0, 0, 0, 0, 0, 0, 0, 0, 0, 0, 0, 0, 0, 0, 0, 0, 0, 0, 0, 0, 0, 0, 0, 0, 0, 0, 0, 0, 0, 0, 0, 0, 0, 0, 0, 0, 0, 0, 0, 0, 0, 0, 0, 0, 0, 0, 0, 0, 0, 0, 0, 0, 0, 0, 0, 0, 0, 0, 0, 0, 0, 0, 0, 0, 0, 0, 0, 0, 0, 0, 0, 0, 0, 0, 0, 0, 0, 0, 0, 0, 0, 0, 0, 0, 0, 0, 0, 0, 0, 0, 0, 0, 0, 0, 0, 0, 0, 0, 0, 0, 0, 0, 0, 0, 0, 0, 0, 0, 0, 0, 0, 0, 0, 0, 0, 0, 0, 0, 0, 0, 0, 0, 0, 0, 0, 0, 0, 0, 0, 0, 0, 0, 0, 0, 0, 0, 0, 0, 0, 0, 0, 0, 0, 0, 0, 0, 0, 0, 0, 0, 0, 0, 0, 0, 0, 0, 0, 0, 0, 0, 0, 0, 0, 0, 0, 0, 0, 0, 0, 0, 0, 0, 0, 0, 0, 0, 0, 0, 0, 0, 0, 0, 0, 0, 0, 0, 0, 0, 0, 0, 0, 0, 0, 0, 0, 0, 0, 0, 0, 0, 0, 0, 0, 0, 0, 0, 0, 0, 0, 0, 0, 0, 0, 0, 0, 0, 0, 0, 0, 0, 0, 0, 0, 0, 0, 0, 0, 0, 0, 0, 0, 0, 0, 0, 0, 0, 0, 0, 0, 0, 0, 0, 0, 0, 0, 0, 0, 0, 0, 0, 0, 0, 0, 0, 0, 0, 0, 0, 0, 0, 0, 0, 0, 0, 0, 0, 0, 0, 0, 0, 0, 0, 0, 0, 0, 0, 0, 0, 0, 0, 0, 0, 0, 0, 0, 0, 0, 0, 0, 0, 0, 0, 0, 0, 0, 0, 0, 0, 0, 0, 0, 0, 0, 0, 0, 0, 0, 0, 0, 0, 0, 0, 0, 0, 0, 0, 0, 0, 0, 0, 0, 0, 0, 0, 0, 0, 0, 0, 0, 0, 0, 0, 0, 0, 0, 0, 0, 0, 0, 0, 0, 0, 1, 0, 0, 0, 0, 0, 0, 0, 0, 0, 0, 0, 0, 0, 0, 0, 0, 0, 0, 0, 0, 0, 0, 0, 0, 0, 0, 0, 0, 0, 0, 0, 0, 0, 0, 0, 0, 0, 0, 0, 0, 0, 0, 0, 0, 0, 0, 0, 0, 0, 0, 0, 0, 0, 0, 0, 0, 0, 0, 0, 0, 0, 0, 0, 0, 0, 0, 0, 0, 0, 0, 0, 0, 0, 0, 0, 0, 0, 0, 0, 0, 0, 0, 0, 0, 0, 0, 0, 0, 0, 0, 0, 0, 0, 0, 0, 0, 0, 0, 0, 0, 0, 0, 0, 0, 0, 0, 0, 1, 0, 0, 0, 0, 0, 0, 0, 0, 0, 0, 0, 0, 0, 0, 0, 0, 0, 0, 0, 0, 0, 0, 0, 0, 0, 0, 0, 0, 0, 0, 0, 0, 0, 0, 0, 0, 0, 0, 0, 0, 0, 0, 0, 0, 0, 0, 0, 0, 0, 0, 0, 0, 0, 0, 0, 0, 0, 0, 0, 0, 0, 0, 0, 0, 0, 0, 0, 0, 0, 0, 0, 0, 0, 0, 0, 0, 0, 0, 0, 0, 0, 0, 0, 0, 0, 0, 0, 0, 0, 0, 0, 0, 0, 0, 0, 0, 0, 0, 0, 0, 0, 0, 0, 0, 0, 0, 0, 0, 0, 0, 0, 0, 0, 0, 0, 0, 0, 0, 0, 0, 0, 0, 0, 0, 0, 0, 0, 0, 0, 0, 0, 0, 0, 0, 0, 0, 0, 0, 0, 0, 0, 0, 0, 0, 0, 0, 0, 0, 0, 0, 0, 0, 0, 0, 0, 0, 0, 0, 0, 0, 0, 0, 0, 0, 0, 0, 0, 0, 0, 0, 0, 0, 0, 0, 0, 0, 0, 0, 0, 0, 0, 0, 0, 0, 0, 0, 0, 0, 0, 0, 0, 0, 0, 0, 0, 0, 0, 0, 0, 0, 0, 0, 0, 0, 0, 0, 0, 0, 0, 0, 0, 0, 0, 0, 0, 0, 0, 0, 0, 0, 0, 0, 0, 0, 0, 0, 0, 0, 0, 0, 0, 0, 0, 0, 0, 0, 0, 0, 0, 0, 0, 0, 0, 0, 0, 0, 0, 0, 0, 0, 0, 0, 0, 0, 0, 0, 0, 0, 0, 0, 0, 0, 0, 0, 0, 0, 0, 0, 0, 0, 0, 0, 0, 0, 0, 0, 0, 0, 0, 0, 0, 0, 0, 0, 0, 0, 0, 0, 0, 0, 0, 0, 0, 0, 0, 0, 0, 0, 0, 0, 0, 0, 0, 0, 0, 0, 0, 0, 0, 0, 0, 0, 0, 0, 0, 0, 0, 0, 0, 0, 0, 0, 0, 0, 0, 0, 0, 0, 0, 0, 0, 0, 0, 0, 0, 0, 0, 0, 0, 0, 0, 0, 0, 0, 0, 0, 0, 0, 0, 0, 0, 0, 0, 0, 0, 0, 0, 0, 0, 0, 0, 0, 0, 0, 0, 0, 0, 0, 0, 0, 0, 0, 0, 0, 0, 0, 0, 0, 0, 0, 0, 0, 0, 0, 0, 0, 0, 0, 0, 0, 0, 0, 0, 0, 0, 0, 0, 0, 0, 0, 0, 0, 0, 0, 0, 0, 0, 0, 0, 0, 0, 0, 0, 0, 0, 0, 0, 0, 0, 0, 0, 0, 0, 0, 0, 0, 0, 0, 0, 0, 0, 0, 0, 0, 0, 0, 0, 0, 0, 0, 0, 0, 0, 0, 0, 0, 0, 0, 0, 0, 0, 0, 0, 0, 0, 0, 0, 0, 0, 0, 0, 0, 0, 2, 0, 1, 0]\n"
     ]
    }
   ],
   "source": [
    "test_bow = bow_encoding(test_words, vocabulary)\n",
    "print(test_bow)"
   ]
  },
  {
   "cell_type": "code",
   "execution_count": 41,
   "metadata": {},
   "outputs": [
    {
     "data": {
      "text/plain": [
       "5000"
      ]
     },
     "execution_count": 41,
     "metadata": {},
     "output_type": "execute_result"
    }
   ],
   "source": [
    "len(test_bow)"
   ]
  },
  {
   "cell_type": "markdown",
   "metadata": {},
   "source": [
    "So now we know how to construct a bag of words encoding of a user provided review, how to we send it to our endpoint? First, we need to start the endpoint back up."
   ]
  },
  {
   "cell_type": "code",
   "execution_count": 43,
   "metadata": {},
   "outputs": [
    {
     "name": "stderr",
     "output_type": "stream",
     "text": [
      "Parameter image will be renamed to image_uri in SageMaker Python SDK v2.\n",
      "Using already existing model: xgboost-2022-06-06-11-19-16-628\n"
     ]
    },
    {
     "name": "stdout",
     "output_type": "stream",
     "text": [
      "------!"
     ]
    }
   ],
   "source": [
    "xgb_predictor = xgb.deploy(initial_instance_count = 1, instance_type = 'ml.m4.xlarge')"
   ]
  },
  {
   "cell_type": "markdown",
   "metadata": {},
   "source": [
    "At this point we could just do the same thing that we did earlier when we tested our deployed model and send `test_bow` to our endpoint using the `xgb_predictor` object. However, when we eventually construct our Lambda function we won't have access to this object, so how do we call a SageMaker endpoint?\n",
    "\n",
    "It turns out that Python functions that are used in Lambda have access to another Amazon library called `boto3`. This library provides an API for working with Amazon services, including SageMaker. To start with, we need to get a handle to the SageMaker runtime."
   ]
  },
  {
   "cell_type": "code",
   "execution_count": 44,
   "metadata": {},
   "outputs": [],
   "source": [
    "import boto3\n",
    "\n",
    "runtime = boto3.Session().client('sagemaker-runtime')"
   ]
  },
  {
   "cell_type": "markdown",
   "metadata": {},
   "source": [
    "And now that we have access to the SageMaker runtime, we can ask it to make use of (invoke) an endpoint that has already been created. However, we need to provide SageMaker with the name of the deployed endpoint. To find this out we can print it out using the `xgb_predictor` object."
   ]
  },
  {
   "cell_type": "code",
   "execution_count": 45,
   "metadata": {},
   "outputs": [
    {
     "data": {
      "text/plain": [
       "'xgboost-2022-06-06-11-19-16-628'"
      ]
     },
     "execution_count": 45,
     "metadata": {},
     "output_type": "execute_result"
    }
   ],
   "source": [
    "xgb_predictor.endpoint"
   ]
  },
  {
   "cell_type": "markdown",
   "metadata": {},
   "source": [
    "Using the SageMaker runtime and the name of our endpoint, we can invoke the endpoint and send it the `test_bow` data."
   ]
  },
  {
   "cell_type": "code",
   "execution_count": 46,
   "metadata": {},
   "outputs": [],
   "source": [
    "response = runtime.invoke_endpoint(EndpointName = xgb_predictor.endpoint, # The name of the endpoint we created\n",
    "                                       ContentType = 'text/csv',                     # The data format that is expected\n",
    "                                       Body = ','.join([str(val) for val in test_bow]).encode('utf-8'))"
   ]
  },
  {
   "cell_type": "code",
   "execution_count": 47,
   "metadata": {},
   "outputs": [
    {
     "name": "stdout",
     "output_type": "stream",
     "text": [
      "{'ResponseMetadata': {'RequestId': '0c6d2619-2d6b-44c8-a96d-ebb098c09d2d', 'HTTPStatusCode': 200, 'HTTPHeaders': {'x-amzn-requestid': '0c6d2619-2d6b-44c8-a96d-ebb098c09d2d', 'x-amzn-invoked-production-variant': 'AllTraffic', 'date': 'Mon, 06 Jun 2022 11:49:07 GMT', 'content-type': 'text/csv; charset=utf-8', 'content-length': '19'}, 'RetryAttempts': 0}, 'ContentType': 'text/csv; charset=utf-8', 'InvokedProductionVariant': 'AllTraffic', 'Body': <botocore.response.StreamingBody object at 0x7f9d8c549080>}\n"
     ]
    }
   ],
   "source": [
    "print(response)"
   ]
  },
  {
   "cell_type": "markdown",
   "metadata": {},
   "source": [
    "As we can see, the response from our model is a somewhat complicated looking dict that contains a bunch of information. The bit that we are most interested in is `'Body'` object which is a streaming object that we need to `read` in order to make use of."
   ]
  },
  {
   "cell_type": "code",
   "execution_count": 48,
   "metadata": {},
   "outputs": [
    {
     "name": "stdout",
     "output_type": "stream",
     "text": [
      "0.47761476039886475\n"
     ]
    }
   ],
   "source": [
    "response = response['Body'].read().decode('utf-8')\n",
    "print(response)"
   ]
  },
  {
   "cell_type": "markdown",
   "metadata": {},
   "source": [
    "Now that we know how to process the incoming user data we can start setting up the infrastructure to make our simple web app work. To do this we will make use of two different services. Amazon's Lambda and API Gateway services.\n",
    "\n",
    "Lambda is a service which allows someone to write some relatively simple code and have it executed whenever a chosen trigger occurs. For example, you may want to update a database whenever new data is uploaded to a folder stored on S3.\n",
    "\n",
    "API Gateway is a service that allows you to create HTTP endpoints (url addresses) which are connected to other AWS services. One of the benefits to this is that you get to decide what credentials, if any, are required to access these endpoints.\n",
    "\n",
    "In our case we are going to set up an HTTP endpoint through API Gateway which is open to the public. Then, whenever anyone sends data to our public endpoint we will trigger a Lambda function which will send the input (in our case a review) to our model's endpoint and then return the result."
   ]
  },
  {
   "cell_type": "markdown",
   "metadata": {},
   "source": [
    "### Setting up a Lambda function\n",
    "\n",
    "The first thing we are going to do is set up a Lambda function. This Lambda function will be executed whenever our public API has data sent to it. When it is executed it will receive the data, perform any sort of processing that is required, send the data (the review) to the SageMaker endpoint we've created and then return the result.\n",
    "\n",
    "#### Part A: Create an IAM Role for the Lambda function\n",
    "\n",
    "Since we want the Lambda function to call a SageMaker endpoint, we need to make sure that it has permission to do so. To do this, we will construct a role that we can later give the Lambda function.\n",
    "\n",
    "Using the AWS Console, navigate to the **IAM** page and click on **Roles**. Then, click on **Create role**. Make sure that the **AWS service** is the type of trusted entity selected and choose **Lambda** as the service that will use this role, then click **Next: Permissions**.\n",
    "\n",
    "In the search box type `sagemaker` and select the check box next to the **AmazonSageMakerFullAccess** policy. Then, click on **Next: Review**.\n",
    "\n",
    "Lastly, give this role a name. Make sure you use a name that you will remember later on, for example `LambdaSageMakerRole`. Then, click on **Create role**."
   ]
  },
  {
   "cell_type": "markdown",
   "metadata": {},
   "source": [
    "#### Part B: Create a Lambda function\n",
    "\n",
    "Now it is time to actually create the Lambda function. Remember from earlier that in order to process the user provided input and send it to our endpoint we need to gather two pieces of information:\n",
    "\n",
    " - The name of the endpoint, and\n",
    " - the vocabulary object.\n",
    "\n",
    "We will copy these pieces of information to our Lambda function after we create it.\n",
    "\n",
    "To start, using the AWS Console, navigate to the AWS Lambda page and click on **Create a function**. When you get to the next page, make sure that **Author from scratch** is selected. Now, name your Lambda function, using a name that you will remember later on, for example `sentiment_analysis_xgboost_func`. Make sure that the **Python 3.6** runtime is selected and then choose the role that you created in the previous part. Then, click on **Create Function**.\n",
    "\n",
    "On the next page you will see some information about the Lambda function you've just created. If you scroll down you should see an editor in which you can write the code that will be executed when your Lambda function is triggered. Collecting the code we wrote above to process a single review and adding it to the provided example `lambda_handler` we arrive at the following.\n",
    "\n",
    "```python\n",
    "# We need to use the low-level library to interact with SageMaker since the SageMaker API\n",
    "# is not available natively through Lambda.\n",
    "import boto3\n",
    "\n",
    "# And we need the regular expression library to do some of the data processing\n",
    "import re\n",
    "\n",
    "REPLACE_NO_SPACE = re.compile(\"(\\.)|(\\;)|(\\:)|(\\!)|(\\')|(\\?)|(\\,)|(\\\")|(\\()|(\\))|(\\[)|(\\])\")\n",
    "REPLACE_WITH_SPACE = re.compile(\"(<br\\s*/><br\\s*/>)|(\\-)|(\\/)\")\n",
    "\n",
    "def review_to_words(review):\n",
    "    words = REPLACE_NO_SPACE.sub(\"\", review.lower())\n",
    "    words = REPLACE_WITH_SPACE.sub(\" \", words)\n",
    "    return words\n",
    "    \n",
    "def bow_encoding(words, vocabulary):\n",
    "    bow = [0] * len(vocabulary) # Start by setting the count for each word in the vocabulary to zero.\n",
    "    for word in words.split():  # For each word in the string\n",
    "        if word in vocabulary:  # If the word is one that occurs in the vocabulary, increase its count.\n",
    "            bow[vocabulary[word]] += 1\n",
    "    return bow\n",
    "\n",
    "\n",
    "def lambda_handler(event, context):\n",
    "    \n",
    "    vocab = \"*** ACTUAL VOCABULARY GOES HERE ***\"\n",
    "    \n",
    "    words = review_to_words(event['body'])\n",
    "    bow = bow_encoding(words, vocab)\n",
    "\n",
    "    # The SageMaker runtime is what allows us to invoke the endpoint that we've created.\n",
    "    runtime = boto3.Session().client('sagemaker-runtime')\n",
    "\n",
    "    # Now we use the SageMaker runtime to invoke our endpoint, sending the review we were given\n",
    "    response = runtime.invoke_endpoint(EndpointName = '***ENDPOINT NAME HERE***',# The name of the endpoint we created\n",
    "                                       ContentType = 'text/csv',                 # The data format that is expected\n",
    "                                       Body = ','.join([str(val) for val in bow]).encode('utf-8')) # The actual review\n",
    "\n",
    "    # The response is an HTTP response whose body contains the result of our inference\n",
    "    result = response['Body'].read().decode('utf-8')\n",
    "    \n",
    "    # Round the result so that our web app only gets '1' or '0' as a response.\n",
    "    result = round(float(result))\n",
    "\n",
    "    return {\n",
    "        'statusCode' : 200,\n",
    "        'headers' : { 'Content-Type' : 'text/plain', 'Access-Control-Allow-Origin' : '*' },\n",
    "        'body' : str(result)\n",
    "    }\n",
    "```"
   ]
  },
  {
   "cell_type": "markdown",
   "metadata": {},
   "source": [
    "Once you have copy and pasted the code above into the Lambda code editor, replace the `**ENDPOINT NAME HERE**` portion with the name of the endpoint that we deployed earlier. You can determine the name of the endpoint using the code cell below."
   ]
  },
  {
   "cell_type": "code",
   "execution_count": 49,
   "metadata": {},
   "outputs": [
    {
     "data": {
      "text/plain": [
       "'xgboost-2022-06-06-11-19-16-628'"
      ]
     },
     "execution_count": 49,
     "metadata": {},
     "output_type": "execute_result"
    }
   ],
   "source": [
    "xgb_predictor.endpoint"
   ]
  },
  {
   "cell_type": "markdown",
   "metadata": {},
   "source": [
    "In addition, you will need to copy the vocabulary dict to the appropriate place in the code at the beginning of the `lambda_handler` method. The cell below prints out the vocabulary dict in a way that is easy to copy and paste."
   ]
  },
  {
   "cell_type": "code",
   "execution_count": 50,
   "metadata": {},
   "outputs": [
    {
     "name": "stdout",
     "output_type": "stream",
     "text": [
      "{'finished': 1733, 'seeing': 3857, 'the': 4426, 'movie': 2926, '10': 0, 'minutes': 2859, 'still': 4188, 'cant': 671, 'believe': 454, 'what': 4858, 'ive': 2372, 'watched': 4813, 'this': 4457, 'is': 2360, 'absolutely': 72, 'worst': 4952, 'ever': 1538, 'if': 2222, 'would': 4957, 'list': 2617, 'all': 187, 'flaws': 1752, 'in': 2257, 'review': 3676, 'take': 4349, 'me': 2778, 'lot': 2661, 'of': 3083, 'very': 4723, 'funny': 1852, 'because': 432, 'being': 448, 'that': 4424, 'bad': 382, 'though': 4461, 'you': 4986, 'got': 1944, 'to': 4507, 'be': 418, 'amazed': 208, 'with': 4911, 'skill': 4013, 'assigned': 325, 'rescue': 3643, 'plane': 3288, 'they': 4442, 'didnt': 1242, 'even': 1533, 'know': 2489, 'how': 2181, 'move': 2921, 'ice': 2210, 'so': 4046, 'actor': 103, 'and': 226, 'thing': 4450, 'dont': 1324, 'understand': 4643, 'production': 3419, 'wanted': 4789, 'him': 2110, 'like': 2599, 'hero': 2088, 'but': 636, 'hes': 2093, 'zero': 4996, 'course': 1019, 'major': 2711, 'will': 4886, 'landing': 2512, 'an': 223, 'only': 3110, 'or': 3124, 'from': 1840, 'guy': 2000, 'land': 2511, 'as': 311, 'well': 4843, 'dead': 1132, 'had': 2003, 'almost': 193, 'no': 3020, 'blood': 512, 'at': 331, 'strongly': 4231, 'recommend': 3571, 'watching': 4815, 'its': 2370, 'interesting': 2325, 'see': 3855, 'can': 665, 'something': 4066, 'get': 1899, 'have': 2052, 'yesterday': 4983, 'seen': 3865, 'second': 3846, 'part': 3193, 'must': 2950, 'say': 3799, 'it': 2366, 'was': 4805, 'actually': 109, 'better': 472, 'then': 4436, 'first': 1736, 'one': 3107, 'begin': 442, 'realized': 3553, 'sequel': 3885, 'not': 3040, 'remake': 3612, 'good': 1937, 'do': 1302, 'old': 3100, 'movies': 2927, 'series': 3890, 'saw': 3798, 'just': 2437, 'mentioned': 2811, 'new': 3003, 'were': 4848, 'completely': 922, 'for': 1784, 'turns': 4609, 'sides': 3967, 'humans': 2190, 'whole': 4873, 'stupid': 4247, 'many': 2732, 'scenes': 3811, 'unnecessary': 4672, 'instance': 2304, 'story': 4207, 'computer': 927, 'expert': 1585, 'crap': 1031, 'leave': 2555, 'die': 1243, 'his': 2118, 'house': 2178, 'killed': 2469, 'by': 642, 'woman': 4921, 'planet': 3289, 'oh': 3096, 'please': 3304, '50': 51, 'why': 4878, 'exactly': 1551, 'possible': 3350, 'big': 478, 'hidden': 2096, 'before': 440, 'attack': 337, 'possibly': 3351, 'virus': 4752, 'created': 1037, 'script': 3834, 'probably': 3407, 'written': 4972, 'ten': 4399, 'years': 4979, 'school': 3813, 'boy': 557, 'side': 3965, 'are': 285, 'last': 2521, 'really': 3556, 'population': 3335, 'near': 2979, 'children': 792, 'two': 4620, 'times': 4497, 'explicit': 1591, 'baby': 376, 'maybe': 2776, 'month': 2896, 'girl': 1909, 'age': 148, 'max': 2774, 'violence': 4747, 'won': 4925, 'think': 4452, 'time': 4495, 'such': 4268, 'sci': 3815, 'fi': 1701, 'fight': 1707, 'also': 199, 'appreciate': 279, 'design': 1202, 'job': 2405, 'these': 4441, 'ships': 3935, 'both': 547, 'them': 4432, 'human': 2188, 'never': 3001, 'version': 4720, 'ones': 3108, 'pretty': 3384, 'liked': 2600, 'enough': 1491, 'acting': 99, 'plot': 3309, 'things': 4451, 'on': 3105, 'dialogs': 1233, 'fault': 1668, 'looked': 2647, 'pilot': 3276, 'film': 1716, 'who': 4871, 'shoot': 3942, 'about': 67, 'star': 4150, 'humanity': 2189, 'director': 1264, 'writer': 4968, 'michael': 2829, 'feature': 1678, 'than': 4420, 'expected': 1577, 'supernatural': 4302, 'horror': 2168, 'although': 201, 'which': 4867, 'does': 1308, 'go': 1924, 'sure': 4308, 'might': 2835, 'ideas': 2215, 'other': 3135, 'similar': 3978, 'period': 3236, 'manages': 2725, 'bring': 585, 'own': 3158, 'psychological': 3458, 'material': 2766, 'vs': 4767, 'evil': 1548, 'unique': 4662, 'vision': 4754, 'has': 2043, 'fair': 1630, 'share': 3920, 'somewhat': 4068, 'set': 3898, 'pieces': 3273, 'however': 2183, 'remains': 3611, 'intriguing': 2335, 'charge': 761, 'without': 4913, 'going': 1931, 'gang': 1867, 'scares': 3806, 'theres': 4440, 'always': 203, 'amongst': 218, 'busy': 635, 'rather': 3528, 'down': 1335, 'played': 3297, 'atmospheric': 334, 'up': 4683, 'until': 4680, 'climax': 849, 'revelation': 3674, 'dressed': 1358, 'feel': 1684, 'ensemble': 1492, 'cast': 710, 'holds': 2131, 'together': 4511, 'try': 4600, 'spot': 4131, 'faces': 1618, 'plenty': 3307, 'too': 4522, 'some': 4061, 'having': 2054, 'more': 2904, 'scheme': 3812, 'others': 3136, 'doubts': 1333, 'every': 1539, 'committed': 905, 'despite': 1211, 'crude': 1069, 'nature': 2975, 'names': 2963, 'miles': 2843, 'whos': 4876, 'creepy': 1052, 'likewise': 2603, 'christopher': 811, 'walken': 4777, 'william': 4887, 'neat': 2982, 'cameo': 657, 'jeff': 2390, 'jerry': 2396, 'tom': 4514, 'bit': 488, 'parts': 3199, 'mild': 2839, 'chris': 806, 'gorgeous': 1942, 'leads': 2548, 'offering': 3089, 'able': 66, 'support': 4303, 'martin': 2748, 'john': 2409, 'carradine': 695, 'arthur': 305, 'kennedy': 2454, 'throw': 4479, 'around': 297, 'characters': 760, 'gets': 1900, 'trying': 4601, 'air': 164, 'works': 4945, 'whats': 4860, 'here': 2086, 'there': 4438, 'reason': 3557, 'surrounding': 4319, 'character': 758, 'emphasis': 1463, 'mainly': 2708, 'built': 618, 'upon': 4684, 'moody': 2899, 'angle': 236, 'begins': 444, 'slowly': 4032, 'shed': 3924, 'light': 2595, 'her': 2085, 'inner': 2292, 'strange': 4211, 'experiences': 1582, 'she': 3923, 'encounters': 1467, 'when': 4862, 'shes': 3930, 'moves': 2925, 'into': 2332, 'apartment': 265, 'where': 4864, 'winner': 4897, 'tries': 4585, 'pull': 3461, 'out': 3141, 'eerie': 1427, 'projects': 3428, 'moments': 2887, 'man': 2721, 'responsible': 3656, 'grand': 1953, 'score': 3822, 'misses': 2868, 'richard': 3686, 'scope': 3821, 'photography': 3260, 'best': 469, 'sucked': 4270, 'dialog': 1232, 'terrible': 4407, 'storyline': 4208, 'wasnt': 4807, 'fact': 1621, 'lines': 2612, 'throughout': 4478, 'off': 3084, 'few': 1700, 'jackie': 2374, 'chan': 746, 'great': 1964, 'martial': 2747, 'arts': 310, 'rush': 3759, 'hour': 2176, 'thats': 4425, 'based': 404, 'action': 100, 'less': 2575, 'sex': 3907, 'doesnt': 1309, 'those': 4460, 'am': 204, 'christian': 808, 'unreal': 4676, 'situations': 4009, 'front': 1841, 'watch': 4811, 'remember': 3616, 'least': 2554, 'mix': 2876, 'christ': 807, 'football': 1783, 'formulaic': 1803, 'losers': 2656, 'let': 2579, 'make': 2713, 'comments': 901, 'bothered': 549, 'white': 4870, 'academy': 77, 'did': 1241, 'notice': 3048, 'single': 3996, 'black': 493, 'student': 4238, 'player': 3298, 'deal': 1135, 'south': 4087, 'changing': 752, 'hearts': 2066, 'note': 3044, 'loved': 2670, 'coach': 868, 'made': 2697, 'entirely': 1503, 'team': 4378, 'players': 3299, 'everyone': 1542, 'couple': 1016, 'people': 3221, 'filming': 1718, 'writing': 4971, 'short': 3946, 'poor': 3328, 'compared': 912, 'we': 4823, 'compare': 911, 'another': 250, 'same': 3778, 'charisma': 762, 'energy': 1478, 'half': 2007, 'shown': 3959, 'sense': 3877, 'unrealistic': 4677, 'ending': 1471, 'simply': 3986, 'reading': 3544, 'little': 2624, 'complete': 921, 'life': 2592, 'change': 749, 'wonder': 4926, 'listen': 2619, 'christians': 809, 'want': 4788, 'sell': 3871, 'cure': 1081, 'he': 2056, 'need': 2987, 'sold': 4052, 'attached': 336, 'anti': 254, 'intellectual': 2312, 'presentation': 3375, 'recognize': 3569, 'may': 2775, 'most': 2909, 'give': 1912, 'real': 3547, 'picture': 3269, 'struggle': 4234, 'tension': 4404, 'importantly': 2248, 'any': 256, 'means': 2783, 'stretch': 4221, 'values': 4710, 'falls': 1640, 'yourself': 4993, 'message': 2819, 'shallow': 3917, 'positive': 3346, 'thinking': 4453, 'live': 2625, 'alongside': 196, 'third': 4455, 'world': 4946, 'living': 2629, 'hollow': 2135, 'today': 4508, 'their': 4431, 'religion': 3607, 'personality': 3242, 'memories': 2803, 'previous': 3387, 'personalities': 3241, 'lack': 2502, 'seriously': 3892, 'thought': 4462, 'opening': 3114, 'scene': 3809, 'nightmare': 3014, 'absurd': 73, 'serious': 3891, 'reminded': 3619, 'annoying': 249, 'disney': 1289, 'channel': 753, 'jumps': 2432, 'embarrassing': 1454, 'connection': 946, 'disappointing': 1274, 'horrible': 2163, 'songs': 4072, 'catchy': 717, 'amazing': 209, 'original': 3129, 'powerful': 3360, 'voice': 4761, 'song': 4071, 'fun': 1848, 'sing': 3992, 'werent': 4849, 'creative': 1041, 'theyre': 4445, 'talking': 4360, 'quite': 3495, 'feeling': 1685, 'normally': 3034, 'barely': 399, 'effort': 1432, 'needs': 2990, 'line': 2610, 'warmth': 4796, 'enthusiasm': 1501, 'look': 2646, 'im': 2232, 'generation': 1883, 'havent': 2053, 'since': 3990, 'released': 3603, 'memorable': 2802, 'performances': 3229, 'rip': 3700, 'torn': 4528, 'superb': 4296, 'excellent': 1555, 'moving': 2928, 'everything': 1544, 'else': 1448, 'highest': 2102, 'standard': 4144, 'yet': 4984, 'seems': 3864, 'been': 438, 'much': 2934, 'forgotten': 1797, 'uk': 4626, 'odd': 3080, 'market': 2740, 'tv': 4610, 'video': 4733, 'sad': 3767, 'success': 4265, 'us': 4690, 'accurate': 90, 'historical': 2119, 'drama': 1346, 'music': 2946, 'certain': 737, 'title': 4504, 'theme': 4433, 'simple': 3983, 'solo': 4058, 'friend': 1835, 'jesus': 2399, 'went': 4847, 'right': 3696, 'wrong': 4973, 'describes': 1196, 'adaptation': 113, 'selling': 3873, 'philosophical': 3253, 'novel': 3052, 'follows': 1775, 'spiritual': 4116, 'work': 4940, 'teacher': 4375, 'mysterious': 2955, 'village': 4743, 'home': 2142, 'quality': 3484, 'actors': 104, 'present': 3374, 'called': 652, 'while': 4868, 'extremely': 1610, 'heavy': 2070, 'handed': 2016, 'direction': 1261, 'visible': 4753, 'attempts': 343, 'fans': 1650, 'stronger': 4230, 'fare': 1655, 'lost': 2660, 'dan': 1102, 'da': 1094, 'code': 869, 'filmmakers': 1720, 'hardly': 2036, 'task': 4368, 'ill': 2228, 'conceived': 929, 'mass': 2753, 'propaganda': 3435, 'results': 3662, 'awful': 372, 'through': 4477, 'mess': 2818, 'point': 3316, 'season': 3843, 'ended': 1470, 'remote': 3622, 'island': 2361, 'winter': 4900, 'beginning': 443, 'alike': 185, 'ahead': 159, 'james': 2378, 'former': 1800, 'british': 589, 'army': 295, 'local': 2634, 'dentist': 1180, 'birth': 486, 'relationship': 3597, 'artist': 307, 'viewed': 4737, 'tight': 4492, 'community': 908, 'broken': 594, 'round': 3742, 'finds': 1728, 'brutally': 604, 'immediately': 2242, 'gruesome': 1986, 'find': 1726, 'police': 3322, 'station': 4164, 'delivery': 1173, 'dr': 1340, 'closer': 856, 'quick': 3490, 'search': 3841, 'killer': 2470, 'proves': 3447, 'missing': 2869, 'over': 3148, 'dinner': 1254, 'night': 3013, 'anderson': 227, 'lives': 2628, 'months': 2897, 'reveals': 3673, 'body': 527, 'murder': 2939, 'drag': 1342, 'mile': 2842, 'woods': 4935, 'stranger': 4213, 'left': 2561, 'colonel': 876, 'howard': 2182, 'jonathan': 2417, 'happened': 2027, 'person': 3238, 'alive': 186, 'came': 656, 'across': 96, 'asks': 319, 'victims': 4730, 'apart': 264, 'my': 2951, 'somebody': 4062, 'strength': 4219, 'teeth': 4393, 'marks': 2742, 'seem': 3861, 'points': 3319, 'unknown': 4668, 'animal': 239, 'kind': 2476, 'found': 1811, 'canadian': 667, 'rolling': 3730, 'cut': 1089, 'possibility': 3349, 'help': 2079, 'radio': 3504, 'seemingly': 3863, 'phone': 3255, 'soldier': 4053, 'finding': 1727, 'looking': 2648, 'craft': 1028, 'behind': 447, 'rocks': 3722, 'beach': 419, 'confused': 941, 'refuses': 3587, 'anything': 260, 'facts': 1624, 'laughs': 2534, 'idea': 2213, 'aliens': 184, 'involved': 2346, 'rise': 3702, 'levels': 2585, 'himself': 2111, 'child': 789, 'david': 1124, 'adapted': 114, 'robert': 3713, 'holmes': 2139, 'directed': 1259, 'douglas': 1334, 'directing': 1260, 'experience': 1580, 'classics': 837, 'experienced': 1581, 'genre': 1888, 'board': 522, 'crafted': 1029, 'piece': 3272, 'builds': 617, 'solid': 4057, 'development': 1225, 'minor': 2857, 'given': 1913, 'giving': 1915, 'background': 380, 'setting': 3900, 'perhaps': 3235, 'cliché': 844, 'used': 4693, 'enjoy': 1484, 'under': 4639, 'way': 4820, 'add': 115, 'atmosphere': 333, 'extra': 1606, 'close': 853, 'efforts': 1433, 'easy': 1410, 'proceedings': 3410, 'silly': 3976, 'resort': 3650, 'melodrama': 2797, 'credit': 1049, 'speaking': 4095, 'further': 1853, 'negative': 2991, 'killings': 2473, 'acceptable': 81, 'red': 3576, 'fish': 1738, 'eye': 1611, 'screams': 3828, 'hard': 2033, 'guess': 1989, 'outcome': 3142, 'identity': 2217, 'matter': 2769, 'species': 4098, 'clues': 865, 'presented': 3376, 'acted': 98, 'scottish': 3825, 'exceptional': 1558, 'particular': 3194, 'each': 1395, 'delight': 1167, 'taken': 4350, 'displays': 1293, 'hammer': 2014, 'viewers': 4739, 'disappointed': 1273, 'ways': 4822, 'taking': 4352, 'account': 89, 'understandable': 4644, 'terrifying': 4410, 'teenagers': 4391, 'trip': 4588, 'van': 4713, 'clichés': 846, 'guarantee': 1987, 'follow': 1772, 'warned': 4798, 'crazy': 1035, 'ridiculous': 3693, 'deadly': 1133, 'handled': 2019, 'break': 569, 'group': 1980, 'split': 4120, 'picked': 3266, 'whatever': 4859, 'monster': 2892, 'capture': 676, 'catch': 714, 'escape': 1517, 'vehicle': 4718, 'wont': 4932, 'start': 4156, 'high': 2100, 'speed': 4103, 'come': 886, 'back': 378, 'cheap': 774, 'weak': 4824, 'scare': 3803, 'properly': 3437, 'twist': 4617, 'end': 1468, 'elements': 1443, 'naked': 2959, 'react': 3540, 'different': 1248, 'sees': 3866, 'supposed': 4306, 'fall': 1637, 'lust': 2689, 'kill': 2468, 'teens': 4392, 'ripped': 3701, 'bodies': 526, 'pulled': 3462, 'twelve': 4611, 'year': 4978, 'boys': 559, 'dream': 1354, 'opinion': 3118, 'low': 2676, 'happy': 2032, 'improvement': 2256, 'films': 1721, 'cinematography': 820, 'editing': 1421, 'above': 68, 'budget': 610, 'impressed': 2251, 'hear': 2061, 'achieved': 93, 'money': 2888, 'spent': 4108, 'ultimately': 4628, 'mildly': 2840, 'pointless': 3318, 'done': 1322, 'again': 146, 'dvd': 1391, 'extras': 1608, 'rent': 3626, 'directors': 1266, 'commentary': 899, 'beyond': 476, 'belief': 451, 'itself': 2371, 'claim': 828, 'says': 3801, 'attempt': 340, 'use': 4692, 'wonders': 4931, 'afraid': 140, 'clever': 841, 'past': 3207, 'within': 4912, 'scripted': 3835, 'appropriate': 283, 'tone': 4517, 'nor': 3032, 'style': 4249, 'order': 3126, 'ask': 316, 'question': 3487, 'worked': 4941, 'next': 3007, 'brilliance': 582, 'conversation': 980, 'towards': 4540, 'digital': 1251, 'often': 3095, 'ease': 1404, 'moment': 2886, 'comes': 891, 'mann': 2728, 'makes': 2716, 'format': 1799, 'talented': 4355, 'fit': 1740, 'roberts': 3714, 'uses': 4697, 'produce': 3413, 'bottom': 551, 'shelf': 3926, 'pictures': 3270, 'differences': 1247, 'obvious': 3071, 'comparison': 914, 'arrogant': 303, 'goes': 1930, 'far': 1653, 'specific': 4099, 'admit': 122, 'slightly': 4029, 'joke': 2414, 'reviewers': 3678, 'hilarious': 2106, 'accents': 79, 'wouldnt': 4958, 'born': 544, 'sorts': 4078, 'saying': 3800, 'friends': 1837, 'ignorant': 2223, 'blind': 506, 'topless': 4527, 'girls': 1911, 'ground': 1979, 'self': 3869, 'documentary': 1307, 'making': 2718, 'during': 1387, 'reviewer': 3677, 'claimed': 829, 'forest': 1791, 'convince': 983, 'track': 4544, 'sitting': 4007, 'isnt': 2362, 'sky': 4017, 'missed': 2867, 'true': 4596, 'brief': 579, 'remind': 3618, 'day': 1129, 'suppose': 4305, 'cinema': 816, 'following': 1774, 'hood': 2151, 'later': 2525, 'shots': 3950, 'car': 680, 'slow': 4031, 'edge': 1418, 'seat': 3845, 'especially': 1520, 'hit': 2122, 'bridge': 578, 'tears': 4380, '1st': 28, '2003': 33, 'jim': 2402, 'brian': 576, 'smith': 4038, 'un': 4630, 'spectacular': 4101, 'classic': 835, 'animated': 241, 'yes': 4982, 'continues': 971, 'problem': 3408, 'plays': 3301, 'pacing': 3163, 'animation': 242, 'thru': 4483, 'stop': 4201, 'boring': 543, 'sequels': 3886, 're': 3535, 'etc': 1527, 'renting': 3629, 'buying': 641, 'mediocre': 2791, 'put': 3480, 'your': 4991, 'thrilling': 4474, 'basic': 406, 'instinct': 2308, 'stones': 4198, 'jail': 2376, 'late': 2523, 'date': 1118, 'spoiler': 4123, 'alert': 178, 'progresses': 3426, 'three': 4469, 'killing': 2472, 'risk': 3704, 'cop': 991, 'frame': 1815, 'revenge': 3675, 'none': 3028, 'care': 684, 'occurs': 3078, 'screen': 3829, 'brilliant': 583, 'device': 1227, 'spirit': 4113, '2001': 31, 'space': 4090, 'cares': 690, 'blonde': 511, 'wants': 4791, 'important': 2247, 'between': 475, 'complicated': 925, 'anyone': 259, 'thinks': 4454, 'reality': 3551, 'york': 4985, 'detective': 1220, 'mark': 2739, 'andrews': 229, 'demons': 1178, 'daily': 1097, 'basis': 408, 'normal': 3033, 'ups': 4686, 'everyday': 1541, 'produced': 3414, 'intense': 2316, 'hatred': 2049, 'criminals': 1058, 'errors': 1516, 'fail': 1625, 'law': 2538, 'record': 3573, 'suspects': 4328, 'known': 2492, 'gross': 1978, 'brought': 600, 'conflict': 939, 'superior': 4300, 'officers': 3093, 'amount': 219, 'cannot': 670, 'calls': 654, 'extreme': 1609, 'father': 1666, 'criminal': 1057, 'fathers': 1667, 'reputation': 3640, 'avoid': 363, 'expectations': 1576, 'rich': 3685, 'murdered': 2940, 'run': 3755, 'gangster': 1868, 'tommy': 4516, 'gary': 1873, 'case': 707, 'tells': 4397, 'officer': 3092, 'thomas': 4458, 'victim': 4729, 'accompanied': 86, 'ken': 2453, 'craig': 1030, 'stevens': 4183, 'wife': 4884, 'morgan': 2905, 'gene': 1879, 'questions': 3489, 'suspect': 4327, 'dies': 1245, 'nearby': 2980, 'river': 3707, 'after': 143, 'place': 3282, 'adds': 119, 'gone': 1935, 'issue': 2364, 'returned': 3666, 'facial': 1619, 'previously': 3388, 'attacked': 338, 'number': 3060, 'taylor': 4372, 'beat': 423, 'information': 2288, 'arrested': 298, 'nobody': 3022, 'explanation': 1590, 'witness': 4914, 'various': 4715, 'eventually': 1537, 'successfully': 4267, 'achieve': 92, 'goal': 1925, 'write': 4967, 'role': 3726, 'death': 1141, 'cover': 1022, 'alone': 194, 'redemption': 3578, 'provide': 3448, 'tense': 4403, 'fitting': 1742, 'conclusion': 936, 'gritty': 1977, 'thriller': 4472, 'expressions': 1603, 'convey': 982, 'troubled': 4593, 'deals': 1137, 'include': 2261, 'successful': 4266, 'model': 2880, 'loses': 2657, 'trouble': 4592, 'earlier': 1399, 'crime': 1055, 'commit': 904, 'war': 4792, 'loss': 2659, 'led': 2558, 'beating': 425, 'business': 633, 'suffers': 4278, 'ends': 1474, 'thoroughly': 4459, 'engaging': 1481, 'tale': 4353, 'involving': 2349, 'main': 2707, 'protagonist': 3441, 'absolute': 71, 'moral': 2902, 'states': 4163, 'history': 2121, 'america': 212, 'brother': 598, 'against': 147, 'family': 1645, 'personal': 3240, 'greater': 1965, 'creates': 1038, 'emotional': 1459, 'element': 1442, 'context': 968, 'necessary': 2984, 'perspective': 3245, 'lee': 2559, 'provides': 3450, 'ride': 3692, 'devil': 1228, 'civil': 826, 'focuses': 1768, 'depiction': 1185, 'along': 195, 'infamous': 2284, 'lawrence': 2539, 'succeeds': 4264, 'view': 4736, 'union': 4661, 'influence': 2286, 'state': 4160, 'border': 539, 'increasingly': 2268, 'difficult': 1249, 'hold': 2129, 'aid': 160, 'could': 1007, 'considered': 951, 'regular': 3592, 'troops': 4591, 'heat': 2067, 'town': 4541, 'jack': 2373, 'bull': 619, 'jake': 2377, 'form': 1798, 'band': 391, 'join': 2412, 'doing': 1312, 'damage': 1099, 'cause': 723, 'standing': 4146, 'among': 217, 'men': 2805, 'young': 4989, 'pitt': 3280, 'gain': 1863, 'nothing': 3047, 'excuse': 1564, 'express': 1600, 'violent': 4748, 'innocent': 2294, 'becomes': 434, 'souls': 4080, 'odds': 3082, 'subtle': 4260, 'cultural': 1078, 'aspects': 322, 'attitudes': 347, 'depicting': 1184, 'audience': 352, 'understanding': 4645, 'subject': 4253, 'actual': 108, 'offers': 3090, 'deeper': 1155, 'grasp': 1960, 'motivations': 2915, 'engaged': 1480, 'whether': 4866, 'daughters': 1122, 'eat': 1411, 'drink': 1361, 'effects': 1431, 'class': 833, 'honor': 2150, 'warrior': 4802, 'tiger': 4491, 'dragon': 1344, 'storm': 4206, 'condition': 937, 'higher': 2101, 'level': 2584, 'exception': 1557, 'presents': 3377, 'breathtaking': 574, 'brilliantly': 584, 'visual': 4757, 'poetry': 3314, 'special': 4097, 'touch': 4533, 'telling': 4396, 'initially': 2291, 'brings': 587, 'innocence': 2293, 'effectively': 1430, 'develops': 1226, 'convincingly': 986, 'events': 1536, 'credibility': 1047, 'overall': 3150, 'realism': 3549, 'news': 3005, 'battles': 415, 'beliefs': 452, 'performance': 3228, 'small': 4033, 'understated': 4646, 'granted': 1957, 'unfortunate': 4653, 'worthy': 4956, 'should': 3951, 'recognized': 3570, 'effective': 1429, 'motion': 2913, 'debut': 1143, 'sue': 4274, 'shelley': 3928, 'jeffrey': 2391, 'stands': 4147, 'notable': 3041, 'supporting': 4304, 'daniel': 1111, 'chilling': 794, 'menace': 2806, 'amounts': 220, 'leaves': 2556, 'impression': 2252, 'includes': 2263, 'simon': 3982, 'baker': 385, 'george': 1893, 'brown': 601, 'mrs': 2930, 'forever': 1792, 'open': 3112, 'wound': 4960, 'nation': 2969, 'hopefully': 2157, 'recent': 3566, 'needed': 2988, 'medium': 2792, 'educational': 1425, 'entertaining': 1499, 'future': 1856, 'sensitive': 3879, 'read': 3543, 'reviews': 3679, 'said': 3774, 'dragged': 1343, 'long': 2644, 'basically': 407, 'entertainment': 1500, 'agree': 155, 'certainly': 738, 'jones': 2418, 'power': 3359, 'mental': 2808, 'illness': 2230, 'paranoia': 3186, 'drug': 1373, 'abuse': 74, 'treated': 4573, 'manner': 2729, 'takes': 4351, 'showing': 3958, 'brenda': 575, 'brad': 560, 'stand': 4143, 'mind': 2849, 'wing': 4896, 'become': 433, 'cruel': 1070, 'explore': 1594, 'superficial': 4298, 'powers': 3361, 'familiar': 1643, 'details': 1219, 'believable': 453, 'features': 1680, 'strong': 4229, 'meeting': 2794, 'earl': 1398, 'leo': 2571, 'ryan': 3765, 'ned': 2986, 'visit': 4755, 'camp': 662, 'suicide': 4283, 'shines': 3932, 'suddenly': 4273, 'murderous': 2942, 'relative': 3599, 'calm': 655, 'beauty': 430, 'natural': 2973, 'images': 2235, 'impossible': 2249, 'disturbing': 1300, 'reflection': 3585, 'worth': 4953, 'keep': 2449, 'truly': 4597, 'horrific': 2166, '20th': 38, 'century': 736, 'repeated': 3631, 'ironically': 2356, 'bound': 553, 'repeat': 3630, 'ireland': 2352, 'faith': 1633, 'days': 1130, 'grade': 1951, 'art': 304, 'mansion': 2731, 'decades': 1145, 'career': 686, 'appeared': 276, 'theory': 4437, 'working': 4944, 'coming': 896, 'magnificent': 2705, 'demand': 1174, 'gothic': 1945, 'rented': 3628, 'latest': 2526, 'slasher': 4020, 'aging': 153, 'wells': 4845, 'twenty': 4612, 'winds': 4895, 'arent': 288, 'already': 197, 'incoherent': 2265, 'figure': 1711, 'waste': 4808, 'gray': 1963, 'grace': 1950, 'hope': 2155, 'henry': 2084, 'king': 2479, 'portrait': 3339, 'mighty': 2836, 'destroyed': 1214, 'passion': 3205, 'sin': 3988, 'full': 1846, 'status': 4165, 'testament': 4417, 'lion': 2614, 'walls': 4783, 'saves': 3796, 'faithful': 1634, 'warriors': 4803, 'moore': 2901, 'returns': 3668, 'court': 1020, 'son': 4070, 'herself': 2092, 'daughter': 1121, 'evening': 1534, 'walking': 4779, 'held': 2074, 'neighborhood': 2993, 'eyes': 1613, 'lady': 2507, 'refreshing': 3586, 'bath': 411, 'beautiful': 428, 'attractive': 351, 'discovers': 1281, 'unhappy': 4656, 'marriage': 2743, 'apparent': 269, 'intentions': 2321, 'interest': 2323, 'plain': 3286, 'usual': 4699, 'consequences': 947, 'hadnt': 2004, 'planned': 3290, 'threat': 4467, 'lord': 2652, 'pregnant': 3369, 'fears': 1677, 'according': 88, 'sends': 3876, 'word': 4937, 'send': 3875, 'husband': 2204, 'gods': 1928, 'sight': 3969, 'indeed': 2271, 'beloved': 461, 'god': 1926, 'soon': 4074, 'meanwhile': 2785, 'spread': 4133, 'blame': 499, 'plight': 3308, 'pays': 3218, 'whose': 4877, 'desire': 1205, 'integrity': 2311, 'disaster': 1276, 'direct': 1258, 'result': 3660, 'sequence': 3887, 'badly': 383, 'briefly': 580, 'face': 1616, 'raymond': 3534, 'sent': 3880, 'queen': 3485, 'resist': 3648, 'greed': 1968, 'ex': 1549, 'silent': 3975, 'francis': 1818, 'breaks': 571, 'object': 3066, 'prepared': 3371, 'accept': 80, 'punishment': 3467, 'flashback': 1746, 'giant': 1905, 'color': 877, 'oscar': 3133, 'screenplay': 3831, 'costume': 1005, 'offensive': 3086, 'typical': 4623, 'youve': 4995, 'trailer': 4554, 'key': 2458, 'difference': 1246, 'stories': 4205, 'wit': 4908, 'movement': 2923, 'walk': 4775, 'away': 369, 'fifteen': 1706, 'ago': 154, 'id': 2212, 'harry': 2039, 'met': 2822, 'sally': 3776, 'instead': 2307, 'imitation': 2241, 'chemistry': 782, 'youre': 4992, 'cute': 1090, 'theyve': 4446, 'heard': 2062, 'fan': 1648, 'bloody': 513, 'gory': 1943, 'hands': 2020, 'kept': 2456, 'now': 3054, 'atrocious': 335, 'appears': 278, 'utterly': 4702, 'convincing': 985, 'attention': 345, 'insult': 2309, 'intelligence': 2313, 'someone': 4064, 'knock': 2488, 'persons': 3244, 'head': 2057, 'using': 4698, 'meat': 2787, 'cgi': 740, 'stuff': 4243, 'looks': 2649, 'unbelievable': 4634, 'acts': 107, 'getting': 1901, 'arms': 294, 'our': 3139, 'dark': 1115, 'either': 1438, 'yellow': 4981, 'worse': 4951, 'myself': 2953, 'mistake': 2871, 'serial': 3889, 'thank': 4421, 'ok': 3098, 'conspiracy': 956, 'thrown': 4481, 'photographer': 3259, 'via': 4726, 'plant': 3293, 'plausible': 3295, 'became': 431, 'creatures': 1046, 'knows': 2493, 'unless': 4669, 'book': 535, 'tragic': 4552, 'potential': 3355, 'mindless': 2851, 'fake': 1635, 'gore': 1941, 'youll': 4988, 'love': 2669, 'brain': 562, 'hate': 2046, 'stay': 4166, 'creature': 1045, 'carl': 692, 'masters': 2761, 'miserable': 2863, 'logic': 2638, 'forgive': 1795, 'rank': 3518, 'name': 2960, 'save': 3794, 'books': 536, 'cinematic': 818, 'four': 1812, 'happens': 2029, 'rare': 3523, 'cases': 708, 'easily': 1406, 'turn': 4605, 'proper': 3436, 'average': 362, 'considering': 952, 'act': 97, 'example': 1553, 'unable': 4631, 'visually': 4758, 'totally': 4532, 'wait': 4770, 'mixed': 2877, 'awesome': 371, 'audiences': 353, 'recommended': 3572, 'iron': 2354, 'versus': 4722, 'weird': 4841, 'japanese': 2382, 'approach': 282, 'filled': 1715, 'wonderful': 4928, 'knowledge': 2491, 'episode': 1507, 'surprises': 4314, 'mystery': 2956, 'concerns': 934, 'battle': 414, 'charles': 764, 'master': 2757, 'jeremy': 2394, 'appear': 273, 'inspector': 2299, 'hudson': 2184, 'greatest': 1966, 'villain': 4744, 'genuine': 1891, 'intrigue': 2333, 'thrills': 4475, 'suspense': 4330, 'including': 2264, 'exciting': 1563, 'final': 1722, 'falling': 1639, 'kissing': 2484, 'crying': 1074, 'top': 4525, 'notch': 3043, 'peter': 3247, 'performs': 3234, 'doctor': 1304, 'comic': 893, 'clumsy': 866, 'pal': 3177, 'bruce': 602, 'partner': 3198, 'edward': 1426, 'perfect': 3224, 'casting': 711, 'frankly': 1823, 'mention': 2810, 'hardy': 2037, 'nasty': 2968, 'famous': 1647, 'veteran': 4724, 'forty': 1807, 'several': 3905, 'kingdom': 2480, 'furthermore': 1854, 'terrific': 4409, 'gordon': 1940, 'colorful': 878, 'london': 2641, 'streets': 4217, 'designed': 1203, 'episodes': 1508, 'murderer': 2941, 'parents': 3188, 'expect': 1575, 'scott': 3824, 'unfortunately': 4654, 'friday': 1834, 'flashbacks': 1747, 'pathetic': 3210, 'stage': 4139, 'dean': 1139, 'pile': 3275, 'tied': 4489, 'mentioning': 2812, 'damn': 1100, 'gives': 1914, 'insight': 2298, 'divorce': 1301, 'highly': 2105, 'individuals': 2278, 'planning': 3291, 'appealing': 272, 'sympathetic': 4342, 'scary': 3807, 'adults': 126, 'hint': 2112, 'imagination': 2236, 'facing': 1620, 'create': 1036, 'delightful': 1168, 'early': 1400, 'stars': 4155, 'warner': 4799, 'afford': 138, 'rarely': 3524, 'unforgettable': 4652, 'opportunity': 3121, 'dance': 1103, 'show': 3953, 'shows': 3960, 'tap': 4364, 'comedian': 887, 'introduces': 2338, 'fabulous': 1615, 'sound': 4081, 'scale': 3802, 'piano': 3264, 'happiness': 2031, 'witty': 4917, 'nick': 3012, 'lucas': 2680, 'finale': 1723, 'luck': 2681, 'chorus': 803, 'kick': 2460, 'themselves': 4435, 'repeatedly': 3632, 'row': 3744, 'doll': 1313, 'hop': 2154, 'floor': 1759, 'kid': 2464, 'pearl': 3220, 'imagine': 2238, 'whilst': 4869, 'toy': 4542, 'box': 555, 'below': 462, 'weeks': 4839, 'roll': 3728, 'reactions': 3542, 'era': 1513, 'entertain': 1497, 'thrill': 4471, 'demented': 1176, 'walked': 4776, 'middle': 2833, 'comedy': 890, 'speak': 4094, '25': 40, 'humor': 2192, 'irritating': 2359, 'robin': 3715, 'williams': 4888, 'fame': 1642, 'television': 4394, 'turned': 4606, 'ralph': 3510, 'bakshi': 386, 'hey': 2095, 'racial': 3501, 'designs': 1204, 'satire': 3788, 'urban': 4688, 'uncle': 4636, 'american': 213, 'culture': 1079, 'blatant': 502, 'americans': 214, '70s': 56, 'fellow': 1691, 'named': 2961, 'barry': 401, 'philip': 3252, 'prison': 3401, 'stopped': 4202, 'wind': 4893, 'waiting': 4772, 'tell': 4395, 'rabbit': 3498, 'city': 825, 'quickly': 3491, 'rule': 3753, 'fox': 1814, 'versions': 4721, 'footage': 1782, 'graphic': 1958, 'stereotypes': 4179, 'otherwise': 3137, 'anyway': 261, 'pretend': 3381, 'exist': 1569, 'shame': 3918, 'learn': 2550, 'johnny': 2410, 'parody': 3192, 'outstanding': 3147, 'obviously': 3072, 'funniest': 1851, 'spoof': 4127, 'mob': 2879, 'admittedly': 123, 'position': 3345, 'easier': 1405, 'dull': 1384, 'jane': 2380, 'mafia': 2700, 'jon': 2416, 'screenwriter': 3833, 'involves': 2348, 'stealing': 4171, 'stock': 4193, 'jumping': 2431, 'fast': 1661, 'alan': 171, 'type': 4621, 'ruin': 3750, 'seemed': 3862, 'usa': 4691, 'green': 1971, 'card': 681, 'paid': 3169, 'buy': 640, 'weapon': 4828, 'gun': 1996, 'shop': 3945, 'laws': 2540, 'guns': 1998, 'counter': 1011, 'unfunny': 4655, 'hollywood': 2137, 'garbage': 1870, 'sheer': 3925, 'treats': 4575, 'nations': 2971, 'hip': 2114, 'amateurish': 207, 'segment': 3867, 'terrorist': 4413, 'focus': 1766, 'mexico': 2827, 'twin': 4615, 'forget': 1793, 'camera': 659, 'sean': 3840, 'knowing': 2490, 'buildings': 616, 'shadow': 3912, 'trade': 4547, 'center': 732, '11': 2, 'japan': 2381, 'affair': 135, 'favorite': 1671, 'block': 508, 'tear': 4379, 'machine': 2693, 'viewer': 4738, 'flat': 1748, 'affect': 136, 'display': 1291, 'nice': 3008, 'balance': 387, 'afterwards': 145, 'felt': 1692, 'trek': 4578, 'thanks': 4423, 'post': 3352, '2000': 30, 'technology': 4385, 'distribution': 1298, 'heart': 2064, 'general': 1880, 'popular': 3333, 'captain': 674, 'crew': 1053, 'fresh': 1833, 'quiet': 3492, 'honest': 2146, 'creativity': 1042, 'unlike': 4670, 'artificial': 306, 'awkward': 374, 'freedom': 1828, 'imagined': 2239, 'premise': 3370, 'science': 3816, 'fiction': 1702, 'portray': 3340, 'married': 2744, 'mistakes': 2873, 'women': 4923, 'survive': 4321, 'seasons': 3844, 'carried': 698, 'rest': 3657, 'kim': 2475, 'paris': 3189, 'occasional': 3074, 'finally': 1724, 'glad': 1916, 'rid': 3690, 'female': 1693, 'kate': 2446, 'developed': 1223, 'exploration': 1593, 'possibilities': 3348, 'indian': 2274, 'lately': 2524, 'crappy': 1032, 'dog': 1310, 'showed': 3956, 'emotions': 1461, 'intensity': 2317, 'timing': 4498, 'research': 3644, 'checking': 778, 'akshay': 169, 'albeit': 173, 'dramatic': 1348, 'helped': 2080, 'thumbs': 4485, 'kapoor': 2443, 'producing': 3417, 'game': 1864, 'cuba': 1075, 'jr': 2423, 'synopsis': 4344, 'taught': 4370, 'political': 3324, 'earth': 1403, 'resources': 3651, 'unintentionally': 4659, 'laughable': 2530, 'flawed': 1750, 'allow': 189, 'room': 3735, 'appalling': 268, 'bizarre': 492, 'mean': 2779, 'mother': 2911, 'eating': 1413, 'ham': 2011, 'check': 777, 'laugh': 2529, 'musical': 2947, 'bored': 541, 'sake': 3775, 'robots': 3718, 'highlight': 2103, 'pass': 3201, 'core': 995, 'cold': 872, 'tame': 4363, 'notorious': 3051, 'essential': 1522, 'terribly': 4408, 'convoluted': 987, 'perry': 3237, 'dick': 1239, 'blake': 498, 'wilson': 4891, 'rob': 3710, 'mans': 2730, 'safe': 3771, 'dollars': 1315, 'aside': 315, 'returning': 3667, 'resolution': 3649, 'caught': 722, 'ironic': 2355, 'chance': 747, 'followed': 1773, 'stolen': 4195, 'hang': 2022, 'neck': 2985, 'pure': 3471, 'brooks': 596, 'marvelous': 2750, 'hall': 2009, 'storytelling': 4209, 'feels': 1687, 'realistic': 3550, 'pitch': 3279, 'tragedy': 4551, 'brutal': 603, 'narrator': 2967, 'somehow': 4063, 'conventional': 979, 'figures': 1713, 'necessarily': 2983, 'monsters': 2893, 'road': 3709, 'vegas': 4717, 'sort': 4077, 'sign': 3970, 'daring': 1114, 'abusive': 75, 'psychotic': 3459, 'hated': 2047, 'complexity': 924, 'plan': 3287, 'slick': 4026, 'confidence': 938, 'ie': 2221, 'suit': 4284, 'deep': 1154, '60s': 54, 'pops': 3332, 'oddly': 3081, 'saga': 3773, 'becoming': 435, 'surrounded': 4318, 'fine': 1729, 'driven': 1365, 'treasure': 4571, 'staying': 4168, 'situation': 4008, 'horrifying': 2167, 'hung': 2197, 'forward': 1808, 'models': 2881, 'plus': 3311, 'romantic': 3733, 'recently': 3567, 'independent': 2272, 'devoid': 1230, 'execution': 1566, 'fell': 1690, 'okay': 3099, 'pick': 3265, 'knew': 2486, 'impressive': 2253, 'wars': 4804, 'prequel': 3372, 'trilogy': 4586, 'nonetheless': 3029, 'running': 3756, 'assume': 328, 'hours': 2177, 'deserved': 1200, 'recognition': 3568, 'halfway': 2008, 'guys': 2001, 'requires': 3642, 'paced': 3162, 'explosions': 1597, 'liking': 2604, 'nine': 3017, 'scared': 3805, 'hell': 2077, 'genius': 1887, 'taste': 4369, 'genuinely': 1892, 'frightening': 1839, 'naturally': 2974, 'gave': 1875, 'sit': 4003, 'liners': 2611, 'industry': 2280, 'flick': 1754, 'indie': 2276, 'chances': 748, 'puts': 3481, 'realize': 3552, 'dreams': 1355, 'ages': 152, 'hits': 2125, 'meet': 2793, 'office': 3091, 'doubt': 1332, 'wed': 4835, 'bourne': 554, 'street': 4216, 'tough': 4537, 'fantasy': 1652, 'bond': 532, 'humour': 2194, 'journalist': 2420, 'effect': 1428, 'worlds': 4947, 'franchise': 1817, 'enjoyed': 1486, 'handsome': 2021, 'soft': 4051, 'porn': 3336, 'wasting': 4810, 'motivation': 2914, 'lead': 2545, 'told': 4513, 'truth': 4599, 'lover': 2672, 'rape': 3521, 'concern': 931, 'trial': 4580, 'starts': 4159, 'jerk': 2395, 'wanting': 4790, 'miss': 2866, 'understood': 4647, 'comment': 898, 'princess': 3397, 'wrote': 4974, 'directs': 1267, 'directions': 1262, 'noise': 3024, 'runs': 3757, 'escaped': 1518, 'patient': 3211, 'aspect': 321, 'mom': 2885, 'loves': 2674, 'nuclear': 3057, 'release': 3602, 'chaos': 755, 'behavior': 446, 'intended': 2315, 'cutting': 1092, 'loose': 2650, 'allowing': 191, 'free': 1827, 'society': 4050, 'paint': 3173, 'jobs': 2406, 'wacky': 4769, 'german': 1896, 'member': 2800, 'kiss': 2483, 'cool': 989, 'trash': 4565, 'rock': 3720, 'wasted': 4809, 'heaven': 2068, 'turkey': 4604, 'closely': 855, 'eddie': 1416, 'murphy': 2944, 'professor': 3422, 'routine': 3743, 'concert': 935, 'funnier': 1850, 'truck': 4595, 'driver': 1366, 'junk': 2436, 'decent': 1147, 'dennis': 1179, 'hopper': 2161, 'deserves': 1201, 'rating': 3529, '16': 8, 'timeless': 4496, 'midnight': 2834, 'except': 1556, 'prisoner': 3402, 'military': 2844, 'count': 1010, 'cameos': 658, 'nude': 3058, 'godfather': 1927, 'ray': 3533, 'aka': 168, 'sets': 3899, 'racist': 3503, 'cops': 993, 'bed': 436, 'cry': 1073, 'subtlety': 4261, 'highlights': 2104, 'continuity': 972, 'shot': 3949, 'colors': 879, 'joy': 2422, 'admire': 121, 'cliff': 847, 'orders': 3127, 'eg': 1434, 'cave': 727, 'dig': 1250, 'grave': 1962, 'kung': 2498, 'fu': 1844, 'climactic': 848, 'filmed': 1717, 'event': 1535, 'matrix': 2767, 'incompetent': 2266, 'enormous': 1490, 'pity': 3281, 'shocking': 3940, 'nowhere': 3056, 'loud': 2664, 'dubbing': 1380, 'english': 1483, 'sounded': 4082, 'intelligent': 2314, 'covers': 1024, 'attacks': 339, 'moon': 2900, 'christmas': 810, 'fool': 1779, 'perform': 3227, 'glorious': 1921, 'aired': 165, 'pleased': 3305, 'clip': 851, 'concept': 930, 'jokes': 2415, 'aware': 368, 'inevitably': 2283, 'lazy': 2543, 'putting': 3482, 'once': 3106, 'constructed': 959, 'sitcom': 4004, 'largely': 2518, 'clips': 852, 'prime': 3395, 'california': 650, 'valley': 4707, 'area': 286, 'lived': 2626, 'minimum': 2856, 'laughed': 2532, 'took': 4523, 'older': 3101, 'families': 1644, 'summer': 4291, 'rain': 3506, 'anywhere': 263, 'depressed': 1187, 'lacked': 2503, 'charm': 767, 'drawn': 1351, 'church': 813, 'jealous': 2388, 'rose': 3739, 'younger': 4990, 'learning': 2552, 'dislike': 1288, 'reasons': 3560, 'gender': 1878, 'smoking': 4040, 'social': 4049, 'plans': 3292, 'appreciated': 280, 'hurt': 2202, 'panic': 3181, 'porno': 3337, 'drunk': 1375, 'abandoned': 62, 'park': 3190, 'crowd': 1067, 'collection': 874, 'starred': 4153, 'started': 4157, 'teenage': 4389, 'nancy': 2964, 'respected': 3653, 'tiny': 4500, '14': 6, 'author': 359, 'rushed': 3760, 'controversial': 978, 'exceptionally': 1559, 'international': 2326, 'writers': 4969, 'remarkable': 3613, 'locations': 2636, 'profound': 3423, 'shock': 3938, 'unexpected': 4650, 'sympathy': 4343, 'masterful': 2758, 'finish': 1732, 'opens': 3115, 'travel': 4567, 'flash': 1745, 'detail': 1217, 'investigation': 2343, 'occurred': 3077, 'deeply': 1156, 'allows': 192, 'longer': 2645, 'lovely': 2671, 'maker': 2714, 'louise': 2666, 'cult': 1077, 'technically': 4382, 'poorly': 3329, 'mid': 2832, '30s': 44, 'french': 1830, 'essentially': 1523, 'movements': 2924, 'explain': 1586, 'ms': 2931, 'sloppy': 4030, 'overly': 3155, 'simplistic': 3985, 'morality': 2903, 'play': 3296, 'standards': 4145, 'wins': 4899, 'contest': 967, 'handle': 2018, 'fancy': 1649, 'tad': 4347, 'melodramatic': 2798, 'huh': 2187, 'lloyd': 2630, 'treatment': 4574, 'received': 3564, 'spirited': 4114, 'le': 2544, 'million': 2847, 'la': 2500, 'scenery': 3810, 'decide': 1148, 'italian': 2367, 'castle': 712, 'total': 4531, 'peace': 3219, 'relationships': 3598, 'walker': 4778, 'nearly': 2981, 'endearing': 1469, 'wide': 4880, 'eyed': 1612, 'empire': 1464, 'strikes': 4225, 'return': 3665, 'commercial': 902, 'ashamed': 312, 'greedy': 1969, 'call': 651, 'members': 2801, 'initial': 2290, 'raising': 3509, 'pig': 3274, 'flesh': 1753, 'pet': 3246, 'ad': 110, 'rebel': 3561, 'seconds': 3848, 'gotta': 1946, 'financial': 1725, 'bother': 548, 'slap': 4018, 'shake': 3914, 'notion': 3050, 'pleasure': 3306, 'hooked': 2153, 'theyll': 4444, 'theaters': 4428, 'torture': 4529, 'itll': 2369, 'handful': 2017, 'redeeming': 3577, 'recall': 3562, 'ford': 1789, 'managed': 2723, 'nose': 3037, 'surface': 4310, 'bright': 581, 'spots': 4132, 'bomb': 531, 'broadway': 592, 'numbers': 3061, 'pop': 3330, 'suck': 4269, 'pace': 3161, 'singing': 3995, 'offer': 3087, 'rated': 3527, 'entire': 1502, 'danny': 1112, 'glover': 1923, 'expensive': 1579, 'polished': 3323, 'utter': 4701, 'huge': 2185, 'sole': 4055, 'presence': 3373, 'depth': 1190, 'exact': 1550, 'roles': 3727, 'fails': 1628, 'miserably': 2864, 'moronic': 2907, 'serve': 3893, 'purpose': 3474, 'bill': 481, 'insulting': 2310, 'apparently': 270, 'league': 2549, 'terms': 4406, 'lets': 2580, 'pay': 3216, 'sounds': 4084, 'imagery': 2234, 'beautifully': 429, 'leading': 2547, 'inside': 2297, 'italy': 2368, 'hand': 2015, 'reaches': 3538, 'neo': 2998, 'landscape': 2513, 'places': 3284, 'paltrow': 3178, 'davies': 1125, 'costumes': 1006, 'spell': 4104, 'fat': 1663, 'steven': 4182, 'seagal': 3839, 'lowest': 2678, 'training': 4558, 'restaurant': 3658, 'laughing': 2533, 'clown': 862, 'force': 1786, 'playing': 3300, 'ultimate': 4627, 'response': 3654, 'sucks': 4271, 'yeah': 4977, 'england': 1482, 'native': 2972, 'meaning': 2780, 'sadly': 3769, 'neither': 2996, 'sexy': 3911, 'painted': 3174, 'ability': 65, 'remarks': 3615, 'reference': 3582, 'monkeys': 2891, 'slightest': 4028, 'matched': 2763, 'appeal': 271, 'personally': 3243, 'attracted': 349, 'claims': 830, 'nudity': 3059, 'six': 4010, 'helps': 2082, 'settle': 3902, 'sexual': 3908, 'problems': 3409, 'sleeping': 4025, 'clearly': 840, 'enjoying': 1487, 'worthwhile': 4955, 'unusual': 4681, 'discussion': 1284, 'breasts': 572, 'vague': 4705, 'vietnam': 4735, 'dropped': 1370, 'trite': 4589, 'downright': 1337, 'communist': 907, 'page': 3167, 'amusing': 221, 'embarrassed': 1453, 'dolls': 1316, 'dialogue': 1234, 'lousy': 2667, 'dire': 1257, 'wholly': 4874, 'water': 4816, 'cross': 1066, 'tunes': 4603, 'angles': 237, 'jazz': 2387, 'asking': 318, 'abysmal': 76, '1970s': 17, 'literature': 2623, 'closing': 859, 'decade': 1144, 'due': 1382, 'corporate': 998, 'golden': 1934, 'comedies': 889, 'mary': 2751, 'genres': 1889, 'studio': 4240, 'masses': 2755, 'europe': 1529, 'studios': 4241, '1930s': 11, 'starring': 4154, 'jimmy': 2403, 'cagney': 646, 'usually': 4700, 'co': 867, 'kids': 2467, 'dealt': 1138, 'issues': 2365, '1960s': 15, 'allowed': 190, 'strip': 4228, 'flying': 1764, '1950s': 14, 'notably': 3042, 'stood': 4199, 'invasion': 2340, 'constantly': 958, 'settings': 3901, 'twilight': 4614, 'zone': 4999, 'control': 977, 'rights': 3697, 'individual': 2277, 'references': 3583, 'current': 1084, 'oil': 3097, 'crisis': 1060, 'cost': 1003, 'finest': 1730, 'gas': 1874, 'food': 1778, 'lying': 2690, 'stanley': 4148, 'fairly': 1631, 'cinematographer': 819, 'lit': 2621, 'visuals': 4759, 'fashion': 1659, 'hunt': 2198, 'chief': 788, 'predictable': 3367, 'tedious': 4387, 'gag': 1861, 'reel': 3581, 'description': 1197, 'reaction': 3541, 'straight': 4210, 'succeeded': 4263, 'ape': 266, 'per': 3223, 'mask': 2752, 'store': 4204, 'painfully': 3172, 'repetitive': 3633, 'analysis': 224, 'exploitation': 1592, 'despair': 1207, 'whoever': 4872, 'reaching': 3539, 'harsh': 2040, 'politically': 3325, 'relation': 3595, 'environment': 1505, 'reach': 3536, 'unseen': 4678, 'twists': 4619, 'whatsoever': 4861, 'featuring': 1681, 'literally': 2622, 'contrary': 974, 'pleasantly': 3303, 'surprised': 4313, 'obscure': 3068, 'nevertheless': 3002, '80s': 59, 'ambitious': 211, 'reporter': 3636, 'jennifer': 2392, 'equally': 1510, 'festival': 1697, 'hotel': 2175, 'forgot': 1796, 'trio': 4587, 'friendly': 1836, 'suspicious': 4332, 'museum': 2945, 'countryside': 1015, 'sister': 4001, 'victoria': 4732, 'hide': 2097, 'secret': 3849, 'described': 1195, 'psycho': 3457, 'texas': 4418, 'massacre': 2754, 'themes': 4434, 'twisted': 4618, 'secrets': 3852, 'killers': 2471, 'consider': 949, 'unsettling': 4679, 'clear': 839, 'maintain': 2710, 'keeping': 2450, 'promised': 3431, 'choices': 798, 'ideal': 2214, 'choice': 797, 'appearance': 274, 'stephen': 4176, 'tremendous': 4579, 'junior': 2435, 'authentic': 358, 'basement': 405, 'generally': 1881, 'couldve': 1009, 'ran': 3513, 'build': 614, 'starting': 4158, 'substance': 4258, 'retired': 3664, 'deliberately': 1166, 'professional': 3421, 'african': 142, 'report': 3635, 'navy': 2976, 'petty': 3249, 'sunday': 4293, 'illegal': 2229, '2nd': 41, 'passed': 3202, 'test': 4416, 'price': 3389, 'ocean': 3079, 'spain': 4091, 'saved': 3795, 'complex': 923, 'tried': 4584, 'proud': 3444, 'carefully': 689, 'dialogues': 1235, 'matthau': 2771, 'burns': 628, 'develop': 1222, 'reunion': 3669, 'clark': 832, 'whereas': 4865, 'lewis': 2586, 'country': 1014, 'comedic': 888, 'contrast': 975, 'creating': 1039, 'pages': 3168, 'fascinating': 1658, 'australian': 357, 'streep': 4215, 'accused': 91, 'media': 2789, 'lynch': 2691, 'womans': 4922, 'evidence': 1546, 'justice': 2438, 'system': 4345, 'ought': 3138, '12': 3, 'angry': 238, 'liberal': 2588, 'beings': 449, 'careful': 688, 'dry': 1377, 'lots': 2662, 'dolph': 1317, 'alex': 179, 'likable': 2598, 'menacing': 2807, 'sidekick': 3966, 'wished': 4905, 'sidney': 3968, 'fantastic': 1651, 'kicks': 2463, 'ass': 323, 'charismatic': 763, 'rage': 3505, 'rules': 3754, 'laughably': 2531, 'annoyed': 248, 'warm': 4794, 'students': 4239, 'bollywood': 530, 'massive': 2756, 'hype': 2207, 'chasing': 772, 'calling': 653, 'joined': 2413, 'brothers': 599, 'roy': 3745, 'company': 910, 'secretly': 3851, 'reveal': 3670, 'till': 4493, 'childhood': 790, 'khan': 2459, 'trained': 4557, 'talent': 4354, 'whom': 4875, 'skills': 4014, 'forms': 1801, 'technical': 4381, 'defined': 1160, 'bore': 540, 'stiff': 4187, 'capturing': 679, 'stole': 4194, 'forgettable': 1794, 'strictly': 4223, 'incomprehensible': 2267, 'bullets': 621, 'keeps': 2451, 'glass': 1917, 'bathroom': 412, 'size': 4012, 'five': 1743, 'soldiers': 4054, 'drive': 1363, 'intentionally': 2320, 'mel': 2796, 'russian': 3762, 'dawn': 1127, 'range': 3516, 'remembered': 3617, 'clint': 850, 'eastwood': 1409, 'biggest': 480, 'distant': 1295, 'memory': 2804, 'surprisingly': 4316, 'buddy': 609, 'particularly': 3195, 'subplots': 4256, 'weakest': 4825, 'central': 735, 'carry': 700, 'adequate': 120, 'concerned': 932, 'reasonably': 3559, 'extent': 1605, 'nonsense': 3030, 'catches': 715, 'improved': 2255, 'actress': 105, 'wondered': 4927, 'rubbish': 3748, 'politics': 3326, 'pre': 3365, 'wwii': 4975, 'india': 2273, 'modern': 2882, 'indians': 2275, 'surely': 4309, 'clichéd': 845, 'narrative': 2966, 'dimensional': 1253, 'pain': 3170, '1983': 22, 'productions': 3420, 'sword': 4340, 'sub': 4252, 'couldnt': 1008, 'cheesy': 781, 'spoilers': 4124, 'rick': 3689, 'hill': 2108, 'witch': 4909, 'creation': 1040, 'fortunately': 1805, 'kings': 2481, 'anybody': 257, 'therefore': 4439, 'luckily': 2682, 'incredibly': 2270, 'hair': 2005, 'introduced': 2337, 'hiding': 2099, 'traveling': 4568, 'companion': 909, 'fights': 1710, 'ugly': 4625, 'locked': 2637, 'chest': 784, 'candy': 668, 'sometimes': 4067, 'entertained': 1498, 'saturday': 3792, 'stick': 4185, 'stayed': 4167, 'forth': 1804, 'fully': 1847, 'thoughtful': 4463, '100': 1, 'dying': 1393, 'claire': 831, 'danes': 1108, 'patrick': 3213, 'paul': 3214, 'sharp': 3922, 'detailed': 1218, 'hugh': 2186, '1940s': 13, '50s': 52, 'hopes': 2159, 'alien': 183, 'sat': 3786, 'robot': 3717, 'depressing': 1188, 'growing': 1983, 'creator': 1043, 'suffering': 4277, 'depression': 1189, 'honestly': 2147, 'fascinated': 1657, 'plots': 3310, 'steve': 4181, 'win': 4892, 'noticed': 3049, 'pat': 3208, 'pamela': 3179, 'practice': 3363, 'public': 3460, 'foul': 1810, 'terry': 4415, 'types': 4622, 'available': 361, 'skip': 4016, 'fate': 1665, 'medical': 2790, 'destroy': 1213, 'experiment': 1583, 'rats': 3531, 'determined': 1221, 'addition': 118, 'length': 2569, 'mixture': 2878, 'sink': 3999, 'horrendous': 2162, 'cat': 713, 'cake': 648, 'corner': 996, 'lab': 2501, 'bigger': 479, 'reminds': 3620, 'building': 615, 'childrens': 793, 'generated': 1882, 'buffs': 612, 'rat': 3525, 'cared': 685, 'advice': 133, 'transfer': 4559, 'audio': 354, 'mine': 2853, 'pool': 3327, 'swedish': 4335, 'parallel': 3185, 'theater': 4427, 'universe': 4666, 'existed': 1570, 'florida': 1761, 'lower': 2677, 'san': 3780, 'francisco': 1819, 'gandhi': 1866, 'asked': 317, 'western': 4853, 'civilization': 827, 'hole': 2132, 'ready': 3546, 'gem': 1877, 'semi': 3874, 'dubbed': 1379, 'surreal': 4317, 'sinister': 3998, 'dedicated': 1153, 'silence': 3974, 'prove': 3445, 'motives': 2916, 'dozen': 1338, 'kidnapped': 2466, 'forced': 1787, 'spooky': 4128, 'rooms': 3736, 'meant': 2784, 'spanish': 4092, 'cars': 702, 'press': 3379, 'favourite': 1673, 'artists': 309, 'feet': 1688, '90': 60, '15': 7, 'hbo': 2055, 'reached': 3537, 'hardcore': 2034, 'failed': 1626, 'besides': 468, 'asian': 314, 'vacation': 4704, 'capital': 673, 'chicks': 787, 'amateur': 206, 'sick': 3963, 'gonna': 1936, 'disappointment': 1275, 'willing': 4889, 'club': 863, 'rural': 3758, 'beatty': 427, 'alas': 172, 'grew': 1972, 'gadget': 1860, 'cartoons': 705, 'learned': 2551, 'spin': 4112, 'field': 1704, 'ruined': 3751, 'cartoon': 704, 'matthew': 2772, 'definitely': 1162, 'smart': 4035, 'mostly': 2910, 'accident': 84, 'competent': 917, 'dumb': 1385, 'morning': 2906, 'idiots': 2220, 'overdone': 3152, 'remotely': 3623, 'uwe': 4703, 'boll': 529, 'stays': 4169, 'content': 966, 'dealing': 1136, 'wears': 4832, 'welcome': 4842, 'united': 4664, 'value': 4709, 'exaggerated': 1552, 'gags': 1862, 'surprise': 4312, 'consists': 955, 'shooting': 3943, 'twice': 4613, 'endless': 1473, 'celluloid': 731, 'nicely': 3009, 'comparing': 913, 'credits': 1050, 'minute': 2858, 'college': 875, 'driving': 1368, 'cabin': 643, 'endings': 1472, 'laurel': 2537, 'site': 4005, 'soul': 4079, 'beast': 422, 'rex': 3683, 'answer': 251, 'blade': 495, 'decided': 1149, 'spend': 4105, 'curious': 1083, 'insane': 2296, 'waited': 4771, 'expecting': 1578, 'sandler': 3781, 'frequently': 1832, 'talks': 4361, 'afternoon': 144, 'charming': 768, 'party': 3200, 'mad': 2696, 'happen': 2026, 'clean': 838, 'wild': 4885, 'captured': 677, 'metal': 2823, 'screening': 3830, 'tonight': 4519, 'hasnt': 2044, 'girlfriend': 1910, 'buddies': 608, 'super': 4295, '24': 39, 'bunch': 623, 'specifically': 4100, 'square': 4136, 'messages': 2820, 'boyfriend': 558, 'homosexual': 2145, 'dare': 1113, 'unfolds': 4651, 'pg': 3250, '13': 4, 'gotten': 1947, 'enjoys': 1489, 'exposure': 1599, 'bet': 470, 'deliver': 1169, 'alice': 182, 'kicked': 2461, 'flies': 1756, 'window': 4894, 'soundtrack': 4085, '90s': 61, 'props': 3439, 'bottle': 550, 'figured': 1712, 'onto': 3111, 'chose': 804, 'opened': 3113, 'france': 1816, 'reflect': 3584, 'thoughts': 4464, 'regard': 3588, 'voices': 4763, 'seeking': 3859, 'critics': 1064, 'ghost': 1902, 'sadness': 3770, 'hearing': 2063, 'inspiring': 2302, 'muslim': 2949, 'wake': 4774, 'critic': 1061, 'brave': 567, 'warning': 4800, 'smoke': 4039, 'mail': 2706, 'rental': 3627, 'opposite': 3123, 'ignored': 2225, 'treat': 4572, 'ego': 1435, 'step': 4175, 'hitting': 2126, 'path': 3209, 'tim': 4494, 'edited': 1420, 'male': 2719, 'loaded': 2632, 'scenario': 3808, 'manage': 2722, 'magical': 2704, 'dress': 1357, 'attraction': 350, 'par': 3184, 'week': 4837, 'convinced': 984, 'bland': 500, 'seed': 3856, 'promising': 3433, 'mainstream': 2709, 'downhill': 1336, 'generic': 1885, 'holes': 2133, 'combined': 885, 'altogether': 202, 'mario': 2738, 'fulci': 1845, 'devoted': 1231, 'capable': 672, 'rate': 3526, 'holy': 2140, 'endure': 1475, 'witnessed': 4915, 'moved': 2922, 'non': 3027, 'existent': 1572, 'somewhere': 4069, 'riding': 3695, 'desperately': 1209, 'punch': 3466, 'painful': 3171, 'anymore': 258, 'cash': 709, 'balls': 390, 'videos': 4734, 'devils': 1229, 'skin': 4015, 'foot': 1781, 'breaking': 570, 'hot': 2174, 'arm': 292, 'subsequent': 4257, 'sequences': 3888, 'unconvincing': 4638, 'kicking': 2462, 'pushing': 3479, 'staged': 4140, 'rough': 3741, 'tree': 4576, 'guts': 1999, 'sleazy': 4023, 'chair': 742, 'hitler': 2124, 'youth': 4994, 'views': 4742, 'disturbed': 1299, 'ed': 1415, 'turning': 4608, 'finger': 1731, 'revolutionary': 3681, 'march': 2734, 'lasted': 2522, 'required': 3641, 'false': 1641, 'winning': 4898, 'prize': 3405, 'correct': 1000, 'began': 441, 'drawing': 1350, 'wondering': 4930, 'hearted': 2065, 'proved': 3446, 'introduce': 2336, 'sheriff': 3929, 'installment': 2303, 'namely': 2962, 'wayne': 4821, 'hyde': 2206, 'felix': 1689, 'lesser': 2576, 'achievement': 94, 'stellar': 4174, 'enjoyable': 1485, 'bargain': 400, '17': 9, 'service': 3896, 'priest': 3392, 'placed': 3283, 'lengthy': 2570, 'offered': 3088, 'chain': 741, 'bank': 394, 'manager': 2724, 'education': 1424, 'wealthy': 4827, 'measure': 2786, 'irony': 2357, 'mr': 2929, 'sea': 3838, 'foreign': 1790, 'sounding': 4083, 'authority': 360, 'virtually': 4751, 'sun': 4292, 'latter': 2528, 'anne': 246, 'wearing': 4831, 'realizes': 3554, 'patients': 3212, 'separate': 3883, 'humorous': 2193, 'aged': 149, 'resident': 3647, 'betty': 474, 'ann': 244, 'romance': 3732, 'jean': 2389, 'simmons': 3981, 'spite': 4117, 'territory': 4411, 'tend': 4400, 'gerard': 1895, 'crimes': 1056, 'engage': 1479, 'portrayed': 3342, 'stomach': 4196, 'tired': 4501, 'mouth': 2920, 'intention': 2319, 'alfred': 181, 'birds': 485, 'blair': 497, 'project': 3427, 'ring': 3698, 'halloween': 2010, 'cell': 730, '13th': 5, 'omen': 3104, 'desperate': 1208, 'searching': 3842, 'link': 2613, 'discovered': 1280, 'internet': 2327, 'bought': 552, 'anna': 245, 'draws': 1352, 'asleep': 320, 'outside': 3146, 'decides': 1150, 'draw': 1349, 'quote': 3496, 'elm': 1447, 'viewing': 4740, 'shocked': 3939, 'upset': 4687, 'teen': 4388, 'developing': 1224, 'kitchen': 2485, 'grown': 1984, 'emotion': 1458, 'charlotte': 766, 'portrayal': 3341, 'died': 1244, 'alright': 198, 'jump': 2429, 'legs': 2566, 'broke': 593, 'dust': 1388, 'shorts': 3948, 'relate': 3593, 'common': 906, 'strangers': 4214, 'cooper': 990, 'andy': 230, 'julie': 2428, 'ethan': 1528, 'rachel': 3500, 'sum': 4289, 'segments': 3868, 'meaningless': 2782, 'maggie': 2702, 'uneven': 4649, 'wise': 4903, 'brooklyn': 595, 'wedding': 4836, 'wish': 4904, 'consistent': 953, 'ancient': 225, 'ridiculously': 3694, 'uninteresting': 4660, 'bag': 384, 'worthless': 4954, 'superman': 4301, 'primary': 3394, 'secondly': 3847, 'beer': 439, 'drinking': 1362, 'cheated': 775, 'suggests': 4282, 'suggest': 4280, 'connected': 945, 'hurts': 2203, 'theatrical': 4430, 'darkness': 1117, 'zombie': 4997, 'similarly': 3980, 'operation': 3117, 'inept': 2281, 'scientists': 3819, 'idiotic': 2219, 'ears': 1402, 'fest': 1696, 'corpse': 999, 'swear': 4334, 'sits': 4006, 'paper': 3183, 'exposed': 1598, 'needless': 2989, 'murders': 2943, 'mirror': 2861, 'thief': 4448, 'burn': 625, 'introduction': 2339, 'listening': 2620, 'boom': 537, 'load': 2631, 'drives': 1367, 'seek': 3858, 'walks': 4780, 'dirty': 1268, 'hello': 2078, 'zombies': 4998, 'wall': 4781, 'escapes': 1519, 'blowing': 515, 'stuck': 4237, 'proceeds': 3411, 'pushed': 3478, 'words': 4938, 'concerning': 933, 'greatly': 1967, 'talk': 4358, 'throat': 4476, 'lies': 2591, 'hospital': 2172, 'useless': 4695, 'scream': 3826, 'blown': 516, 'clothing': 861, 'blue': 518, 'door': 1328, 'survivors': 4325, 'helicopter': 2076, 'regardless': 3590, 'minimal': 2855, 'thick': 4447, 'sleep': 4024, 'popcorn': 3331, 'trust': 4598, 'showcase': 3954, 'peoples': 3222, 'animals': 240, 'copies': 992, 'included': 2262, 'threatening': 4468, 'copy': 994, 'online': 3109, 'discover': 1279, 'loads': 2633, 'bits': 490, 'marie': 2737, 'voiced': 4762, 'physically': 3263, 'warren': 4801, 'don': 1320, 'villains': 4745, 'charlie': 765, 'haunting': 2051, 'disneys': 1290, 'suffered': 4276, 'poignant': 3315, 'flaw': 1749, 'burt': 629, 'reynolds': 3684, 'watchable': 4812, 'cox': 1026, 'jason': 2383, 'sam': 3777, 'vampire': 4711, 'pursuit': 3476, 'minded': 2850, 'grandmother': 1955, 'demon': 1177, 'farce': 1654, 'spends': 4107, 'crack': 1027, 'constant': 957, 'source': 4086, 'wrap': 4963, 'revealed': 3671, 'likely': 2601, 'accent': 78, 'tape': 4365, 'blah': 496, 'kills': 2474, 'failing': 1627, 'leaving': 2557, 'process': 3412, 'religious': 3608, 'surprising': 4315, 'interested': 2324, 'everybody': 1540, 'mall': 2720, 'fighting': 1709, 'stunts': 4246, 'influenced': 2287, 'nowadays': 3055, 'makers': 2715, 'chase': 769, 'mill': 2845, 'stale': 4141, 'merely': 2815, 'served': 3894, 'wore': 4939, 'disbelief': 1277, 'keaton': 2448, 'connect': 944, 'relief': 3605, 'lame': 2510, 'stunning': 4244, 'trapped': 4564, 'shadows': 3913, 'trick': 4582, 'practically': 3362, '45': 50, 'favor': 1670, 'regret': 3591, 'africa': 141, 'elizabeth': 1445, 'map': 2733, 'seeks': 3860, 'enemies': 1476, 'anger': 235, 'minds': 2852, 'loving': 2675, 'jaws': 2385, 'dancing': 1107, 'outer': 3143, 'jet': 2400, 'li': 2587, 'legend': 2564, 'sorry': 4076, 'de': 1131, 'niro': 3019, 'prince': 3396, 'magic': 2703, 'dozens': 1339, 'touches': 4535, 'elaborate': 1439, 'incredible': 2269, 'beaten': 424, 'closest': 857, 'intrigued': 2334, 'documentaries': 1306, 'forbidden': 1785, 'lie': 2590, 'losing': 2658, 'fortune': 1806, 'study': 4242, 'interviews': 2330, 'worried': 4949, 'con': 928, 'web': 4833, 'interview': 2329, 'ourselves': 3140, 'happening': 2028, 'receive': 3563, 'awards': 367, 'significant': 3972, 'subjects': 4254, 'beats': 426, 'harder': 2035, 'supposedly': 4307, 'lifetime': 2594, 'dude': 1381, 'depicted': 1183, 'distinct': 1296, 'perfectly': 3226, 'mood': 2898, 'letters': 2582, 'inspired': 2301, 'closed': 854, 'bitter': 491, 'sweet': 4336, 'lonely': 2643, 'poetic': 3313, 'language': 2516, 'naive': 2958, 'circle': 821, 'excitement': 1562, 'inspiration': 2300, 'worn': 4948, 'essence': 1521, 'hed': 2072, 'physical': 3262, 'journey': 2421, 'overlooked': 3154, 'conflicts': 940, 'focusing': 1769, 'frustrated': 1842, 'obsessed': 3069, 'passionate': 3206, 'notes': 3046, 'bride': 577, 'bela': 450, 'lugosi': 2686, 'scientist': 3818, 'elderly': 1440, 'russell': 3761, 'shouldnt': 3952, 'suspend': 4329, 'accomplished': 87, 'potentially': 3356, 'corny': 997, 'goofy': 1939, 'recorded': 3574, 'orson': 3132, 'welles': 4844, 'beneath': 464, 'struck': 4232, 'soviet': 4089, 'section': 3853, 'feelings': 1686, 'enjoyment': 1488, 'inevitable': 2282, 'areas': 287, 'revolution': 3680, 'hoping': 2160, 'classes': 834, 'elegant': 1441, 'judging': 2425, 'trailers': 4555, 'translation': 4562, 'todays': 4509, 'expressed': 1601, 'intimate': 2331, 'emily': 1456, 'blunt': 520, 'depicts': 1186, 'tender': 4401, 'albert': 174, 'wonderfully': 4929, 'lacking': 2504, 'soap': 4047, 'overacting': 3149, 'nurse': 3063, 'added': 116, 'subplot': 4255, 'stone': 4197, 'buried': 624, 'vivid': 4760, 'leader': 2546, 'richardson': 3688, 'joan': 2404, 'pulling': 3463, 'dave': 1123, 'argue': 290, '20': 29, 'gradually': 1952, 'wood': 4933, 'spy': 4135, 'chases': 771, 'adventure': 130, 'signs': 3973, 'underlying': 4641, 'comfortable': 892, 'lights': 2597, 'inane': 2258, 'racism': 3502, 'headed': 2058, 'disgusting': 1286, 'anyways': 262, 'sarah': 3785, 'sisters': 4002, 'deaf': 1134, 'topic': 4526, 'nightmares': 3015, 'national': 2970, 'angel': 231, 'symbolism': 4341, 'library': 2589, 'disagree': 1269, 'dreary': 1356, '80': 58, 'lone': 2642, 'bob': 524, 'proof': 3434, 'mildred': 2841, 'eight': 1436, 'double': 1331, 'nicholas': 3010, 'cage': 645, 'underrated': 4642, 'youd': 4987, 'chosen': 805, 'heavily': 2069, 'reduced': 3579, 'crucial': 1068, 'steal': 4170, 'owner': 3159, 'crash': 1033, 'dangerous': 1110, 'frank': 1821, 'forces': 1788, 'tall': 4362, 'race': 3499, 'flawless': 1751, 'advise': 134, 'margaret': 2735, 'tradition': 4549, 'folks': 1771, 'parties': 3196, 'pretentious': 3383, 'believed': 455, 'mini': 2854, 'train': 4556, 'pan': 3180, 'nervous': 2999, 'european': 1530, 'cringe': 1059, 'packed': 3166, 'passes': 3203, 'tomatoes': 4515, 'fourth': 1813, 'vengeance': 4719, 'stewart': 4184, 'cable': 644, 'heck': 2071, 'masterpieces': 2760, 'related': 3594, 'twins': 4616, 'speaks': 4096, 'brand': 565, 'corrupt': 1001, 'attorney': 348, 'lighting': 2596, 'noir': 3023, 'dressing': 1359, 'poster': 3353, 'advance': 127, 'causes': 725, 'lawyer': 2541, 'thugs': 4484, 'private': 3404, 'elsewhere': 1449, 'staring': 4152, 'cook': 988, 'suitable': 4285, 'visits': 4756, 'enters': 1496, 'abc': 63, 'laura': 2536, 'promise': 3430, 'subtitles': 4259, 'meets': 2795, 'barbara': 397, 'learns': 2553, 'spoil': 4121, 'snake': 4042, 'teenager': 4390, 'definite': 1161, 'directly': 1263, 'narration': 2965, 'ultra': 4629, 'warn': 4797, 'throwing': 4480, 'senseless': 3878, 'table': 4346, 'pride': 3391, 'actions': 101, 'tracks': 4545, 'germans': 1897, 'aint': 163, 'bettie': 473, 'disappoint': 1272, 'desired': 1206, 'sexuality': 3909, 'turner': 4607, 'captures': 678, 'attempted': 341, 'deserve': 1199, 'saving': 3797, 'leonard': 2572, 'dropping': 1371, 'lyrics': 2692, 'masterpiece': 2759, 'inducing': 2279, 'desperation': 1210, 'fear': 1676, 'circumstances': 822, 'jaw': 2384, 'tongue': 4518, 'haunted': 2050, 'ordinary': 3128, 'executed': 1565, 'argument': 291, 'grant': 1956, 'gifted': 1907, 'generous': 1886, 'identify': 2216, 'eager': 1396, 'arrives': 302, 'comics': 895, 'pie': 3271, 'lou': 2663, 'appearances': 275, 'chaplin': 756, 'hart': 2041, 'replaced': 3634, 'steel': 4173, 'trap': 4563, 'neil': 2995, 'guilt': 1994, 'clue': 864, 'tag': 4348, 'sacrifice': 3766, 'fictional': 1703, 'laughter': 2535, 'fly': 1763, 'throws': 4482, 'bear': 420, 'thankfully': 4422, 'shortly': 3947, 'tour': 4538, 'burning': 627, 'spoiled': 4122, 'wrapped': 4964, '35': 45, 'mountain': 2917, 'sir': 4000, 'bullet': 620, 'qualities': 3483, 'implausible': 2245, 'robinson': 3716, 'vhs': 4725, 'viewings': 4741, 'touching': 4536, 'karen': 2444, 'tony': 4521, 'lovable': 2668, 'ignore': 2224, 'april': 284, '1999': 27, 'merit': 2816, 'empathy': 1462, 'fallen': 1638, 'boxing': 556, 'faced': 1617, 'awake': 365, 'michelle': 2830, 'babe': 375, 'product': 3418, 'changed': 750, 'satisfying': 3791, 'fashioned': 1660, 'husbands': 2205, 'smile': 4036, 'lesson': 2577, 'network': 3000, 'seven': 3903, 'nights': 3016, 'tune': 4602, 'gift': 1906, 'explains': 1589, 'solve': 4060, 'continue': 969, 'originality': 3130, 'ashley': 313, 'bar': 396, 'greek': 1970, 'lacks': 2505, 'loser': 2655, '75': 57, 'jungle': 2434, 'rocky': 3723, 'lake': 2509, 'gratuitous': 1961, 'makeup': 2717, 'cannibal': 669, 'opposed': 3122, 'elephant': 1444, 'website': 4834, 'taxi': 4371, 'scripts': 3836, 'sports': 4130, 'bobby': 525, 'baseball': 403, 'originally': 3131, 'producers': 3416, '1990s': 25, 'entry': 1504, 'location': 2635, 'wes': 4851, 'shape': 3919, 'ellen': 1446, 'underground': 4640, 'experiments': 1584, 'serves': 3895, 'safety': 3772, 'mysteries': 2954, 'large': 2517, 'portion': 3338, 'relatively': 3600, 'pacino': 3164, 'madonna': 2699, 'et': 1526, 'tends': 4402, 'diana': 1237, 'thrillers': 4473, 'featured': 1679, 'ps': 3453, 'ya': 4976, 'everyones': 1543, 'numerous': 3062, 'decision': 1151, 'dvds': 1392, 'toilet': 4512, 'thus': 4486, 'disappeared': 1271, 'actresses': 106, 'strike': 4224, 'screaming': 3827, 'awfully': 373, 'trail': 4553, 'homeless': 2143, 'mexican': 2826, 'remaining': 3610, 'deaths': 1142, 'unlikely': 4671, 'showdown': 3955, 'boss': 546, 'fits': 1741, 'dogs': 1311, 'teach': 4374, 'westerns': 4854, 'contains': 964, 'stinks': 4192, 'prefer': 3368, 'considerable': 950, 'degree': 1164, 'amanda': 205, 'wannabe': 4787, 'costs': 1004, 'trees': 4577, 'ticket': 4487, 'ship': 3934, 'gay': 1876, 'alternate': 200, 'imaginative': 2237, 'pokemon': 3320, 'rangers': 3517, 'titles': 4506, 'worry': 4950, '1980s': 21, 'examples': 1554, 'bears': 421, 'tales': 4357, 'mouse': 2919, 'molly': 2884, 'describe': 1194, 'whenever': 4863, 'stinker': 4191, 'carpenter': 694, 'behave': 445, 'ron': 3734, 'variety': 4714, 'nuts': 3064, 'horribly': 2164, 'choose': 799, 'hence': 2083, 'inferior': 2285, 'critical': 1062, 'match': 2762, 'upper': 4685, 'montage': 2894, 'photo': 3257, 'improve': 2254, 'protagonists': 3442, 'cheating': 776, 'illogical': 2231, 'choreographed': 801, 'slapstick': 4019, 'suspenseful': 4331, 'lucky': 2683, 'nyc': 3065, 'blew': 505, 'award': 366, 'eric': 1514, 'judy': 2426, 'september': 3884, 'touched': 4534, 'drivel': 1364, 'rival': 3706, 'string': 4227, 'avoided': 364, 'ludicrous': 2685, 'horses': 2171, 'occur': 3076, 'typically': 4624, 'eccentric': 1414, 'dear': 1140, 'reasonable': 3558, 'voight': 4764, 'harvey': 2042, 'extended': 1604, 'stops': 4203, 'scooby': 3820, 'doo': 1325, 'signed': 3971, 'reminiscent': 3621, 'involve': 2345, 'fire': 1734, 'weapons': 4829, 'fx': 1858, 'focused': 1767, 'weight': 4840, 'channels': 754, 'accidentally': 85, 'sixties': 4011, 'household': 2179, 'hat': 2045, 'bare': 398, 'backgrounds': 381, 'uninspired': 4657, 'occasion': 3073, 'singer': 3993, 'singers': 3994, 'merits': 2817, 'performers': 3232, 'host': 2173, 'stunt': 4245, 'dignity': 1252, 'campbell': 663, 'wouldve': 4959, 'grey': 1973, 'bucks': 606, 'anime': 243, 'lesbian': 2573, 'structure': 4233, 'relies': 3606, 'folk': 1770, 'surviving': 4323, 'doctors': 1305, 'joe': 2407, 'newly': 3004, 'bbc': 417, 'removed': 3624, 'spring': 4134, 'juvenile': 2441, 'donald': 1321, 'sutherland': 4333, 'persona': 3239, 'wendy': 4846, 'idiot': 2218, 'hook': 2152, 'shoes': 3941, 'roger': 3724, 'cousin': 1021, 'button': 639, 'justify': 2439, 'kane': 2442, 'craven': 1034, 'fever': 1699, 'dating': 1120, 'sons': 4073, 'drew': 1360, 'centered': 733, 'thirty': 4456, '2004': 34, 'favorites': 1672, 'pack': 3165, 'campy': 664, 'bat': 410, 'hitchcock': 2123, 'horrors': 2169, 'hates': 2048, 'recording': 3575, 'limited': 2606, 'stupidity': 4248, 'selfish': 3870, 'unwatchable': 4682, 'nicholson': 3011, 'emotionally': 1460, 'ghosts': 1903, 'kinda': 2477, 'partly': 3197, 'cats': 721, 'psychic': 3456, 'mentally': 2809, 'norman': 3035, 'chick': 786, 'shower': 3957, 'bite': 489, 'vaguely': 4706, 'anthony': 253, 'adult': 125, 'females': 1694, 'brains': 563, 'eaten': 1412, 'closet': 858, 'mature': 2773, 'burned': 626, 'artistic': 308, 'abilities': 64, 'china': 795, 'roots': 3738, 'dad': 1095, 'gangsters': 1869, 'tricks': 4583, 'established': 1524, 'kurt': 2499, 'andrew': 228, 'miller': 2846, 'angels': 234, 'americas': 215, 'cities': 823, 'larger': 2519, 'property': 3438, 'mere': 2814, 'neighbor': 2992, 'heroine': 2091, 'chinese': 796, 'rings': 3699, 'purchased': 3470, 'monkey': 2890, 'arrived': 301, 'brosnan': 597, 'gentle': 1890, 'drunken': 1376, 'combination': 883, 'frequent': 1831, 'childish': 791, 'bumbling': 622, 'resemblance': 3645, 'striking': 4226, 'danger': 1109, 'plastic': 3294, 'glenn': 1918, 'explaining': 1588, 'cardboard': 682, 'cried': 1054, 'impact': 2244, 'passing': 3204, 'ball': 388, 'hunters': 2200, 'gold': 1932, 'silver': 3977, 'hong': 2149, 'wave': 4818, 'waves': 4819, 'accepted': 82, 'purely': 3472, 'prostitute': 3440, 'temple': 4398, 'satan': 3787, 'hopeless': 2158, 'destiny': 1212, 'australia': 356, 'frankenstein': 1822, 'relevant': 3604, 'antics': 255, 'majority': 2712, 'clothes': 860, 'imdb': 2240, 'east': 1407, 'unbelievably': 4635, 'spoken': 4126, 'iran': 2350, 'garden': 1872, 'drugs': 1374, 'encounter': 1466, 'desert': 1198, 'primarily': 3393, 'wear': 4830, 'absence': 70, 'mountains': 2918, 'ridden': 3691, 'construction': 960, 'falk': 1636, 'pseudo': 3454, 'godzilla': 1929, 'valuable': 4708, 'warming': 4795, 'humble': 2191, 'filmmaker': 1719, 'respect': 3652, 'evident': 1547, 'icon': 2211, 'adding': 117, 'unintentional': 4658, 'punk': 3468, 'wooden': 4934, 'annie': 247, 'believing': 457, 'painting': 3175, 'teachers': 4376, 'boat': 523, 'delivered': 1170, 'consistently': 954, 'bleak': 503, 'al': 170, 'weve': 4856, 'farm': 1656, 'global': 1920, 'newspaper': 3006, 'mike': 2838, 'opera': 3116, 'surfing': 4311, 'ii': 2226, 'criticism': 1063, 'rendition': 3625, 'firstly': 1737, 'banned': 395, 'continued': 970, 'wandering': 4785, 'estate': 1525, 'poverty': 3357, 'purposes': 3475, 'spare': 4093, 'isolated': 2363, 'fooled': 1780, 'stooges': 4200, 'plague': 3285, 'werewolf': 4850, 'associated': 327, 'credible': 1048, 'caliber': 649, 'random': 3514, 'caused': 724, 'prior': 3400, 'batman': 413, 'excited': 1561, 'fighter': 1708, 'enemy': 1477, 'defeat': 1157, 'stereotypical': 4180, 'characterization': 759, 'loyal': 2679, 'government': 1948, 'groups': 1981, 'vast': 4716, 'lose': 2654, 'discuss': 1283, 'bette': 471, 'album': 175, 'generations': 1884, 'performer': 3231, 'fairy': 1632, 'chuck': 812, 'tooth': 4524, 'bus': 631, 'commercials': 903, 'cusack': 1088, 'freak': 1824, 'styles': 4250, 'shining': 3933, '1968': 16, 'erotic': 1515, 'discovery': 1282, 'sudden': 4272, 'fired': 1735, 'satisfied': 3789, 'hired': 2117, 'edition': 1422, 'attitude': 346, 'captivating': 675, 'games': 1865, 'obsession': 3070, 'cuts': 1091, '2006': 36, 'popularity': 3334, 'believes': 456, 'category': 718, 'blockbuster': 509, 'stylish': 4251, 'wet': 4855, 'bringing': 586, 'harris': 2038, 'outfit': 3144, 'theatre': 4429, 'hal': 2006, 'sophisticated': 4075, 'countless': 1012, 'lips': 2615, 'epic': 1506, 'universal': 4665, 'remain': 3609, 'whale': 4857, 'suggested': 4281, 'kay': 2447, 'donna': 1323, 'brady': 561, 'marry': 2745, 'sings': 3997, 'hire': 2116, 'mistaken': 2872, 'matters': 2770, 'happily': 2030, 'kevin': 2457, 'quest': 3486, 'glory': 1922, 'bedroom': 437, 'compelling': 916, 'struggles': 4235, 'wow': 4962, 'carries': 699, 'performed': 3230, 'denzel': 1181, 'washington': 4806, 'timothy': 4499, 'west': 4852, 'praise': 3364, 'stanwyck': 4149, 'shell': 3927, 'changes': 751, 'quit': 3494, 'waters': 4817, 'smaller': 4034, 'virgin': 4749, 'matt': 2768, 'familys': 1646, 'pink': 3277, 'hoped': 2156, 'confusing': 942, 'disease': 1285, 'misery': 2865, 'factor': 1622, 'sneak': 4043, 'knife': 2487, 'hundreds': 2196, 'thousands': 4466, 'holly': 2136, 'los': 2653, 'angeles': 233, 'quirky': 3493, 'explained': 1587, 'summary': 4290, 'spider': 4109, 'health': 2060, 'graphics': 1959, 'overrated': 3156, 'bergman': 466, 'directorial': 1265, 'freeman': 1829, 'contain': 962, 'terror': 4412, 'ian': 2209, 'scientific': 3817, 'historically': 2120, 'noble': 3021, 'department': 1182, 'guest': 1992, 'holiday': 2134, '30': 42, 'coffee': 870, 'cup': 1080, 'edgar': 1417, 'joseph': 2419, 'nazis': 2978, 'st': 4137, 'walter': 4784, 'stretched': 4222, 'blows': 517, 'equal': 1509, 'likes': 2602, 'faster': 1662, 'eastern': 1408, 'linda': 2609, 'intent': 2318, 'wishes': 4906, 'celebrity': 729, 'benefit': 465, 'pro': 3406, 'shut': 3961, 'sadistic': 3768, 'possessed': 3347, 'witches': 4910, 'burton': 630, 'fond': 1776, 'oscars': 3134, 'judge': 2424, 'wishing': 4907, 'brando': 566, 'undoubtedly': 4648, 'theyd': 4443, 'failure': 1629, '1996': 26, 'raped': 3522, 'interaction': 2322, 'exists': 1573, 'delivering': 1171, 'portraying': 3343, 'aforementioned': 139, 'access': 83, 'damon': 1101, 'sticks': 4186, 'cia': 814, 'agents': 151, 'flight': 1757, 'ben': 463, 'user': 4696, 'answers': 252, 'jewish': 2401, 'meaningful': 2781, 'fatal': 1664, 'bonus': 534, 'yelling': 4980, 'randomly': 3515, 'preview': 3386, 'tea': 4373, 'slight': 4027, 'weekend': 4838, 'reads': 3545, 'acid': 95, 'heads': 2059, 'tarzan': 4367, 'hundred': 2195, 'floating': 1758, 'picking': 3267, 'apes': 267, 'letting': 2583, 'dollar': 1314, 'centers': 734, 'survived': 4322, 'survivor': 4324, 'miracle': 2860, 'complaint': 920, 'empty': 1465, 'regarding': 3589, 'urge': 4689, 'relations': 3596, 'frustration': 1843, 'monk': 2889, 'ratings': 3530, 'thin': 4449, 'dinosaurs': 1256, 'kenneth': 2455, 'mars': 2746, 'dinosaur': 1255, 'marketing': 2741, 'raised': 3508, 'jackson': 2375, 'germany': 1898, 'smooth': 4041, 'serving': 3897, 'legal': 2563, 'suits': 4287, 'raise': 3507, 'guessing': 1991, 'holding': 2130, 'millions': 2848, 'laid': 2508, 'heston': 2094, 'drop': 1369, 'chicago': 785, 'chased': 770, 'hunter': 2199, 'amazingly': 210, 'listed': 2618, 'dracula': 1341, 'producer': 3415, 'realizing': 3555, 'vampires': 4712, 'swimming': 4338, 'roman': 3731, 'represent': 3637, 'speech': 4102, 'enter': 1494, 'activities': 102, 'vulnerable': 4768, 'statement': 4162, 'bird': 484, 'presumably': 3380, 'unaware': 4632, 'miike': 2837, 'cg': 739, 'satisfy': 3790, 'fury': 1855, 'leg': 2562, 'stereotype': 4178, 'cube': 1076, 'gripping': 1976, 'broadcast': 591, '1990': 24, 'toward': 4539, 'splendid': 4119, 'portrays': 3344, 'bush': 632, 'advanced': 128, '18': 10, 'ramones': 3512, 'wolf': 4920, 'logical': 2639, 'shall': 3916, 'transformation': 4560, 'nostalgic': 3039, 'buck': 605, 'marty': 2749, 'jesse': 2397, 'phony': 3256, 'curiosity': 1082, 'flicks': 1755, 'bo': 521, 'derek': 1192, 'butt': 638, 'assumed': 329, 'pair': 3176, 'boredom': 542, 'picks': 3268, 'base': 402, 'delivers': 1172, 'tiresome': 4502, 'heres': 2087, 'relatives': 3601, 'multi': 2935, 'flop': 1760, 'goldberg': 1933, 'unpleasant': 4674, 'mission': 2870, 'equipment': 1511, 'horse': 2170, 'sentimental': 3882, 'bugs': 613, 'dutch': 1389, 'overcome': 3151, 'riveting': 3708, 'mistress': 2874, 'similarities': 3979, 'mundane': 2938, 'instant': 2305, 'traditional': 4550, 'kirk': 2482, 'jessica': 2398, 'contact': 961, 'competition': 918, 'distance': 1294, 'fill': 1714, 'hamlet': 2013, 'nominated': 3025, 'branagh': 564, 'text': 4419, 'billy': 482, 'lemmon': 2567, 'distracting': 1297, 'principal': 3398, 'descent': 1193, 'madness': 2698, 'friendship': 1838, 'bold': 528, 'arguably': 289, 'grab': 1949, 'ah': 158, 'thousand': 4465, 'mitchell': 2875, 'arrive': 300, 'winters': 4901, 'hills': 2109, 'photographed': 3258, 'contract': 973, 'curtis': 1087, 'seventies': 3904, 'belong': 459, 'carrey': 696, '1973': 19, 'kong': 2494, 'legendary': 2565, 'agent': 150, 'print': 3399, 'trashy': 4566, 'choreography': 802, 'pleasant': 3302, 'contained': 963, 'definition': 1163, 'performing': 3233, 'orange': 3125, 'von': 4765, 'powell': 3358, 'editor': 1423, 'expression': 1602, 'polanski': 3321, 'spielberg': 4110, 'mayor': 2777, 'fonda': 1777, 'questionable': 3488, 'corruption': 1002, 'larry': 2520, '3d': 46, 'columbo': 881, 'noted': 3045, 'lifestyle': 2593, 'widow': 4883, 'scores': 3823, 'fred': 1825, 'bone': 533, 'funeral': 1849, 'conversations': 981, 'image': 2233, 'irish': 2353, 'goodness': 1938, 'lessons': 2578, 'drops': 1372, 'paying': 3217, 'mothers': 2912, 'extraordinary': 1607, 'occasionally': 3075, 'domestic': 1318, 'breath': 573, 'snow': 4045, 'wrestling': 4966, 'rubber': 3747, 'prisoners': 3403, 'coherent': 871, 'samurai': 3779, 'alcoholic': 177, 'adam': 111, 'cleverly': 842, 'dated': 1119, 'allen': 188, 'enterprise': 1495, 'unbearable': 4633, 'helen': 2075, 'bang': 393, 'wanna': 4786, 'cinemas': 817, 'disjointed': 1287, 'compelled': 915, 'catherine': 719, 'agrees': 157, 'revealing': 3672, 'tons': 4520, 'destruction': 1216, 'defend': 1158, 'awe': 370, 'blend': 504, 'protect': 3443, 'ruins': 3752, 'advantage': 129, 'cinderella': 815, '2005': 35, 'todd': 4510, 'challenge': 743, 'hideous': 2098, 'ear': 1397, 'grow': 1982, 'push': 3477, 'lucy': 2684, 'hanks': 2025, 'purchase': 3469, 'slaughter': 4021, 'grows': 1985, 'ties': 4490, 'shakespeare': 3915, '40': 48, 'bell': 458, 'nonsensical': 3031, 'cynical': 1093, 'explored': 1595, 'eyre': 1614, 'miscast': 2862, 'rochester': 3719, '70': 55, 'franco': 1820, 'suffice': 4279, 'wounded': 4961, 'glimpse': 1919, 'reed': 3580, 'lively': 2627, 'blond': 510, 'shy': 3962, 'grim': 1974, 'rolled': 3729, 'darker': 1116, 'adams': 112, 'elvis': 1451, 'johnson': 2411, 'curse': 1086, 'mummy': 2937, 'attempting': 342, 'ward': 4793, 'diane': 1238, 'covered': 1023, 'aunt': 355, 'remarkably': 3614, 'britain': 588, 'armed': 293, 'commented': 900, 'contrived': 976, 'carter': 703, 'leslie': 2574, 'stilted': 4190, 'davis': 1126, 'eve': 1532, 'outrageous': 3145, 'pulls': 3464, 'ritter': 3705, 'pot': 3354, 'dorothy': 1330, 'cameron': 661, 'stiller': 4189, 'official': 3094, 'ruthless': 3764, 'savage': 3793, 'confusion': 943, 'dreadful': 1353, 'faults': 1669, 'spoke': 4125, 'sexually': 3910, 'technique': 4383, 'exercise': 1568, 'emma': 1457, 'wallace': 4782, 'wizard': 4919, 'oz': 3160, 'wicked': 4879, 'cruise': 1071, 'swim': 4337, 'heroes': 2089, 'shark': 3921, 'colour': 880, 'composed': 926, 'useful': 4694, 'target': 4366, 'arnold': 296, 'richards': 3687, 'inventive': 2341, 'witnesses': 4916, 'provoking': 3452, 'fisher': 1739, 'luke': 2687, 'providing': 3451, 'equivalent': 1512, 'blow': 514, 'justin': 2440, 'agreed': 156, 'priceless': 3390, 'belongs': 460, 'hippie': 2115, 'invisible': 2344, 'existence': 1571, 'appearing': 277, 'rising': 3703, 'techniques': 4384, 'bay': 416, 'writes': 4970, 'executive': 1567, 'advertising': 132, 'tracy': 4546, 'korean': 2495, 'represented': 3638, 'tribute': 4581, 'simplicity': 3984, 'carrying': 701, 'widmark': 4882, 'workers': 4943, 'responsibility': 3655, 'wisdom': 4902, 'borrowed': 545, 'vincent': 4746, 'incident': 2260, 'rocket': 3721, 'realise': 3548, 'fix': 1744, 'contemporary': 965, '2007': 37, 'parker': 3191, 'bible': 477, 'mgm': 2828, 'louis': 2665, 'dramas': 1347, 'matches': 2764, 'boot': 538, 'homage': 2141, 'helping': 2081, 'inappropriate': 2259, '1984': 23, 'unoriginal': 4673, 'severe': 3906, 'ensues': 1493, 'hysterical': 2208, 'command': 897, 'sentence': 3881, 'rogers': 3725, 'dawson': 1128, 'everywhere': 1545, 'cheek': 779, 'switch': 4339, 'splatter': 4118, 'stan': 4142, 'horrid': 2165, 'duo': 1386, 'courage': 1018, 'screens': 3832, 'butler': 637, 'promises': 3432, 'staff': 4138, 'uncomfortable': 4637, 'lane': 2515, 'cards': 683, 'letter': 2581, 'solely': 4056, 'raw': 3532, 'conservative': 948, 'spirits': 4115, 'resulting': 3661, 'streisand': 4218, 'sappy': 3784, 'airplane': 166, 'amy': 222, 'julia': 2427, 'lees': 2560, 'mst3k': 2932, 'maria': 2736, 'hanging': 2023, 'fbi': 1675, 'disappear': 1270, 'nostalgia': 3038, 'philosophy': 3254, 'myers': 2952, 'freddy': 1826, 'jamie': 2379, 'ho': 2127, 'duty': 1390, 'angela': 232, 'guard': 1988, 'poem': 3312, 'appreciation': 281, 'teaching': 4377, 'crush': 1072, 'spending': 4106, 'fields': 1705, 'jay': 2386, 'countries': 1013, 'fay': 1674, 'methods': 2825, 'program': 3424, 'edie': 1419, 'opinions': 3119, 'provided': 3449, 'importance': 2246, 'term': 4405, 'loosely': 2651, 'steals': 4172, 'iii': 2227, 'creep': 1051, 'causing': 726, 'multiple': 2936, 'landscapes': 2514, 'toys': 4543, 'secretary': 3850, 'ladies': 2506, 'mate': 2765, 'macy': 2695, 'formula': 1802, 'southern': 4088, 'karloff': 2445, '3rd': 47, 'progress': 3425, 'talents': 4356, 'kubrick': 2496, 'suffer': 4275, 'quotes': 3497, 'president': 3378, 'parent': 3187, 'oliver': 3102, 'susan': 4326, 'assault': 324, 'messed': 2821, 'aids': 161, 'smiling': 4037, 'caine': 647, 'ruby': 3749, 'adventures': 131, 'north': 3036, 'broad': 590, 'bands': 392, 'vice': 4727, 'futuristic': 1857, 'perfection': 3225, 'nazi': 2977, 'alexander': 180, 'titled': 4505, 'psychiatrist': 3455, 'unpredictable': 4675, 'disc': 1278, 'hints': 2113, 'sid': 3964, 'obnoxious': 3067, 'che': 773, 'del': 1165, 'wealth': 4826, 'succeed': 4262, 'cameras': 660, 'triumph': 4590, 'currently': 1085, 'earned': 1401, 'robbery': 3711, 'doors': 1329, 'trademark': 4548, 'instantly': 2306, 'comical': 894, '1980': 20, 'olivier': 3103, 'doc': 1303, 'overwhelming': 3157, 'musicals': 2948, 'carol': 693, 'dancer': 1104, 'dickens': 1240, 'revolves': 3682, 'wreck': 4965, 'berlin': 467, 'retarded': 3663, 'vote': 4766, 'brazil': 568, 'travels': 4569, 'struggling': 4236, '40s': 49, 'daddy': 1096, 'duke': 1383, 'lena': 2568, 'guide': 1993, 'slave': 4022, 'victor': 4731, 'limits': 2607, 'iraq': 2351, 'domino': 1319, 'mtv': 2933, 'shoots': 3944, 'complain': 919, 'cheese': 780, 'diamond': 1236, 'machines': 2694, 'destroying': 1215, 'affected': 137, 'kudos': 2497, 'dancers': 1105, 'stargate': 4151, 'pulp': 3465, 'virginia': 4750, 'impress': 2250, 'involvement': 2347, 'carrie': 697, 'birthday': 487, 'giallo': 1904, 'sport': 4129, 'hamilton': 2012, 'blank': 501, 'tortured': 4530, 'melting': 2799, 'pointed': 3317, 'suited': 4286, 'catholic': 720, 'titanic': 4503, 'latin': 2527, 'deceased': 1146, 'precious': 3366, 'manhattan': 2726, 'em': 1452, 'investigate': 2342, 'morris': 2908, 'catching': 716, 'feminist': 1695, 'creators': 1044, 'lay': 2542, 'university': 4667, 'tie': 4488, 'hoffman': 2128, 'overlook': 3153, 'lumet': 2688, 'couples': 1017, 'strangely': 4212, 'cd': 728, 'stress': 4220, 'spike': 4111, 'kinds': 2478, 'guessed': 1990, 'flow': 1762, 'troubles': 4594, 'challenging': 744, 'basketball': 409, 'immensely': 2243, 'pit': 3278, 'offended': 3085, 'ranks': 3519, 'ha': 2002, '1933': 12, 'lily': 2605, 'blues': 519, 'buff': 611, 'canada': 666, 'airport': 167, 'restored': 3659, 'mickey': 2831, 'hunting': 2201, 'eva': 1531, 'adorable': 124, 'paulie': 3215, 'ginger': 1908, 'ted': 4386, 'combine': 884, 'amitabh': 216, 'drags': 1345, 'innovative': 2295, 'nomination': 3026, 'dalton': 1098, 'shine': 3931, 'hollywoods': 2138, 'caring': 691, 'talked': 4359, 'prevent': 3385, 'jumped': 2430, 'citizen': 824, 'novels': 3053, 'ninja': 3018, 'lol': 2640, 'feed': 1683, 'abraham': 69, 'lincoln': 2608, 'flynn': 1765, 'watches': 4814, 'receives': 3565, 'cliche': 843, 'joey': 2408, 'backdrop': 379, 'survival': 4320, 'chapter': 757, 'terrorists': 4414, 'neighbors': 2994, 'womens': 4924, '60': 53, 'method': 2824, 'pretending': 3382, 'explosion': 1596, 'sincere': 3991, 'nelson': 2997, 'combat': 882, 'cole': 873, 'snl': 4044, 'root': 3737, 'robbins': 3712, 'security': 3854, 'alcohol': 176, 'homer': 2144, 'attend': 344, 'doomed': 1327, 'simpson': 3987, 'june': 2433, 'worker': 4942, 'lovers': 2673, 'magazine': 2701, 'montana': 2895, 'represents': 3639, '1972': 18, 'travesty': 4570, 'cowboy': 1025, 'mechanical': 2788, 'willis': 4890, 'chess': 783, 'aimed': 162, 'stated': 4161, 'doom': 1326, 'purple': 3473, 'pants': 3182, 'assistant': 326, 'santa': 3783, 'excessive': 1560, 'rambo': 3511, 'displayed': 1292, 'dub': 1378, 'woody': 4936, 'rotten': 3740, 'exotic': 1574, '2002': 32, 'careers': 687, 'kidding': 2465, 'shirt': 3937, 'superbly': 4297, 'soccer': 4048, 'peters': 3248, 'steps': 4177, 'manipulative': 2727, 'widely': 4881, 'defense': 1159, 'mentions': 2813, 'someones': 4065, 'threw': 4470, 'lisa': 2616, 'transition': 4561, 'sullivan': 4288, 'georges': 1894, 'arrival': 299, 'interpretation': 2328, 'cary': 706, 'bud': 607, 'nail': 2957, 'guilty': 1995, 'hilariously': 2107, 'vicious': 4728, 'rap': 3520, 'sandra': 3782, 'photos': 3261, '3000': 43, 'demands': 1175, 'fetched': 1698, 'decisions': 1152, 'schools': 3814, 'wives': 4918, 'garbo': 1871, 'opportunities': 3120, 'gundam': 1997, 'honesty': 2148, 'heroic': 2090, 'resembles': 3646, 'ruth': 3763, 'blob': 507, 'fed': 1682, 'classical': 836, 'kelly': 2452, 'ingredients': 2289, 'royal': 3746, 'hank': 2024, 'houses': 2180, 'sinatra': 3989, 'astaire': 330, 'shirley': 3936, 'solution': 4059, 'eighties': 1437, 'bacall': 377, 'bin': 483, 'scrooge': 3837, 'factory': 1623, 'dances': 1106, 'scarecrow': 3804, 'waitress': 4773, 'heights': 2073, 'ballet': 389, 'grinch': 1975, 'businessman': 634, 'sunshine': 4294, 'foster': 1809, 'crocodile': 1065, 'elvira': 1450, 'gabriel': 1859, 'irrelevant': 2358, 'superhero': 4299, 'sellers': 3872, 'unit': 4663, 'blacks': 494, 'embarrassment': 1455, 'chooses': 800, 'dynamic': 1394, 'phantom': 3251, 'prom': 3429, 'der': 1191, 'modesty': 2883, 'jenny': 2393, 'atlantis': 332, 'championship': 745, 'grandfather': 1954}\n"
     ]
    }
   ],
   "source": [
    "print(str(vocabulary))"
   ]
  },
  {
   "cell_type": "markdown",
   "metadata": {},
   "source": [
    "Once you have added the endpoint name to the Lambda function, click on **Save**. Your Lambda function is now up and running. Next we need to create a way for our web app to execute the Lambda function."
   ]
  },
  {
   "cell_type": "markdown",
   "metadata": {},
   "source": [
    "### Setting up API Gateway\n",
    "\n",
    "Now that our Lambda function is set up, it is time to create a new API using API Gateway that will trigger the Lambda function we have just created.\n",
    "\n",
    "Using AWS Console, navigate to **Amazon API Gateway** and then click on **Get started**.\n",
    "\n",
    "On the next page, make sure that **New API** is selected and give the new api a name, for example, `sentiment_analysis_web_app`. Then, click on **Create API**.\n",
    "\n",
    "Now we have created an API, however it doesn't currently do anything. What we want it to do is to trigger the Lambda function that we created earlier.\n",
    "\n",
    "Select the **Actions** dropdown menu and click **Create Method**. A new blank method will be created, select its dropdown menu and select **POST**, then click on the check mark beside it.\n",
    "\n",
    "For the integration point, make sure that **Lambda Function** is selected and click on the **Use Lambda Proxy integration**. This option makes sure that the data that is sent to the API is then sent directly to the Lambda function with no processing. It also means that the return value must be a proper response object as it will also not be processed by API Gateway.\n",
    "\n",
    "Type the name of the Lambda function you created earlier into the **Lambda Function** text entry box and then click on **Save**. Click on **OK** in the pop-up box that then appears, giving permission to API Gateway to invoke the Lambda function you created.\n",
    "\n",
    "The last step in creating the API Gateway is to select the **Actions** dropdown and click on **Deploy API**. You will need to create a new Deployment stage and name it anything you like, for example `prod`.\n",
    "\n",
    "You have now successfully set up a public API to access your SageMaker model. Make sure to copy or write down the URL provided to invoke your newly created public API as this will be needed in the next step. This URL can be found at the top of the page, highlighted in blue next to the text **Invoke URL**."
   ]
  },
  {
   "cell_type": "markdown",
   "metadata": {},
   "source": [
    "## Step 7: Deploying our web app\n",
    "\n",
    "Now that we have a publicly available API, we can start using it in a web app. For our purposes, we have provided a simple static html file which can make use of the public api you created earlier.\n",
    "\n",
    "In the `website` folder there should be a file called `index.html`. Download the file to your computer and open that file up in a text editor of your choice. There should be a line which contains **\\*\\*REPLACE WITH PUBLIC API URL\\*\\***. Replace this string with the url that you wrote down in the last step and then save the file.\n",
    "\n",
    "Now, if you open `index.html` on your local computer, your browser will behave as a local web server and you can use the provided site to interact with your SageMaker model.\n",
    "\n",
    "If you'd like to go further, you can host this html file anywhere you'd like, for example using github or hosting a static site on Amazon's S3. Once you have done this you can share the link with anyone you'd like and have them play with it too!\n",
    "\n",
    "> **Important Note** In order for the web app to communicate with the SageMaker endpoint, the endpoint has to actually be deployed and running. This means that you are paying for it. Make sure that the endpoint is running when you want to use the web app but that you shut it down when you don't need it, otherwise you will end up with a surprisingly large AWS bill."
   ]
  },
  {
   "cell_type": "markdown",
   "metadata": {},
   "source": [
    "### Delete the endpoint\n",
    "\n",
    "Remember to always shut down your endpoint if you are no longer using it. You are charged for the length of time that the endpoint is running so if you forget and leave it on you could end up with an unexpectedly large bill."
   ]
  },
  {
   "cell_type": "code",
   "execution_count": 51,
   "metadata": {},
   "outputs": [],
   "source": [
    "xgb_predictor.delete_endpoint()"
   ]
  },
  {
   "cell_type": "markdown",
   "metadata": {},
   "source": [
    "## Optional: Clean up\n",
    "\n",
    "The default notebook instance on SageMaker doesn't have a lot of excess disk space available. As you continue to complete and execute notebooks you will eventually fill up this disk space, leading to errors which can be difficult to diagnose. Once you are completely finished using a notebook it is a good idea to remove the files that you created along the way. Of course, you can do this from the terminal or from the notebook hub if you would like. The cell below contains some commands to clean up the created files from within the notebook."
   ]
  },
  {
   "cell_type": "code",
   "execution_count": 52,
   "metadata": {},
   "outputs": [
    {
     "ename": "OSError",
     "evalue": "[Errno 12] Cannot allocate memory",
     "output_type": "error",
     "traceback": [
      "\u001b[0;31m---------------------------------------------------------------------------\u001b[0m",
      "\u001b[0;31mOSError\u001b[0m                                   Traceback (most recent call last)",
      "\u001b[0;32m<ipython-input-52-2c87d8eefdf2>\u001b[0m in \u001b[0;36m<module>\u001b[0;34m\u001b[0m\n\u001b[1;32m      1\u001b[0m \u001b[0;31m# First we will remove all of the files contained in the data_dir directory\u001b[0m\u001b[0;34m\u001b[0m\u001b[0;34m\u001b[0m\u001b[0;34m\u001b[0m\u001b[0m\n\u001b[0;32m----> 2\u001b[0;31m \u001b[0mget_ipython\u001b[0m\u001b[0;34m(\u001b[0m\u001b[0;34m)\u001b[0m\u001b[0;34m.\u001b[0m\u001b[0msystem\u001b[0m\u001b[0;34m(\u001b[0m\u001b[0;34m'rm $data_dir/*'\u001b[0m\u001b[0;34m)\u001b[0m\u001b[0;34m\u001b[0m\u001b[0;34m\u001b[0m\u001b[0m\n\u001b[0m\u001b[1;32m      3\u001b[0m \u001b[0;34m\u001b[0m\u001b[0m\n\u001b[1;32m      4\u001b[0m \u001b[0;31m# And then we delete the directory itself\u001b[0m\u001b[0;34m\u001b[0m\u001b[0;34m\u001b[0m\u001b[0;34m\u001b[0m\u001b[0m\n\u001b[1;32m      5\u001b[0m \u001b[0mget_ipython\u001b[0m\u001b[0;34m(\u001b[0m\u001b[0;34m)\u001b[0m\u001b[0;34m.\u001b[0m\u001b[0msystem\u001b[0m\u001b[0;34m(\u001b[0m\u001b[0;34m'rmdir $data_dir'\u001b[0m\u001b[0;34m)\u001b[0m\u001b[0;34m\u001b[0m\u001b[0;34m\u001b[0m\u001b[0m\n",
      "\u001b[0;32m~/anaconda3/envs/pytorch_p36/lib/python3.6/site-packages/ipykernel/zmqshell.py\u001b[0m in \u001b[0;36msystem_piped\u001b[0;34m(self, cmd)\u001b[0m\n\u001b[1;32m    648\u001b[0m                 \u001b[0mself\u001b[0m\u001b[0;34m.\u001b[0m\u001b[0muser_ns\u001b[0m\u001b[0;34m[\u001b[0m\u001b[0;34m'_exit_code'\u001b[0m\u001b[0;34m]\u001b[0m \u001b[0;34m=\u001b[0m \u001b[0msystem\u001b[0m\u001b[0;34m(\u001b[0m\u001b[0mcmd\u001b[0m\u001b[0;34m)\u001b[0m\u001b[0;34m\u001b[0m\u001b[0;34m\u001b[0m\u001b[0m\n\u001b[1;32m    649\u001b[0m         \u001b[0;32melse\u001b[0m\u001b[0;34m:\u001b[0m\u001b[0;34m\u001b[0m\u001b[0;34m\u001b[0m\u001b[0m\n\u001b[0;32m--> 650\u001b[0;31m             \u001b[0mself\u001b[0m\u001b[0;34m.\u001b[0m\u001b[0muser_ns\u001b[0m\u001b[0;34m[\u001b[0m\u001b[0;34m'_exit_code'\u001b[0m\u001b[0;34m]\u001b[0m \u001b[0;34m=\u001b[0m \u001b[0msystem\u001b[0m\u001b[0;34m(\u001b[0m\u001b[0mself\u001b[0m\u001b[0;34m.\u001b[0m\u001b[0mvar_expand\u001b[0m\u001b[0;34m(\u001b[0m\u001b[0mcmd\u001b[0m\u001b[0;34m,\u001b[0m \u001b[0mdepth\u001b[0m\u001b[0;34m=\u001b[0m\u001b[0;36m1\u001b[0m\u001b[0;34m)\u001b[0m\u001b[0;34m)\u001b[0m\u001b[0;34m\u001b[0m\u001b[0;34m\u001b[0m\u001b[0m\n\u001b[0m\u001b[1;32m    651\u001b[0m \u001b[0;34m\u001b[0m\u001b[0m\n\u001b[1;32m    652\u001b[0m     \u001b[0;31m# Ensure new system_piped implementation is used\u001b[0m\u001b[0;34m\u001b[0m\u001b[0;34m\u001b[0m\u001b[0;34m\u001b[0m\u001b[0m\n",
      "\u001b[0;32m~/anaconda3/envs/pytorch_p36/lib/python3.6/site-packages/IPython/utils/_process_posix.py\u001b[0m in \u001b[0;36msystem\u001b[0;34m(self, cmd)\u001b[0m\n\u001b[1;32m    155\u001b[0m                 \u001b[0mchild\u001b[0m \u001b[0;34m=\u001b[0m \u001b[0mpexpect\u001b[0m\u001b[0;34m.\u001b[0m\u001b[0mspawnb\u001b[0m\u001b[0;34m(\u001b[0m\u001b[0mself\u001b[0m\u001b[0;34m.\u001b[0m\u001b[0msh\u001b[0m\u001b[0;34m,\u001b[0m \u001b[0margs\u001b[0m\u001b[0;34m=\u001b[0m\u001b[0;34m[\u001b[0m\u001b[0;34m'-c'\u001b[0m\u001b[0;34m,\u001b[0m \u001b[0mcmd\u001b[0m\u001b[0;34m]\u001b[0m\u001b[0;34m)\u001b[0m \u001b[0;31m# Pexpect-U\u001b[0m\u001b[0;34m\u001b[0m\u001b[0;34m\u001b[0m\u001b[0m\n\u001b[1;32m    156\u001b[0m             \u001b[0;32melse\u001b[0m\u001b[0;34m:\u001b[0m\u001b[0;34m\u001b[0m\u001b[0;34m\u001b[0m\u001b[0m\n\u001b[0;32m--> 157\u001b[0;31m                 \u001b[0mchild\u001b[0m \u001b[0;34m=\u001b[0m \u001b[0mpexpect\u001b[0m\u001b[0;34m.\u001b[0m\u001b[0mspawn\u001b[0m\u001b[0;34m(\u001b[0m\u001b[0mself\u001b[0m\u001b[0;34m.\u001b[0m\u001b[0msh\u001b[0m\u001b[0;34m,\u001b[0m \u001b[0margs\u001b[0m\u001b[0;34m=\u001b[0m\u001b[0;34m[\u001b[0m\u001b[0;34m'-c'\u001b[0m\u001b[0;34m,\u001b[0m \u001b[0mcmd\u001b[0m\u001b[0;34m]\u001b[0m\u001b[0;34m)\u001b[0m  \u001b[0;31m# Vanilla Pexpect\u001b[0m\u001b[0;34m\u001b[0m\u001b[0;34m\u001b[0m\u001b[0m\n\u001b[0m\u001b[1;32m    158\u001b[0m             \u001b[0mflush\u001b[0m \u001b[0;34m=\u001b[0m \u001b[0msys\u001b[0m\u001b[0;34m.\u001b[0m\u001b[0mstdout\u001b[0m\u001b[0;34m.\u001b[0m\u001b[0mflush\u001b[0m\u001b[0;34m\u001b[0m\u001b[0;34m\u001b[0m\u001b[0m\n\u001b[1;32m    159\u001b[0m             \u001b[0;32mwhile\u001b[0m \u001b[0;32mTrue\u001b[0m\u001b[0;34m:\u001b[0m\u001b[0;34m\u001b[0m\u001b[0;34m\u001b[0m\u001b[0m\n",
      "\u001b[0;32m~/anaconda3/envs/pytorch_p36/lib/python3.6/site-packages/pexpect/pty_spawn.py\u001b[0m in \u001b[0;36m__init__\u001b[0;34m(self, command, args, timeout, maxread, searchwindowsize, logfile, cwd, env, ignore_sighup, echo, preexec_fn, encoding, codec_errors, dimensions, use_poll)\u001b[0m\n\u001b[1;32m    203\u001b[0m             \u001b[0mself\u001b[0m\u001b[0;34m.\u001b[0m\u001b[0mname\u001b[0m \u001b[0;34m=\u001b[0m \u001b[0;34m'<pexpect factory incomplete>'\u001b[0m\u001b[0;34m\u001b[0m\u001b[0;34m\u001b[0m\u001b[0m\n\u001b[1;32m    204\u001b[0m         \u001b[0;32melse\u001b[0m\u001b[0;34m:\u001b[0m\u001b[0;34m\u001b[0m\u001b[0;34m\u001b[0m\u001b[0m\n\u001b[0;32m--> 205\u001b[0;31m             \u001b[0mself\u001b[0m\u001b[0;34m.\u001b[0m\u001b[0m_spawn\u001b[0m\u001b[0;34m(\u001b[0m\u001b[0mcommand\u001b[0m\u001b[0;34m,\u001b[0m \u001b[0margs\u001b[0m\u001b[0;34m,\u001b[0m \u001b[0mpreexec_fn\u001b[0m\u001b[0;34m,\u001b[0m \u001b[0mdimensions\u001b[0m\u001b[0;34m)\u001b[0m\u001b[0;34m\u001b[0m\u001b[0;34m\u001b[0m\u001b[0m\n\u001b[0m\u001b[1;32m    206\u001b[0m         \u001b[0mself\u001b[0m\u001b[0;34m.\u001b[0m\u001b[0muse_poll\u001b[0m \u001b[0;34m=\u001b[0m \u001b[0muse_poll\u001b[0m\u001b[0;34m\u001b[0m\u001b[0;34m\u001b[0m\u001b[0m\n\u001b[1;32m    207\u001b[0m \u001b[0;34m\u001b[0m\u001b[0m\n",
      "\u001b[0;32m~/anaconda3/envs/pytorch_p36/lib/python3.6/site-packages/pexpect/pty_spawn.py\u001b[0m in \u001b[0;36m_spawn\u001b[0;34m(self, command, args, preexec_fn, dimensions)\u001b[0m\n\u001b[1;32m    302\u001b[0m \u001b[0;34m\u001b[0m\u001b[0m\n\u001b[1;32m    303\u001b[0m         self.ptyproc = self._spawnpty(self.args, env=self.env,\n\u001b[0;32m--> 304\u001b[0;31m                                      cwd=self.cwd, **kwargs)\n\u001b[0m\u001b[1;32m    305\u001b[0m \u001b[0;34m\u001b[0m\u001b[0m\n\u001b[1;32m    306\u001b[0m         \u001b[0mself\u001b[0m\u001b[0;34m.\u001b[0m\u001b[0mpid\u001b[0m \u001b[0;34m=\u001b[0m \u001b[0mself\u001b[0m\u001b[0;34m.\u001b[0m\u001b[0mptyproc\u001b[0m\u001b[0;34m.\u001b[0m\u001b[0mpid\u001b[0m\u001b[0;34m\u001b[0m\u001b[0;34m\u001b[0m\u001b[0m\n",
      "\u001b[0;32m~/anaconda3/envs/pytorch_p36/lib/python3.6/site-packages/pexpect/pty_spawn.py\u001b[0m in \u001b[0;36m_spawnpty\u001b[0;34m(self, args, **kwargs)\u001b[0m\n\u001b[1;32m    313\u001b[0m     \u001b[0;32mdef\u001b[0m \u001b[0m_spawnpty\u001b[0m\u001b[0;34m(\u001b[0m\u001b[0mself\u001b[0m\u001b[0;34m,\u001b[0m \u001b[0margs\u001b[0m\u001b[0;34m,\u001b[0m \u001b[0;34m**\u001b[0m\u001b[0mkwargs\u001b[0m\u001b[0;34m)\u001b[0m\u001b[0;34m:\u001b[0m\u001b[0;34m\u001b[0m\u001b[0;34m\u001b[0m\u001b[0m\n\u001b[1;32m    314\u001b[0m         \u001b[0;34m'''Spawn a pty and return an instance of PtyProcess.'''\u001b[0m\u001b[0;34m\u001b[0m\u001b[0;34m\u001b[0m\u001b[0m\n\u001b[0;32m--> 315\u001b[0;31m         \u001b[0;32mreturn\u001b[0m \u001b[0mptyprocess\u001b[0m\u001b[0;34m.\u001b[0m\u001b[0mPtyProcess\u001b[0m\u001b[0;34m.\u001b[0m\u001b[0mspawn\u001b[0m\u001b[0;34m(\u001b[0m\u001b[0margs\u001b[0m\u001b[0;34m,\u001b[0m \u001b[0;34m**\u001b[0m\u001b[0mkwargs\u001b[0m\u001b[0;34m)\u001b[0m\u001b[0;34m\u001b[0m\u001b[0;34m\u001b[0m\u001b[0m\n\u001b[0m\u001b[1;32m    316\u001b[0m \u001b[0;34m\u001b[0m\u001b[0m\n\u001b[1;32m    317\u001b[0m     \u001b[0;32mdef\u001b[0m \u001b[0mclose\u001b[0m\u001b[0;34m(\u001b[0m\u001b[0mself\u001b[0m\u001b[0;34m,\u001b[0m \u001b[0mforce\u001b[0m\u001b[0;34m=\u001b[0m\u001b[0;32mTrue\u001b[0m\u001b[0;34m)\u001b[0m\u001b[0;34m:\u001b[0m\u001b[0;34m\u001b[0m\u001b[0;34m\u001b[0m\u001b[0m\n",
      "\u001b[0;32m~/anaconda3/envs/pytorch_p36/lib/python3.6/site-packages/ptyprocess/ptyprocess.py\u001b[0m in \u001b[0;36mspawn\u001b[0;34m(cls, argv, cwd, env, echo, preexec_fn, dimensions, pass_fds)\u001b[0m\n\u001b[1;32m    228\u001b[0m \u001b[0;34m\u001b[0m\u001b[0m\n\u001b[1;32m    229\u001b[0m         \u001b[0;32mif\u001b[0m \u001b[0muse_native_pty_fork\u001b[0m\u001b[0;34m:\u001b[0m\u001b[0;34m\u001b[0m\u001b[0;34m\u001b[0m\u001b[0m\n\u001b[0;32m--> 230\u001b[0;31m             \u001b[0mpid\u001b[0m\u001b[0;34m,\u001b[0m \u001b[0mfd\u001b[0m \u001b[0;34m=\u001b[0m \u001b[0mpty\u001b[0m\u001b[0;34m.\u001b[0m\u001b[0mfork\u001b[0m\u001b[0;34m(\u001b[0m\u001b[0;34m)\u001b[0m\u001b[0;34m\u001b[0m\u001b[0;34m\u001b[0m\u001b[0m\n\u001b[0m\u001b[1;32m    231\u001b[0m         \u001b[0;32melse\u001b[0m\u001b[0;34m:\u001b[0m\u001b[0;34m\u001b[0m\u001b[0;34m\u001b[0m\u001b[0m\n\u001b[1;32m    232\u001b[0m             \u001b[0;31m# Use internal fork_pty, for Solaris\u001b[0m\u001b[0;34m\u001b[0m\u001b[0;34m\u001b[0m\u001b[0;34m\u001b[0m\u001b[0m\n",
      "\u001b[0;32m~/anaconda3/envs/pytorch_p36/lib/python3.6/pty.py\u001b[0m in \u001b[0;36mfork\u001b[0;34m()\u001b[0m\n\u001b[1;32m     95\u001b[0m \u001b[0;34m\u001b[0m\u001b[0m\n\u001b[1;32m     96\u001b[0m     \u001b[0mmaster_fd\u001b[0m\u001b[0;34m,\u001b[0m \u001b[0mslave_fd\u001b[0m \u001b[0;34m=\u001b[0m \u001b[0mopenpty\u001b[0m\u001b[0;34m(\u001b[0m\u001b[0;34m)\u001b[0m\u001b[0;34m\u001b[0m\u001b[0;34m\u001b[0m\u001b[0m\n\u001b[0;32m---> 97\u001b[0;31m     \u001b[0mpid\u001b[0m \u001b[0;34m=\u001b[0m \u001b[0mos\u001b[0m\u001b[0;34m.\u001b[0m\u001b[0mfork\u001b[0m\u001b[0;34m(\u001b[0m\u001b[0;34m)\u001b[0m\u001b[0;34m\u001b[0m\u001b[0;34m\u001b[0m\u001b[0m\n\u001b[0m\u001b[1;32m     98\u001b[0m     \u001b[0;32mif\u001b[0m \u001b[0mpid\u001b[0m \u001b[0;34m==\u001b[0m \u001b[0mCHILD\u001b[0m\u001b[0;34m:\u001b[0m\u001b[0;34m\u001b[0m\u001b[0;34m\u001b[0m\u001b[0m\n\u001b[1;32m     99\u001b[0m         \u001b[0;31m# Establish a new session.\u001b[0m\u001b[0;34m\u001b[0m\u001b[0;34m\u001b[0m\u001b[0;34m\u001b[0m\u001b[0m\n",
      "\u001b[0;31mOSError\u001b[0m: [Errno 12] Cannot allocate memory"
     ]
    }
   ],
   "source": [
    "# First we will remove all of the files contained in the data_dir directory\n",
    "!rm $data_dir/*\n",
    "\n",
    "# And then we delete the directory itself\n",
    "!rmdir $data_dir\n",
    "\n",
    "# Similarly we remove the files in the cache_dir directory and the directory itself\n",
    "!rm $cache_dir/*\n",
    "!rmdir $cache_dir"
   ]
  },
  {
   "cell_type": "code",
   "execution_count": null,
   "metadata": {},
   "outputs": [],
   "source": []
  }
 ],
 "metadata": {
  "kernelspec": {
   "display_name": "conda_pytorch_p36",
   "language": "python",
   "name": "conda_pytorch_p36"
  },
  "language_info": {
   "codemirror_mode": {
    "name": "ipython",
    "version": 3
   },
   "file_extension": ".py",
   "mimetype": "text/x-python",
   "name": "python",
   "nbconvert_exporter": "python",
   "pygments_lexer": "ipython3",
   "version": "3.6.13"
  }
 },
 "nbformat": 4,
 "nbformat_minor": 2
}
