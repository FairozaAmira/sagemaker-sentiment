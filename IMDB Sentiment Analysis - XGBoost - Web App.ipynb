{
 "cells": [
  {
   "cell_type": "markdown",
   "metadata": {},
   "source": [
    "# Sentiment Analysis Web App\n",
    "\n",
    "_Deep Learning Nanodegree Program | Deployment_\n",
    "\n",
    "---\n",
    "\n",
    "In this notebook we will use Amazon's SageMaker service to construct a random tree model to predict the sentiment of a movie review. In addition, we will deploy this model to an endpoint and construct a very simple web app which will interact with our model's deployed endpoint.\n",
    "\n",
    "## General Outline\n",
    "\n",
    "Typically, when using a notebook instance with SageMaker, you will proceed through the following steps. Of course, not every step will need to be done with each project. Also, there is quite a lot of room for variation in many of the steps, as you will see throughout these lessons.\n",
    "\n",
    "1. Download or otherwise retrieve the data.\n",
    "2. Process / Prepare the data.\n",
    "3. Upload the processed data to S3.\n",
    "4. Train a chosen model.\n",
    "5. Test the trained model (typically using a batch transform job).\n",
    "6. Deploy the trained model.\n",
    "7. Use the deployed model.\n",
    "\n",
    "In this notebook we will progress through each of the steps above. We will also see that the final step, using the deployed model, can be quite challenging."
   ]
  },
  {
   "cell_type": "code",
   "execution_count": 1,
   "metadata": {},
   "outputs": [
    {
     "name": "stdout",
     "output_type": "stream",
     "text": [
      "Requirement already satisfied: sagemaker==1.72.0 in /home/ec2-user/anaconda3/envs/pytorch_p36/lib/python3.6/site-packages (1.72.0)\n",
      "Requirement already satisfied: boto3>=1.14.12 in /home/ec2-user/anaconda3/envs/pytorch_p36/lib/python3.6/site-packages (from sagemaker==1.72.0) (1.21.42)\n",
      "Requirement already satisfied: packaging>=20.0 in /home/ec2-user/anaconda3/envs/pytorch_p36/lib/python3.6/site-packages (from sagemaker==1.72.0) (21.3)\n",
      "Requirement already satisfied: smdebug-rulesconfig==0.1.4 in /home/ec2-user/anaconda3/envs/pytorch_p36/lib/python3.6/site-packages (from sagemaker==1.72.0) (0.1.4)\n",
      "Requirement already satisfied: scipy>=0.19.0 in /home/ec2-user/anaconda3/envs/pytorch_p36/lib/python3.6/site-packages (from sagemaker==1.72.0) (1.5.3)\n",
      "Requirement already satisfied: importlib-metadata>=1.4.0 in /home/ec2-user/anaconda3/envs/pytorch_p36/lib/python3.6/site-packages (from sagemaker==1.72.0) (4.5.0)\n",
      "Requirement already satisfied: numpy>=1.9.0 in /home/ec2-user/anaconda3/envs/pytorch_p36/lib/python3.6/site-packages (from sagemaker==1.72.0) (1.19.5)\n",
      "Requirement already satisfied: protobuf>=3.1 in /home/ec2-user/anaconda3/envs/pytorch_p36/lib/python3.6/site-packages (from sagemaker==1.72.0) (3.17.2)\n",
      "Requirement already satisfied: protobuf3-to-dict>=0.1.5 in /home/ec2-user/anaconda3/envs/pytorch_p36/lib/python3.6/site-packages (from sagemaker==1.72.0) (0.1.5)\n",
      "Requirement already satisfied: botocore<1.25.0,>=1.24.42 in /home/ec2-user/anaconda3/envs/pytorch_p36/lib/python3.6/site-packages (from boto3>=1.14.12->sagemaker==1.72.0) (1.24.42)\n",
      "Requirement already satisfied: s3transfer<0.6.0,>=0.5.0 in /home/ec2-user/anaconda3/envs/pytorch_p36/lib/python3.6/site-packages (from boto3>=1.14.12->sagemaker==1.72.0) (0.5.0)\n",
      "Requirement already satisfied: jmespath<2.0.0,>=0.7.1 in /home/ec2-user/anaconda3/envs/pytorch_p36/lib/python3.6/site-packages (from boto3>=1.14.12->sagemaker==1.72.0) (0.10.0)\n",
      "Requirement already satisfied: zipp>=0.5 in /home/ec2-user/anaconda3/envs/pytorch_p36/lib/python3.6/site-packages (from importlib-metadata>=1.4.0->sagemaker==1.72.0) (3.4.1)\n",
      "Requirement already satisfied: typing-extensions>=3.6.4 in /home/ec2-user/anaconda3/envs/pytorch_p36/lib/python3.6/site-packages (from importlib-metadata>=1.4.0->sagemaker==1.72.0) (3.10.0.0)\n",
      "Requirement already satisfied: pyparsing!=3.0.5,>=2.0.2 in /home/ec2-user/anaconda3/envs/pytorch_p36/lib/python3.6/site-packages (from packaging>=20.0->sagemaker==1.72.0) (2.4.7)\n",
      "Requirement already satisfied: six>=1.9 in /home/ec2-user/anaconda3/envs/pytorch_p36/lib/python3.6/site-packages (from protobuf>=3.1->sagemaker==1.72.0) (1.16.0)\n",
      "Requirement already satisfied: python-dateutil<3.0.0,>=2.1 in /home/ec2-user/anaconda3/envs/pytorch_p36/lib/python3.6/site-packages (from botocore<1.25.0,>=1.24.42->boto3>=1.14.12->sagemaker==1.72.0) (2.8.1)\n",
      "Requirement already satisfied: urllib3<1.27,>=1.25.4 in /home/ec2-user/anaconda3/envs/pytorch_p36/lib/python3.6/site-packages (from botocore<1.25.0,>=1.24.42->boto3>=1.14.12->sagemaker==1.72.0) (1.26.8)\n"
     ]
    }
   ],
   "source": [
    "# Make sure that we use SageMaker 1.x\n",
    "!pip install sagemaker==1.72.0"
   ]
  },
  {
   "cell_type": "markdown",
   "metadata": {},
   "source": [
    "## Step 1: Downloading the data\n",
    "\n",
    "The dataset we are going to use is very popular among researchers in Natural Language Processing, usually referred to as the [IMDb dataset](http://ai.stanford.edu/~amaas/data/sentiment/). It consists of movie reviews from the website [imdb.com](http://www.imdb.com/), each labeled as either '**pos**itive', if the reviewer enjoyed the film, or '**neg**ative' otherwise.\n",
    "\n",
    "> Maas, Andrew L., et al. [Learning Word Vectors for Sentiment Analysis](http://ai.stanford.edu/~amaas/data/sentiment/). In _Proceedings of the 49th Annual Meeting of the Association for Computational Linguistics: Human Language Technologies_. Association for Computational Linguistics, 2011.\n",
    "\n",
    "We begin by using some Jupyter Notebook magic to download and extract the dataset."
   ]
  },
  {
   "cell_type": "code",
   "execution_count": 2,
   "metadata": {},
   "outputs": [
    {
     "name": "stdout",
     "output_type": "stream",
     "text": [
      "--2022-06-06 09:16:36--  http://ai.stanford.edu/~amaas/data/sentiment/aclImdb_v1.tar.gz\n",
      "Resolving ai.stanford.edu (ai.stanford.edu)... 171.64.68.10\n",
      "Connecting to ai.stanford.edu (ai.stanford.edu)|171.64.68.10|:80... connected.\n",
      "HTTP request sent, awaiting response... 200 OK\n",
      "Length: 84125825 (80M) [application/x-gzip]\n",
      "Saving to: ‘../data/aclImdb_v1.tar.gz’\n",
      "\n",
      "../data/aclImdb_v1. 100%[===================>]  80.23M  8.80MB/s    in 14s     \n",
      "\n",
      "2022-06-06 09:16:50 (5.91 MB/s) - ‘../data/aclImdb_v1.tar.gz’ saved [84125825/84125825]\n",
      "\n"
     ]
    }
   ],
   "source": [
    "%mkdir ../data\n",
    "!wget -O ../data/aclImdb_v1.tar.gz http://ai.stanford.edu/~amaas/data/sentiment/aclImdb_v1.tar.gz\n",
    "!tar -zxf ../data/aclImdb_v1.tar.gz -C ../data"
   ]
  },
  {
   "cell_type": "markdown",
   "metadata": {},
   "source": [
    "## Step 2: Preparing and Processing the data\n",
    "\n",
    "The data we have downloaded is split into various files, each of which contains a single review. It will be much easier going forward if we combine these individual files into two large files, one for training and one for testing."
   ]
  },
  {
   "cell_type": "code",
   "execution_count": 3,
   "metadata": {},
   "outputs": [],
   "source": [
    "import os\n",
    "import glob\n",
    "\n",
    "def read_imdb_data(data_dir='../data/aclImdb'):\n",
    "    data = {}\n",
    "    labels = {}\n",
    "    \n",
    "    for data_type in ['train', 'test']:\n",
    "        data[data_type] = {}\n",
    "        labels[data_type] = {}\n",
    "        \n",
    "        for sentiment in ['pos', 'neg']:\n",
    "            data[data_type][sentiment] = []\n",
    "            labels[data_type][sentiment] = []\n",
    "            \n",
    "            path = os.path.join(data_dir, data_type, sentiment, '*.txt')\n",
    "            files = glob.glob(path)\n",
    "            \n",
    "            for f in files:\n",
    "                with open(f) as review:\n",
    "                    data[data_type][sentiment].append(review.read())\n",
    "                    # Here we represent a positive review by '1' and a negative review by '0'\n",
    "                    labels[data_type][sentiment].append(1 if sentiment == 'pos' else 0)\n",
    "                    \n",
    "            assert len(data[data_type][sentiment]) == len(labels[data_type][sentiment]), \\\n",
    "                    \"{}/{} data size does not match labels size\".format(data_type, sentiment)\n",
    "                \n",
    "    return data, labels"
   ]
  },
  {
   "cell_type": "code",
   "execution_count": 4,
   "metadata": {},
   "outputs": [
    {
     "name": "stdout",
     "output_type": "stream",
     "text": [
      "IMDB reviews: train = 12500 pos / 12500 neg, test = 12500 pos / 12500 neg\n"
     ]
    }
   ],
   "source": [
    "data, labels = read_imdb_data()\n",
    "print(\"IMDB reviews: train = {} pos / {} neg, test = {} pos / {} neg\".format(\n",
    "            len(data['train']['pos']), len(data['train']['neg']),\n",
    "            len(data['test']['pos']), len(data['test']['neg'])))"
   ]
  },
  {
   "cell_type": "code",
   "execution_count": 5,
   "metadata": {},
   "outputs": [],
   "source": [
    "from sklearn.utils import shuffle\n",
    "\n",
    "def prepare_imdb_data(data, labels):\n",
    "    \"\"\"Prepare training and test sets from IMDb movie reviews.\"\"\"\n",
    "    \n",
    "    #Combine positive and negative reviews and labels\n",
    "    data_train = data['train']['pos'] + data['train']['neg']\n",
    "    data_test = data['test']['pos'] + data['test']['neg']\n",
    "    labels_train = labels['train']['pos'] + labels['train']['neg']\n",
    "    labels_test = labels['test']['pos'] + labels['test']['neg']\n",
    "    \n",
    "    #Shuffle reviews and corresponding labels within training and test sets\n",
    "    data_train, labels_train = shuffle(data_train, labels_train)\n",
    "    data_test, labels_test = shuffle(data_test, labels_test)\n",
    "    \n",
    "    # Return a unified training data, test data, training labels, test labets\n",
    "    return data_train, data_test, labels_train, labels_test"
   ]
  },
  {
   "cell_type": "code",
   "execution_count": 6,
   "metadata": {},
   "outputs": [
    {
     "name": "stdout",
     "output_type": "stream",
     "text": [
      "IMDb reviews (combined): train = 25000, test = 25000\n"
     ]
    }
   ],
   "source": [
    "train_X, test_X, train_y, test_y = prepare_imdb_data(data, labels)\n",
    "print(\"IMDb reviews (combined): train = {}, test = {}\".format(len(train_X), len(test_X)))"
   ]
  },
  {
   "cell_type": "code",
   "execution_count": 7,
   "metadata": {},
   "outputs": [
    {
     "data": {
      "text/plain": [
       "'Lost isn\\'t the greatest TV show in history, but it\\'s not far off. It doesn\\'t have the plot or characterisation of The West Wing or possibly even early ER, however, it is arguably the most continuously gripping show I have every come across. I love the way I can\\'t guess what\\'s going to happen. I love the re-telling of the characters\\' back stories which often give rise to new dimensions for us to see them in. In some ways I want the show to last forever, but I think they can get 6-7 seasons out of it before they have to end it on a glorious high. The combination of the characters and their nationalities coupled with the show\\'s fluidity for moving backwards and forwards thus extending dead characters \"life spans\" all adds to the overwhelming sense that this show is something very different from what we are used to. It\\'s captivating, surprising and (here\\'s a little suggestion for all of you conspiracy theorists) more than a little interactive- keep those internet discussions going- you\\'re only adding to the plot...'"
      ]
     },
     "execution_count": 7,
     "metadata": {},
     "output_type": "execute_result"
    }
   ],
   "source": [
    "train_X[100]"
   ]
  },
  {
   "cell_type": "markdown",
   "metadata": {},
   "source": [
    "## Processing the data\n",
    "\n",
    "Now that we have our training and testing datasets merged and ready to use, we need to start processing the raw data into something that will be useable by our machine learning algorithm. To begin with, we remove any html formatting and any non-alpha numeric characters that may appear in the reviews. We will do this in a very simplistic way using Python's regular expression module. We will discuss the reason for this rather simplistic pre-processing later on."
   ]
  },
  {
   "cell_type": "code",
   "execution_count": 8,
   "metadata": {},
   "outputs": [],
   "source": [
    "import re\n",
    "\n",
    "REPLACE_NO_SPACE = re.compile(\"(\\.)|(\\;)|(\\:)|(\\!)|(\\')|(\\?)|(\\,)|(\\\")|(\\()|(\\))|(\\[)|(\\])\")\n",
    "REPLACE_WITH_SPACE = re.compile(\"(<br\\s*/><br\\s*/>)|(\\-)|(\\/)\")\n",
    "\n",
    "def review_to_words(review):\n",
    "    words = REPLACE_NO_SPACE.sub(\"\", review.lower())\n",
    "    words = REPLACE_WITH_SPACE.sub(\" \", words)\n",
    "    return words"
   ]
  },
  {
   "cell_type": "code",
   "execution_count": 9,
   "metadata": {},
   "outputs": [
    {
     "data": {
      "text/plain": [
       "'lost isnt the greatest tv show in history but its not far off it doesnt have the plot or characterisation of the west wing or possibly even early er however it is arguably the most continuously gripping show i have every come across i love the way i cant guess whats going to happen i love the re telling of the characters back stories which often give rise to new dimensions for us to see them in in some ways i want the show to last forever but i think they can get 6 7 seasons out of it before they have to end it on a glorious high the combination of the characters and their nationalities coupled with the shows fluidity for moving backwards and forwards thus extending dead characters life spans all adds to the overwhelming sense that this show is something very different from what we are used to its captivating surprising and heres a little suggestion for all of you conspiracy theorists more than a little interactive  keep those internet discussions going  youre only adding to the plot'"
      ]
     },
     "execution_count": 9,
     "metadata": {},
     "output_type": "execute_result"
    }
   ],
   "source": [
    "review_to_words(train_X[100])"
   ]
  },
  {
   "cell_type": "code",
   "execution_count": 10,
   "metadata": {},
   "outputs": [],
   "source": [
    "import pickle\n",
    "\n",
    "cache_dir = os.path.join(\"../cache\", \"sentiment_web_app\")  # where to store cache files\n",
    "os.makedirs(cache_dir, exist_ok=True)  # ensure cache directory exists\n",
    "\n",
    "def preprocess_data(data_train, data_test, labels_train, labels_test,\n",
    "                    cache_dir=cache_dir, cache_file=\"preprocessed_data.pkl\"):\n",
    "    \"\"\"Convert each review to words; read from cache if available.\"\"\"\n",
    "\n",
    "    # If cache_file is not None, try to read from it first\n",
    "    cache_data = None\n",
    "    if cache_file is not None:\n",
    "        try:\n",
    "            with open(os.path.join(cache_dir, cache_file), \"rb\") as f:\n",
    "                cache_data = pickle.load(f)\n",
    "            print(\"Read preprocessed data from cache file:\", cache_file)\n",
    "        except:\n",
    "            pass  # unable to read from cache, but that's okay\n",
    "    \n",
    "    # If cache is missing, then do the heavy lifting\n",
    "    if cache_data is None:\n",
    "        # Preprocess training and test data to obtain words for each review\n",
    "        #words_train = list(map(review_to_words, data_train))\n",
    "        #words_test = list(map(review_to_words, data_test))\n",
    "        words_train = [review_to_words(review) for review in data_train]\n",
    "        words_test = [review_to_words(review) for review in data_test]\n",
    "        \n",
    "        # Write to cache file for future runs\n",
    "        if cache_file is not None:\n",
    "            cache_data = dict(words_train=words_train, words_test=words_test,\n",
    "                              labels_train=labels_train, labels_test=labels_test)\n",
    "            with open(os.path.join(cache_dir, cache_file), \"wb\") as f:\n",
    "                pickle.dump(cache_data, f)\n",
    "            print(\"Wrote preprocessed data to cache file:\", cache_file)\n",
    "    else:\n",
    "        # Unpack data loaded from cache file\n",
    "        words_train, words_test, labels_train, labels_test = (cache_data['words_train'],\n",
    "                cache_data['words_test'], cache_data['labels_train'], cache_data['labels_test'])\n",
    "    \n",
    "    return words_train, words_test, labels_train, labels_test"
   ]
  },
  {
   "cell_type": "code",
   "execution_count": 11,
   "metadata": {},
   "outputs": [
    {
     "name": "stdout",
     "output_type": "stream",
     "text": [
      "Wrote preprocessed data to cache file: preprocessed_data.pkl\n"
     ]
    }
   ],
   "source": [
    "# Preprocess data\n",
    "train_X, test_X, train_y, test_y = preprocess_data(train_X, test_X, train_y, test_y)"
   ]
  },
  {
   "cell_type": "markdown",
   "metadata": {},
   "source": [
    "### Extract Bag-of-Words features\n",
    "\n",
    "For the model we will be implementing, rather than using the reviews directly, we are going to transform each review into a Bag-of-Words feature representation. Keep in mind that 'in the wild' we will only have access to the training set so our transformer can only use the training set to construct a representation."
   ]
  },
  {
   "cell_type": "code",
   "execution_count": 12,
   "metadata": {},
   "outputs": [],
   "source": [
    "import numpy as np\n",
    "from sklearn.feature_extraction.text import CountVectorizer\n",
    "\n",
    "# sklearn.externals.joblib is deprecated in 0.21 and will be removed in 0.23. \n",
    "# from sklearn.externals import joblib\n",
    "\n",
    "# Import joblib package directly\n",
    "import joblib\n",
    "# joblib is an enhanced version of pickle that is more efficient for storing NumPy arrays\n",
    "\n",
    "def extract_BoW_features(words_train, words_test, vocabulary_size=5000,\n",
    "                         cache_dir=cache_dir, cache_file=\"bow_features.pkl\"):\n",
    "    \"\"\"Extract Bag-of-Words for a given set of documents, already preprocessed into words.\"\"\"\n",
    "    \n",
    "    # If cache_file is not None, try to read from it first\n",
    "    cache_data = None\n",
    "    if cache_file is not None:\n",
    "        try:\n",
    "            with open(os.path.join(cache_dir, cache_file), \"rb\") as f:\n",
    "                cache_data = joblib.load(f)\n",
    "            print(\"Read features from cache file:\", cache_file)\n",
    "        except:\n",
    "            pass  # unable to read from cache, but that's okay\n",
    "    \n",
    "    # If cache is missing, then do the heavy lifting\n",
    "    if cache_data is None:\n",
    "        # Fit a vectorizer to training documents and use it to transform them\n",
    "        # NOTE: Training documents have already been preprocessed and tokenized into words;\n",
    "        #       pass in dummy functions to skip those steps, e.g. preprocessor=lambda x: x\n",
    "        vectorizer = CountVectorizer(max_features=vocabulary_size)\n",
    "        features_train = vectorizer.fit_transform(words_train).toarray()\n",
    "\n",
    "        # Apply the same vectorizer to transform the test documents (ignore unknown words)\n",
    "        features_test = vectorizer.transform(words_test).toarray()\n",
    "        \n",
    "        # NOTE: Remember to convert the features using .toarray() for a compact representation\n",
    "        \n",
    "        # Write to cache file for future runs (store vocabulary as well)\n",
    "        if cache_file is not None:\n",
    "            vocabulary = vectorizer.vocabulary_\n",
    "            cache_data = dict(features_train=features_train, features_test=features_test,\n",
    "                             vocabulary=vocabulary)\n",
    "            with open(os.path.join(cache_dir, cache_file), \"wb\") as f:\n",
    "                joblib.dump(cache_data, f)\n",
    "            print(\"Wrote features to cache file:\", cache_file)\n",
    "    else:\n",
    "        # Unpack data loaded from cache file\n",
    "        features_train, features_test, vocabulary = (cache_data['features_train'],\n",
    "                cache_data['features_test'], cache_data['vocabulary'])\n",
    "    \n",
    "    # Return both the extracted features as well as the vocabulary\n",
    "    return features_train, features_test, vocabulary"
   ]
  },
  {
   "cell_type": "code",
   "execution_count": 13,
   "metadata": {},
   "outputs": [
    {
     "name": "stdout",
     "output_type": "stream",
     "text": [
      "Wrote features to cache file: bow_features.pkl\n"
     ]
    }
   ],
   "source": [
    "# Extract Bag of Words features for both training and test datasets\n",
    "train_X, test_X, vocabulary = extract_BoW_features(train_X, test_X)"
   ]
  },
  {
   "cell_type": "code",
   "execution_count": 14,
   "metadata": {},
   "outputs": [
    {
     "data": {
      "text/plain": [
       "5000"
      ]
     },
     "execution_count": 14,
     "metadata": {},
     "output_type": "execute_result"
    }
   ],
   "source": [
    "len(train_X[100])"
   ]
  },
  {
   "cell_type": "markdown",
   "metadata": {},
   "source": [
    "## Step 3: Upload data to S3\n",
    "\n",
    "Now that we have created the feature representation of our training (and testing) data, it is time to start setting up and using the XGBoost classifier provided by SageMaker.\n",
    "\n",
    "### Writing the datasets\n",
    "\n",
    "The XGBoost classifier that we will be using requires the dataset to be written to a file and stored using Amazon S3. To do this, we will start by splitting the training dataset into two parts, the data we will train the model with and a validation set. Then, we will write those datasets to a file locally and then upload the files to S3. In addition, we will write the test set to a file and upload that file to S3. This is so that we can use SageMakers Batch Transform functionality to test our model once we've fit it."
   ]
  },
  {
   "cell_type": "code",
   "execution_count": 15,
   "metadata": {},
   "outputs": [],
   "source": [
    "import pandas as pd\n",
    "\n",
    "# Earlier we shuffled the training dataset so to make things simple we can just assign\n",
    "# the first 10 000 reviews to the validation set and use the remaining reviews for training.\n",
    "val_X = pd.DataFrame(train_X[:10000])\n",
    "train_X = pd.DataFrame(train_X[10000:])\n",
    "\n",
    "val_y = pd.DataFrame(train_y[:10000])\n",
    "train_y = pd.DataFrame(train_y[10000:])"
   ]
  },
  {
   "cell_type": "markdown",
   "metadata": {},
   "source": [
    "The documentation for the XGBoost algorithm in SageMaker requires that the training and validation datasets should contain no headers or index and that the label should occur first for each sample.\n",
    "\n",
    "For more information about this and other algorithms, the SageMaker developer documentation can be found on __[Amazon's website.](https://docs.aws.amazon.com/sagemaker/latest/dg/)__"
   ]
  },
  {
   "cell_type": "code",
   "execution_count": 16,
   "metadata": {},
   "outputs": [],
   "source": [
    "# First we make sure that the local directory in which we'd like to store the training and validation csv files exists.\n",
    "data_dir = '../data/sentiment_web_app'\n",
    "if not os.path.exists(data_dir):\n",
    "    os.makedirs(data_dir)"
   ]
  },
  {
   "cell_type": "code",
   "execution_count": 17,
   "metadata": {},
   "outputs": [],
   "source": [
    "pd.DataFrame(test_X).to_csv(os.path.join(data_dir, 'test.csv'), header=False, index=False)\n",
    "\n",
    "pd.concat([val_y, val_X], axis=1).to_csv(os.path.join(data_dir, 'validation.csv'), header=False, index=False)\n",
    "pd.concat([train_y, train_X], axis=1).to_csv(os.path.join(data_dir, 'train.csv'), header=False, index=False)"
   ]
  },
  {
   "cell_type": "code",
   "execution_count": 18,
   "metadata": {},
   "outputs": [],
   "source": [
    "# To save a bit of memory we can set text_X, train_X, val_X, train_y and val_y to None.\n",
    "\n",
    "test_X = train_X = val_X = train_y = val_y = None"
   ]
  },
  {
   "cell_type": "markdown",
   "metadata": {},
   "source": [
    "### Uploading Training / Validation files to S3\n",
    "\n",
    "Amazon's S3 service allows us to store files that can be accessed by both the built-in training models such as the XGBoost model we will be using as well as custom models such as the one we will see a little later.\n",
    "\n",
    "For this and most other tasks we will be doing using SageMaker, there are two methods we could use. The first is to use the low level functionality of SageMaker which requires knowing each of the objects involved in the SageMaker environment. The second is to use the high level functionality in which certain choices have been made on the user's behalf. The low level approach benefits from allowing the user a great deal of flexibility while the high level approach makes development much quicker. For our purposes we will opt to use the high level approach although using the low-level approach is certainly an option.\n",
    "\n",
    "Recall the method `upload_data()` which is a member of the object representing our current SageMaker session. What this method does is upload the data to the default bucket (which is created if it does not exist) into the path described by the key_prefix variable. To see this for yourself, once you have uploaded the data files, go to the S3 console and look to see where the files have been uploaded.\n",
    "\n",
    "For additional resources, see the __[SageMaker API documentation](http://sagemaker.readthedocs.io/en/latest/)__ and in addition the __[SageMaker Developer Guide.](https://docs.aws.amazon.com/sagemaker/latest/dg/)__"
   ]
  },
  {
   "cell_type": "code",
   "execution_count": 19,
   "metadata": {},
   "outputs": [],
   "source": [
    "import sagemaker\n",
    "\n",
    "session = sagemaker.Session() # Store the current SageMaker session\n",
    "\n",
    "# S3 prefix (which folder will we use)\n",
    "prefix = 'sentiment-web-app'\n",
    "\n",
    "test_location = session.upload_data(os.path.join(data_dir, 'test.csv'), key_prefix=prefix)\n",
    "val_location = session.upload_data(os.path.join(data_dir, 'validation.csv'), key_prefix=prefix)\n",
    "train_location = session.upload_data(os.path.join(data_dir, 'train.csv'), key_prefix=prefix)"
   ]
  },
  {
   "cell_type": "markdown",
   "metadata": {},
   "source": [
    "## Step 4: Creating the XGBoost model\n",
    "\n",
    "Now that the data has been uploaded it is time to create the XGBoost model. To begin with, we need to do some setup. At this point it is worth discussing what a model is in SageMaker. It is easiest to think of a model of comprising three different objects in the SageMaker ecosystem, which interact with one another.\n",
    "\n",
    "- Model Artifacts\n",
    "- Training Code (Container)\n",
    "- Inference Code (Container)\n",
    "\n",
    "The Model Artifacts are what you might think of as the actual model itself. For example, if you were building a neural network, the model artifacts would be the weights of the various layers. In our case, for an XGBoost model, the artifacts are the actual trees that are created during training.\n",
    "\n",
    "The other two objects, the training code and the inference code are then used to manipulate the training artifacts. More precisely, the training code uses the training data that is provided and creates the model artifacts, while the inference code uses the model artifacts to make predictions on new data.\n",
    "\n",
    "The way that SageMaker runs the training and inference code is by making use of Docker containers. For now, think of a container as being a way of packaging code up so that dependencies aren't an issue."
   ]
  },
  {
   "cell_type": "code",
   "execution_count": 20,
   "metadata": {},
   "outputs": [],
   "source": [
    "from sagemaker import get_execution_role\n",
    "\n",
    "# Our current execution role is required when creating the model as the training\n",
    "# and inference code will need to access the model artifacts.\n",
    "role = get_execution_role()"
   ]
  },
  {
   "cell_type": "code",
   "execution_count": 21,
   "metadata": {},
   "outputs": [
    {
     "name": "stderr",
     "output_type": "stream",
     "text": [
      "'get_image_uri' method will be deprecated in favor of 'ImageURIProvider' class in SageMaker Python SDK v2.\n",
      "There is a more up to date SageMaker XGBoost image. To use the newer image, please set 'repo_version'='1.0-1'. For example:\n",
      "\tget_image_uri(region, 'xgboost', '1.0-1').\n"
     ]
    }
   ],
   "source": [
    "# We need to retrieve the location of the container which is provided by Amazon for using XGBoost.\n",
    "# As a matter of convenience, the training and inference code both use the same container.\n",
    "from sagemaker.amazon.amazon_estimator import get_image_uri\n",
    "\n",
    "container = get_image_uri(session.boto_region_name, 'xgboost')"
   ]
  },
  {
   "cell_type": "code",
   "execution_count": 22,
   "metadata": {},
   "outputs": [
    {
     "name": "stderr",
     "output_type": "stream",
     "text": [
      "Parameter image_name will be renamed to image_uri in SageMaker Python SDK v2.\n"
     ]
    }
   ],
   "source": [
    "# First we create a SageMaker estimator object for our model.\n",
    "xgb = sagemaker.estimator.Estimator(container, # The location of the container we wish to use\n",
    "                                    role,                                    # What is our current IAM Role\n",
    "                                    train_instance_count=1,                  # How many compute instances\n",
    "                                    train_instance_type='ml.m4.xlarge',      # What kind of compute instances\n",
    "                                    output_path='s3://{}/{}/output'.format(session.default_bucket(), prefix),\n",
    "                                    sagemaker_session=session)\n",
    "\n",
    "# And then set the algorithm specific parameters.\n",
    "xgb.set_hyperparameters(max_depth=5,\n",
    "                        eta=0.2,\n",
    "                        gamma=4,\n",
    "                        min_child_weight=6,\n",
    "                        subsample=0.8,\n",
    "                        silent=0,\n",
    "                        objective='binary:logistic',\n",
    "                        early_stopping_rounds=10,\n",
    "                        num_round=500)"
   ]
  },
  {
   "cell_type": "markdown",
   "metadata": {},
   "source": [
    "### Fit the XGBoost model\n",
    "\n",
    "Now that our model has been set up we simply need to attach the training and validation datasets and then ask SageMaker to set up the computation."
   ]
  },
  {
   "cell_type": "code",
   "execution_count": 23,
   "metadata": {},
   "outputs": [
    {
     "name": "stderr",
     "output_type": "stream",
     "text": [
      "'s3_input' class will be renamed to 'TrainingInput' in SageMaker Python SDK v2.\n",
      "'s3_input' class will be renamed to 'TrainingInput' in SageMaker Python SDK v2.\n"
     ]
    }
   ],
   "source": [
    "s3_input_train = sagemaker.s3_input(s3_data=train_location, content_type='csv')\n",
    "s3_input_validation = sagemaker.s3_input(s3_data=val_location, content_type='csv')"
   ]
  },
  {
   "cell_type": "code",
   "execution_count": 24,
   "metadata": {},
   "outputs": [
    {
     "name": "stdout",
     "output_type": "stream",
     "text": [
      "2022-06-06 09:18:59 Starting - Starting the training job...\n",
      "2022-06-06 09:19:24 Starting - Preparing the instances for training.........\n",
      "2022-06-06 09:20:55 Downloading - Downloading input data\n",
      "2022-06-06 09:20:55 Training - Downloading the training image............\n",
      "2022-06-06 09:22:56 Training - Training image download completed. Training in progress..\u001b[34mArguments: train\u001b[0m\n",
      "\u001b[34m[2022-06-06:09:22:59:INFO] Running standalone xgboost training.\u001b[0m\n",
      "\u001b[34m[2022-06-06:09:22:59:INFO] File size need to be processed in the node: 238.5mb. Available memory size in the node: 8464.2mb\u001b[0m\n",
      "\u001b[34m[2022-06-06:09:22:59:INFO] Determined delimiter of CSV input is ','\u001b[0m\n",
      "\u001b[34m[09:22:59] S3DistributionType set as FullyReplicated\u001b[0m\n",
      "\u001b[34m[09:23:01] 15000x5000 matrix with 75000000 entries loaded from /opt/ml/input/data/train?format=csv&label_column=0&delimiter=,\u001b[0m\n",
      "\u001b[34m[2022-06-06:09:23:01:INFO] Determined delimiter of CSV input is ','\u001b[0m\n",
      "\u001b[34m[09:23:01] S3DistributionType set as FullyReplicated\u001b[0m\n",
      "\u001b[34m[09:23:03] 10000x5000 matrix with 50000000 entries loaded from /opt/ml/input/data/validation?format=csv&label_column=0&delimiter=,\u001b[0m\n",
      "\u001b[34m[09:23:08] src/tree/updater_prune.cc:74: tree pruning end, 1 roots, 42 extra nodes, 6 pruned nodes, max_depth=5\u001b[0m\n",
      "\u001b[34m[0]#011train-error:0.309667#011validation-error:0.3093\u001b[0m\n",
      "\u001b[34mMultiple eval metrics have been passed: 'validation-error' will be used for early stopping.\u001b[0m\n",
      "\u001b[34mWill train until validation-error hasn't improved in 10 rounds.\u001b[0m\n",
      "\u001b[34m[09:23:09] src/tree/updater_prune.cc:74: tree pruning end, 1 roots, 46 extra nodes, 4 pruned nodes, max_depth=5\u001b[0m\n",
      "\u001b[34m[1]#011train-error:0.305067#011validation-error:0.3034\u001b[0m\n",
      "\u001b[34m[09:23:11] src/tree/updater_prune.cc:74: tree pruning end, 1 roots, 44 extra nodes, 2 pruned nodes, max_depth=5\u001b[0m\n",
      "\u001b[34m[2]#011train-error:0.2952#011validation-error:0.2904\u001b[0m\n",
      "\u001b[34m[09:23:13] src/tree/updater_prune.cc:74: tree pruning end, 1 roots, 46 extra nodes, 8 pruned nodes, max_depth=5\u001b[0m\n",
      "\u001b[34m[3]#011train-error:0.279133#011validation-error:0.2776\u001b[0m\n",
      "\u001b[34m[09:23:15] src/tree/updater_prune.cc:74: tree pruning end, 1 roots, 34 extra nodes, 8 pruned nodes, max_depth=5\u001b[0m\n",
      "\u001b[34m[4]#011train-error:0.269133#011validation-error:0.2678\u001b[0m\n",
      "\u001b[34m[09:23:17] src/tree/updater_prune.cc:74: tree pruning end, 1 roots, 34 extra nodes, 8 pruned nodes, max_depth=5\u001b[0m\n",
      "\u001b[34m[5]#011train-error:0.266133#011validation-error:0.265\u001b[0m\n",
      "\u001b[34m[09:23:19] src/tree/updater_prune.cc:74: tree pruning end, 1 roots, 40 extra nodes, 6 pruned nodes, max_depth=5\u001b[0m\n",
      "\u001b[34m[6]#011train-error:0.248067#011validation-error:0.2545\u001b[0m\n",
      "\u001b[34m[09:23:20] src/tree/updater_prune.cc:74: tree pruning end, 1 roots, 46 extra nodes, 2 pruned nodes, max_depth=5\u001b[0m\n",
      "\u001b[34m[7]#011train-error:0.244133#011validation-error:0.2505\u001b[0m\n",
      "\u001b[34m[09:23:22] src/tree/updater_prune.cc:74: tree pruning end, 1 roots, 38 extra nodes, 8 pruned nodes, max_depth=5\u001b[0m\n",
      "\u001b[34m[8]#011train-error:0.2354#011validation-error:0.2438\u001b[0m\n",
      "\u001b[34m[09:23:24] src/tree/updater_prune.cc:74: tree pruning end, 1 roots, 40 extra nodes, 2 pruned nodes, max_depth=5\u001b[0m\n",
      "\u001b[34m[9]#011train-error:0.228067#011validation-error:0.2362\u001b[0m\n",
      "\u001b[34m[09:23:25] src/tree/updater_prune.cc:74: tree pruning end, 1 roots, 30 extra nodes, 6 pruned nodes, max_depth=5\u001b[0m\n",
      "\u001b[34m[10]#011train-error:0.220867#011validation-error:0.2284\u001b[0m\n",
      "\u001b[34m[09:23:27] src/tree/updater_prune.cc:74: tree pruning end, 1 roots, 26 extra nodes, 12 pruned nodes, max_depth=5\u001b[0m\n",
      "\u001b[34m[11]#011train-error:0.217333#011validation-error:0.226\u001b[0m\n",
      "\u001b[34m[09:23:29] src/tree/updater_prune.cc:74: tree pruning end, 1 roots, 38 extra nodes, 2 pruned nodes, max_depth=5\u001b[0m\n",
      "\u001b[34m[12]#011train-error:0.213067#011validation-error:0.2222\u001b[0m\n",
      "\u001b[34m[09:23:31] src/tree/updater_prune.cc:74: tree pruning end, 1 roots, 36 extra nodes, 6 pruned nodes, max_depth=5\u001b[0m\n",
      "\u001b[34m[13]#011train-error:0.207867#011validation-error:0.2189\u001b[0m\n",
      "\u001b[34m[09:23:33] src/tree/updater_prune.cc:74: tree pruning end, 1 roots, 32 extra nodes, 2 pruned nodes, max_depth=5\u001b[0m\n",
      "\u001b[34m[14]#011train-error:0.206267#011validation-error:0.2169\u001b[0m\n",
      "\u001b[34m[09:23:35] src/tree/updater_prune.cc:74: tree pruning end, 1 roots, 26 extra nodes, 8 pruned nodes, max_depth=5\u001b[0m\n",
      "\u001b[34m[15]#011train-error:0.2032#011validation-error:0.2141\u001b[0m\n",
      "\u001b[34m[09:23:37] src/tree/updater_prune.cc:74: tree pruning end, 1 roots, 24 extra nodes, 10 pruned nodes, max_depth=5\u001b[0m\n",
      "\u001b[34m[16]#011train-error:0.2008#011validation-error:0.211\u001b[0m\n",
      "\u001b[34m[09:23:39] src/tree/updater_prune.cc:74: tree pruning end, 1 roots, 28 extra nodes, 4 pruned nodes, max_depth=5\u001b[0m\n",
      "\u001b[34m[17]#011train-error:0.197733#011validation-error:0.2105\u001b[0m\n",
      "\u001b[34m[09:23:40] src/tree/updater_prune.cc:74: tree pruning end, 1 roots, 38 extra nodes, 8 pruned nodes, max_depth=5\u001b[0m\n",
      "\u001b[34m[18]#011train-error:0.1944#011validation-error:0.2101\u001b[0m\n",
      "\u001b[34m[09:23:42] src/tree/updater_prune.cc:74: tree pruning end, 1 roots, 34 extra nodes, 6 pruned nodes, max_depth=5\u001b[0m\n",
      "\u001b[34m[19]#011train-error:0.191667#011validation-error:0.2058\u001b[0m\n",
      "\u001b[34m[09:23:44] src/tree/updater_prune.cc:74: tree pruning end, 1 roots, 28 extra nodes, 4 pruned nodes, max_depth=5\u001b[0m\n",
      "\u001b[34m[20]#011train-error:0.189467#011validation-error:0.2032\u001b[0m\n",
      "\u001b[34m[09:23:46] src/tree/updater_prune.cc:74: tree pruning end, 1 roots, 48 extra nodes, 8 pruned nodes, max_depth=5\u001b[0m\n",
      "\u001b[34m[21]#011train-error:0.183867#011validation-error:0.2017\u001b[0m\n",
      "\u001b[34m[09:23:48] src/tree/updater_prune.cc:74: tree pruning end, 1 roots, 28 extra nodes, 16 pruned nodes, max_depth=5\u001b[0m\n",
      "\u001b[34m[22]#011train-error:0.182267#011validation-error:0.2005\u001b[0m\n",
      "\u001b[34m[09:23:50] src/tree/updater_prune.cc:74: tree pruning end, 1 roots, 36 extra nodes, 6 pruned nodes, max_depth=5\u001b[0m\n",
      "\u001b[34m[23]#011train-error:0.181867#011validation-error:0.1983\u001b[0m\n",
      "\u001b[34m[09:23:52] src/tree/updater_prune.cc:74: tree pruning end, 1 roots, 14 extra nodes, 20 pruned nodes, max_depth=5\u001b[0m\n",
      "\u001b[34m[24]#011train-error:0.18#011validation-error:0.1983\u001b[0m\n",
      "\u001b[34m[09:23:54] src/tree/updater_prune.cc:74: tree pruning end, 1 roots, 18 extra nodes, 10 pruned nodes, max_depth=5\u001b[0m\n",
      "\u001b[34m[25]#011train-error:0.1798#011validation-error:0.1977\u001b[0m\n",
      "\u001b[34m[09:23:57] src/tree/updater_prune.cc:74: tree pruning end, 1 roots, 24 extra nodes, 6 pruned nodes, max_depth=5\u001b[0m\n",
      "\u001b[34m[26]#011train-error:0.177733#011validation-error:0.1951\u001b[0m\n",
      "\u001b[34m[09:23:59] src/tree/updater_prune.cc:74: tree pruning end, 1 roots, 22 extra nodes, 4 pruned nodes, max_depth=5\u001b[0m\n",
      "\u001b[34m[27]#011train-error:0.175867#011validation-error:0.1924\u001b[0m\n",
      "\u001b[34m[09:24:01] src/tree/updater_prune.cc:74: tree pruning end, 1 roots, 26 extra nodes, 12 pruned nodes, max_depth=5\u001b[0m\n",
      "\u001b[34m[28]#011train-error:0.174067#011validation-error:0.1897\u001b[0m\n",
      "\u001b[34m[09:24:02] src/tree/updater_prune.cc:74: tree pruning end, 1 roots, 44 extra nodes, 2 pruned nodes, max_depth=5\u001b[0m\n",
      "\u001b[34m[29]#011train-error:0.1726#011validation-error:0.1892\u001b[0m\n",
      "\u001b[34m[09:24:04] src/tree/updater_prune.cc:74: tree pruning end, 1 roots, 36 extra nodes, 8 pruned nodes, max_depth=5\u001b[0m\n",
      "\u001b[34m[30]#011train-error:0.169333#011validation-error:0.1888\u001b[0m\n",
      "\u001b[34m[09:24:06] src/tree/updater_prune.cc:74: tree pruning end, 1 roots, 28 extra nodes, 8 pruned nodes, max_depth=5\u001b[0m\n",
      "\u001b[34m[31]#011train-error:0.1674#011validation-error:0.1878\u001b[0m\n",
      "\u001b[34m[09:24:09] src/tree/updater_prune.cc:74: tree pruning end, 1 roots, 26 extra nodes, 8 pruned nodes, max_depth=5\u001b[0m\n",
      "\u001b[34m[32]#011train-error:0.165533#011validation-error:0.1869\u001b[0m\n",
      "\u001b[34m[09:24:10] src/tree/updater_prune.cc:74: tree pruning end, 1 roots, 24 extra nodes, 6 pruned nodes, max_depth=5\u001b[0m\n",
      "\u001b[34m[33]#011train-error:0.163733#011validation-error:0.1859\u001b[0m\n",
      "\u001b[34m[09:24:12] src/tree/updater_prune.cc:74: tree pruning end, 1 roots, 18 extra nodes, 10 pruned nodes, max_depth=5\u001b[0m\n",
      "\u001b[34m[34]#011train-error:0.1628#011validation-error:0.1847\u001b[0m\n",
      "\u001b[34m[09:24:14] src/tree/updater_prune.cc:74: tree pruning end, 1 roots, 24 extra nodes, 10 pruned nodes, max_depth=5\u001b[0m\n",
      "\u001b[34m[35]#011train-error:0.161133#011validation-error:0.184\u001b[0m\n",
      "\u001b[34m[09:24:16] src/tree/updater_prune.cc:74: tree pruning end, 1 roots, 24 extra nodes, 8 pruned nodes, max_depth=5\u001b[0m\n",
      "\u001b[34m[36]#011train-error:0.1602#011validation-error:0.1833\u001b[0m\n",
      "\u001b[34m[09:24:18] src/tree/updater_prune.cc:74: tree pruning end, 1 roots, 28 extra nodes, 12 pruned nodes, max_depth=5\u001b[0m\n",
      "\u001b[34m[37]#011train-error:0.1582#011validation-error:0.1807\u001b[0m\n"
     ]
    },
    {
     "name": "stdout",
     "output_type": "stream",
     "text": [
      "\u001b[34m[09:24:19] src/tree/updater_prune.cc:74: tree pruning end, 1 roots, 22 extra nodes, 6 pruned nodes, max_depth=5\u001b[0m\n",
      "\u001b[34m[38]#011train-error:0.1564#011validation-error:0.1795\u001b[0m\n",
      "\u001b[34m[09:24:21] src/tree/updater_prune.cc:74: tree pruning end, 1 roots, 36 extra nodes, 6 pruned nodes, max_depth=5\u001b[0m\n",
      "\u001b[34m[39]#011train-error:0.155933#011validation-error:0.1782\u001b[0m\n",
      "\u001b[34m[09:24:23] src/tree/updater_prune.cc:74: tree pruning end, 1 roots, 28 extra nodes, 2 pruned nodes, max_depth=5\u001b[0m\n",
      "\u001b[34m[40]#011train-error:0.154667#011validation-error:0.1767\u001b[0m\n",
      "\u001b[34m[09:24:24] src/tree/updater_prune.cc:74: tree pruning end, 1 roots, 16 extra nodes, 4 pruned nodes, max_depth=5\u001b[0m\n",
      "\u001b[34m[41]#011train-error:0.1528#011validation-error:0.1761\u001b[0m\n",
      "\u001b[34m[09:24:26] src/tree/updater_prune.cc:74: tree pruning end, 1 roots, 20 extra nodes, 4 pruned nodes, max_depth=5\u001b[0m\n",
      "\u001b[34m[42]#011train-error:0.15#011validation-error:0.1751\u001b[0m\n",
      "\u001b[34m[09:24:28] src/tree/updater_prune.cc:74: tree pruning end, 1 roots, 16 extra nodes, 12 pruned nodes, max_depth=5\u001b[0m\n",
      "\u001b[34m[43]#011train-error:0.148933#011validation-error:0.1747\u001b[0m\n",
      "\u001b[34m[09:24:29] src/tree/updater_prune.cc:74: tree pruning end, 1 roots, 38 extra nodes, 8 pruned nodes, max_depth=5\u001b[0m\n",
      "\u001b[34m[44]#011train-error:0.148533#011validation-error:0.174\u001b[0m\n",
      "\u001b[34m[09:24:31] src/tree/updater_prune.cc:74: tree pruning end, 1 roots, 22 extra nodes, 6 pruned nodes, max_depth=5\u001b[0m\n",
      "\u001b[34m[45]#011train-error:0.147533#011validation-error:0.173\u001b[0m\n",
      "\u001b[34m[09:24:33] src/tree/updater_prune.cc:74: tree pruning end, 1 roots, 12 extra nodes, 14 pruned nodes, max_depth=5\u001b[0m\n",
      "\u001b[34m[46]#011train-error:0.146733#011validation-error:0.1718\u001b[0m\n",
      "\u001b[34m[09:24:35] src/tree/updater_prune.cc:74: tree pruning end, 1 roots, 22 extra nodes, 6 pruned nodes, max_depth=5\u001b[0m\n",
      "\u001b[34m[47]#011train-error:0.145133#011validation-error:0.1709\u001b[0m\n",
      "\u001b[34m[09:24:37] src/tree/updater_prune.cc:74: tree pruning end, 1 roots, 26 extra nodes, 10 pruned nodes, max_depth=5\u001b[0m\n",
      "\u001b[34m[48]#011train-error:0.145267#011validation-error:0.1712\u001b[0m\n",
      "\u001b[34m[09:24:39] src/tree/updater_prune.cc:74: tree pruning end, 1 roots, 14 extra nodes, 10 pruned nodes, max_depth=5\u001b[0m\n",
      "\u001b[34m[49]#011train-error:0.144133#011validation-error:0.1693\u001b[0m\n",
      "\u001b[34m[09:24:40] src/tree/updater_prune.cc:74: tree pruning end, 1 roots, 24 extra nodes, 10 pruned nodes, max_depth=5\u001b[0m\n",
      "\u001b[34m[50]#011train-error:0.143#011validation-error:0.1681\u001b[0m\n",
      "\u001b[34m[09:24:42] src/tree/updater_prune.cc:74: tree pruning end, 1 roots, 30 extra nodes, 6 pruned nodes, max_depth=5\u001b[0m\n",
      "\u001b[34m[51]#011train-error:0.142467#011validation-error:0.1667\u001b[0m\n",
      "\u001b[34m[09:24:44] src/tree/updater_prune.cc:74: tree pruning end, 1 roots, 26 extra nodes, 10 pruned nodes, max_depth=5\u001b[0m\n",
      "\u001b[34m[52]#011train-error:0.140733#011validation-error:0.1667\u001b[0m\n",
      "\u001b[34m[09:24:46] src/tree/updater_prune.cc:74: tree pruning end, 1 roots, 42 extra nodes, 4 pruned nodes, max_depth=5\u001b[0m\n",
      "\u001b[34m[53]#011train-error:0.1384#011validation-error:0.1666\u001b[0m\n",
      "\u001b[34m[09:24:48] src/tree/updater_prune.cc:74: tree pruning end, 1 roots, 26 extra nodes, 10 pruned nodes, max_depth=5\u001b[0m\n",
      "\u001b[34m[54]#011train-error:0.138067#011validation-error:0.1652\u001b[0m\n",
      "\u001b[34m[09:24:50] src/tree/updater_prune.cc:74: tree pruning end, 1 roots, 26 extra nodes, 2 pruned nodes, max_depth=5\u001b[0m\n",
      "\u001b[34m[55]#011train-error:0.1362#011validation-error:0.1645\u001b[0m\n",
      "\u001b[34m[09:24:52] src/tree/updater_prune.cc:74: tree pruning end, 1 roots, 30 extra nodes, 12 pruned nodes, max_depth=5\u001b[0m\n",
      "\u001b[34m[56]#011train-error:0.135#011validation-error:0.1643\u001b[0m\n",
      "\u001b[34m[09:24:53] src/tree/updater_prune.cc:74: tree pruning end, 1 roots, 26 extra nodes, 10 pruned nodes, max_depth=5\u001b[0m\n",
      "\u001b[34m[57]#011train-error:0.132467#011validation-error:0.1633\u001b[0m\n",
      "\u001b[34m[09:24:55] src/tree/updater_prune.cc:74: tree pruning end, 1 roots, 18 extra nodes, 16 pruned nodes, max_depth=5\u001b[0m\n",
      "\u001b[34m[58]#011train-error:0.132267#011validation-error:0.1628\u001b[0m\n",
      "\u001b[34m[09:24:57] src/tree/updater_prune.cc:74: tree pruning end, 1 roots, 28 extra nodes, 8 pruned nodes, max_depth=5\u001b[0m\n",
      "\u001b[34m[59]#011train-error:0.132067#011validation-error:0.1629\u001b[0m\n",
      "\u001b[34m[09:24:59] src/tree/updater_prune.cc:74: tree pruning end, 1 roots, 22 extra nodes, 10 pruned nodes, max_depth=5\u001b[0m\n",
      "\u001b[34m[60]#011train-error:0.131333#011validation-error:0.1632\u001b[0m\n",
      "\u001b[34m[09:25:01] src/tree/updater_prune.cc:74: tree pruning end, 1 roots, 22 extra nodes, 8 pruned nodes, max_depth=5\u001b[0m\n",
      "\u001b[34m[61]#011train-error:0.130667#011validation-error:0.1623\u001b[0m\n",
      "\u001b[34m[09:25:03] src/tree/updater_prune.cc:74: tree pruning end, 1 roots, 30 extra nodes, 10 pruned nodes, max_depth=5\u001b[0m\n",
      "\u001b[34m[62]#011train-error:0.129#011validation-error:0.1606\u001b[0m\n",
      "\u001b[34m[09:25:05] src/tree/updater_prune.cc:74: tree pruning end, 1 roots, 12 extra nodes, 10 pruned nodes, max_depth=5\u001b[0m\n",
      "\u001b[34m[63]#011train-error:0.128333#011validation-error:0.1597\u001b[0m\n",
      "\u001b[34m[09:25:06] src/tree/updater_prune.cc:74: tree pruning end, 1 roots, 30 extra nodes, 16 pruned nodes, max_depth=5\u001b[0m\n",
      "\u001b[34m[64]#011train-error:0.126933#011validation-error:0.1603\u001b[0m\n",
      "\u001b[34m[09:25:08] src/tree/updater_prune.cc:74: tree pruning end, 1 roots, 18 extra nodes, 12 pruned nodes, max_depth=5\u001b[0m\n",
      "\u001b[34m[65]#011train-error:0.126333#011validation-error:0.1592\u001b[0m\n",
      "\u001b[34m[09:25:10] src/tree/updater_prune.cc:74: tree pruning end, 1 roots, 18 extra nodes, 8 pruned nodes, max_depth=5\u001b[0m\n",
      "\u001b[34m[66]#011train-error:0.1262#011validation-error:0.1583\u001b[0m\n",
      "\u001b[34m[09:25:12] src/tree/updater_prune.cc:74: tree pruning end, 1 roots, 12 extra nodes, 18 pruned nodes, max_depth=5\u001b[0m\n",
      "\u001b[34m[67]#011train-error:0.125467#011validation-error:0.1587\u001b[0m\n",
      "\u001b[34m[09:25:14] src/tree/updater_prune.cc:74: tree pruning end, 1 roots, 42 extra nodes, 10 pruned nodes, max_depth=5\u001b[0m\n",
      "\u001b[34m[68]#011train-error:0.124333#011validation-error:0.1578\u001b[0m\n",
      "\u001b[34m[09:25:16] src/tree/updater_prune.cc:74: tree pruning end, 1 roots, 18 extra nodes, 10 pruned nodes, max_depth=5\u001b[0m\n",
      "\u001b[34m[69]#011train-error:0.1242#011validation-error:0.1566\u001b[0m\n",
      "\u001b[34m[09:25:18] src/tree/updater_prune.cc:74: tree pruning end, 1 roots, 10 extra nodes, 12 pruned nodes, max_depth=5\u001b[0m\n",
      "\u001b[34m[70]#011train-error:0.123933#011validation-error:0.1564\u001b[0m\n",
      "\u001b[34m[09:25:20] src/tree/updater_prune.cc:74: tree pruning end, 1 roots, 16 extra nodes, 2 pruned nodes, max_depth=5\u001b[0m\n",
      "\u001b[34m[71]#011train-error:0.1224#011validation-error:0.1566\u001b[0m\n",
      "\u001b[34m[09:25:22] src/tree/updater_prune.cc:74: tree pruning end, 1 roots, 10 extra nodes, 10 pruned nodes, max_depth=5\u001b[0m\n",
      "\u001b[34m[72]#011train-error:0.122333#011validation-error:0.1562\u001b[0m\n",
      "\u001b[34m[09:25:23] src/tree/updater_prune.cc:74: tree pruning end, 1 roots, 20 extra nodes, 8 pruned nodes, max_depth=5\u001b[0m\n",
      "\u001b[34m[73]#011train-error:0.121267#011validation-error:0.1556\u001b[0m\n",
      "\u001b[34m[09:25:25] src/tree/updater_prune.cc:74: tree pruning end, 1 roots, 12 extra nodes, 4 pruned nodes, max_depth=5\u001b[0m\n",
      "\u001b[34m[74]#011train-error:0.120733#011validation-error:0.1553\u001b[0m\n",
      "\u001b[34m[09:25:27] src/tree/updater_prune.cc:74: tree pruning end, 1 roots, 34 extra nodes, 12 pruned nodes, max_depth=5\u001b[0m\n",
      "\u001b[34m[75]#011train-error:0.12#011validation-error:0.1536\u001b[0m\n",
      "\u001b[34m[09:25:29] src/tree/updater_prune.cc:74: tree pruning end, 1 roots, 22 extra nodes, 10 pruned nodes, max_depth=5\u001b[0m\n",
      "\u001b[34m[76]#011train-error:0.1194#011validation-error:0.1537\u001b[0m\n",
      "\u001b[34m[09:25:31] src/tree/updater_prune.cc:74: tree pruning end, 1 roots, 14 extra nodes, 14 pruned nodes, max_depth=5\u001b[0m\n",
      "\u001b[34m[77]#011train-error:0.118267#011validation-error:0.1541\u001b[0m\n",
      "\u001b[34m[09:25:32] src/tree/updater_prune.cc:74: tree pruning end, 1 roots, 10 extra nodes, 14 pruned nodes, max_depth=5\u001b[0m\n",
      "\u001b[34m[78]#011train-error:0.118#011validation-error:0.1533\u001b[0m\n",
      "\u001b[34m[09:25:34] src/tree/updater_prune.cc:74: tree pruning end, 1 roots, 32 extra nodes, 6 pruned nodes, max_depth=5\u001b[0m\n",
      "\u001b[34m[79]#011train-error:0.117267#011validation-error:0.152\u001b[0m\n",
      "\u001b[34m[09:25:36] src/tree/updater_prune.cc:74: tree pruning end, 1 roots, 22 extra nodes, 10 pruned nodes, max_depth=5\u001b[0m\n",
      "\u001b[34m[80]#011train-error:0.116133#011validation-error:0.1526\u001b[0m\n",
      "\u001b[34m[09:25:38] src/tree/updater_prune.cc:74: tree pruning end, 1 roots, 12 extra nodes, 8 pruned nodes, max_depth=5\u001b[0m\n",
      "\u001b[34m[81]#011train-error:0.115533#011validation-error:0.1526\u001b[0m\n",
      "\u001b[34m[09:25:40] src/tree/updater_prune.cc:74: tree pruning end, 1 roots, 16 extra nodes, 6 pruned nodes, max_depth=5\u001b[0m\n",
      "\u001b[34m[82]#011train-error:0.113933#011validation-error:0.153\u001b[0m\n"
     ]
    },
    {
     "name": "stdout",
     "output_type": "stream",
     "text": [
      "\u001b[34m[09:25:41] src/tree/updater_prune.cc:74: tree pruning end, 1 roots, 20 extra nodes, 10 pruned nodes, max_depth=5\u001b[0m\n",
      "\u001b[34m[83]#011train-error:0.113267#011validation-error:0.1529\u001b[0m\n",
      "\u001b[34m[09:25:43] src/tree/updater_prune.cc:74: tree pruning end, 1 roots, 22 extra nodes, 14 pruned nodes, max_depth=5\u001b[0m\n",
      "\u001b[34m[84]#011train-error:0.111533#011validation-error:0.1527\u001b[0m\n",
      "\u001b[34m[09:25:45] src/tree/updater_prune.cc:74: tree pruning end, 1 roots, 20 extra nodes, 12 pruned nodes, max_depth=5\u001b[0m\n",
      "\u001b[34m[85]#011train-error:0.1116#011validation-error:0.1517\u001b[0m\n",
      "\u001b[34m[09:25:46] src/tree/updater_prune.cc:74: tree pruning end, 1 roots, 30 extra nodes, 10 pruned nodes, max_depth=5\u001b[0m\n",
      "\u001b[34m[86]#011train-error:0.110933#011validation-error:0.1506\u001b[0m\n",
      "\u001b[34m[09:25:48] src/tree/updater_prune.cc:74: tree pruning end, 1 roots, 20 extra nodes, 10 pruned nodes, max_depth=5\u001b[0m\n",
      "\u001b[34m[87]#011train-error:0.111267#011validation-error:0.1496\u001b[0m\n",
      "\u001b[34m[09:25:50] src/tree/updater_prune.cc:74: tree pruning end, 1 roots, 22 extra nodes, 10 pruned nodes, max_depth=5\u001b[0m\n",
      "\u001b[34m[88]#011train-error:0.1104#011validation-error:0.1496\u001b[0m\n",
      "\u001b[34m[09:25:51] src/tree/updater_prune.cc:74: tree pruning end, 1 roots, 14 extra nodes, 2 pruned nodes, max_depth=5\u001b[0m\n",
      "\u001b[34m[89]#011train-error:0.109533#011validation-error:0.1492\u001b[0m\n",
      "\u001b[34m[09:25:53] src/tree/updater_prune.cc:74: tree pruning end, 1 roots, 32 extra nodes, 12 pruned nodes, max_depth=5\u001b[0m\n",
      "\u001b[34m[90]#011train-error:0.1082#011validation-error:0.1489\u001b[0m\n",
      "\u001b[34m[09:25:55] src/tree/updater_prune.cc:74: tree pruning end, 1 roots, 20 extra nodes, 8 pruned nodes, max_depth=5\u001b[0m\n",
      "\u001b[34m[91]#011train-error:0.1074#011validation-error:0.1483\u001b[0m\n",
      "\u001b[34m[09:25:57] src/tree/updater_prune.cc:74: tree pruning end, 1 roots, 22 extra nodes, 14 pruned nodes, max_depth=5\u001b[0m\n",
      "\u001b[34m[92]#011train-error:0.106467#011validation-error:0.1482\u001b[0m\n",
      "\u001b[34m[09:25:59] src/tree/updater_prune.cc:74: tree pruning end, 1 roots, 28 extra nodes, 8 pruned nodes, max_depth=5\u001b[0m\n",
      "\u001b[34m[93]#011train-error:0.105867#011validation-error:0.1477\u001b[0m\n",
      "\u001b[34m[09:26:01] src/tree/updater_prune.cc:74: tree pruning end, 1 roots, 24 extra nodes, 10 pruned nodes, max_depth=5\u001b[0m\n",
      "\u001b[34m[94]#011train-error:0.105333#011validation-error:0.1477\u001b[0m\n",
      "\u001b[34m[09:26:03] src/tree/updater_prune.cc:74: tree pruning end, 1 roots, 22 extra nodes, 14 pruned nodes, max_depth=5\u001b[0m\n",
      "\u001b[34m[95]#011train-error:0.105#011validation-error:0.1473\u001b[0m\n",
      "\u001b[34m[09:26:05] src/tree/updater_prune.cc:74: tree pruning end, 1 roots, 12 extra nodes, 8 pruned nodes, max_depth=5\u001b[0m\n",
      "\u001b[34m[96]#011train-error:0.104267#011validation-error:0.1472\u001b[0m\n",
      "\u001b[34m[09:26:06] src/tree/updater_prune.cc:74: tree pruning end, 1 roots, 16 extra nodes, 14 pruned nodes, max_depth=5\u001b[0m\n",
      "\u001b[34m[97]#011train-error:0.1046#011validation-error:0.1477\u001b[0m\n",
      "\u001b[34m[09:26:08] src/tree/updater_prune.cc:74: tree pruning end, 1 roots, 20 extra nodes, 14 pruned nodes, max_depth=5\u001b[0m\n",
      "\u001b[34m[98]#011train-error:0.1044#011validation-error:0.1476\u001b[0m\n",
      "\u001b[34m[09:26:10] src/tree/updater_prune.cc:74: tree pruning end, 1 roots, 12 extra nodes, 6 pruned nodes, max_depth=5\u001b[0m\n",
      "\u001b[34m[99]#011train-error:0.1044#011validation-error:0.1474\u001b[0m\n",
      "\u001b[34m[09:26:12] src/tree/updater_prune.cc:74: tree pruning end, 1 roots, 34 extra nodes, 14 pruned nodes, max_depth=5\u001b[0m\n",
      "\u001b[34m[100]#011train-error:0.102733#011validation-error:0.1469\u001b[0m\n",
      "\u001b[34m[09:26:14] src/tree/updater_prune.cc:74: tree pruning end, 1 roots, 26 extra nodes, 4 pruned nodes, max_depth=5\u001b[0m\n",
      "\u001b[34m[101]#011train-error:0.102733#011validation-error:0.1461\u001b[0m\n",
      "\u001b[34m[09:26:16] src/tree/updater_prune.cc:74: tree pruning end, 1 roots, 12 extra nodes, 4 pruned nodes, max_depth=5\u001b[0m\n",
      "\u001b[34m[102]#011train-error:0.102267#011validation-error:0.1458\u001b[0m\n",
      "\u001b[34m[09:26:18] src/tree/updater_prune.cc:74: tree pruning end, 1 roots, 12 extra nodes, 16 pruned nodes, max_depth=5\u001b[0m\n",
      "\u001b[34m[103]#011train-error:0.1018#011validation-error:0.1455\u001b[0m\n",
      "\u001b[34m[09:26:20] src/tree/updater_prune.cc:74: tree pruning end, 1 roots, 12 extra nodes, 10 pruned nodes, max_depth=5\u001b[0m\n",
      "\u001b[34m[104]#011train-error:0.1016#011validation-error:0.1458\u001b[0m\n",
      "\u001b[34m[09:26:22] src/tree/updater_prune.cc:74: tree pruning end, 1 roots, 16 extra nodes, 6 pruned nodes, max_depth=5\u001b[0m\n",
      "\u001b[34m[105]#011train-error:0.102133#011validation-error:0.146\u001b[0m\n",
      "\u001b[34m[09:26:24] src/tree/updater_prune.cc:74: tree pruning end, 1 roots, 14 extra nodes, 6 pruned nodes, max_depth=5\u001b[0m\n",
      "\u001b[34m[106]#011train-error:0.1016#011validation-error:0.1449\u001b[0m\n",
      "\u001b[34m[09:26:26] src/tree/updater_prune.cc:74: tree pruning end, 1 roots, 16 extra nodes, 4 pruned nodes, max_depth=5\u001b[0m\n",
      "\u001b[34m[107]#011train-error:0.101#011validation-error:0.1458\u001b[0m\n",
      "\u001b[34m[09:26:28] src/tree/updater_prune.cc:74: tree pruning end, 1 roots, 14 extra nodes, 6 pruned nodes, max_depth=5\u001b[0m\n",
      "\u001b[34m[108]#011train-error:0.100667#011validation-error:0.1447\u001b[0m\n",
      "\u001b[34m[09:26:30] src/tree/updater_prune.cc:74: tree pruning end, 1 roots, 14 extra nodes, 8 pruned nodes, max_depth=5\u001b[0m\n",
      "\u001b[34m[109]#011train-error:0.099933#011validation-error:0.1445\u001b[0m\n",
      "\u001b[34m[09:26:32] src/tree/updater_prune.cc:74: tree pruning end, 1 roots, 12 extra nodes, 0 pruned nodes, max_depth=5\u001b[0m\n",
      "\u001b[34m[110]#011train-error:0.1#011validation-error:0.1442\u001b[0m\n",
      "\u001b[34m[09:26:34] src/tree/updater_prune.cc:74: tree pruning end, 1 roots, 24 extra nodes, 14 pruned nodes, max_depth=5\u001b[0m\n",
      "\u001b[34m[111]#011train-error:0.099067#011validation-error:0.1451\u001b[0m\n",
      "\u001b[34m[09:26:36] src/tree/updater_prune.cc:74: tree pruning end, 1 roots, 10 extra nodes, 4 pruned nodes, max_depth=5\u001b[0m\n",
      "\u001b[34m[112]#011train-error:0.098667#011validation-error:0.145\u001b[0m\n",
      "\u001b[34m[09:26:38] src/tree/updater_prune.cc:74: tree pruning end, 1 roots, 24 extra nodes, 8 pruned nodes, max_depth=5\u001b[0m\n",
      "\u001b[34m[113]#011train-error:0.098467#011validation-error:0.1448\u001b[0m\n",
      "\u001b[34m[09:26:40] src/tree/updater_prune.cc:74: tree pruning end, 1 roots, 14 extra nodes, 10 pruned nodes, max_depth=5\u001b[0m\n",
      "\u001b[34m[114]#011train-error:0.0978#011validation-error:0.1441\u001b[0m\n",
      "\u001b[34m[09:26:41] src/tree/updater_prune.cc:74: tree pruning end, 1 roots, 14 extra nodes, 8 pruned nodes, max_depth=5\u001b[0m\n",
      "\u001b[34m[115]#011train-error:0.0974#011validation-error:0.1434\u001b[0m\n",
      "\u001b[34m[09:26:43] src/tree/updater_prune.cc:74: tree pruning end, 1 roots, 24 extra nodes, 6 pruned nodes, max_depth=5\u001b[0m\n",
      "\u001b[34m[116]#011train-error:0.0972#011validation-error:0.1434\u001b[0m\n",
      "\u001b[34m[09:26:45] src/tree/updater_prune.cc:74: tree pruning end, 1 roots, 16 extra nodes, 6 pruned nodes, max_depth=5\u001b[0m\n",
      "\u001b[34m[117]#011train-error:0.096733#011validation-error:0.1422\u001b[0m\n",
      "\u001b[34m[09:26:47] src/tree/updater_prune.cc:74: tree pruning end, 1 roots, 18 extra nodes, 6 pruned nodes, max_depth=5\u001b[0m\n",
      "\u001b[34m[118]#011train-error:0.096533#011validation-error:0.1431\u001b[0m\n",
      "\u001b[34m[09:26:49] src/tree/updater_prune.cc:74: tree pruning end, 1 roots, 22 extra nodes, 12 pruned nodes, max_depth=5\u001b[0m\n",
      "\u001b[34m[119]#011train-error:0.095333#011validation-error:0.1428\u001b[0m\n",
      "\u001b[34m[09:26:51] src/tree/updater_prune.cc:74: tree pruning end, 1 roots, 22 extra nodes, 4 pruned nodes, max_depth=5\u001b[0m\n",
      "\u001b[34m[120]#011train-error:0.094467#011validation-error:0.1431\u001b[0m\n",
      "\u001b[34m[09:26:53] src/tree/updater_prune.cc:74: tree pruning end, 1 roots, 12 extra nodes, 8 pruned nodes, max_depth=5\u001b[0m\n",
      "\u001b[34m[121]#011train-error:0.094333#011validation-error:0.1427\u001b[0m\n",
      "\u001b[34m[09:26:54] src/tree/updater_prune.cc:74: tree pruning end, 1 roots, 14 extra nodes, 6 pruned nodes, max_depth=5\u001b[0m\n",
      "\u001b[34m[122]#011train-error:0.094067#011validation-error:0.1422\u001b[0m\n",
      "\u001b[34m[09:26:56] src/tree/updater_prune.cc:74: tree pruning end, 1 roots, 20 extra nodes, 16 pruned nodes, max_depth=5\u001b[0m\n",
      "\u001b[34m[123]#011train-error:0.093667#011validation-error:0.1413\u001b[0m\n",
      "\u001b[34m[09:26:58] src/tree/updater_prune.cc:74: tree pruning end, 1 roots, 10 extra nodes, 8 pruned nodes, max_depth=5\u001b[0m\n",
      "\u001b[34m[124]#011train-error:0.093733#011validation-error:0.1412\u001b[0m\n",
      "\u001b[34m[09:27:00] src/tree/updater_prune.cc:74: tree pruning end, 1 roots, 12 extra nodes, 2 pruned nodes, max_depth=5\u001b[0m\n",
      "\u001b[34m[125]#011train-error:0.093667#011validation-error:0.1411\u001b[0m\n",
      "\u001b[34m[09:27:02] src/tree/updater_prune.cc:74: tree pruning end, 1 roots, 14 extra nodes, 10 pruned nodes, max_depth=5\u001b[0m\n",
      "\u001b[34m[126]#011train-error:0.093733#011validation-error:0.1409\u001b[0m\n",
      "\u001b[34m[09:27:04] src/tree/updater_prune.cc:74: tree pruning end, 1 roots, 10 extra nodes, 8 pruned nodes, max_depth=5\u001b[0m\n",
      "\u001b[34m[127]#011train-error:0.093267#011validation-error:0.1402\u001b[0m\n",
      "\u001b[34m[09:27:06] src/tree/updater_prune.cc:74: tree pruning end, 1 roots, 12 extra nodes, 4 pruned nodes, max_depth=5\u001b[0m\n",
      "\u001b[34m[128]#011train-error:0.0934#011validation-error:0.1401\u001b[0m\n",
      "\u001b[34m[09:27:08] src/tree/updater_prune.cc:74: tree pruning end, 1 roots, 14 extra nodes, 8 pruned nodes, max_depth=5\u001b[0m\n",
      "\u001b[34m[129]#011train-error:0.0934#011validation-error:0.1406\u001b[0m\n"
     ]
    },
    {
     "name": "stdout",
     "output_type": "stream",
     "text": [
      "\u001b[34m[09:27:10] src/tree/updater_prune.cc:74: tree pruning end, 1 roots, 18 extra nodes, 4 pruned nodes, max_depth=5\u001b[0m\n",
      "\u001b[34m[130]#011train-error:0.092867#011validation-error:0.1401\u001b[0m\n",
      "\u001b[34m[09:27:12] src/tree/updater_prune.cc:74: tree pruning end, 1 roots, 16 extra nodes, 12 pruned nodes, max_depth=5\u001b[0m\n",
      "\u001b[34m[131]#011train-error:0.092333#011validation-error:0.1401\u001b[0m\n",
      "\u001b[34m[09:27:14] src/tree/updater_prune.cc:74: tree pruning end, 1 roots, 20 extra nodes, 6 pruned nodes, max_depth=5\u001b[0m\n",
      "\u001b[34m[132]#011train-error:0.090733#011validation-error:0.1401\u001b[0m\n",
      "\u001b[34m[09:27:16] src/tree/updater_prune.cc:74: tree pruning end, 1 roots, 10 extra nodes, 10 pruned nodes, max_depth=5\u001b[0m\n",
      "\u001b[34m[133]#011train-error:0.0904#011validation-error:0.14\u001b[0m\n",
      "\u001b[34m[09:27:18] src/tree/updater_prune.cc:74: tree pruning end, 1 roots, 20 extra nodes, 16 pruned nodes, max_depth=5\u001b[0m\n",
      "\u001b[34m[134]#011train-error:0.090467#011validation-error:0.1394\u001b[0m\n",
      "\u001b[34m[09:27:20] src/tree/updater_prune.cc:74: tree pruning end, 1 roots, 18 extra nodes, 18 pruned nodes, max_depth=5\u001b[0m\n",
      "\u001b[34m[135]#011train-error:0.090067#011validation-error:0.1393\u001b[0m\n",
      "\u001b[34m[09:27:22] src/tree/updater_prune.cc:74: tree pruning end, 1 roots, 14 extra nodes, 10 pruned nodes, max_depth=5\u001b[0m\n",
      "\u001b[34m[136]#011train-error:0.0896#011validation-error:0.1391\u001b[0m\n",
      "\u001b[34m[09:27:23] src/tree/updater_prune.cc:74: tree pruning end, 1 roots, 12 extra nodes, 6 pruned nodes, max_depth=5\u001b[0m\n",
      "\u001b[34m[137]#011train-error:0.088933#011validation-error:0.139\u001b[0m\n",
      "\u001b[34m[09:27:25] src/tree/updater_prune.cc:74: tree pruning end, 1 roots, 22 extra nodes, 4 pruned nodes, max_depth=5\u001b[0m\n",
      "\u001b[34m[138]#011train-error:0.0884#011validation-error:0.1379\u001b[0m\n",
      "\u001b[34m[09:27:27] src/tree/updater_prune.cc:74: tree pruning end, 1 roots, 14 extra nodes, 20 pruned nodes, max_depth=5\u001b[0m\n",
      "\u001b[34m[139]#011train-error:0.088933#011validation-error:0.1385\u001b[0m\n",
      "\u001b[34m[09:27:29] src/tree/updater_prune.cc:74: tree pruning end, 1 roots, 26 extra nodes, 14 pruned nodes, max_depth=5\u001b[0m\n",
      "\u001b[34m[140]#011train-error:0.088#011validation-error:0.1388\u001b[0m\n",
      "\u001b[34m[09:27:31] src/tree/updater_prune.cc:74: tree pruning end, 1 roots, 18 extra nodes, 6 pruned nodes, max_depth=5\u001b[0m\n",
      "\u001b[34m[141]#011train-error:0.087133#011validation-error:0.1386\u001b[0m\n",
      "\u001b[34m[09:27:33] src/tree/updater_prune.cc:74: tree pruning end, 1 roots, 18 extra nodes, 14 pruned nodes, max_depth=5\u001b[0m\n",
      "\u001b[34m[142]#011train-error:0.0868#011validation-error:0.1376\u001b[0m\n",
      "\u001b[34m[09:27:35] src/tree/updater_prune.cc:74: tree pruning end, 1 roots, 36 extra nodes, 14 pruned nodes, max_depth=5\u001b[0m\n",
      "\u001b[34m[143]#011train-error:0.085867#011validation-error:0.1373\u001b[0m\n",
      "\u001b[34m[09:27:37] src/tree/updater_prune.cc:74: tree pruning end, 1 roots, 22 extra nodes, 8 pruned nodes, max_depth=5\u001b[0m\n",
      "\u001b[34m[144]#011train-error:0.085533#011validation-error:0.1382\u001b[0m\n",
      "\u001b[34m[09:27:38] src/tree/updater_prune.cc:74: tree pruning end, 1 roots, 20 extra nodes, 12 pruned nodes, max_depth=5\u001b[0m\n",
      "\u001b[34m[145]#011train-error:0.085067#011validation-error:0.1373\u001b[0m\n",
      "\u001b[34m[09:27:40] src/tree/updater_prune.cc:74: tree pruning end, 1 roots, 12 extra nodes, 2 pruned nodes, max_depth=5\u001b[0m\n",
      "\u001b[34m[146]#011train-error:0.084867#011validation-error:0.1368\u001b[0m\n",
      "\u001b[34m[09:27:42] src/tree/updater_prune.cc:74: tree pruning end, 1 roots, 10 extra nodes, 6 pruned nodes, max_depth=5\u001b[0m\n",
      "\u001b[34m[147]#011train-error:0.084667#011validation-error:0.1367\u001b[0m\n",
      "\u001b[34m[09:27:44] src/tree/updater_prune.cc:74: tree pruning end, 1 roots, 16 extra nodes, 0 pruned nodes, max_depth=5\u001b[0m\n",
      "\u001b[34m[148]#011train-error:0.0838#011validation-error:0.136\u001b[0m\n",
      "\u001b[34m[09:27:46] src/tree/updater_prune.cc:74: tree pruning end, 1 roots, 16 extra nodes, 2 pruned nodes, max_depth=5\u001b[0m\n",
      "\u001b[34m[149]#011train-error:0.0836#011validation-error:0.1356\u001b[0m\n",
      "\u001b[34m[09:27:47] src/tree/updater_prune.cc:74: tree pruning end, 1 roots, 10 extra nodes, 8 pruned nodes, max_depth=5\u001b[0m\n",
      "\u001b[34m[150]#011train-error:0.0838#011validation-error:0.1353\u001b[0m\n",
      "\u001b[34m[09:27:49] src/tree/updater_prune.cc:74: tree pruning end, 1 roots, 16 extra nodes, 12 pruned nodes, max_depth=5\u001b[0m\n",
      "\u001b[34m[151]#011train-error:0.083533#011validation-error:0.1351\u001b[0m\n",
      "\u001b[34m[09:27:51] src/tree/updater_prune.cc:74: tree pruning end, 1 roots, 12 extra nodes, 6 pruned nodes, max_depth=5\u001b[0m\n",
      "\u001b[34m[152]#011train-error:0.083733#011validation-error:0.1353\u001b[0m\n",
      "\u001b[34m[09:27:53] src/tree/updater_prune.cc:74: tree pruning end, 1 roots, 10 extra nodes, 6 pruned nodes, max_depth=5\u001b[0m\n",
      "\u001b[34m[153]#011train-error:0.083533#011validation-error:0.1351\u001b[0m\n",
      "\u001b[34m[09:27:55] src/tree/updater_prune.cc:74: tree pruning end, 1 roots, 18 extra nodes, 6 pruned nodes, max_depth=5\u001b[0m\n",
      "\u001b[34m[154]#011train-error:0.0828#011validation-error:0.1353\u001b[0m\n",
      "\u001b[34m[09:27:57] src/tree/updater_prune.cc:74: tree pruning end, 1 roots, 18 extra nodes, 10 pruned nodes, max_depth=5\u001b[0m\n",
      "\u001b[34m[155]#011train-error:0.0832#011validation-error:0.1354\u001b[0m\n",
      "\u001b[34m[09:27:59] src/tree/updater_prune.cc:74: tree pruning end, 1 roots, 16 extra nodes, 10 pruned nodes, max_depth=5\u001b[0m\n",
      "\u001b[34m[156]#011train-error:0.0824#011validation-error:0.1352\u001b[0m\n",
      "\u001b[34m[09:28:00] src/tree/updater_prune.cc:74: tree pruning end, 1 roots, 10 extra nodes, 10 pruned nodes, max_depth=5\u001b[0m\n",
      "\u001b[34m[157]#011train-error:0.0822#011validation-error:0.1353\u001b[0m\n",
      "\u001b[34m[09:28:02] src/tree/updater_prune.cc:74: tree pruning end, 1 roots, 10 extra nodes, 10 pruned nodes, max_depth=5\u001b[0m\n",
      "\u001b[34m[158]#011train-error:0.082467#011validation-error:0.1349\u001b[0m\n",
      "\u001b[34m[09:28:04] src/tree/updater_prune.cc:74: tree pruning end, 1 roots, 20 extra nodes, 4 pruned nodes, max_depth=5\u001b[0m\n",
      "\u001b[34m[159]#011train-error:0.082133#011validation-error:0.1341\u001b[0m\n",
      "\u001b[34m[09:28:06] src/tree/updater_prune.cc:74: tree pruning end, 1 roots, 12 extra nodes, 10 pruned nodes, max_depth=5\u001b[0m\n",
      "\u001b[34m[160]#011train-error:0.081467#011validation-error:0.1339\u001b[0m\n",
      "\u001b[34m[09:28:08] src/tree/updater_prune.cc:74: tree pruning end, 1 roots, 14 extra nodes, 10 pruned nodes, max_depth=5\u001b[0m\n",
      "\u001b[34m[161]#011train-error:0.0816#011validation-error:0.1345\u001b[0m\n",
      "\u001b[34m[09:28:10] src/tree/updater_prune.cc:74: tree pruning end, 1 roots, 12 extra nodes, 2 pruned nodes, max_depth=5\u001b[0m\n",
      "\u001b[34m[162]#011train-error:0.081333#011validation-error:0.1344\u001b[0m\n",
      "\u001b[34m[09:28:12] src/tree/updater_prune.cc:74: tree pruning end, 1 roots, 12 extra nodes, 10 pruned nodes, max_depth=5\u001b[0m\n",
      "\u001b[34m[163]#011train-error:0.081067#011validation-error:0.1341\u001b[0m\n",
      "\u001b[34m[09:28:14] src/tree/updater_prune.cc:74: tree pruning end, 1 roots, 10 extra nodes, 6 pruned nodes, max_depth=5\u001b[0m\n",
      "\u001b[34m[164]#011train-error:0.0802#011validation-error:0.1338\u001b[0m\n",
      "\u001b[34m[09:28:15] src/tree/updater_prune.cc:74: tree pruning end, 1 roots, 10 extra nodes, 10 pruned nodes, max_depth=5\u001b[0m\n",
      "\u001b[34m[165]#011train-error:0.080267#011validation-error:0.1335\u001b[0m\n",
      "\u001b[34m[09:28:17] src/tree/updater_prune.cc:74: tree pruning end, 1 roots, 24 extra nodes, 2 pruned nodes, max_depth=5\u001b[0m\n",
      "\u001b[34m[166]#011train-error:0.0798#011validation-error:0.1336\u001b[0m\n",
      "\u001b[34m[09:28:19] src/tree/updater_prune.cc:74: tree pruning end, 1 roots, 22 extra nodes, 0 pruned nodes, max_depth=5\u001b[0m\n",
      "\u001b[34m[167]#011train-error:0.079133#011validation-error:0.1334\u001b[0m\n",
      "\u001b[34m[09:28:21] src/tree/updater_prune.cc:74: tree pruning end, 1 roots, 14 extra nodes, 10 pruned nodes, max_depth=5\u001b[0m\n",
      "\u001b[34m[168]#011train-error:0.078533#011validation-error:0.133\u001b[0m\n",
      "\u001b[34m[09:28:23] src/tree/updater_prune.cc:74: tree pruning end, 1 roots, 10 extra nodes, 4 pruned nodes, max_depth=5\u001b[0m\n",
      "\u001b[34m[169]#011train-error:0.0784#011validation-error:0.1327\u001b[0m\n",
      "\u001b[34m[09:28:25] src/tree/updater_prune.cc:74: tree pruning end, 1 roots, 34 extra nodes, 14 pruned nodes, max_depth=5\u001b[0m\n",
      "\u001b[34m[170]#011train-error:0.0774#011validation-error:0.1309\u001b[0m\n",
      "\u001b[34m[09:28:27] src/tree/updater_prune.cc:74: tree pruning end, 1 roots, 24 extra nodes, 6 pruned nodes, max_depth=5\u001b[0m\n",
      "\u001b[34m[171]#011train-error:0.076467#011validation-error:0.131\u001b[0m\n",
      "\u001b[34m[09:28:29] src/tree/updater_prune.cc:74: tree pruning end, 1 roots, 14 extra nodes, 16 pruned nodes, max_depth=5\u001b[0m\n",
      "\u001b[34m[172]#011train-error:0.076267#011validation-error:0.1311\u001b[0m\n",
      "\u001b[34m[09:28:30] src/tree/updater_prune.cc:74: tree pruning end, 1 roots, 12 extra nodes, 18 pruned nodes, max_depth=5\u001b[0m\n",
      "\u001b[34m[173]#011train-error:0.0768#011validation-error:0.1312\u001b[0m\n",
      "\u001b[34m[09:28:32] src/tree/updater_prune.cc:74: tree pruning end, 1 roots, 16 extra nodes, 10 pruned nodes, max_depth=5\u001b[0m\n",
      "\u001b[34m[174]#011train-error:0.0764#011validation-error:0.1313\u001b[0m\n"
     ]
    },
    {
     "name": "stdout",
     "output_type": "stream",
     "text": [
      "\u001b[34m[09:28:34] src/tree/updater_prune.cc:74: tree pruning end, 1 roots, 20 extra nodes, 8 pruned nodes, max_depth=5\u001b[0m\n",
      "\u001b[34m[175]#011train-error:0.076267#011validation-error:0.1317\u001b[0m\n",
      "\u001b[34m[09:28:35] src/tree/updater_prune.cc:74: tree pruning end, 1 roots, 14 extra nodes, 8 pruned nodes, max_depth=5\u001b[0m\n",
      "\u001b[34m[176]#011train-error:0.076067#011validation-error:0.1314\u001b[0m\n",
      "\u001b[34m[09:28:38] src/tree/updater_prune.cc:74: tree pruning end, 1 roots, 10 extra nodes, 10 pruned nodes, max_depth=5\u001b[0m\n",
      "\u001b[34m[177]#011train-error:0.0762#011validation-error:0.1316\u001b[0m\n",
      "\u001b[34m[09:28:40] src/tree/updater_prune.cc:74: tree pruning end, 1 roots, 14 extra nodes, 20 pruned nodes, max_depth=5\u001b[0m\n",
      "\u001b[34m[178]#011train-error:0.075867#011validation-error:0.1313\u001b[0m\n",
      "\u001b[34m[09:28:42] src/tree/updater_prune.cc:74: tree pruning end, 1 roots, 28 extra nodes, 4 pruned nodes, max_depth=5\u001b[0m\n",
      "\u001b[34m[179]#011train-error:0.075#011validation-error:0.1311\u001b[0m\n",
      "\u001b[34m[09:28:43] src/tree/updater_prune.cc:74: tree pruning end, 1 roots, 12 extra nodes, 10 pruned nodes, max_depth=5\u001b[0m\n",
      "\u001b[34m[180]#011train-error:0.0748#011validation-error:0.1304\u001b[0m\n",
      "\u001b[34m[09:28:45] src/tree/updater_prune.cc:74: tree pruning end, 1 roots, 14 extra nodes, 6 pruned nodes, max_depth=5\u001b[0m\n",
      "\u001b[34m[181]#011train-error:0.075467#011validation-error:0.1303\u001b[0m\n",
      "\u001b[34m[09:28:47] src/tree/updater_prune.cc:74: tree pruning end, 1 roots, 12 extra nodes, 4 pruned nodes, max_depth=5\u001b[0m\n",
      "\u001b[34m[182]#011train-error:0.0754#011validation-error:0.13\u001b[0m\n",
      "\u001b[34m[09:28:49] src/tree/updater_prune.cc:74: tree pruning end, 1 roots, 16 extra nodes, 10 pruned nodes, max_depth=5\u001b[0m\n",
      "\u001b[34m[183]#011train-error:0.074467#011validation-error:0.1301\u001b[0m\n",
      "\u001b[34m[09:28:51] src/tree/updater_prune.cc:74: tree pruning end, 1 roots, 18 extra nodes, 12 pruned nodes, max_depth=5\u001b[0m\n",
      "\u001b[34m[184]#011train-error:0.074733#011validation-error:0.1303\u001b[0m\n",
      "\u001b[34m[09:28:53] src/tree/updater_prune.cc:74: tree pruning end, 1 roots, 10 extra nodes, 4 pruned nodes, max_depth=5\u001b[0m\n",
      "\u001b[34m[185]#011train-error:0.0746#011validation-error:0.1305\u001b[0m\n",
      "\u001b[34m[09:28:55] src/tree/updater_prune.cc:74: tree pruning end, 1 roots, 18 extra nodes, 6 pruned nodes, max_depth=5\u001b[0m\n",
      "\u001b[34m[186]#011train-error:0.0736#011validation-error:0.1304\u001b[0m\n",
      "\u001b[34m[09:28:57] src/tree/updater_prune.cc:74: tree pruning end, 1 roots, 18 extra nodes, 12 pruned nodes, max_depth=5\u001b[0m\n",
      "\u001b[34m[187]#011train-error:0.073#011validation-error:0.1296\u001b[0m\n",
      "\u001b[34m[09:28:59] src/tree/updater_prune.cc:74: tree pruning end, 1 roots, 24 extra nodes, 8 pruned nodes, max_depth=5\u001b[0m\n",
      "\u001b[34m[188]#011train-error:0.0732#011validation-error:0.1299\u001b[0m\n",
      "\u001b[34m[09:29:01] src/tree/updater_prune.cc:74: tree pruning end, 1 roots, 16 extra nodes, 20 pruned nodes, max_depth=5\u001b[0m\n",
      "\u001b[34m[189]#011train-error:0.072733#011validation-error:0.131\u001b[0m\n",
      "\u001b[34m[09:29:03] src/tree/updater_prune.cc:74: tree pruning end, 1 roots, 10 extra nodes, 10 pruned nodes, max_depth=5\u001b[0m\n",
      "\u001b[34m[190]#011train-error:0.0726#011validation-error:0.1311\u001b[0m\n",
      "\u001b[34m[09:29:05] src/tree/updater_prune.cc:74: tree pruning end, 1 roots, 10 extra nodes, 6 pruned nodes, max_depth=5\u001b[0m\n",
      "\u001b[34m[191]#011train-error:0.072667#011validation-error:0.1308\u001b[0m\n",
      "\u001b[34m[09:29:07] src/tree/updater_prune.cc:74: tree pruning end, 1 roots, 20 extra nodes, 6 pruned nodes, max_depth=5\u001b[0m\n",
      "\u001b[34m[192]#011train-error:0.072267#011validation-error:0.1308\u001b[0m\n",
      "\u001b[34m[09:29:09] src/tree/updater_prune.cc:74: tree pruning end, 1 roots, 14 extra nodes, 14 pruned nodes, max_depth=5\u001b[0m\n",
      "\u001b[34m[193]#011train-error:0.0724#011validation-error:0.1315\u001b[0m\n",
      "\u001b[34m[09:29:11] src/tree/updater_prune.cc:74: tree pruning end, 1 roots, 12 extra nodes, 4 pruned nodes, max_depth=5\u001b[0m\n",
      "\u001b[34m[194]#011train-error:0.072267#011validation-error:0.1317\u001b[0m\n",
      "\u001b[34m[09:29:13] src/tree/updater_prune.cc:74: tree pruning end, 1 roots, 10 extra nodes, 12 pruned nodes, max_depth=5\u001b[0m\n",
      "\u001b[34m[195]#011train-error:0.0722#011validation-error:0.1319\u001b[0m\n",
      "\u001b[34m[09:29:15] src/tree/updater_prune.cc:74: tree pruning end, 1 roots, 12 extra nodes, 10 pruned nodes, max_depth=5\u001b[0m\n",
      "\u001b[34m[196]#011train-error:0.071867#011validation-error:0.1314\u001b[0m\n",
      "\u001b[34m[09:29:17] src/tree/updater_prune.cc:74: tree pruning end, 1 roots, 20 extra nodes, 12 pruned nodes, max_depth=5\u001b[0m\n",
      "\u001b[34m[197]#011train-error:0.071267#011validation-error:0.1311\u001b[0m\n",
      "\u001b[34mStopping. Best iteration:\u001b[0m\n",
      "\u001b[34m[187]#011train-error:0.073#011validation-error:0.1296\u001b[0m\n",
      "\n",
      "2022-06-06 09:29:28 Uploading - Uploading generated training model\n",
      "2022-06-06 09:29:28 Completed - Training job completed\n",
      "Training seconds: 534\n",
      "Billable seconds: 534\n"
     ]
    }
   ],
   "source": [
    "xgb.fit({'train': s3_input_train, 'validation': s3_input_validation})"
   ]
  },
  {
   "cell_type": "markdown",
   "metadata": {},
   "source": [
    "## Step 5: Testing the model\n",
    "\n",
    "Now that we've fit our XGBoost model, it's time to see how well it performs. To do this we will use SageMakers Batch Transform functionality. Batch Transform is a convenient way to perform inference on a large dataset in a way that is not realtime. That is, we don't necessarily need to use our model's results immediately and instead we can perform inference on a large number of samples. An example of this in industry might be performing an end of month report. This method of inference can also be useful to us as it means that we can perform inference on our entire test set. \n",
    "\n",
    "To perform a Batch Transformation we need to first create a transformer objects from our trained estimator object."
   ]
  },
  {
   "cell_type": "code",
   "execution_count": 25,
   "metadata": {},
   "outputs": [
    {
     "name": "stderr",
     "output_type": "stream",
     "text": [
      "Parameter image will be renamed to image_uri in SageMaker Python SDK v2.\n"
     ]
    }
   ],
   "source": [
    "xgb_transformer = xgb.transformer(instance_count = 1, instance_type = 'ml.m4.xlarge')"
   ]
  },
  {
   "cell_type": "markdown",
   "metadata": {},
   "source": [
    "Next we actually perform the transform job. When doing so we need to make sure to specify the type of data we are sending so that it is serialized correctly in the background. In our case we are providing our model with csv data so we specify `text/csv`. Also, if the test data that we have provided is too large to process all at once then we need to specify how the data file should be split up. Since each line is a single entry in our data set we tell SageMaker that it can split the input on each line."
   ]
  },
  {
   "cell_type": "code",
   "execution_count": 26,
   "metadata": {},
   "outputs": [],
   "source": [
    "xgb_transformer.transform(test_location, content_type='text/csv', split_type='Line')"
   ]
  },
  {
   "cell_type": "markdown",
   "metadata": {},
   "source": [
    "Currently the transform job is running but it is doing so in the background. Since we wish to wait until the transform job is done and we would like a bit of feedback we can run the `wait()` method."
   ]
  },
  {
   "cell_type": "code",
   "execution_count": 27,
   "metadata": {},
   "outputs": [
    {
     "name": "stdout",
     "output_type": "stream",
     "text": [
      "...................................\u001b[34mArguments: serve\u001b[0m\n",
      "\u001b[34m[2022-06-06 09:35:35 +0000] [1] [INFO] Starting gunicorn 19.9.0\u001b[0m\n",
      "\u001b[34m[2022-06-06 09:35:35 +0000] [1] [INFO] Listening at: http://0.0.0.0:8080 (1)\u001b[0m\n",
      "\u001b[34m[2022-06-06 09:35:35 +0000] [1] [INFO] Using worker: gevent\u001b[0m\n",
      "\u001b[34m[2022-06-06 09:35:35 +0000] [21] [INFO] Booting worker with pid: 21\u001b[0m\n",
      "\u001b[34m[2022-06-06 09:35:35 +0000] [22] [INFO] Booting worker with pid: 22\u001b[0m\n",
      "\u001b[34m/opt/amazon/lib/python3.7/site-packages/gunicorn/workers/ggevent.py:65: MonkeyPatchWarning: Monkey-patching ssl after ssl has already been imported may lead to errors, including RecursionError on Python 3.6. It may also silently lead to incorrect behaviour on Python 3.7. Please monkey-patch earlier. See https://github.com/gevent/gevent/issues/1016. Modules that had direct imports (NOT patched): ['urllib3.util (/opt/amazon/lib/python3.7/site-packages/urllib3/util/__init__.py)', 'urllib3.util.ssl_ (/opt/amazon/lib/python3.7/site-packages/urllib3/util/ssl_.py)']. \n",
      "  monkey.patch_all(subprocess=True)\u001b[0m\n",
      "\u001b[34m[2022-06-06:09:35:35:INFO] Model loaded successfully for worker : 21\u001b[0m\n",
      "\u001b[34m/opt/amazon/lib/python3.7/site-packages/gunicorn/workers/ggevent.py:65: MonkeyPatchWarning: Monkey-patching ssl after ssl has already been imported may lead to errors, including RecursionError on Python 3.6. It may also silently lead to incorrect behaviour on Python 3.7. Please monkey-patch earlier. See https://github.com/gevent/gevent/issues/1016. Modules that had direct imports (NOT patched): ['urllib3.util (/opt/amazon/lib/python3.7/site-packages/urllib3/util/__init__.py)', 'urllib3.util.ssl_ (/opt/amazon/lib/python3.7/site-packages/urllib3/util/ssl_.py)']. \n",
      "  monkey.patch_all(subprocess=True)\u001b[0m\n",
      "\u001b[34m[2022-06-06:09:35:35:INFO] Model loaded successfully for worker : 22\u001b[0m\n",
      "\u001b[34m[2022-06-06 09:35:35 +0000] [23] [INFO] Booting worker with pid: 23\u001b[0m\n",
      "\u001b[34m/opt/amazon/lib/python3.7/site-packages/gunicorn/workers/ggevent.py:65: MonkeyPatchWarning: Monkey-patching ssl after ssl has already been imported may lead to errors, including RecursionError on Python 3.6. It may also silently lead to incorrect behaviour on Python 3.7. Please monkey-patch earlier. See https://github.com/gevent/gevent/issues/1016. Modules that had direct imports (NOT patched): ['urllib3.util (/opt/amazon/lib/python3.7/site-packages/urllib3/util/__init__.py)', 'urllib3.util.ssl_ (/opt/amazon/lib/python3.7/site-packages/urllib3/util/ssl_.py)']. \n",
      "  monkey.patch_all(subprocess=True)\u001b[0m\n",
      "\u001b[34m[2022-06-06 09:35:35 +0000] [24] [INFO] Booting worker with pid: 24\u001b[0m\n",
      "\u001b[34m[2022-06-06:09:35:35:INFO] Model loaded successfully for worker : 23\u001b[0m\n",
      "\u001b[34m/opt/amazon/lib/python3.7/site-packages/gunicorn/workers/ggevent.py:65: MonkeyPatchWarning: Monkey-patching ssl after ssl has already been imported may lead to errors, including RecursionError on Python 3.6. It may also silently lead to incorrect behaviour on Python 3.7. Please monkey-patch earlier. See https://github.com/gevent/gevent/issues/1016. Modules that had direct imports (NOT patched): ['urllib3.util (/opt/amazon/lib/python3.7/site-packages/urllib3/util/__init__.py)', 'urllib3.util.ssl_ (/opt/amazon/lib/python3.7/site-packages/urllib3/util/ssl_.py)']. \n",
      "  monkey.patch_all(subprocess=True)\u001b[0m\n",
      "\u001b[34m[2022-06-06:09:35:35:INFO] Model loaded successfully for worker : 24\u001b[0m\n",
      "\u001b[34m[2022-06-06:09:35:42:INFO] Sniff delimiter as ','\u001b[0m\n",
      "\u001b[34m[2022-06-06:09:35:42:INFO] Determined delimiter of CSV input is ','\u001b[0m\n",
      "\u001b[34m[2022-06-06:09:35:42:INFO] Sniff delimiter as ','\u001b[0m\n",
      "\u001b[34m[2022-06-06:09:35:42:INFO] Determined delimiter of CSV input is ','\u001b[0m\n",
      "\u001b[35m[2022-06-06:09:35:42:INFO] Sniff delimiter as ','\u001b[0m\n",
      "\u001b[35m[2022-06-06:09:35:42:INFO] Determined delimiter of CSV input is ','\u001b[0m\n",
      "\u001b[35m[2022-06-06:09:35:42:INFO] Sniff delimiter as ','\u001b[0m\n",
      "\u001b[35m[2022-06-06:09:35:42:INFO] Determined delimiter of CSV input is ','\u001b[0m\n",
      "\u001b[34m[2022-06-06:09:35:42:INFO] Sniff delimiter as ','\u001b[0m\n",
      "\u001b[34m[2022-06-06:09:35:42:INFO] Determined delimiter of CSV input is ','\u001b[0m\n",
      "\u001b[34m[2022-06-06:09:35:42:INFO] Sniff delimiter as ','\u001b[0m\n",
      "\u001b[34m[2022-06-06:09:35:42:INFO] Determined delimiter of CSV input is ','\u001b[0m\n",
      "\u001b[35m[2022-06-06:09:35:42:INFO] Sniff delimiter as ','\u001b[0m\n",
      "\u001b[35m[2022-06-06:09:35:42:INFO] Determined delimiter of CSV input is ','\u001b[0m\n",
      "\u001b[35m[2022-06-06:09:35:42:INFO] Sniff delimiter as ','\u001b[0m\n",
      "\u001b[35m[2022-06-06:09:35:42:INFO] Determined delimiter of CSV input is ','\u001b[0m\n",
      "\u001b[32m2022-06-06T09:35:39.080:[sagemaker logs]: MaxConcurrentTransforms=4, MaxPayloadInMB=6, BatchStrategy=MULTI_RECORD\u001b[0m\n",
      "\u001b[34m[2022-06-06:09:35:46:INFO] Sniff delimiter as ','\u001b[0m\n",
      "\u001b[34m[2022-06-06:09:35:46:INFO] Determined delimiter of CSV input is ','\u001b[0m\n",
      "\u001b[34m[2022-06-06:09:35:46:INFO] Sniff delimiter as ','\u001b[0m\n",
      "\u001b[34m[2022-06-06:09:35:46:INFO] Determined delimiter of CSV input is ','\u001b[0m\n",
      "\u001b[35m[2022-06-06:09:35:46:INFO] Sniff delimiter as ','\u001b[0m\n",
      "\u001b[35m[2022-06-06:09:35:46:INFO] Determined delimiter of CSV input is ','\u001b[0m\n",
      "\u001b[35m[2022-06-06:09:35:46:INFO] Sniff delimiter as ','\u001b[0m\n",
      "\u001b[35m[2022-06-06:09:35:46:INFO] Determined delimiter of CSV input is ','\u001b[0m\n",
      "\u001b[34m[2022-06-06:09:35:46:INFO] Sniff delimiter as ','\u001b[0m\n",
      "\u001b[34m[2022-06-06:09:35:46:INFO] Determined delimiter of CSV input is ','\u001b[0m\n",
      "\u001b[34m[2022-06-06:09:35:46:INFO] Sniff delimiter as ','\u001b[0m\n",
      "\u001b[34m[2022-06-06:09:35:46:INFO] Determined delimiter of CSV input is ','\u001b[0m\n",
      "\u001b[35m[2022-06-06:09:35:46:INFO] Sniff delimiter as ','\u001b[0m\n",
      "\u001b[35m[2022-06-06:09:35:46:INFO] Determined delimiter of CSV input is ','\u001b[0m\n",
      "\u001b[35m[2022-06-06:09:35:46:INFO] Sniff delimiter as ','\u001b[0m\n",
      "\u001b[35m[2022-06-06:09:35:46:INFO] Determined delimiter of CSV input is ','\u001b[0m\n",
      "\u001b[34m[2022-06-06:09:35:50:INFO] Sniff delimiter as ','\u001b[0m\n",
      "\u001b[34m[2022-06-06:09:35:50:INFO] Determined delimiter of CSV input is ','\u001b[0m\n",
      "\u001b[34m[2022-06-06:09:35:50:INFO] Sniff delimiter as ','\u001b[0m\n",
      "\u001b[34m[2022-06-06:09:35:50:INFO] Determined delimiter of CSV input is ','\u001b[0m\n",
      "\u001b[34m[2022-06-06:09:35:50:INFO] Sniff delimiter as ','\u001b[0m\n",
      "\u001b[34m[2022-06-06:09:35:50:INFO] Determined delimiter of CSV input is ','\u001b[0m\n",
      "\u001b[35m[2022-06-06:09:35:50:INFO] Sniff delimiter as ','\u001b[0m\n",
      "\u001b[35m[2022-06-06:09:35:50:INFO] Determined delimiter of CSV input is ','\u001b[0m\n",
      "\u001b[35m[2022-06-06:09:35:50:INFO] Sniff delimiter as ','\u001b[0m\n",
      "\u001b[35m[2022-06-06:09:35:50:INFO] Determined delimiter of CSV input is ','\u001b[0m\n",
      "\u001b[35m[2022-06-06:09:35:50:INFO] Sniff delimiter as ','\u001b[0m\n",
      "\u001b[35m[2022-06-06:09:35:50:INFO] Determined delimiter of CSV input is ','\u001b[0m\n",
      "\u001b[34m[2022-06-06:09:35:50:INFO] Sniff delimiter as ','\u001b[0m\n",
      "\u001b[34m[2022-06-06:09:35:50:INFO] Determined delimiter of CSV input is ','\u001b[0m\n",
      "\u001b[35m[2022-06-06:09:35:50:INFO] Sniff delimiter as ','\u001b[0m\n",
      "\u001b[35m[2022-06-06:09:35:50:INFO] Determined delimiter of CSV input is ','\u001b[0m\n",
      "\u001b[34m[2022-06-06:09:35:54:INFO] Sniff delimiter as ','\u001b[0m\n",
      "\u001b[34m[2022-06-06:09:35:54:INFO] Determined delimiter of CSV input is ','\u001b[0m\n",
      "\u001b[34m[2022-06-06:09:35:54:INFO] Sniff delimiter as ','\u001b[0m\n",
      "\u001b[34m[2022-06-06:09:35:54:INFO] Determined delimiter of CSV input is ','\u001b[0m\n",
      "\u001b[34m[2022-06-06:09:35:54:INFO] Sniff delimiter as ','\u001b[0m\n",
      "\u001b[34m[2022-06-06:09:35:54:INFO] Determined delimiter of CSV input is ','\u001b[0m\n",
      "\u001b[35m[2022-06-06:09:35:54:INFO] Sniff delimiter as ','\u001b[0m\n",
      "\u001b[35m[2022-06-06:09:35:54:INFO] Determined delimiter of CSV input is ','\u001b[0m\n",
      "\u001b[35m[2022-06-06:09:35:54:INFO] Sniff delimiter as ','\u001b[0m\n",
      "\u001b[35m[2022-06-06:09:35:54:INFO] Determined delimiter of CSV input is ','\u001b[0m\n",
      "\u001b[35m[2022-06-06:09:35:54:INFO] Sniff delimiter as ','\u001b[0m\n",
      "\u001b[35m[2022-06-06:09:35:54:INFO] Determined delimiter of CSV input is ','\u001b[0m\n",
      "\u001b[34m[2022-06-06:09:35:57:INFO] Sniff delimiter as ','\u001b[0m\n",
      "\u001b[34m[2022-06-06:09:35:57:INFO] Determined delimiter of CSV input is ','\u001b[0m\n",
      "\u001b[34m[2022-06-06:09:35:58:INFO] Sniff delimiter as ','\u001b[0m\n",
      "\u001b[34m[2022-06-06:09:35:58:INFO] Determined delimiter of CSV input is ','\u001b[0m\n",
      "\u001b[34m[2022-06-06:09:35:58:INFO] Sniff delimiter as ','\u001b[0m\n",
      "\u001b[34m[2022-06-06:09:35:58:INFO] Determined delimiter of CSV input is ','\u001b[0m\n",
      "\u001b[35m[2022-06-06:09:35:57:INFO] Sniff delimiter as ','\u001b[0m\n",
      "\u001b[35m[2022-06-06:09:35:57:INFO] Determined delimiter of CSV input is ','\u001b[0m\n",
      "\u001b[35m[2022-06-06:09:35:58:INFO] Sniff delimiter as ','\u001b[0m\n",
      "\u001b[35m[2022-06-06:09:35:58:INFO] Determined delimiter of CSV input is ','\u001b[0m\n",
      "\u001b[35m[2022-06-06:09:35:58:INFO] Sniff delimiter as ','\u001b[0m\n",
      "\u001b[35m[2022-06-06:09:35:58:INFO] Determined delimiter of CSV input is ','\u001b[0m\n",
      "\u001b[34m[2022-06-06:09:35:58:INFO] Sniff delimiter as ','\u001b[0m\n",
      "\u001b[34m[2022-06-06:09:35:58:INFO] Determined delimiter of CSV input is ','\u001b[0m\n",
      "\u001b[35m[2022-06-06:09:35:58:INFO] Sniff delimiter as ','\u001b[0m\n",
      "\u001b[35m[2022-06-06:09:35:58:INFO] Determined delimiter of CSV input is ','\u001b[0m\n"
     ]
    },
    {
     "name": "stdout",
     "output_type": "stream",
     "text": [
      "\u001b[34m[2022-06-06:09:36:02:INFO] Sniff delimiter as ','\u001b[0m\n",
      "\u001b[34m[2022-06-06:09:36:02:INFO] Determined delimiter of CSV input is ','\u001b[0m\n",
      "\u001b[34m[2022-06-06:09:36:02:INFO] Sniff delimiter as ','\u001b[0m\n",
      "\u001b[34m[2022-06-06:09:36:02:INFO] Determined delimiter of CSV input is ','\u001b[0m\n",
      "\u001b[34m[2022-06-06:09:36:02:INFO] Sniff delimiter as ','\u001b[0m\n",
      "\u001b[34m[2022-06-06:09:36:02:INFO] Determined delimiter of CSV input is ','\u001b[0m\n",
      "\u001b[35m[2022-06-06:09:36:02:INFO] Sniff delimiter as ','\u001b[0m\n",
      "\u001b[35m[2022-06-06:09:36:02:INFO] Determined delimiter of CSV input is ','\u001b[0m\n",
      "\u001b[35m[2022-06-06:09:36:02:INFO] Sniff delimiter as ','\u001b[0m\n",
      "\u001b[35m[2022-06-06:09:36:02:INFO] Determined delimiter of CSV input is ','\u001b[0m\n",
      "\u001b[35m[2022-06-06:09:36:02:INFO] Sniff delimiter as ','\u001b[0m\n",
      "\u001b[35m[2022-06-06:09:36:02:INFO] Determined delimiter of CSV input is ','\u001b[0m\n",
      "\u001b[34m[2022-06-06:09:36:05:INFO] Sniff delimiter as ','\u001b[0m\n",
      "\u001b[34m[2022-06-06:09:36:05:INFO] Determined delimiter of CSV input is ','\u001b[0m\n",
      "\u001b[34m[2022-06-06:09:36:05:INFO] Sniff delimiter as ','\u001b[0m\n",
      "\u001b[34m[2022-06-06:09:36:05:INFO] Determined delimiter of CSV input is ','\u001b[0m\n",
      "\u001b[34m[2022-06-06:09:36:06:INFO] Sniff delimiter as ','\u001b[0m\n",
      "\u001b[35m[2022-06-06:09:36:05:INFO] Sniff delimiter as ','\u001b[0m\n",
      "\u001b[35m[2022-06-06:09:36:05:INFO] Determined delimiter of CSV input is ','\u001b[0m\n",
      "\u001b[35m[2022-06-06:09:36:05:INFO] Sniff delimiter as ','\u001b[0m\n",
      "\u001b[35m[2022-06-06:09:36:05:INFO] Determined delimiter of CSV input is ','\u001b[0m\n",
      "\u001b[35m[2022-06-06:09:36:06:INFO] Sniff delimiter as ','\u001b[0m\n",
      "\u001b[34m[2022-06-06:09:36:06:INFO] Determined delimiter of CSV input is ','\u001b[0m\n",
      "\u001b[34m[2022-06-06:09:36:06:INFO] Sniff delimiter as ','\u001b[0m\n",
      "\u001b[34m[2022-06-06:09:36:06:INFO] Determined delimiter of CSV input is ','\u001b[0m\n",
      "\u001b[35m[2022-06-06:09:36:06:INFO] Determined delimiter of CSV input is ','\u001b[0m\n",
      "\u001b[35m[2022-06-06:09:36:06:INFO] Sniff delimiter as ','\u001b[0m\n",
      "\u001b[35m[2022-06-06:09:36:06:INFO] Determined delimiter of CSV input is ','\u001b[0m\n",
      "\u001b[34m[2022-06-06:09:36:09:INFO] Sniff delimiter as ','\u001b[0m\n",
      "\u001b[34m[2022-06-06:09:36:09:INFO] Determined delimiter of CSV input is ','\u001b[0m\n",
      "\u001b[34m[2022-06-06:09:36:09:INFO] Sniff delimiter as ','\u001b[0m\n",
      "\u001b[34m[2022-06-06:09:36:09:INFO] Determined delimiter of CSV input is ','\u001b[0m\n",
      "\u001b[34m[2022-06-06:09:36:10:INFO] Sniff delimiter as ','\u001b[0m\n",
      "\u001b[34m[2022-06-06:09:36:10:INFO] Determined delimiter of CSV input is ','\u001b[0m\n",
      "\u001b[34m[2022-06-06:09:36:10:INFO] Sniff delimiter as ','\u001b[0m\n",
      "\u001b[34m[2022-06-06:09:36:10:INFO] Determined delimiter of CSV input is ','\u001b[0m\n",
      "\u001b[35m[2022-06-06:09:36:09:INFO] Sniff delimiter as ','\u001b[0m\n",
      "\u001b[35m[2022-06-06:09:36:09:INFO] Determined delimiter of CSV input is ','\u001b[0m\n",
      "\u001b[35m[2022-06-06:09:36:09:INFO] Sniff delimiter as ','\u001b[0m\n",
      "\u001b[35m[2022-06-06:09:36:09:INFO] Determined delimiter of CSV input is ','\u001b[0m\n",
      "\u001b[35m[2022-06-06:09:36:10:INFO] Sniff delimiter as ','\u001b[0m\n",
      "\u001b[35m[2022-06-06:09:36:10:INFO] Determined delimiter of CSV input is ','\u001b[0m\n",
      "\u001b[35m[2022-06-06:09:36:10:INFO] Sniff delimiter as ','\u001b[0m\n",
      "\u001b[35m[2022-06-06:09:36:10:INFO] Determined delimiter of CSV input is ','\u001b[0m\n",
      "\u001b[34m[2022-06-06:09:36:13:INFO] Sniff delimiter as ','\u001b[0m\n",
      "\u001b[34m[2022-06-06:09:36:13:INFO] Determined delimiter of CSV input is ','\u001b[0m\n",
      "\u001b[35m[2022-06-06:09:36:13:INFO] Sniff delimiter as ','\u001b[0m\n",
      "\u001b[35m[2022-06-06:09:36:13:INFO] Determined delimiter of CSV input is ','\u001b[0m\n",
      "\u001b[34m[2022-06-06:09:36:13:INFO] Sniff delimiter as ','\u001b[0m\n",
      "\u001b[34m[2022-06-06:09:36:13:INFO] Determined delimiter of CSV input is ','\u001b[0m\n",
      "\u001b[34m[2022-06-06:09:36:13:INFO] Sniff delimiter as ','\u001b[0m\n",
      "\u001b[34m[2022-06-06:09:36:13:INFO] Determined delimiter of CSV input is ','\u001b[0m\n",
      "\u001b[35m[2022-06-06:09:36:13:INFO] Sniff delimiter as ','\u001b[0m\n",
      "\u001b[35m[2022-06-06:09:36:13:INFO] Determined delimiter of CSV input is ','\u001b[0m\n",
      "\u001b[35m[2022-06-06:09:36:13:INFO] Sniff delimiter as ','\u001b[0m\n",
      "\u001b[35m[2022-06-06:09:36:13:INFO] Determined delimiter of CSV input is ','\u001b[0m\n",
      "\u001b[34m[2022-06-06:09:36:14:INFO] Sniff delimiter as ','\u001b[0m\n",
      "\u001b[34m[2022-06-06:09:36:14:INFO] Determined delimiter of CSV input is ','\u001b[0m\n",
      "\u001b[35m[2022-06-06:09:36:14:INFO] Sniff delimiter as ','\u001b[0m\n",
      "\u001b[35m[2022-06-06:09:36:14:INFO] Determined delimiter of CSV input is ','\u001b[0m\n",
      "\n",
      "\u001b[34m[2022-06-06:09:36:17:INFO] Sniff delimiter as ','\u001b[0m\n",
      "\u001b[34m[2022-06-06:09:36:17:INFO] Determined delimiter of CSV input is ','\u001b[0m\n",
      "\u001b[34m[2022-06-06:09:36:17:INFO] Sniff delimiter as ','\u001b[0m\n",
      "\u001b[34m[2022-06-06:09:36:17:INFO] Determined delimiter of CSV input is ','\u001b[0m\n",
      "\u001b[34m[2022-06-06:09:36:18:INFO] Sniff delimiter as ','\u001b[0m\n",
      "\u001b[34m[2022-06-06:09:36:18:INFO] Determined delimiter of CSV input is ','\u001b[0m\n",
      "\u001b[35m[2022-06-06:09:36:17:INFO] Sniff delimiter as ','\u001b[0m\n",
      "\u001b[35m[2022-06-06:09:36:17:INFO] Determined delimiter of CSV input is ','\u001b[0m\n",
      "\u001b[35m[2022-06-06:09:36:17:INFO] Sniff delimiter as ','\u001b[0m\n",
      "\u001b[35m[2022-06-06:09:36:17:INFO] Determined delimiter of CSV input is ','\u001b[0m\n",
      "\u001b[35m[2022-06-06:09:36:18:INFO] Sniff delimiter as ','\u001b[0m\n",
      "\u001b[35m[2022-06-06:09:36:18:INFO] Determined delimiter of CSV input is ','\u001b[0m\n"
     ]
    }
   ],
   "source": [
    "xgb_transformer.wait()"
   ]
  },
  {
   "cell_type": "markdown",
   "metadata": {},
   "source": [
    "Now the transform job has executed and the result, the estimated sentiment of each review, has been saved on S3. Since we would rather work on this file locally we can perform a bit of notebook magic to copy the file to the `data_dir`."
   ]
  },
  {
   "cell_type": "code",
   "execution_count": 28,
   "metadata": {},
   "outputs": [
    {
     "name": "stdout",
     "output_type": "stream",
     "text": [
      "Completed 256.0 KiB/473.8 KiB (2.3 MiB/s) with 1 file(s) remaining\r",
      "Completed 473.8 KiB/473.8 KiB (3.9 MiB/s) with 1 file(s) remaining\r",
      "download: s3://sagemaker-ap-southeast-1-551625235247/xgboost-2022-06-06-09-29-47-749/test.csv.out to ../data/sentiment_web_app/test.csv.out\r\n"
     ]
    }
   ],
   "source": [
    "!aws s3 cp --recursive $xgb_transformer.output_path $data_dir"
   ]
  },
  {
   "cell_type": "markdown",
   "metadata": {},
   "source": [
    "The last step is now to read in the output from our model, convert the output to something a little more usable, in this case we want the sentiment to be either `1` (positive) or `0` (negative), and then compare to the ground truth labels."
   ]
  },
  {
   "cell_type": "code",
   "execution_count": 29,
   "metadata": {},
   "outputs": [],
   "source": [
    "predictions = pd.read_csv(os.path.join(data_dir, 'test.csv.out'), header=None)\n",
    "predictions = [round(num) for num in predictions.squeeze().values]"
   ]
  },
  {
   "cell_type": "code",
   "execution_count": 30,
   "metadata": {},
   "outputs": [
    {
     "data": {
      "text/plain": [
       "0.86152"
      ]
     },
     "execution_count": 30,
     "metadata": {},
     "output_type": "execute_result"
    }
   ],
   "source": [
    "from sklearn.metrics import accuracy_score\n",
    "accuracy_score(test_y, predictions)"
   ]
  },
  {
   "cell_type": "markdown",
   "metadata": {},
   "source": [
    "## Step 6: Deploying the model\n",
    "\n",
    "Once we construct and fit our model, SageMaker stores the resulting model artifacts and we can use those to deploy an endpoint (inference code). To see this, look in the SageMaker console and you should see that a model has been created along with a link to the S3 location where the model artifacts have been stored.\n",
    "\n",
    "Deploying an endpoint is a lot like training the model with a few important differences. The first is that a deployed model doesn't change the model artifacts, so as you send it various testing instances the model won't change. Another difference is that since we aren't performing a fixed computation, as we were in the training step or while performing a batch transform, the compute instance that gets started stays running until we tell it to stop. This is important to note as if we forget and leave it running we will be charged the entire time.\n",
    "\n",
    "In other words **If you are no longer using a deployed endpoint, shut it down!**"
   ]
  },
  {
   "cell_type": "code",
   "execution_count": 31,
   "metadata": {},
   "outputs": [
    {
     "name": "stderr",
     "output_type": "stream",
     "text": [
      "Parameter image will be renamed to image_uri in SageMaker Python SDK v2.\n",
      "Using already existing model: xgboost-2022-06-06-09-18-59-310\n"
     ]
    },
    {
     "name": "stdout",
     "output_type": "stream",
     "text": [
      "------!"
     ]
    }
   ],
   "source": [
    "xgb_predictor = xgb.deploy(initial_instance_count = 1, instance_type = 'ml.m4.xlarge')"
   ]
  },
  {
   "cell_type": "markdown",
   "metadata": {},
   "source": [
    "### Testing the model (again)\n",
    "\n",
    "Now that we have deployed our endpoint, we can send the testing data to it and get back the inference results. We already did this earlier using the batch transform functionality of SageMaker, however, we will test our model again using the newly deployed endpoint so that we can make sure that it works properly and to get a bit of a feel for how the endpoint works.\n",
    "\n",
    "When using the created endpoint it is important to know that we are limited in the amount of information we can send in each call so we need to break the testing data up into chunks and then send each chunk. Also, we need to serialize our data before we send it to the endpoint to ensure that our data is transmitted properly. Fortunately, SageMaker can do the serialization part for us provided we tell it the format of our data."
   ]
  },
  {
   "cell_type": "code",
   "execution_count": 32,
   "metadata": {},
   "outputs": [],
   "source": [
    "from sagemaker.predictor import csv_serializer\n",
    "\n",
    "# We need to tell the endpoint what format the data we are sending is in so that SageMaker can perform the serialization.\n",
    "xgb_predictor.content_type = 'text/csv'\n",
    "xgb_predictor.serializer = csv_serializer"
   ]
  },
  {
   "cell_type": "code",
   "execution_count": 33,
   "metadata": {},
   "outputs": [],
   "source": [
    "# We split the data into chunks and send each chunk seperately, accumulating the results.\n",
    "\n",
    "def predict(data, rows=512):\n",
    "    split_array = np.array_split(data, int(data.shape[0] / float(rows) + 1))\n",
    "    predictions = ''\n",
    "    for array in split_array:\n",
    "        predictions = ','.join([predictions, xgb_predictor.predict(array).decode('utf-8')])\n",
    "    \n",
    "    return np.fromstring(predictions[1:], sep=',')"
   ]
  },
  {
   "cell_type": "code",
   "execution_count": 34,
   "metadata": {},
   "outputs": [],
   "source": [
    "test_X = pd.read_csv(os.path.join(data_dir, 'test.csv'), header=None).values\n",
    "\n",
    "predictions = predict(test_X)\n",
    "predictions = [round(num) for num in predictions]"
   ]
  },
  {
   "cell_type": "markdown",
   "metadata": {},
   "source": [
    "Lastly, we check to see what the accuracy of our model is."
   ]
  },
  {
   "cell_type": "code",
   "execution_count": 35,
   "metadata": {},
   "outputs": [
    {
     "data": {
      "text/plain": [
       "0.86152"
      ]
     },
     "execution_count": 35,
     "metadata": {},
     "output_type": "execute_result"
    }
   ],
   "source": [
    "from sklearn.metrics import accuracy_score\n",
    "accuracy_score(test_y, predictions)"
   ]
  },
  {
   "cell_type": "markdown",
   "metadata": {},
   "source": [
    "And the results here should agree with the model testing that we did earlier using the batch transform job.\n",
    "\n",
    "### Cleaning up\n",
    "\n",
    "Now that we've determined that deploying our model works as expected, we are going to shut it down. Remember that the longer the endpoint is left running, the greater the cost and since we have a bit more work to do before we are able to use our endpoint with our simple web app, we should shut everything down."
   ]
  },
  {
   "cell_type": "code",
   "execution_count": 36,
   "metadata": {},
   "outputs": [],
   "source": [
    "xgb_predictor.delete_endpoint()"
   ]
  },
  {
   "cell_type": "markdown",
   "metadata": {},
   "source": [
    "## Step 7: Putting our model to work\n",
    "\n",
    "As we've mentioned a few times now, our goal is to have our model deployed and then access it using a very simple web app. The intent is for this web app to take some user submitted data (a review), send it off to our endpoint (the model) and then display the result.\n",
    "\n",
    "However, there is a small catch. Currently the only way we can access the endpoint to send it data is using the SageMaker API. We can, if we wish, expose the actual URL that our model's endpoint is receiving data from, however, if we just send it data ourselves we will not get anything in return. This is because the endpoint created by SageMaker requires the entity accessing it have the correct permissions. So, we would need to somehow authenticate our web app with AWS.\n",
    "\n",
    "Having a website that authenticates to AWS seems a bit beyond the scope of this lesson so we will opt for an alternative approach. Namely, we will create a new endpoint which does not require authentication and which acts as a proxy for the SageMaker endpoint.\n",
    "\n",
    "As an additional constraint, we will try to avoid doing any data processing in the web app itself. Remember that when we constructed and tested our model we started with a movie review, then we simplified it by removing any html formatting and punctuation, then we constructed a bag of words embedding and the resulting vector is what we sent to our model. All of this needs to be done to our user input as well.\n",
    "\n",
    "Fortunately we can do all of this data processing in the backend, using Amazon's Lambda service.\n",
    "\n",
    "<img src=\"Web App Diagram.svg\">\n",
    "\n",
    "The diagram above gives an overview of how the various services will work together. On the far right is the model which we trained above and which will be deployed using SageMaker. On the far left is our web app that collects a user's movie review, sends it off and expects a positive or negative sentiment in return.\n",
    "\n",
    "In the middle is where some of the magic happens. We will construct a Lambda function, which you can think of as a straightforward Python function that can be executed whenever a specified event occurs. This Python function will do the data processing we need to perform on a user submitted review. In addition, we will give this function permission to send and recieve data from a SageMaker endpoint.\n",
    "\n",
    "Lastly, the method we will use to execute the Lambda function is a new endpoint that we will create using API Gateway. This endpoint will be a url that listens for data to be sent to it. Once it gets some data it will pass that data on to the Lambda function and then return whatever the Lambda function returns. Essentially it will act as an interface that lets our web app communicate with the Lambda function.\n",
    "\n",
    "### Processing a single review\n",
    "\n",
    "For now, suppose we are given a movie review by our user in the form of a string, like so:"
   ]
  },
  {
   "cell_type": "code",
   "execution_count": 37,
   "metadata": {},
   "outputs": [],
   "source": [
    "test_review = \"Nothing but a disgusting materialistic pageant of glistening abed remote control greed zombies, totally devoid of any heart or heat. A romantic comedy that has zero romantic chemestry and zero laughs!\""
   ]
  },
  {
   "cell_type": "markdown",
   "metadata": {},
   "source": [
    "How do we go from this string to the bag of words feature vector that is expected by our model?\n",
    "\n",
    "If we recall at the beginning of this notebook, the first step is to remove any unnecessary characters using the `review_to_words` method. Remember that we intentionally did this in a very simplistic way. This is because we are going to have to copy this method to our (eventual) Lambda function (we will go into more detail later) and this means it needs to be rather simplistic."
   ]
  },
  {
   "cell_type": "code",
   "execution_count": 38,
   "metadata": {},
   "outputs": [
    {
     "name": "stdout",
     "output_type": "stream",
     "text": [
      "nothing but a disgusting materialistic pageant of glistening abed remote control greed zombies totally devoid of any heart or heat a romantic comedy that has zero romantic chemestry and zero laughs\n"
     ]
    }
   ],
   "source": [
    "test_words = review_to_words(test_review)\n",
    "print(test_words)"
   ]
  },
  {
   "cell_type": "markdown",
   "metadata": {},
   "source": [
    "Next, we need to construct a bag of words embedding of the `test_words` string. To do this, remember that a bag of words embedding uses a `vocabulary` consisting of the most frequently appearing words in a set of documents. Then, for each word in the vocabulary we record the number of times that word appears in `test_words`. We constructed the `vocabulary` earlier using the training set for our problem so encoding `test_words` is relatively straightforward."
   ]
  },
  {
   "cell_type": "code",
   "execution_count": 39,
   "metadata": {},
   "outputs": [],
   "source": [
    "def bow_encoding(words, vocabulary):\n",
    "    bow = [0] * len(vocabulary) # Start by setting the count for each word in the vocabulary to zero.\n",
    "    for word in words.split():  # For each word in the string\n",
    "        if word in vocabulary:  # If the word is one that occurs in the vocabulary, increase its count.\n",
    "            bow[vocabulary[word]] += 1\n",
    "    return bow"
   ]
  },
  {
   "cell_type": "code",
   "execution_count": 40,
   "metadata": {},
   "outputs": [
    {
     "name": "stdout",
     "output_type": "stream",
     "text": [
      "[0, 0, 0, 0, 0, 0, 0, 0, 0, 0, 0, 0, 0, 0, 0, 0, 0, 0, 0, 0, 0, 0, 0, 0, 0, 0, 0, 0, 0, 0, 0, 0, 0, 0, 0, 0, 0, 0, 0, 0, 0, 0, 0, 0, 0, 0, 0, 0, 0, 0, 0, 0, 0, 0, 0, 0, 0, 0, 0, 0, 0, 0, 0, 0, 0, 0, 0, 0, 0, 0, 0, 0, 0, 0, 0, 0, 0, 0, 0, 0, 0, 0, 0, 0, 0, 0, 0, 0, 0, 0, 0, 0, 0, 0, 0, 0, 0, 0, 0, 0, 0, 0, 0, 0, 0, 0, 0, 0, 0, 0, 0, 0, 0, 0, 0, 0, 0, 0, 0, 0, 0, 0, 0, 0, 0, 0, 0, 0, 0, 0, 0, 0, 0, 0, 0, 0, 0, 0, 0, 0, 0, 0, 0, 0, 0, 0, 0, 0, 0, 0, 0, 0, 0, 0, 0, 0, 0, 0, 0, 0, 0, 0, 0, 0, 0, 0, 0, 0, 0, 0, 0, 0, 0, 0, 0, 0, 0, 0, 0, 0, 0, 0, 0, 0, 0, 0, 0, 0, 0, 0, 0, 0, 0, 0, 0, 0, 0, 0, 0, 0, 0, 0, 0, 0, 0, 0, 0, 0, 0, 0, 0, 0, 0, 0, 0, 0, 0, 0, 0, 0, 0, 0, 0, 0, 0, 0, 1, 0, 0, 0, 0, 0, 0, 0, 0, 0, 0, 0, 0, 0, 0, 0, 0, 0, 0, 0, 0, 0, 0, 0, 0, 0, 0, 0, 0, 0, 1, 0, 0, 0, 0, 0, 0, 0, 0, 0, 0, 0, 0, 0, 0, 0, 0, 0, 0, 0, 0, 0, 0, 0, 0, 0, 0, 0, 0, 0, 0, 0, 0, 0, 0, 0, 0, 0, 0, 0, 0, 0, 0, 0, 0, 0, 0, 0, 0, 0, 0, 0, 0, 0, 0, 0, 0, 0, 0, 0, 0, 0, 0, 0, 0, 0, 0, 0, 0, 0, 0, 0, 0, 0, 0, 0, 0, 0, 0, 0, 0, 0, 0, 0, 0, 0, 0, 0, 0, 0, 0, 0, 0, 0, 0, 0, 0, 0, 0, 0, 0, 0, 0, 0, 0, 0, 0, 0, 0, 0, 0, 0, 0, 0, 0, 0, 0, 0, 0, 0, 0, 0, 0, 0, 0, 0, 0, 0, 0, 0, 0, 0, 0, 0, 0, 0, 0, 0, 0, 0, 0, 0, 0, 0, 0, 0, 0, 0, 0, 0, 0, 0, 0, 0, 0, 0, 0, 0, 0, 0, 0, 0, 0, 0, 0, 0, 0, 0, 0, 0, 0, 0, 0, 0, 0, 0, 0, 0, 0, 0, 0, 0, 0, 0, 0, 0, 0, 0, 0, 0, 0, 0, 0, 0, 0, 0, 0, 0, 0, 0, 0, 0, 0, 0, 0, 0, 0, 0, 0, 0, 0, 0, 0, 0, 0, 0, 0, 0, 0, 0, 0, 0, 0, 0, 0, 0, 0, 0, 0, 0, 0, 0, 0, 0, 0, 0, 0, 0, 0, 0, 0, 0, 0, 0, 0, 0, 0, 0, 0, 0, 0, 0, 0, 0, 0, 0, 0, 0, 0, 0, 0, 0, 0, 0, 0, 0, 0, 0, 0, 0, 0, 0, 0, 0, 0, 0, 0, 0, 0, 0, 0, 0, 0, 0, 0, 0, 0, 0, 0, 0, 0, 0, 0, 0, 0, 0, 0, 0, 0, 0, 0, 0, 0, 0, 0, 0, 0, 0, 0, 0, 0, 0, 0, 0, 0, 0, 0, 0, 0, 0, 0, 0, 0, 0, 0, 0, 0, 0, 0, 0, 0, 0, 0, 0, 0, 0, 0, 0, 0, 0, 0, 0, 0, 0, 0, 0, 0, 0, 0, 0, 0, 0, 0, 0, 0, 0, 0, 0, 0, 0, 0, 0, 0, 0, 0, 0, 0, 0, 0, 0, 0, 0, 0, 0, 0, 0, 0, 0, 0, 0, 1, 0, 0, 0, 0, 0, 0, 0, 0, 0, 0, 0, 0, 0, 0, 0, 0, 0, 0, 0, 0, 0, 0, 0, 0, 0, 0, 0, 0, 0, 0, 0, 0, 0, 0, 0, 0, 0, 0, 0, 0, 0, 0, 0, 0, 0, 0, 0, 0, 0, 0, 0, 0, 0, 0, 0, 0, 0, 0, 0, 0, 0, 0, 0, 0, 0, 0, 0, 0, 0, 0, 0, 0, 0, 0, 0, 0, 0, 0, 0, 0, 0, 0, 0, 0, 0, 0, 0, 0, 0, 0, 0, 0, 0, 0, 0, 0, 0, 0, 0, 0, 0, 0, 0, 0, 0, 0, 0, 0, 0, 0, 0, 0, 0, 0, 0, 0, 0, 0, 0, 0, 0, 0, 0, 0, 0, 0, 0, 0, 0, 0, 0, 0, 0, 0, 0, 0, 0, 0, 0, 0, 0, 0, 0, 0, 0, 0, 0, 0, 0, 0, 0, 0, 0, 0, 0, 0, 0, 0, 0, 0, 0, 0, 0, 0, 0, 0, 0, 0, 0, 0, 0, 0, 0, 0, 0, 0, 0, 0, 0, 0, 0, 0, 0, 0, 0, 0, 0, 0, 0, 0, 0, 0, 0, 0, 0, 0, 0, 0, 0, 0, 0, 0, 0, 0, 0, 0, 0, 0, 0, 0, 0, 0, 0, 0, 0, 0, 0, 0, 0, 0, 0, 0, 0, 0, 0, 0, 0, 0, 0, 0, 0, 0, 0, 0, 0, 0, 0, 0, 0, 0, 0, 0, 0, 0, 0, 0, 0, 0, 0, 0, 0, 0, 0, 1, 0, 0, 0, 0, 0, 0, 0, 0, 0, 0, 0, 0, 0, 0, 0, 0, 0, 0, 0, 0, 0, 0, 0, 0, 0, 0, 0, 0, 0, 0, 0, 0, 0, 0, 0, 0, 0, 0, 0, 0, 0, 0, 0, 0, 0, 0, 0, 0, 0, 0, 0, 0, 0, 0, 0, 0, 0, 0, 0, 0, 0, 0, 0, 0, 0, 0, 0, 0, 0, 0, 0, 0, 0, 0, 0, 0, 0, 0, 0, 0, 0, 0, 0, 0, 0, 0, 1, 0, 0, 0, 0, 0, 0, 0, 0, 0, 0, 0, 0, 0, 0, 0, 0, 0, 0, 0, 0, 0, 0, 0, 0, 0, 0, 0, 0, 0, 0, 0, 0, 0, 0, 0, 0, 0, 0, 0, 0, 0, 0, 0, 0, 0, 0, 0, 0, 0, 0, 0, 0, 0, 0, 0, 0, 0, 0, 0, 0, 0, 0, 0, 0, 0, 0, 0, 0, 0, 0, 0, 0, 0, 0, 0, 0, 0, 0, 0, 0, 0, 0, 0, 0, 0, 0, 0, 0, 0, 0, 0, 0, 0, 0, 0, 0, 0, 0, 0, 0, 0, 0, 0, 0, 0, 0, 0, 0, 0, 0, 0, 0, 0, 0, 0, 0, 0, 0, 0, 0, 0, 0, 0, 0, 0, 0, 0, 0, 0, 0, 0, 0, 0, 0, 0, 0, 0, 0, 0, 0, 0, 0, 0, 0, 0, 0, 0, 0, 0, 0, 0, 0, 0, 0, 0, 0, 0, 0, 0, 0, 0, 0, 0, 0, 0, 0, 0, 0, 0, 0, 0, 0, 0, 0, 0, 0, 0, 0, 0, 0, 0, 0, 0, 0, 0, 0, 0, 0, 0, 0, 0, 0, 0, 0, 0, 0, 0, 0, 0, 0, 0, 0, 0, 0, 0, 0, 0, 0, 0, 0, 0, 0, 0, 0, 0, 0, 0, 0, 0, 0, 0, 0, 0, 0, 0, 0, 0, 0, 0, 0, 0, 0, 0, 0, 0, 0, 0, 0, 0, 0, 0, 0, 0, 0, 0, 0, 0, 0, 0, 0, 0, 0, 1, 0, 0, 0, 0, 0, 0, 0, 0, 0, 0, 0, 0, 0, 0, 0, 0, 0, 0, 0, 0, 0, 0, 0, 0, 0, 0, 0, 0, 0, 0, 0, 0, 0, 0, 0, 0, 0, 0, 0, 0, 0, 0, 0, 0, 0, 0, 0, 0, 0, 0, 0, 0, 0, 0, 0, 1, 0, 0, 0, 0, 0, 0, 0, 0, 0, 0, 0, 0, 0, 0, 0, 0, 0, 0, 0, 0, 0, 0, 0, 0, 0, 0, 0, 0, 0, 0, 0, 0, 0, 0, 0, 0, 0, 0, 0, 0, 0, 0, 0, 0, 0, 0, 0, 0, 0, 0, 0, 0, 0, 0, 0, 0, 0, 0, 0, 0, 0, 0, 0, 0, 0, 0, 0, 0, 0, 0, 0, 0, 0, 0, 0, 0, 0, 0, 0, 0, 0, 0, 0, 0, 0, 0, 0, 0, 0, 0, 0, 0, 0, 0, 0, 0, 0, 0, 0, 0, 0, 0, 0, 0, 0, 0, 0, 0, 0, 0, 0, 0, 0, 0, 0, 0, 0, 0, 0, 0, 0, 0, 0, 0, 0, 0, 0, 0, 0, 0, 0, 0, 0, 0, 0, 0, 0, 0, 0, 0, 0, 0, 0, 0, 0, 0, 0, 0, 0, 0, 0, 0, 0, 0, 0, 0, 0, 0, 0, 0, 0, 0, 0, 0, 0, 0, 0, 0, 0, 0, 0, 0, 0, 0, 0, 0, 0, 0, 0, 0, 0, 0, 0, 0, 0, 0, 0, 0, 0, 0, 0, 0, 0, 0, 0, 0, 0, 0, 0, 0, 0, 0, 0, 0, 0, 0, 0, 0, 0, 0, 0, 0, 0, 0, 0, 0, 0, 0, 0, 0, 0, 0, 0, 0, 0, 0, 0, 0, 0, 0, 0, 0, 0, 0, 0, 0, 0, 0, 0, 0, 0, 0, 0, 0, 0, 0, 0, 0, 0, 0, 0, 0, 0, 0, 0, 0, 0, 0, 0, 0, 0, 0, 0, 0, 0, 0, 0, 0, 0, 0, 0, 0, 0, 0, 0, 0, 0, 0, 0, 0, 0, 0, 0, 0, 0, 0, 0, 0, 0, 0, 0, 0, 0, 0, 0, 0, 0, 0, 0, 0, 0, 0, 0, 0, 0, 0, 0, 0, 0, 0, 0, 0, 0, 0, 0, 0, 0, 0, 0, 0, 0, 0, 0, 0, 0, 0, 0, 0, 0, 0, 0, 0, 0, 0, 0, 0, 0, 0, 0, 0, 0, 0, 0, 0, 0, 0, 0, 0, 0, 0, 0, 0, 0, 0, 0, 0, 0, 0, 0, 0, 0, 0, 0, 0, 0, 0, 0, 0, 0, 0, 0, 0, 0, 0, 0, 0, 0, 0, 0, 0, 0, 0, 0, 0, 0, 0, 0, 0, 0, 0, 0, 0, 0, 0, 0, 0, 0, 0, 0, 0, 0, 0, 0, 0, 0, 0, 0, 0, 0, 0, 0, 0, 0, 0, 0, 0, 0, 0, 0, 0, 0, 0, 0, 0, 0, 0, 0, 0, 0, 0, 0, 0, 0, 0, 0, 0, 0, 0, 0, 0, 0, 0, 0, 0, 0, 0, 0, 0, 0, 0, 0, 0, 0, 0, 0, 0, 0, 0, 0, 0, 0, 0, 0, 0, 0, 0, 0, 0, 0, 0, 0, 0, 0, 0, 0, 0, 0, 0, 0, 0, 0, 0, 0, 0, 0, 0, 0, 0, 0, 0, 0, 0, 0, 0, 0, 0, 0, 0, 0, 0, 0, 0, 0, 0, 0, 0, 0, 0, 0, 0, 0, 0, 0, 0, 0, 0, 0, 0, 0, 0, 0, 0, 0, 0, 0, 0, 0, 0, 0, 0, 0, 0, 0, 0, 0, 0, 0, 0, 0, 0, 0, 0, 0, 0, 0, 0, 0, 0, 0, 0, 0, 0, 0, 0, 0, 0, 0, 0, 0, 0, 0, 0, 0, 0, 0, 0, 0, 0, 0, 0, 0, 0, 0, 0, 0, 0, 0, 0, 0, 0, 0, 0, 0, 0, 0, 0, 0, 0, 0, 0, 0, 0, 0, 0, 0, 0, 0, 0, 0, 0, 0, 0, 0, 0, 0, 0, 0, 0, 0, 0, 0, 0, 0, 0, 0, 0, 0, 0, 0, 0, 0, 0, 0, 0, 0, 0, 0, 0, 0, 0, 0, 0, 0, 0, 0, 0, 0, 0, 0, 0, 0, 0, 0, 0, 0, 0, 0, 0, 0, 0, 0, 0, 0, 0, 0, 0, 0, 0, 0, 0, 0, 0, 0, 0, 0, 0, 0, 0, 0, 0, 0, 0, 0, 0, 0, 0, 0, 0, 0, 0, 0, 1, 0, 0, 0, 0, 0, 0, 0, 0, 0, 0, 0, 0, 0, 0, 0, 0, 0, 0, 0, 0, 0, 0, 0, 0, 0, 0, 0, 0, 0, 0, 0, 0, 0, 0, 0, 0, 0, 0, 0, 0, 0, 0, 0, 0, 0, 0, 0, 0, 0, 0, 0, 0, 0, 0, 0, 0, 0, 0, 0, 0, 0, 0, 0, 0, 0, 0, 0, 0, 0, 0, 0, 0, 0, 0, 1, 0, 0, 0, 0, 0, 0, 0, 0, 0, 0, 0, 0, 0, 0, 0, 0, 0, 0, 0, 0, 1, 0, 0, 1, 0, 0, 0, 0, 0, 0, 0, 0, 0, 0, 0, 0, 0, 0, 0, 0, 0, 0, 0, 0, 0, 0, 0, 0, 0, 0, 0, 0, 0, 0, 0, 0, 0, 0, 0, 0, 0, 0, 0, 0, 0, 0, 0, 0, 0, 0, 0, 0, 0, 0, 0, 0, 0, 0, 0, 0, 0, 0, 0, 0, 0, 0, 0, 0, 0, 0, 0, 0, 0, 0, 0, 0, 0, 0, 0, 0, 0, 0, 0, 0, 0, 0, 0, 0, 0, 0, 0, 0, 0, 0, 0, 0, 0, 0, 0, 0, 0, 0, 0, 0, 0, 0, 0, 0, 0, 0, 0, 0, 0, 0, 0, 0, 0, 0, 0, 0, 0, 0, 0, 0, 0, 0, 0, 0, 0, 0, 0, 0, 0, 0, 0, 0, 0, 0, 0, 0, 0, 0, 0, 0, 0, 0, 0, 0, 0, 0, 0, 0, 0, 0, 0, 0, 0, 0, 0, 0, 0, 0, 0, 0, 0, 0, 0, 0, 0, 0, 0, 0, 0, 0, 0, 0, 0, 0, 0, 0, 0, 0, 0, 0, 0, 0, 0, 0, 0, 0, 0, 0, 0, 0, 0, 0, 0, 0, 0, 0, 0, 0, 0, 0, 0, 0, 0, 0, 0, 0, 0, 0, 0, 0, 0, 0, 0, 0, 0, 0, 0, 0, 0, 0, 0, 0, 0, 0, 0, 0, 0, 0, 0, 0, 0, 0, 0, 0, 0, 0, 0, 0, 0, 0, 0, 0, 0, 0, 0, 0, 0, 0, 0, 0, 0, 0, 0, 0, 0, 0, 0, 0, 0, 0, 0, 0, 0, 0, 0, 0, 0, 0, 0, 0, 0, 0, 0, 0, 0, 0, 0, 0, 0, 0, 0, 0, 0, 0, 0, 0, 0, 0, 0, 0, 0, 0, 0, 0, 0, 0, 0, 0, 0, 0, 0, 0, 0, 0, 0, 0, 0, 0, 0, 0, 0, 0, 0, 0, 0, 0, 0, 0, 0, 0, 0, 0, 0, 0, 0, 0, 0, 0, 0, 0, 0, 0, 0, 0, 0, 0, 0, 0, 0, 0, 0, 0, 0, 0, 0, 0, 0, 0, 0, 0, 0, 0, 0, 0, 0, 0, 0, 0, 0, 0, 0, 0, 0, 0, 0, 0, 0, 0, 0, 0, 0, 0, 0, 0, 0, 0, 0, 0, 0, 0, 0, 0, 0, 0, 0, 0, 0, 0, 0, 0, 0, 0, 0, 0, 0, 0, 0, 0, 0, 0, 0, 0, 0, 0, 0, 0, 0, 0, 0, 0, 0, 0, 0, 0, 0, 0, 0, 0, 0, 0, 0, 0, 0, 0, 0, 0, 0, 0, 0, 0, 0, 0, 0, 0, 0, 0, 0, 0, 0, 0, 0, 0, 0, 0, 0, 0, 0, 0, 0, 0, 0, 0, 0, 0, 0, 0, 0, 0, 0, 0, 0, 0, 0, 0, 0, 0, 1, 0, 0, 0, 0, 0, 0, 0, 0, 0, 0, 0, 0, 0, 0, 0, 0, 0, 0, 0, 0, 0, 0, 0, 0, 0, 0, 0, 0, 0, 0, 0, 0, 0, 0, 0, 0, 0, 0, 0, 0, 0, 0, 0, 0, 0, 0, 0, 0, 0, 0, 0, 0, 0, 0, 0, 0, 0, 0, 0, 0, 0, 0, 0, 0, 0, 0, 0, 0, 0, 0, 0, 0, 0, 0, 0, 0, 0, 0, 0, 0, 0, 0, 0, 0, 0, 0, 0, 0, 0, 0, 0, 0, 0, 0, 0, 0, 0, 0, 0, 0, 0, 0, 0, 0, 0, 0, 0, 0, 0, 0, 0, 0, 0, 0, 0, 0, 0, 0, 0, 0, 0, 0, 0, 0, 0, 0, 0, 0, 0, 0, 0, 0, 0, 0, 0, 0, 0, 0, 0, 0, 0, 0, 0, 0, 0, 0, 0, 0, 0, 0, 0, 0, 0, 0, 0, 0, 0, 0, 0, 0, 0, 0, 0, 0, 0, 0, 0, 0, 0, 0, 0, 0, 0, 0, 0, 0, 0, 0, 0, 0, 0, 0, 0, 0, 0, 0, 0, 0, 0, 0, 0, 0, 0, 0, 0, 0, 0, 0, 0, 0, 0, 0, 0, 0, 0, 0, 0, 0, 0, 0, 0, 0, 0, 0, 0, 0, 0, 0, 0, 0, 0, 0, 0, 0, 0, 0, 0, 0, 0, 0, 0, 0, 0, 0, 0, 0, 0, 0, 0, 0, 0, 0, 0, 0, 0, 0, 0, 0, 0, 0, 0, 0, 0, 0, 0, 0, 0, 0, 0, 0, 0, 0, 0, 0, 0, 0, 0, 0, 0, 0, 0, 0, 0, 0, 0, 0, 0, 0, 0, 0, 0, 0, 0, 0, 0, 0, 0, 0, 0, 0, 0, 0, 0, 0, 0, 0, 0, 0, 0, 0, 0, 0, 0, 0, 0, 0, 0, 0, 0, 0, 0, 0, 0, 0, 0, 0, 0, 0, 0, 0, 0, 0, 0, 0, 0, 0, 0, 0, 0, 0, 0, 0, 0, 0, 0, 0, 0, 0, 0, 0, 0, 0, 0, 0, 0, 0, 0, 0, 0, 0, 0, 0, 0, 0, 0, 0, 0, 0, 0, 0, 0, 0, 0, 0, 0, 0, 0, 0, 0, 0, 0, 0, 0, 0, 0, 0, 0, 0, 0, 0, 0, 0, 0, 0, 0, 0, 0, 0, 0, 0, 0, 0, 0, 0, 0, 0, 0, 0, 0, 0, 0, 0, 0, 0, 0, 0, 0, 0, 0, 0, 0, 0, 0, 0, 0, 0, 0, 0, 0, 0, 0, 0, 0, 0, 0, 0, 0, 0, 0, 0, 0, 0, 0, 0, 0, 0, 0, 0, 0, 0, 0, 0, 0, 0, 0, 0, 0, 0, 0, 0, 0, 0, 0, 0, 0, 0, 0, 0, 0, 0, 0, 0, 0, 0, 0, 0, 0, 0, 0, 0, 0, 0, 0, 0, 0, 0, 0, 0, 0, 0, 0, 0, 0, 0, 0, 0, 0, 0, 0, 0, 0, 0, 0, 0, 0, 0, 0, 0, 0, 0, 0, 0, 0, 0, 0, 0, 0, 0, 0, 0, 0, 0, 1, 0, 0, 0, 0, 0, 0, 0, 0, 0, 0, 0, 0, 0, 0, 0, 0, 0, 0, 0, 0, 0, 0, 0, 0, 0, 0, 0, 0, 0, 0, 0, 0, 0, 0, 0, 2, 0, 0, 0, 0, 0, 0, 0, 0, 0, 0, 0, 0, 0, 0, 0, 0, 0, 0, 0, 0, 0, 0, 0, 0, 0, 0, 0, 0, 0, 0, 0, 0, 0, 0, 0, 0, 0, 0, 0, 0, 1, 0, 0, 0, 0, 0, 0, 0, 0, 0, 0, 0, 0, 0, 0, 0, 0, 0, 0, 0, 0, 0, 0, 0, 0, 0, 0, 0, 0, 0, 0, 0, 0, 0, 0, 0, 0, 0, 0, 0, 0, 0, 0, 0, 0, 0, 0, 0, 0, 0, 0, 0, 0, 0, 0, 0, 0, 0, 0, 0, 0, 0, 0, 0, 0, 0, 0, 0, 0, 0, 0, 0, 0, 0, 0, 0, 0, 0, 0, 0, 0, 0, 0, 0, 0, 0, 0, 0, 0, 0, 0, 0, 0, 0, 0, 0, 0, 0, 0, 0, 0, 0, 0, 0, 0, 0, 0, 0, 0, 0, 0, 0, 0, 0, 0, 0, 0, 0, 0, 0, 0, 0, 0, 0, 0, 0, 0, 0, 0, 0, 0, 0, 0, 0, 0, 0, 0, 0, 0, 0, 0, 0, 0, 0, 0, 0, 0, 0, 0, 0, 0, 0, 0, 0, 0, 0, 0, 0, 0, 0, 0, 0, 0, 0, 0, 0, 0, 0, 0, 0, 0, 0, 0, 0, 0, 0, 0, 0, 0, 0, 0, 0, 0, 0, 0, 0, 0, 0, 0, 0, 0, 0, 0, 0, 0, 0, 0, 0, 0, 0, 0, 0, 0, 0, 0, 0, 0, 0, 0, 0, 0, 0, 0, 0, 0, 0, 0, 0, 0, 0, 0, 0, 0, 0, 0, 0, 0, 0, 0, 0, 0, 0, 0, 0, 0, 0, 0, 0, 0, 0, 0, 0, 0, 0, 0, 0, 0, 0, 0, 0, 0, 0, 0, 0, 0, 0, 0, 0, 0, 0, 0, 0, 0, 0, 0, 0, 0, 0, 0, 0, 0, 0, 0, 0, 0, 0, 0, 0, 0, 0, 0, 0, 0, 0, 0, 0, 0, 0, 0, 0, 0, 0, 0, 0, 0, 0, 0, 0, 0, 0, 0, 0, 0, 0, 0, 0, 0, 0, 0, 0, 0, 0, 0, 0, 0, 0, 0, 0, 0, 0, 0, 0, 0, 0, 0, 0, 0, 0, 0, 0, 0, 0, 0, 0, 0, 0, 0, 0, 0, 0, 0, 0, 0, 0, 0, 0, 0, 0, 0, 0, 0, 0, 0, 0, 0, 0, 0, 0, 0, 0, 0, 0, 0, 0, 0, 0, 0, 0, 0, 0, 0, 0, 0, 0, 0, 0, 0, 0, 0, 0, 0, 0, 0, 0, 0, 0, 0, 0, 0, 0, 0, 0, 0, 0, 0, 0, 0, 0, 0, 0, 0, 0, 0, 0, 0, 0, 0, 0, 0, 0, 0, 0, 0, 0, 0, 0, 0, 0, 0, 0, 0, 0, 0, 0, 0, 0, 0, 0, 0, 0, 0, 0, 0, 0, 0, 0, 0, 0, 0, 0, 0, 0, 0, 0, 0, 0, 0, 0, 0, 0, 0, 0, 0, 0, 0, 0, 0, 0, 0, 0, 0, 0, 0, 0, 0, 0, 0, 0, 0, 0, 0, 0, 0, 0, 0, 0, 0, 0, 0, 0, 0, 0, 0, 0, 0, 0, 0, 0, 0, 0, 0, 0, 0, 0, 0, 0, 0, 0, 1, 0, 0, 0, 0, 0, 0, 0, 0, 0, 0, 0, 0, 0, 0, 0, 0, 0, 0, 0, 0, 0, 0, 0, 0, 0, 0, 0, 0, 0, 0, 0, 0, 0, 0, 0, 0, 0, 0, 0, 0, 0, 0, 0, 0, 0, 0, 0, 0, 0, 0, 0, 0, 0, 0, 0, 0, 0, 0, 0, 0, 0, 0, 0, 0, 0, 0, 0, 0, 0, 0, 0, 0, 0, 0, 0, 0, 0, 0, 0, 0, 0, 0, 0, 0, 0, 0, 0, 0, 0, 0, 0, 0, 0, 0, 0, 0, 0, 0, 0, 0, 0, 0, 0, 0, 0, 0, 0, 0, 0, 0, 2, 0, 0, 0, 0, 0, 0, 0, 0, 0, 0, 0, 0, 0, 0, 0, 0, 0, 0, 0, 0, 0, 0, 0, 0, 0, 0, 0, 0, 0, 0, 0, 0, 0, 0, 0, 0, 0, 0, 0, 0, 0, 0, 0, 0, 0, 0, 0, 0, 0, 0, 0, 0, 0, 0, 0, 0, 0, 0, 0, 0, 0, 0, 0, 0, 0, 0, 0, 0, 0, 0, 0, 0, 0, 0, 0, 0, 0, 0, 0, 0, 0, 0, 0, 0, 0, 0, 0, 0, 0, 0, 0, 0, 0, 0, 0, 0, 0, 0, 0, 0, 0, 0, 0, 0, 0, 0, 0, 0, 0, 0, 0, 0, 0, 0, 0, 0, 0, 0, 0, 0, 0, 0, 0, 0, 0, 0, 0, 0, 0, 0, 0, 0, 0, 0, 0, 0, 0, 0, 0, 0, 0, 0, 0, 0, 0, 0, 0, 0, 0, 0, 0, 0, 0, 0, 0, 0, 0, 0, 0, 0, 0, 0, 0, 0, 0, 0, 0, 0, 0, 0, 0, 0, 0, 0, 0, 0, 0, 0, 0, 0, 0, 0, 0, 0, 0, 0, 0, 0, 0, 0, 0, 0, 0, 0, 0, 0, 0, 0, 0, 0, 0, 0, 0, 0, 0, 0, 0, 0, 0, 0, 0, 0, 0, 0, 0, 0, 0, 0, 0, 0, 0, 0, 0, 0, 0, 0, 0, 0, 0, 0, 0, 0, 0, 0, 0, 0, 0, 0, 0, 0, 0, 0, 0, 0, 0, 0, 0, 0, 0, 0, 0, 0, 0, 0, 0, 0, 0, 0, 0, 0, 0, 0, 0, 0, 0, 0, 0, 0, 0, 0, 0, 0, 0, 0, 0, 0, 0, 0, 0, 0, 0, 0, 0, 0, 0, 0, 0, 0, 0, 0, 0, 0, 0, 0, 0, 0, 0, 0, 0, 0, 0, 0, 0, 0, 0, 0, 0, 0, 0, 0, 0, 0, 0, 0, 0, 0, 0, 0, 0, 0, 0, 0, 0, 0, 0, 0, 0, 0, 0, 0, 0, 0, 0, 0, 0, 0, 0, 0, 0, 0, 0, 0, 0, 0, 0, 0, 0, 0, 0, 0, 0, 0, 0, 0, 0, 0, 0, 0, 0, 0, 0, 0, 0, 0, 0, 0, 0, 0, 0, 0, 0, 0, 0, 0, 0, 0, 0, 0, 0, 0, 0, 0, 0, 0, 0, 0, 0, 0, 0, 0, 0, 0, 0, 0, 0, 0, 0, 0, 0, 0, 0, 0, 0, 0, 0, 0, 0, 0, 0, 0, 0, 0, 0, 0, 0, 0, 0, 0, 0, 0, 0, 0, 0, 0, 0, 0, 0, 0, 0, 0, 0, 0, 0, 0, 0, 0, 0, 0, 0, 0, 0, 0, 0, 0, 0, 0, 0, 0, 0, 0, 0, 0, 0, 0, 0, 0, 0, 0, 0, 0, 0, 0, 0, 0, 0, 0, 0, 0, 0, 0, 0, 0, 0, 0, 0, 0, 0, 0, 0, 0, 0, 0, 0, 0, 0, 0, 0, 0, 0, 0, 0, 0, 0, 0, 0, 0, 0, 0, 0, 0, 0, 0, 0, 0, 0, 0, 0, 0, 0, 0, 0, 0, 0, 0, 0, 0, 0, 0, 0, 0, 0, 0, 0, 0, 0, 0, 0, 0, 0, 0, 0, 0, 0, 0, 0, 0, 0, 0, 0, 0, 0, 0, 0, 0, 0, 0, 0, 0, 0, 0, 0, 0, 0, 0, 0, 0, 0, 0, 0, 0, 0, 0, 0, 0, 0, 0, 0, 0, 0, 0, 0, 0, 0, 0, 0, 0, 0, 0, 0, 0, 0, 0, 0, 0, 0, 0, 0, 0, 0, 0, 0, 0, 0, 0, 0, 0, 0, 0, 0, 0, 0, 0, 0, 0, 0, 0, 0, 0, 0, 0, 0, 0, 0, 0, 0, 0, 0, 0, 0, 0, 0, 0, 0, 0, 0, 0, 0, 0, 0, 0, 0, 0, 0, 0, 0, 0, 0, 0, 0, 0, 0, 0, 0, 0, 0, 0, 0, 0, 0, 0, 0, 0, 0, 0, 0, 0, 0, 0, 0, 0, 0, 0, 0, 0, 0, 0, 0, 0, 0, 0, 0, 0, 0, 0, 0, 0, 0, 0, 0, 0, 0, 0, 0, 0, 0, 0, 0, 0, 0, 0, 1, 0, 0, 0, 0, 0, 0, 0, 0, 0, 0, 0, 0, 0, 0, 0, 0, 0, 0, 0, 0, 0, 0, 0, 0, 0, 0, 0, 0, 0, 0, 0, 0, 0, 0, 0, 0, 0, 0, 0, 0, 0, 0, 0, 0, 0, 0, 0, 0, 0, 0, 0, 0, 0, 0, 0, 0, 0, 0, 0, 0, 0, 0, 0, 0, 0, 0, 0, 0, 0, 0, 0, 0, 0, 0, 0, 0, 0, 0, 0, 0, 0, 0, 0, 0, 0, 0, 0, 0, 0, 0, 0, 0, 0, 0, 0, 0, 0, 0, 0, 0, 0, 0, 0, 0, 0, 0, 0, 1, 0, 0, 0, 0, 0, 0, 0, 0, 0, 0, 0, 0, 0, 0, 0, 0, 0, 0, 0, 0, 0, 0, 0, 0, 0, 0, 0, 0, 0, 0, 0, 0, 0, 0, 0, 0, 0, 0, 0, 0, 0, 0, 0, 0, 0, 0, 0, 0, 0, 0, 0, 0, 0, 0, 0, 0, 0, 0, 0, 0, 0, 0, 0, 0, 0, 0, 0, 0, 0, 0, 0, 0, 0, 0, 0, 0, 0, 0, 0, 0, 0, 0, 0, 0, 0, 0, 0, 0, 0, 0, 0, 0, 0, 0, 0, 0, 0, 0, 0, 0, 0, 0, 0, 0, 0, 0, 0, 0, 0, 0, 0, 0, 0, 0, 0, 0, 0, 0, 0, 0, 0, 0, 0, 0, 0, 0, 0, 0, 0, 0, 0, 0, 0, 0, 0, 0, 0, 0, 0, 0, 0, 0, 0, 0, 0, 0, 0, 0, 0, 0, 0, 0, 0, 0, 0, 0, 0, 0, 0, 0, 0, 0, 0, 0, 0, 0, 0, 0, 0, 0, 0, 0, 0, 0, 0, 0, 0, 0, 0, 0, 0, 0, 0, 0, 0, 0, 0, 0, 0, 0, 0, 0, 0, 0, 0, 0, 0, 0, 0, 0, 0, 0, 0, 0, 0, 0, 0, 0, 0, 0, 0, 0, 0, 0, 0, 0, 0, 0, 0, 0, 0, 0, 0, 0, 0, 0, 0, 0, 0, 0, 0, 0, 0, 0, 0, 0, 0, 0, 0, 0, 0, 0, 0, 0, 0, 0, 0, 0, 0, 0, 0, 0, 0, 0, 0, 0, 0, 0, 0, 0, 0, 0, 0, 0, 0, 0, 0, 0, 0, 0, 0, 0, 0, 0, 0, 0, 0, 0, 0, 0, 0, 0, 0, 0, 0, 0, 0, 0, 0, 0, 0, 0, 0, 0, 0, 0, 0, 0, 0, 0, 0, 0, 0, 0, 0, 0, 0, 0, 0, 0, 0, 0, 0, 0, 0, 0, 0, 0, 0, 0, 0, 0, 0, 0, 0, 0, 0, 0, 0, 0, 0, 0, 0, 0, 0, 0, 0, 0, 0, 0, 0, 0, 0, 0, 0, 0, 0, 0, 0, 0, 0, 0, 0, 0, 0, 0, 0, 0, 0, 0, 0, 0, 0, 0, 0, 0, 0, 0, 0, 0, 0, 0, 0, 0, 0, 0, 0, 0, 0, 0, 0, 0, 0, 0, 0, 0, 0, 0, 0, 0, 0, 0, 0, 0, 0, 0, 0, 0, 0, 0, 0, 0, 0, 0, 0, 0, 0, 0, 0, 0, 0, 0, 0, 0, 0, 0, 0, 0, 0, 0, 0, 0, 0, 0, 0, 0, 0, 0, 0, 0, 0, 0, 0, 0, 0, 0, 0, 0, 0, 0, 0, 0, 0, 0, 0, 0, 0, 0, 0, 0, 0, 0, 0, 0, 0, 0, 0, 0, 0, 0, 0, 0, 0, 2, 0, 1, 0]\n"
     ]
    }
   ],
   "source": [
    "test_bow = bow_encoding(test_words, vocabulary)\n",
    "print(test_bow)"
   ]
  },
  {
   "cell_type": "code",
   "execution_count": 41,
   "metadata": {},
   "outputs": [
    {
     "data": {
      "text/plain": [
       "5000"
      ]
     },
     "execution_count": 41,
     "metadata": {},
     "output_type": "execute_result"
    }
   ],
   "source": [
    "len(test_bow)"
   ]
  },
  {
   "cell_type": "markdown",
   "metadata": {},
   "source": [
    "So now we know how to construct a bag of words encoding of a user provided review, how to we send it to our endpoint? First, we need to start the endpoint back up."
   ]
  },
  {
   "cell_type": "code",
   "execution_count": 43,
   "metadata": {},
   "outputs": [
    {
     "name": "stderr",
     "output_type": "stream",
     "text": [
      "Parameter image will be renamed to image_uri in SageMaker Python SDK v2.\n",
      "Using already existing model: xgboost-2022-06-06-09-18-59-310\n"
     ]
    },
    {
     "name": "stdout",
     "output_type": "stream",
     "text": [
      "------!"
     ]
    }
   ],
   "source": [
    "xgb_predictor = xgb.deploy(initial_instance_count = 1, instance_type = 'ml.m4.xlarge')"
   ]
  },
  {
   "cell_type": "markdown",
   "metadata": {},
   "source": [
    "At this point we could just do the same thing that we did earlier when we tested our deployed model and send `test_bow` to our endpoint using the `xgb_predictor` object. However, when we eventually construct our Lambda function we won't have access to this object, so how do we call a SageMaker endpoint?\n",
    "\n",
    "It turns out that Python functions that are used in Lambda have access to another Amazon library called `boto3`. This library provides an API for working with Amazon services, including SageMaker. To start with, we need to get a handle to the SageMaker runtime."
   ]
  },
  {
   "cell_type": "code",
   "execution_count": 44,
   "metadata": {},
   "outputs": [],
   "source": [
    "import boto3\n",
    "\n",
    "runtime = boto3.Session().client('sagemaker-runtime')"
   ]
  },
  {
   "cell_type": "markdown",
   "metadata": {},
   "source": [
    "And now that we have access to the SageMaker runtime, we can ask it to make use of (invoke) an endpoint that has already been created. However, we need to provide SageMaker with the name of the deployed endpoint. To find this out we can print it out using the `xgb_predictor` object."
   ]
  },
  {
   "cell_type": "code",
   "execution_count": 45,
   "metadata": {},
   "outputs": [
    {
     "data": {
      "text/plain": [
       "'xgboost-2022-06-06-09-18-59-310'"
      ]
     },
     "execution_count": 45,
     "metadata": {},
     "output_type": "execute_result"
    }
   ],
   "source": [
    "xgb_predictor.endpoint"
   ]
  },
  {
   "cell_type": "markdown",
   "metadata": {},
   "source": [
    "Using the SageMaker runtime and the name of our endpoint, we can invoke the endpoint and send it the `test_bow` data."
   ]
  },
  {
   "cell_type": "code",
   "execution_count": 46,
   "metadata": {},
   "outputs": [
    {
     "ename": "ParamValidationError",
     "evalue": "Parameter validation failed:\nInvalid type for parameter Body, value: [0, 0, 0, 0, 0, 0, 0, 0, 0, 0, 0, 0, 0, 0, 0, 0, 0, 0, 0, 0, 0, 0, 0, 0, 0, 0, 0, 0, 0, 0, 0, 0, 0, 0, 0, 0, 0, 0, 0, 0, 0, 0, 0, 0, 0, 0, 0, 0, 0, 0, 0, 0, 0, 0, 0, 0, 0, 0, 0, 0, 0, 0, 0, 0, 0, 0, 0, 0, 0, 0, 0, 0, 0, 0, 0, 0, 0, 0, 0, 0, 0, 0, 0, 0, 0, 0, 0, 0, 0, 0, 0, 0, 0, 0, 0, 0, 0, 0, 0, 0, 0, 0, 0, 0, 0, 0, 0, 0, 0, 0, 0, 0, 0, 0, 0, 0, 0, 0, 0, 0, 0, 0, 0, 0, 0, 0, 0, 0, 0, 0, 0, 0, 0, 0, 0, 0, 0, 0, 0, 0, 0, 0, 0, 0, 0, 0, 0, 0, 0, 0, 0, 0, 0, 0, 0, 0, 0, 0, 0, 0, 0, 0, 0, 0, 0, 0, 0, 0, 0, 0, 0, 0, 0, 0, 0, 0, 0, 0, 0, 0, 0, 0, 0, 0, 0, 0, 0, 0, 0, 0, 0, 0, 0, 0, 0, 0, 0, 0, 0, 0, 0, 0, 0, 0, 0, 0, 0, 0, 0, 0, 0, 0, 0, 0, 0, 0, 0, 0, 0, 0, 0, 0, 0, 0, 0, 0, 1, 0, 0, 0, 0, 0, 0, 0, 0, 0, 0, 0, 0, 0, 0, 0, 0, 0, 0, 0, 0, 0, 0, 0, 0, 0, 0, 0, 0, 0, 1, 0, 0, 0, 0, 0, 0, 0, 0, 0, 0, 0, 0, 0, 0, 0, 0, 0, 0, 0, 0, 0, 0, 0, 0, 0, 0, 0, 0, 0, 0, 0, 0, 0, 0, 0, 0, 0, 0, 0, 0, 0, 0, 0, 0, 0, 0, 0, 0, 0, 0, 0, 0, 0, 0, 0, 0, 0, 0, 0, 0, 0, 0, 0, 0, 0, 0, 0, 0, 0, 0, 0, 0, 0, 0, 0, 0, 0, 0, 0, 0, 0, 0, 0, 0, 0, 0, 0, 0, 0, 0, 0, 0, 0, 0, 0, 0, 0, 0, 0, 0, 0, 0, 0, 0, 0, 0, 0, 0, 0, 0, 0, 0, 0, 0, 0, 0, 0, 0, 0, 0, 0, 0, 0, 0, 0, 0, 0, 0, 0, 0, 0, 0, 0, 0, 0, 0, 0, 0, 0, 0, 0, 0, 0, 0, 0, 0, 0, 0, 0, 0, 0, 0, 0, 0, 0, 0, 0, 0, 0, 0, 0, 0, 0, 0, 0, 0, 0, 0, 0, 0, 0, 0, 0, 0, 0, 0, 0, 0, 0, 0, 0, 0, 0, 0, 0, 0, 0, 0, 0, 0, 0, 0, 0, 0, 0, 0, 0, 0, 0, 0, 0, 0, 0, 0, 0, 0, 0, 0, 0, 0, 0, 0, 0, 0, 0, 0, 0, 0, 0, 0, 0, 0, 0, 0, 0, 0, 0, 0, 0, 0, 0, 0, 0, 0, 0, 0, 0, 0, 0, 0, 0, 0, 0, 0, 0, 0, 0, 0, 0, 0, 0, 0, 0, 0, 0, 0, 0, 0, 0, 0, 0, 0, 0, 0, 0, 0, 0, 0, 0, 0, 0, 0, 0, 0, 0, 0, 0, 0, 0, 0, 0, 0, 0, 0, 0, 0, 0, 0, 0, 0, 0, 0, 0, 0, 0, 0, 0, 0, 0, 0, 0, 0, 0, 0, 0, 0, 0, 0, 0, 0, 0, 0, 0, 0, 0, 0, 0, 0, 0, 0, 0, 0, 0, 0, 0, 0, 0, 0, 0, 0, 0, 0, 0, 0, 0, 0, 0, 0, 0, 0, 0, 0, 0, 0, 0, 0, 0, 0, 0, 0, 0, 0, 0, 0, 0, 0, 0, 0, 0, 0, 0, 0, 0, 0, 0, 0, 0, 0, 0, 0, 0, 0, 0, 0, 0, 0, 0, 0, 0, 1, 0, 0, 0, 0, 0, 0, 0, 0, 0, 0, 0, 0, 0, 0, 0, 0, 0, 0, 0, 0, 0, 0, 0, 0, 0, 0, 0, 0, 0, 0, 0, 0, 0, 0, 0, 0, 0, 0, 0, 0, 0, 0, 0, 0, 0, 0, 0, 0, 0, 0, 0, 0, 0, 0, 0, 0, 0, 0, 0, 0, 0, 0, 0, 0, 0, 0, 0, 0, 0, 0, 0, 0, 0, 0, 0, 0, 0, 0, 0, 0, 0, 0, 0, 0, 0, 0, 0, 0, 0, 0, 0, 0, 0, 0, 0, 0, 0, 0, 0, 0, 0, 0, 0, 0, 0, 0, 0, 0, 0, 0, 0, 0, 0, 0, 0, 0, 0, 0, 0, 0, 0, 0, 0, 0, 0, 0, 0, 0, 0, 0, 0, 0, 0, 0, 0, 0, 0, 0, 0, 0, 0, 0, 0, 0, 0, 0, 0, 0, 0, 0, 0, 0, 0, 0, 0, 0, 0, 0, 0, 0, 0, 0, 0, 0, 0, 0, 0, 0, 0, 0, 0, 0, 0, 0, 0, 0, 0, 0, 0, 0, 0, 0, 0, 0, 0, 0, 0, 0, 0, 0, 0, 0, 0, 0, 0, 0, 0, 0, 0, 0, 0, 0, 0, 0, 0, 0, 0, 0, 0, 0, 0, 0, 0, 0, 0, 0, 0, 0, 0, 0, 0, 0, 0, 0, 0, 0, 0, 0, 0, 0, 0, 0, 0, 0, 0, 0, 0, 0, 0, 0, 0, 0, 0, 0, 0, 0, 0, 0, 0, 0, 0, 0, 0, 1, 0, 0, 0, 0, 0, 0, 0, 0, 0, 0, 0, 0, 0, 0, 0, 0, 0, 0, 0, 0, 0, 0, 0, 0, 0, 0, 0, 0, 0, 0, 0, 0, 0, 0, 0, 0, 0, 0, 0, 0, 0, 0, 0, 0, 0, 0, 0, 0, 0, 0, 0, 0, 0, 0, 0, 0, 0, 0, 0, 0, 0, 0, 0, 0, 0, 0, 0, 0, 0, 0, 0, 0, 0, 0, 0, 0, 0, 0, 0, 0, 0, 0, 0, 0, 0, 0, 1, 0, 0, 0, 0, 0, 0, 0, 0, 0, 0, 0, 0, 0, 0, 0, 0, 0, 0, 0, 0, 0, 0, 0, 0, 0, 0, 0, 0, 0, 0, 0, 0, 0, 0, 0, 0, 0, 0, 0, 0, 0, 0, 0, 0, 0, 0, 0, 0, 0, 0, 0, 0, 0, 0, 0, 0, 0, 0, 0, 0, 0, 0, 0, 0, 0, 0, 0, 0, 0, 0, 0, 0, 0, 0, 0, 0, 0, 0, 0, 0, 0, 0, 0, 0, 0, 0, 0, 0, 0, 0, 0, 0, 0, 0, 0, 0, 0, 0, 0, 0, 0, 0, 0, 0, 0, 0, 0, 0, 0, 0, 0, 0, 0, 0, 0, 0, 0, 0, 0, 0, 0, 0, 0, 0, 0, 0, 0, 0, 0, 0, 0, 0, 0, 0, 0, 0, 0, 0, 0, 0, 0, 0, 0, 0, 0, 0, 0, 0, 0, 0, 0, 0, 0, 0, 0, 0, 0, 0, 0, 0, 0, 0, 0, 0, 0, 0, 0, 0, 0, 0, 0, 0, 0, 0, 0, 0, 0, 0, 0, 0, 0, 0, 0, 0, 0, 0, 0, 0, 0, 0, 0, 0, 0, 0, 0, 0, 0, 0, 0, 0, 0, 0, 0, 0, 0, 0, 0, 0, 0, 0, 0, 0, 0, 0, 0, 0, 0, 0, 0, 0, 0, 0, 0, 0, 0, 0, 0, 0, 0, 0, 0, 0, 0, 0, 0, 0, 0, 0, 0, 0, 0, 0, 0, 0, 0, 0, 0, 0, 0, 0, 0, 0, 1, 0, 0, 0, 0, 0, 0, 0, 0, 0, 0, 0, 0, 0, 0, 0, 0, 0, 0, 0, 0, 0, 0, 0, 0, 0, 0, 0, 0, 0, 0, 0, 0, 0, 0, 0, 0, 0, 0, 0, 0, 0, 0, 0, 0, 0, 0, 0, 0, 0, 0, 0, 0, 0, 0, 0, 1, 0, 0, 0, 0, 0, 0, 0, 0, 0, 0, 0, 0, 0, 0, 0, 0, 0, 0, 0, 0, 0, 0, 0, 0, 0, 0, 0, 0, 0, 0, 0, 0, 0, 0, 0, 0, 0, 0, 0, 0, 0, 0, 0, 0, 0, 0, 0, 0, 0, 0, 0, 0, 0, 0, 0, 0, 0, 0, 0, 0, 0, 0, 0, 0, 0, 0, 0, 0, 0, 0, 0, 0, 0, 0, 0, 0, 0, 0, 0, 0, 0, 0, 0, 0, 0, 0, 0, 0, 0, 0, 0, 0, 0, 0, 0, 0, 0, 0, 0, 0, 0, 0, 0, 0, 0, 0, 0, 0, 0, 0, 0, 0, 0, 0, 0, 0, 0, 0, 0, 0, 0, 0, 0, 0, 0, 0, 0, 0, 0, 0, 0, 0, 0, 0, 0, 0, 0, 0, 0, 0, 0, 0, 0, 0, 0, 0, 0, 0, 0, 0, 0, 0, 0, 0, 0, 0, 0, 0, 0, 0, 0, 0, 0, 0, 0, 0, 0, 0, 0, 0, 0, 0, 0, 0, 0, 0, 0, 0, 0, 0, 0, 0, 0, 0, 0, 0, 0, 0, 0, 0, 0, 0, 0, 0, 0, 0, 0, 0, 0, 0, 0, 0, 0, 0, 0, 0, 0, 0, 0, 0, 0, 0, 0, 0, 0, 0, 0, 0, 0, 0, 0, 0, 0, 0, 0, 0, 0, 0, 0, 0, 0, 0, 0, 0, 0, 0, 0, 0, 0, 0, 0, 0, 0, 0, 0, 0, 0, 0, 0, 0, 0, 0, 0, 0, 0, 0, 0, 0, 0, 0, 0, 0, 0, 0, 0, 0, 0, 0, 0, 0, 0, 0, 0, 0, 0, 0, 0, 0, 0, 0, 0, 0, 0, 0, 0, 0, 0, 0, 0, 0, 0, 0, 0, 0, 0, 0, 0, 0, 0, 0, 0, 0, 0, 0, 0, 0, 0, 0, 0, 0, 0, 0, 0, 0, 0, 0, 0, 0, 0, 0, 0, 0, 0, 0, 0, 0, 0, 0, 0, 0, 0, 0, 0, 0, 0, 0, 0, 0, 0, 0, 0, 0, 0, 0, 0, 0, 0, 0, 0, 0, 0, 0, 0, 0, 0, 0, 0, 0, 0, 0, 0, 0, 0, 0, 0, 0, 0, 0, 0, 0, 0, 0, 0, 0, 0, 0, 0, 0, 0, 0, 0, 0, 0, 0, 0, 0, 0, 0, 0, 0, 0, 0, 0, 0, 0, 0, 0, 0, 0, 0, 0, 0, 0, 0, 0, 0, 0, 0, 0, 0, 0, 0, 0, 0, 0, 0, 0, 0, 0, 0, 0, 0, 0, 0, 0, 0, 0, 0, 0, 0, 0, 0, 0, 0, 0, 0, 0, 0, 0, 0, 0, 0, 0, 0, 0, 0, 0, 0, 0, 0, 0, 0, 0, 0, 0, 0, 0, 0, 0, 0, 0, 0, 0, 0, 0, 0, 0, 0, 0, 0, 0, 0, 0, 0, 0, 0, 0, 0, 0, 0, 0, 0, 0, 0, 0, 0, 0, 0, 0, 0, 0, 0, 0, 0, 0, 0, 0, 0, 0, 0, 0, 0, 0, 0, 0, 0, 0, 0, 0, 0, 0, 0, 0, 0, 0, 0, 0, 0, 0, 0, 0, 0, 0, 0, 0, 0, 0, 0, 0, 0, 0, 0, 0, 0, 0, 0, 0, 0, 0, 0, 0, 0, 0, 0, 0, 0, 0, 0, 0, 0, 0, 0, 0, 0, 0, 0, 0, 0, 0, 0, 0, 0, 0, 0, 0, 0, 0, 0, 0, 0, 0, 0, 0, 0, 0, 0, 0, 0, 0, 0, 0, 0, 0, 0, 0, 0, 0, 0, 0, 0, 0, 0, 0, 0, 0, 0, 0, 0, 0, 0, 0, 0, 0, 0, 0, 0, 0, 0, 0, 0, 0, 0, 0, 0, 0, 0, 0, 0, 0, 0, 0, 0, 0, 0, 0, 0, 0, 0, 0, 0, 0, 0, 0, 0, 0, 0, 0, 0, 0, 0, 0, 0, 0, 0, 0, 0, 0, 0, 0, 0, 0, 0, 0, 0, 0, 0, 0, 0, 0, 0, 0, 0, 0, 0, 0, 0, 0, 0, 0, 0, 0, 0, 0, 0, 0, 0, 0, 0, 0, 0, 0, 1, 0, 0, 0, 0, 0, 0, 0, 0, 0, 0, 0, 0, 0, 0, 0, 0, 0, 0, 0, 0, 0, 0, 0, 0, 0, 0, 0, 0, 0, 0, 0, 0, 0, 0, 0, 0, 0, 0, 0, 0, 0, 0, 0, 0, 0, 0, 0, 0, 0, 0, 0, 0, 0, 0, 0, 0, 0, 0, 0, 0, 0, 0, 0, 0, 0, 0, 0, 0, 0, 0, 0, 0, 0, 0, 1, 0, 0, 0, 0, 0, 0, 0, 0, 0, 0, 0, 0, 0, 0, 0, 0, 0, 0, 0, 0, 1, 0, 0, 1, 0, 0, 0, 0, 0, 0, 0, 0, 0, 0, 0, 0, 0, 0, 0, 0, 0, 0, 0, 0, 0, 0, 0, 0, 0, 0, 0, 0, 0, 0, 0, 0, 0, 0, 0, 0, 0, 0, 0, 0, 0, 0, 0, 0, 0, 0, 0, 0, 0, 0, 0, 0, 0, 0, 0, 0, 0, 0, 0, 0, 0, 0, 0, 0, 0, 0, 0, 0, 0, 0, 0, 0, 0, 0, 0, 0, 0, 0, 0, 0, 0, 0, 0, 0, 0, 0, 0, 0, 0, 0, 0, 0, 0, 0, 0, 0, 0, 0, 0, 0, 0, 0, 0, 0, 0, 0, 0, 0, 0, 0, 0, 0, 0, 0, 0, 0, 0, 0, 0, 0, 0, 0, 0, 0, 0, 0, 0, 0, 0, 0, 0, 0, 0, 0, 0, 0, 0, 0, 0, 0, 0, 0, 0, 0, 0, 0, 0, 0, 0, 0, 0, 0, 0, 0, 0, 0, 0, 0, 0, 0, 0, 0, 0, 0, 0, 0, 0, 0, 0, 0, 0, 0, 0, 0, 0, 0, 0, 0, 0, 0, 0, 0, 0, 0, 0, 0, 0, 0, 0, 0, 0, 0, 0, 0, 0, 0, 0, 0, 0, 0, 0, 0, 0, 0, 0, 0, 0, 0, 0, 0, 0, 0, 0, 0, 0, 0, 0, 0, 0, 0, 0, 0, 0, 0, 0, 0, 0, 0, 0, 0, 0, 0, 0, 0, 0, 0, 0, 0, 0, 0, 0, 0, 0, 0, 0, 0, 0, 0, 0, 0, 0, 0, 0, 0, 0, 0, 0, 0, 0, 0, 0, 0, 0, 0, 0, 0, 0, 0, 0, 0, 0, 0, 0, 0, 0, 0, 0, 0, 0, 0, 0, 0, 0, 0, 0, 0, 0, 0, 0, 0, 0, 0, 0, 0, 0, 0, 0, 0, 0, 0, 0, 0, 0, 0, 0, 0, 0, 0, 0, 0, 0, 0, 0, 0, 0, 0, 0, 0, 0, 0, 0, 0, 0, 0, 0, 0, 0, 0, 0, 0, 0, 0, 0, 0, 0, 0, 0, 0, 0, 0, 0, 0, 0, 0, 0, 0, 0, 0, 0, 0, 0, 0, 0, 0, 0, 0, 0, 0, 0, 0, 0, 0, 0, 0, 0, 0, 0, 0, 0, 0, 0, 0, 0, 0, 0, 0, 0, 0, 0, 0, 0, 0, 0, 0, 0, 0, 0, 0, 0, 0, 0, 0, 0, 0, 0, 0, 0, 0, 0, 0, 0, 0, 0, 0, 0, 0, 0, 0, 0, 0, 0, 0, 0, 0, 0, 0, 0, 0, 0, 0, 0, 0, 0, 0, 0, 0, 0, 0, 0, 0, 0, 0, 0, 0, 0, 0, 0, 0, 0, 0, 0, 0, 0, 0, 0, 0, 0, 0, 0, 0, 0, 0, 0, 0, 0, 0, 0, 0, 0, 0, 0, 0, 0, 0, 0, 0, 1, 0, 0, 0, 0, 0, 0, 0, 0, 0, 0, 0, 0, 0, 0, 0, 0, 0, 0, 0, 0, 0, 0, 0, 0, 0, 0, 0, 0, 0, 0, 0, 0, 0, 0, 0, 0, 0, 0, 0, 0, 0, 0, 0, 0, 0, 0, 0, 0, 0, 0, 0, 0, 0, 0, 0, 0, 0, 0, 0, 0, 0, 0, 0, 0, 0, 0, 0, 0, 0, 0, 0, 0, 0, 0, 0, 0, 0, 0, 0, 0, 0, 0, 0, 0, 0, 0, 0, 0, 0, 0, 0, 0, 0, 0, 0, 0, 0, 0, 0, 0, 0, 0, 0, 0, 0, 0, 0, 0, 0, 0, 0, 0, 0, 0, 0, 0, 0, 0, 0, 0, 0, 0, 0, 0, 0, 0, 0, 0, 0, 0, 0, 0, 0, 0, 0, 0, 0, 0, 0, 0, 0, 0, 0, 0, 0, 0, 0, 0, 0, 0, 0, 0, 0, 0, 0, 0, 0, 0, 0, 0, 0, 0, 0, 0, 0, 0, 0, 0, 0, 0, 0, 0, 0, 0, 0, 0, 0, 0, 0, 0, 0, 0, 0, 0, 0, 0, 0, 0, 0, 0, 0, 0, 0, 0, 0, 0, 0, 0, 0, 0, 0, 0, 0, 0, 0, 0, 0, 0, 0, 0, 0, 0, 0, 0, 0, 0, 0, 0, 0, 0, 0, 0, 0, 0, 0, 0, 0, 0, 0, 0, 0, 0, 0, 0, 0, 0, 0, 0, 0, 0, 0, 0, 0, 0, 0, 0, 0, 0, 0, 0, 0, 0, 0, 0, 0, 0, 0, 0, 0, 0, 0, 0, 0, 0, 0, 0, 0, 0, 0, 0, 0, 0, 0, 0, 0, 0, 0, 0, 0, 0, 0, 0, 0, 0, 0, 0, 0, 0, 0, 0, 0, 0, 0, 0, 0, 0, 0, 0, 0, 0, 0, 0, 0, 0, 0, 0, 0, 0, 0, 0, 0, 0, 0, 0, 0, 0, 0, 0, 0, 0, 0, 0, 0, 0, 0, 0, 0, 0, 0, 0, 0, 0, 0, 0, 0, 0, 0, 0, 0, 0, 0, 0, 0, 0, 0, 0, 0, 0, 0, 0, 0, 0, 0, 0, 0, 0, 0, 0, 0, 0, 0, 0, 0, 0, 0, 0, 0, 0, 0, 0, 0, 0, 0, 0, 0, 0, 0, 0, 0, 0, 0, 0, 0, 0, 0, 0, 0, 0, 0, 0, 0, 0, 0, 0, 0, 0, 0, 0, 0, 0, 0, 0, 0, 0, 0, 0, 0, 0, 0, 0, 0, 0, 0, 0, 0, 0, 0, 0, 0, 0, 0, 0, 0, 0, 0, 0, 0, 0, 0, 0, 0, 0, 0, 0, 0, 0, 0, 0, 0, 0, 0, 0, 0, 0, 0, 0, 0, 0, 0, 0, 0, 0, 0, 0, 0, 0, 0, 0, 0, 0, 0, 0, 0, 0, 0, 0, 0, 0, 0, 0, 0, 0, 0, 0, 0, 0, 0, 0, 0, 0, 0, 0, 0, 0, 0, 0, 0, 0, 0, 0, 0, 0, 0, 0, 0, 0, 0, 0, 0, 0, 0, 0, 0, 0, 0, 0, 0, 0, 0, 0, 0, 0, 1, 0, 0, 0, 0, 0, 0, 0, 0, 0, 0, 0, 0, 0, 0, 0, 0, 0, 0, 0, 0, 0, 0, 0, 0, 0, 0, 0, 0, 0, 0, 0, 0, 0, 0, 0, 2, 0, 0, 0, 0, 0, 0, 0, 0, 0, 0, 0, 0, 0, 0, 0, 0, 0, 0, 0, 0, 0, 0, 0, 0, 0, 0, 0, 0, 0, 0, 0, 0, 0, 0, 0, 0, 0, 0, 0, 0, 1, 0, 0, 0, 0, 0, 0, 0, 0, 0, 0, 0, 0, 0, 0, 0, 0, 0, 0, 0, 0, 0, 0, 0, 0, 0, 0, 0, 0, 0, 0, 0, 0, 0, 0, 0, 0, 0, 0, 0, 0, 0, 0, 0, 0, 0, 0, 0, 0, 0, 0, 0, 0, 0, 0, 0, 0, 0, 0, 0, 0, 0, 0, 0, 0, 0, 0, 0, 0, 0, 0, 0, 0, 0, 0, 0, 0, 0, 0, 0, 0, 0, 0, 0, 0, 0, 0, 0, 0, 0, 0, 0, 0, 0, 0, 0, 0, 0, 0, 0, 0, 0, 0, 0, 0, 0, 0, 0, 0, 0, 0, 0, 0, 0, 0, 0, 0, 0, 0, 0, 0, 0, 0, 0, 0, 0, 0, 0, 0, 0, 0, 0, 0, 0, 0, 0, 0, 0, 0, 0, 0, 0, 0, 0, 0, 0, 0, 0, 0, 0, 0, 0, 0, 0, 0, 0, 0, 0, 0, 0, 0, 0, 0, 0, 0, 0, 0, 0, 0, 0, 0, 0, 0, 0, 0, 0, 0, 0, 0, 0, 0, 0, 0, 0, 0, 0, 0, 0, 0, 0, 0, 0, 0, 0, 0, 0, 0, 0, 0, 0, 0, 0, 0, 0, 0, 0, 0, 0, 0, 0, 0, 0, 0, 0, 0, 0, 0, 0, 0, 0, 0, 0, 0, 0, 0, 0, 0, 0, 0, 0, 0, 0, 0, 0, 0, 0, 0, 0, 0, 0, 0, 0, 0, 0, 0, 0, 0, 0, 0, 0, 0, 0, 0, 0, 0, 0, 0, 0, 0, 0, 0, 0, 0, 0, 0, 0, 0, 0, 0, 0, 0, 0, 0, 0, 0, 0, 0, 0, 0, 0, 0, 0, 0, 0, 0, 0, 0, 0, 0, 0, 0, 0, 0, 0, 0, 0, 0, 0, 0, 0, 0, 0, 0, 0, 0, 0, 0, 0, 0, 0, 0, 0, 0, 0, 0, 0, 0, 0, 0, 0, 0, 0, 0, 0, 0, 0, 0, 0, 0, 0, 0, 0, 0, 0, 0, 0, 0, 0, 0, 0, 0, 0, 0, 0, 0, 0, 0, 0, 0, 0, 0, 0, 0, 0, 0, 0, 0, 0, 0, 0, 0, 0, 0, 0, 0, 0, 0, 0, 0, 0, 0, 0, 0, 0, 0, 0, 0, 0, 0, 0, 0, 0, 0, 0, 0, 0, 0, 0, 0, 0, 0, 0, 0, 0, 0, 0, 0, 0, 0, 0, 0, 0, 0, 0, 0, 0, 0, 0, 0, 0, 0, 0, 0, 0, 0, 0, 0, 0, 0, 0, 0, 0, 0, 0, 0, 0, 0, 0, 0, 0, 0, 0, 0, 0, 0, 0, 0, 0, 0, 0, 0, 0, 0, 0, 0, 0, 0, 0, 0, 0, 0, 0, 0, 0, 0, 0, 0, 0, 0, 0, 0, 0, 0, 0, 0, 0, 0, 0, 0, 0, 0, 0, 0, 0, 0, 0, 0, 0, 0, 0, 0, 0, 0, 0, 0, 0, 0, 0, 0, 0, 0, 0, 0, 0, 0, 0, 0, 0, 1, 0, 0, 0, 0, 0, 0, 0, 0, 0, 0, 0, 0, 0, 0, 0, 0, 0, 0, 0, 0, 0, 0, 0, 0, 0, 0, 0, 0, 0, 0, 0, 0, 0, 0, 0, 0, 0, 0, 0, 0, 0, 0, 0, 0, 0, 0, 0, 0, 0, 0, 0, 0, 0, 0, 0, 0, 0, 0, 0, 0, 0, 0, 0, 0, 0, 0, 0, 0, 0, 0, 0, 0, 0, 0, 0, 0, 0, 0, 0, 0, 0, 0, 0, 0, 0, 0, 0, 0, 0, 0, 0, 0, 0, 0, 0, 0, 0, 0, 0, 0, 0, 0, 0, 0, 0, 0, 0, 0, 0, 0, 2, 0, 0, 0, 0, 0, 0, 0, 0, 0, 0, 0, 0, 0, 0, 0, 0, 0, 0, 0, 0, 0, 0, 0, 0, 0, 0, 0, 0, 0, 0, 0, 0, 0, 0, 0, 0, 0, 0, 0, 0, 0, 0, 0, 0, 0, 0, 0, 0, 0, 0, 0, 0, 0, 0, 0, 0, 0, 0, 0, 0, 0, 0, 0, 0, 0, 0, 0, 0, 0, 0, 0, 0, 0, 0, 0, 0, 0, 0, 0, 0, 0, 0, 0, 0, 0, 0, 0, 0, 0, 0, 0, 0, 0, 0, 0, 0, 0, 0, 0, 0, 0, 0, 0, 0, 0, 0, 0, 0, 0, 0, 0, 0, 0, 0, 0, 0, 0, 0, 0, 0, 0, 0, 0, 0, 0, 0, 0, 0, 0, 0, 0, 0, 0, 0, 0, 0, 0, 0, 0, 0, 0, 0, 0, 0, 0, 0, 0, 0, 0, 0, 0, 0, 0, 0, 0, 0, 0, 0, 0, 0, 0, 0, 0, 0, 0, 0, 0, 0, 0, 0, 0, 0, 0, 0, 0, 0, 0, 0, 0, 0, 0, 0, 0, 0, 0, 0, 0, 0, 0, 0, 0, 0, 0, 0, 0, 0, 0, 0, 0, 0, 0, 0, 0, 0, 0, 0, 0, 0, 0, 0, 0, 0, 0, 0, 0, 0, 0, 0, 0, 0, 0, 0, 0, 0, 0, 0, 0, 0, 0, 0, 0, 0, 0, 0, 0, 0, 0, 0, 0, 0, 0, 0, 0, 0, 0, 0, 0, 0, 0, 0, 0, 0, 0, 0, 0, 0, 0, 0, 0, 0, 0, 0, 0, 0, 0, 0, 0, 0, 0, 0, 0, 0, 0, 0, 0, 0, 0, 0, 0, 0, 0, 0, 0, 0, 0, 0, 0, 0, 0, 0, 0, 0, 0, 0, 0, 0, 0, 0, 0, 0, 0, 0, 0, 0, 0, 0, 0, 0, 0, 0, 0, 0, 0, 0, 0, 0, 0, 0, 0, 0, 0, 0, 0, 0, 0, 0, 0, 0, 0, 0, 0, 0, 0, 0, 0, 0, 0, 0, 0, 0, 0, 0, 0, 0, 0, 0, 0, 0, 0, 0, 0, 0, 0, 0, 0, 0, 0, 0, 0, 0, 0, 0, 0, 0, 0, 0, 0, 0, 0, 0, 0, 0, 0, 0, 0, 0, 0, 0, 0, 0, 0, 0, 0, 0, 0, 0, 0, 0, 0, 0, 0, 0, 0, 0, 0, 0, 0, 0, 0, 0, 0, 0, 0, 0, 0, 0, 0, 0, 0, 0, 0, 0, 0, 0, 0, 0, 0, 0, 0, 0, 0, 0, 0, 0, 0, 0, 0, 0, 0, 0, 0, 0, 0, 0, 0, 0, 0, 0, 0, 0, 0, 0, 0, 0, 0, 0, 0, 0, 0, 0, 0, 0, 0, 0, 0, 0, 0, 0, 0, 0, 0, 0, 0, 0, 0, 0, 0, 0, 0, 0, 0, 0, 0, 0, 0, 0, 0, 0, 0, 0, 0, 0, 0, 0, 0, 0, 0, 0, 0, 0, 0, 0, 0, 0, 0, 0, 0, 0, 0, 0, 0, 0, 0, 0, 0, 0, 0, 0, 0, 0, 0, 0, 0, 0, 0, 0, 0, 0, 0, 0, 0, 0, 0, 0, 0, 0, 0, 0, 0, 0, 0, 0, 0, 0, 0, 0, 0, 0, 0, 0, 0, 0, 0, 0, 0, 0, 0, 0, 0, 0, 0, 0, 0, 0, 0, 0, 0, 0, 0, 0, 0, 0, 0, 0, 0, 0, 0, 0, 0, 0, 0, 0, 0, 0, 0, 0, 0, 0, 0, 0, 0, 0, 0, 0, 0, 0, 0, 0, 0, 0, 0, 0, 0, 0, 0, 0, 0, 0, 0, 0, 0, 0, 0, 0, 0, 0, 0, 0, 0, 0, 0, 0, 0, 0, 0, 0, 0, 0, 0, 0, 0, 0, 0, 0, 0, 0, 0, 0, 0, 0, 0, 0, 0, 0, 0, 0, 0, 0, 0, 0, 0, 0, 0, 0, 0, 0, 0, 0, 0, 0, 0, 0, 0, 0, 0, 0, 0, 0, 0, 0, 0, 0, 0, 0, 0, 0, 0, 0, 0, 0, 0, 0, 0, 0, 0, 0, 0, 0, 0, 0, 0, 0, 0, 0, 0, 0, 0, 0, 0, 0, 1, 0, 0, 0, 0, 0, 0, 0, 0, 0, 0, 0, 0, 0, 0, 0, 0, 0, 0, 0, 0, 0, 0, 0, 0, 0, 0, 0, 0, 0, 0, 0, 0, 0, 0, 0, 0, 0, 0, 0, 0, 0, 0, 0, 0, 0, 0, 0, 0, 0, 0, 0, 0, 0, 0, 0, 0, 0, 0, 0, 0, 0, 0, 0, 0, 0, 0, 0, 0, 0, 0, 0, 0, 0, 0, 0, 0, 0, 0, 0, 0, 0, 0, 0, 0, 0, 0, 0, 0, 0, 0, 0, 0, 0, 0, 0, 0, 0, 0, 0, 0, 0, 0, 0, 0, 0, 0, 0, 1, 0, 0, 0, 0, 0, 0, 0, 0, 0, 0, 0, 0, 0, 0, 0, 0, 0, 0, 0, 0, 0, 0, 0, 0, 0, 0, 0, 0, 0, 0, 0, 0, 0, 0, 0, 0, 0, 0, 0, 0, 0, 0, 0, 0, 0, 0, 0, 0, 0, 0, 0, 0, 0, 0, 0, 0, 0, 0, 0, 0, 0, 0, 0, 0, 0, 0, 0, 0, 0, 0, 0, 0, 0, 0, 0, 0, 0, 0, 0, 0, 0, 0, 0, 0, 0, 0, 0, 0, 0, 0, 0, 0, 0, 0, 0, 0, 0, 0, 0, 0, 0, 0, 0, 0, 0, 0, 0, 0, 0, 0, 0, 0, 0, 0, 0, 0, 0, 0, 0, 0, 0, 0, 0, 0, 0, 0, 0, 0, 0, 0, 0, 0, 0, 0, 0, 0, 0, 0, 0, 0, 0, 0, 0, 0, 0, 0, 0, 0, 0, 0, 0, 0, 0, 0, 0, 0, 0, 0, 0, 0, 0, 0, 0, 0, 0, 0, 0, 0, 0, 0, 0, 0, 0, 0, 0, 0, 0, 0, 0, 0, 0, 0, 0, 0, 0, 0, 0, 0, 0, 0, 0, 0, 0, 0, 0, 0, 0, 0, 0, 0, 0, 0, 0, 0, 0, 0, 0, 0, 0, 0, 0, 0, 0, 0, 0, 0, 0, 0, 0, 0, 0, 0, 0, 0, 0, 0, 0, 0, 0, 0, 0, 0, 0, 0, 0, 0, 0, 0, 0, 0, 0, 0, 0, 0, 0, 0, 0, 0, 0, 0, 0, 0, 0, 0, 0, 0, 0, 0, 0, 0, 0, 0, 0, 0, 0, 0, 0, 0, 0, 0, 0, 0, 0, 0, 0, 0, 0, 0, 0, 0, 0, 0, 0, 0, 0, 0, 0, 0, 0, 0, 0, 0, 0, 0, 0, 0, 0, 0, 0, 0, 0, 0, 0, 0, 0, 0, 0, 0, 0, 0, 0, 0, 0, 0, 0, 0, 0, 0, 0, 0, 0, 0, 0, 0, 0, 0, 0, 0, 0, 0, 0, 0, 0, 0, 0, 0, 0, 0, 0, 0, 0, 0, 0, 0, 0, 0, 0, 0, 0, 0, 0, 0, 0, 0, 0, 0, 0, 0, 0, 0, 0, 0, 0, 0, 0, 0, 0, 0, 0, 0, 0, 0, 0, 0, 0, 0, 0, 0, 0, 0, 0, 0, 0, 0, 0, 0, 0, 0, 0, 0, 0, 0, 0, 0, 0, 0, 0, 0, 0, 0, 0, 0, 0, 0, 0, 0, 0, 0, 0, 0, 0, 0, 0, 0, 0, 0, 0, 0, 0, 0, 0, 0, 0, 0, 0, 0, 0, 0, 0, 0, 0, 0, 0, 0, 0, 0, 0, 0, 0, 0, 0, 0, 0, 0, 0, 0, 0, 0, 0, 0, 0, 0, 0, 0, 0, 0, 0, 0, 0, 0, 0, 0, 0, 2, 0, 1, 0], type: <class 'list'>, valid types: <class 'bytes'>, <class 'bytearray'>, file-like object",
     "output_type": "error",
     "traceback": [
      "\u001b[0;31m---------------------------------------------------------------------------\u001b[0m",
      "\u001b[0;31mParamValidationError\u001b[0m                      Traceback (most recent call last)",
      "\u001b[0;32m<ipython-input-46-c9ab54ae3a48>\u001b[0m in \u001b[0;36m<module>\u001b[0;34m\u001b[0m\n\u001b[1;32m      1\u001b[0m response = runtime.invoke_endpoint(EndpointName = xgb_predictor.endpoint, # The name of the endpoint we created\n\u001b[1;32m      2\u001b[0m                                        \u001b[0mContentType\u001b[0m \u001b[0;34m=\u001b[0m \u001b[0;34m'text/csv'\u001b[0m\u001b[0;34m,\u001b[0m                     \u001b[0;31m# The data format that is expected\u001b[0m\u001b[0;34m\u001b[0m\u001b[0;34m\u001b[0m\u001b[0m\n\u001b[0;32m----> 3\u001b[0;31m                                        Body = test_bow)\n\u001b[0m",
      "\u001b[0;32m~/anaconda3/envs/pytorch_p36/lib/python3.6/site-packages/botocore/client.py\u001b[0m in \u001b[0;36m_api_call\u001b[0;34m(self, *args, **kwargs)\u001b[0m\n\u001b[1;32m    413\u001b[0m                     \"%s() only accepts keyword arguments.\" % py_operation_name)\n\u001b[1;32m    414\u001b[0m             \u001b[0;31m# The \"self\" in this scope is referring to the BaseClient.\u001b[0m\u001b[0;34m\u001b[0m\u001b[0;34m\u001b[0m\u001b[0;34m\u001b[0m\u001b[0m\n\u001b[0;32m--> 415\u001b[0;31m             \u001b[0;32mreturn\u001b[0m \u001b[0mself\u001b[0m\u001b[0;34m.\u001b[0m\u001b[0m_make_api_call\u001b[0m\u001b[0;34m(\u001b[0m\u001b[0moperation_name\u001b[0m\u001b[0;34m,\u001b[0m \u001b[0mkwargs\u001b[0m\u001b[0;34m)\u001b[0m\u001b[0;34m\u001b[0m\u001b[0;34m\u001b[0m\u001b[0m\n\u001b[0m\u001b[1;32m    416\u001b[0m \u001b[0;34m\u001b[0m\u001b[0m\n\u001b[1;32m    417\u001b[0m         \u001b[0m_api_call\u001b[0m\u001b[0;34m.\u001b[0m\u001b[0m__name__\u001b[0m \u001b[0;34m=\u001b[0m \u001b[0mstr\u001b[0m\u001b[0;34m(\u001b[0m\u001b[0mpy_operation_name\u001b[0m\u001b[0;34m)\u001b[0m\u001b[0;34m\u001b[0m\u001b[0;34m\u001b[0m\u001b[0m\n",
      "\u001b[0;32m~/anaconda3/envs/pytorch_p36/lib/python3.6/site-packages/botocore/client.py\u001b[0m in \u001b[0;36m_make_api_call\u001b[0;34m(self, operation_name, api_params)\u001b[0m\n\u001b[1;32m    714\u001b[0m         }\n\u001b[1;32m    715\u001b[0m         request_dict = self._convert_to_request_dict(\n\u001b[0;32m--> 716\u001b[0;31m             api_params, operation_model, context=request_context)\n\u001b[0m\u001b[1;32m    717\u001b[0m         \u001b[0mresolve_checksum_context\u001b[0m\u001b[0;34m(\u001b[0m\u001b[0mrequest_dict\u001b[0m\u001b[0;34m,\u001b[0m \u001b[0moperation_model\u001b[0m\u001b[0;34m,\u001b[0m \u001b[0mapi_params\u001b[0m\u001b[0;34m)\u001b[0m\u001b[0;34m\u001b[0m\u001b[0;34m\u001b[0m\u001b[0m\n\u001b[1;32m    718\u001b[0m \u001b[0;34m\u001b[0m\u001b[0m\n",
      "\u001b[0;32m~/anaconda3/envs/pytorch_p36/lib/python3.6/site-packages/botocore/client.py\u001b[0m in \u001b[0;36m_convert_to_request_dict\u001b[0;34m(self, api_params, operation_model, context)\u001b[0m\n\u001b[1;32m    764\u001b[0m             api_params, operation_model, context)\n\u001b[1;32m    765\u001b[0m         request_dict = self._serializer.serialize_to_request(\n\u001b[0;32m--> 766\u001b[0;31m             api_params, operation_model)\n\u001b[0m\u001b[1;32m    767\u001b[0m         \u001b[0;32mif\u001b[0m \u001b[0;32mnot\u001b[0m \u001b[0mself\u001b[0m\u001b[0;34m.\u001b[0m\u001b[0m_client_config\u001b[0m\u001b[0;34m.\u001b[0m\u001b[0minject_host_prefix\u001b[0m\u001b[0;34m:\u001b[0m\u001b[0;34m\u001b[0m\u001b[0;34m\u001b[0m\u001b[0m\n\u001b[1;32m    768\u001b[0m             \u001b[0mrequest_dict\u001b[0m\u001b[0;34m.\u001b[0m\u001b[0mpop\u001b[0m\u001b[0;34m(\u001b[0m\u001b[0;34m'host_prefix'\u001b[0m\u001b[0;34m,\u001b[0m \u001b[0;32mNone\u001b[0m\u001b[0;34m)\u001b[0m\u001b[0;34m\u001b[0m\u001b[0;34m\u001b[0m\u001b[0m\n",
      "\u001b[0;32m~/anaconda3/envs/pytorch_p36/lib/python3.6/site-packages/botocore/validate.py\u001b[0m in \u001b[0;36mserialize_to_request\u001b[0;34m(self, parameters, operation_model)\u001b[0m\n\u001b[1;32m    357\u001b[0m                                                     operation_model.input_shape)\n\u001b[1;32m    358\u001b[0m             \u001b[0;32mif\u001b[0m \u001b[0mreport\u001b[0m\u001b[0;34m.\u001b[0m\u001b[0mhas_errors\u001b[0m\u001b[0;34m(\u001b[0m\u001b[0;34m)\u001b[0m\u001b[0;34m:\u001b[0m\u001b[0;34m\u001b[0m\u001b[0;34m\u001b[0m\u001b[0m\n\u001b[0;32m--> 359\u001b[0;31m                 \u001b[0;32mraise\u001b[0m \u001b[0mParamValidationError\u001b[0m\u001b[0;34m(\u001b[0m\u001b[0mreport\u001b[0m\u001b[0;34m=\u001b[0m\u001b[0mreport\u001b[0m\u001b[0;34m.\u001b[0m\u001b[0mgenerate_report\u001b[0m\u001b[0;34m(\u001b[0m\u001b[0;34m)\u001b[0m\u001b[0;34m)\u001b[0m\u001b[0;34m\u001b[0m\u001b[0;34m\u001b[0m\u001b[0m\n\u001b[0m\u001b[1;32m    360\u001b[0m         return self._serializer.serialize_to_request(parameters,\n\u001b[1;32m    361\u001b[0m                                                      operation_model)\n",
      "\u001b[0;31mParamValidationError\u001b[0m: Parameter validation failed:\nInvalid type for parameter Body, value: [0, 0, 0, 0, 0, 0, 0, 0, 0, 0, 0, 0, 0, 0, 0, 0, 0, 0, 0, 0, 0, 0, 0, 0, 0, 0, 0, 0, 0, 0, 0, 0, 0, 0, 0, 0, 0, 0, 0, 0, 0, 0, 0, 0, 0, 0, 0, 0, 0, 0, 0, 0, 0, 0, 0, 0, 0, 0, 0, 0, 0, 0, 0, 0, 0, 0, 0, 0, 0, 0, 0, 0, 0, 0, 0, 0, 0, 0, 0, 0, 0, 0, 0, 0, 0, 0, 0, 0, 0, 0, 0, 0, 0, 0, 0, 0, 0, 0, 0, 0, 0, 0, 0, 0, 0, 0, 0, 0, 0, 0, 0, 0, 0, 0, 0, 0, 0, 0, 0, 0, 0, 0, 0, 0, 0, 0, 0, 0, 0, 0, 0, 0, 0, 0, 0, 0, 0, 0, 0, 0, 0, 0, 0, 0, 0, 0, 0, 0, 0, 0, 0, 0, 0, 0, 0, 0, 0, 0, 0, 0, 0, 0, 0, 0, 0, 0, 0, 0, 0, 0, 0, 0, 0, 0, 0, 0, 0, 0, 0, 0, 0, 0, 0, 0, 0, 0, 0, 0, 0, 0, 0, 0, 0, 0, 0, 0, 0, 0, 0, 0, 0, 0, 0, 0, 0, 0, 0, 0, 0, 0, 0, 0, 0, 0, 0, 0, 0, 0, 0, 0, 0, 0, 0, 0, 0, 0, 1, 0, 0, 0, 0, 0, 0, 0, 0, 0, 0, 0, 0, 0, 0, 0, 0, 0, 0, 0, 0, 0, 0, 0, 0, 0, 0, 0, 0, 0, 1, 0, 0, 0, 0, 0, 0, 0, 0, 0, 0, 0, 0, 0, 0, 0, 0, 0, 0, 0, 0, 0, 0, 0, 0, 0, 0, 0, 0, 0, 0, 0, 0, 0, 0, 0, 0, 0, 0, 0, 0, 0, 0, 0, 0, 0, 0, 0, 0, 0, 0, 0, 0, 0, 0, 0, 0, 0, 0, 0, 0, 0, 0, 0, 0, 0, 0, 0, 0, 0, 0, 0, 0, 0, 0, 0, 0, 0, 0, 0, 0, 0, 0, 0, 0, 0, 0, 0, 0, 0, 0, 0, 0, 0, 0, 0, 0, 0, 0, 0, 0, 0, 0, 0, 0, 0, 0, 0, 0, 0, 0, 0, 0, 0, 0, 0, 0, 0, 0, 0, 0, 0, 0, 0, 0, 0, 0, 0, 0, 0, 0, 0, 0, 0, 0, 0, 0, 0, 0, 0, 0, 0, 0, 0, 0, 0, 0, 0, 0, 0, 0, 0, 0, 0, 0, 0, 0, 0, 0, 0, 0, 0, 0, 0, 0, 0, 0, 0, 0, 0, 0, 0, 0, 0, 0, 0, 0, 0, 0, 0, 0, 0, 0, 0, 0, 0, 0, 0, 0, 0, 0, 0, 0, 0, 0, 0, 0, 0, 0, 0, 0, 0, 0, 0, 0, 0, 0, 0, 0, 0, 0, 0, 0, 0, 0, 0, 0, 0, 0, 0, 0, 0, 0, 0, 0, 0, 0, 0, 0, 0, 0, 0, 0, 0, 0, 0, 0, 0, 0, 0, 0, 0, 0, 0, 0, 0, 0, 0, 0, 0, 0, 0, 0, 0, 0, 0, 0, 0, 0, 0, 0, 0, 0, 0, 0, 0, 0, 0, 0, 0, 0, 0, 0, 0, 0, 0, 0, 0, 0, 0, 0, 0, 0, 0, 0, 0, 0, 0, 0, 0, 0, 0, 0, 0, 0, 0, 0, 0, 0, 0, 0, 0, 0, 0, 0, 0, 0, 0, 0, 0, 0, 0, 0, 0, 0, 0, 0, 0, 0, 0, 0, 0, 0, 0, 0, 0, 0, 0, 0, 0, 0, 0, 0, 0, 0, 0, 0, 0, 0, 0, 0, 0, 0, 0, 0, 0, 0, 0, 0, 0, 0, 0, 0, 0, 0, 0, 0, 0, 0, 0, 0, 0, 0, 0, 0, 0, 0, 0, 0, 0, 0, 0, 0, 0, 0, 0, 0, 0, 0, 0, 1, 0, 0, 0, 0, 0, 0, 0, 0, 0, 0, 0, 0, 0, 0, 0, 0, 0, 0, 0, 0, 0, 0, 0, 0, 0, 0, 0, 0, 0, 0, 0, 0, 0, 0, 0, 0, 0, 0, 0, 0, 0, 0, 0, 0, 0, 0, 0, 0, 0, 0, 0, 0, 0, 0, 0, 0, 0, 0, 0, 0, 0, 0, 0, 0, 0, 0, 0, 0, 0, 0, 0, 0, 0, 0, 0, 0, 0, 0, 0, 0, 0, 0, 0, 0, 0, 0, 0, 0, 0, 0, 0, 0, 0, 0, 0, 0, 0, 0, 0, 0, 0, 0, 0, 0, 0, 0, 0, 0, 0, 0, 0, 0, 0, 0, 0, 0, 0, 0, 0, 0, 0, 0, 0, 0, 0, 0, 0, 0, 0, 0, 0, 0, 0, 0, 0, 0, 0, 0, 0, 0, 0, 0, 0, 0, 0, 0, 0, 0, 0, 0, 0, 0, 0, 0, 0, 0, 0, 0, 0, 0, 0, 0, 0, 0, 0, 0, 0, 0, 0, 0, 0, 0, 0, 0, 0, 0, 0, 0, 0, 0, 0, 0, 0, 0, 0, 0, 0, 0, 0, 0, 0, 0, 0, 0, 0, 0, 0, 0, 0, 0, 0, 0, 0, 0, 0, 0, 0, 0, 0, 0, 0, 0, 0, 0, 0, 0, 0, 0, 0, 0, 0, 0, 0, 0, 0, 0, 0, 0, 0, 0, 0, 0, 0, 0, 0, 0, 0, 0, 0, 0, 0, 0, 0, 0, 0, 0, 0, 0, 0, 0, 0, 0, 0, 1, 0, 0, 0, 0, 0, 0, 0, 0, 0, 0, 0, 0, 0, 0, 0, 0, 0, 0, 0, 0, 0, 0, 0, 0, 0, 0, 0, 0, 0, 0, 0, 0, 0, 0, 0, 0, 0, 0, 0, 0, 0, 0, 0, 0, 0, 0, 0, 0, 0, 0, 0, 0, 0, 0, 0, 0, 0, 0, 0, 0, 0, 0, 0, 0, 0, 0, 0, 0, 0, 0, 0, 0, 0, 0, 0, 0, 0, 0, 0, 0, 0, 0, 0, 0, 0, 0, 1, 0, 0, 0, 0, 0, 0, 0, 0, 0, 0, 0, 0, 0, 0, 0, 0, 0, 0, 0, 0, 0, 0, 0, 0, 0, 0, 0, 0, 0, 0, 0, 0, 0, 0, 0, 0, 0, 0, 0, 0, 0, 0, 0, 0, 0, 0, 0, 0, 0, 0, 0, 0, 0, 0, 0, 0, 0, 0, 0, 0, 0, 0, 0, 0, 0, 0, 0, 0, 0, 0, 0, 0, 0, 0, 0, 0, 0, 0, 0, 0, 0, 0, 0, 0, 0, 0, 0, 0, 0, 0, 0, 0, 0, 0, 0, 0, 0, 0, 0, 0, 0, 0, 0, 0, 0, 0, 0, 0, 0, 0, 0, 0, 0, 0, 0, 0, 0, 0, 0, 0, 0, 0, 0, 0, 0, 0, 0, 0, 0, 0, 0, 0, 0, 0, 0, 0, 0, 0, 0, 0, 0, 0, 0, 0, 0, 0, 0, 0, 0, 0, 0, 0, 0, 0, 0, 0, 0, 0, 0, 0, 0, 0, 0, 0, 0, 0, 0, 0, 0, 0, 0, 0, 0, 0, 0, 0, 0, 0, 0, 0, 0, 0, 0, 0, 0, 0, 0, 0, 0, 0, 0, 0, 0, 0, 0, 0, 0, 0, 0, 0, 0, 0, 0, 0, 0, 0, 0, 0, 0, 0, 0, 0, 0, 0, 0, 0, 0, 0, 0, 0, 0, 0, 0, 0, 0, 0, 0, 0, 0, 0, 0, 0, 0, 0, 0, 0, 0, 0, 0, 0, 0, 0, 0, 0, 0, 0, 0, 0, 0, 0, 0, 0, 1, 0, 0, 0, 0, 0, 0, 0, 0, 0, 0, 0, 0, 0, 0, 0, 0, 0, 0, 0, 0, 0, 0, 0, 0, 0, 0, 0, 0, 0, 0, 0, 0, 0, 0, 0, 0, 0, 0, 0, 0, 0, 0, 0, 0, 0, 0, 0, 0, 0, 0, 0, 0, 0, 0, 0, 1, 0, 0, 0, 0, 0, 0, 0, 0, 0, 0, 0, 0, 0, 0, 0, 0, 0, 0, 0, 0, 0, 0, 0, 0, 0, 0, 0, 0, 0, 0, 0, 0, 0, 0, 0, 0, 0, 0, 0, 0, 0, 0, 0, 0, 0, 0, 0, 0, 0, 0, 0, 0, 0, 0, 0, 0, 0, 0, 0, 0, 0, 0, 0, 0, 0, 0, 0, 0, 0, 0, 0, 0, 0, 0, 0, 0, 0, 0, 0, 0, 0, 0, 0, 0, 0, 0, 0, 0, 0, 0, 0, 0, 0, 0, 0, 0, 0, 0, 0, 0, 0, 0, 0, 0, 0, 0, 0, 0, 0, 0, 0, 0, 0, 0, 0, 0, 0, 0, 0, 0, 0, 0, 0, 0, 0, 0, 0, 0, 0, 0, 0, 0, 0, 0, 0, 0, 0, 0, 0, 0, 0, 0, 0, 0, 0, 0, 0, 0, 0, 0, 0, 0, 0, 0, 0, 0, 0, 0, 0, 0, 0, 0, 0, 0, 0, 0, 0, 0, 0, 0, 0, 0, 0, 0, 0, 0, 0, 0, 0, 0, 0, 0, 0, 0, 0, 0, 0, 0, 0, 0, 0, 0, 0, 0, 0, 0, 0, 0, 0, 0, 0, 0, 0, 0, 0, 0, 0, 0, 0, 0, 0, 0, 0, 0, 0, 0, 0, 0, 0, 0, 0, 0, 0, 0, 0, 0, 0, 0, 0, 0, 0, 0, 0, 0, 0, 0, 0, 0, 0, 0, 0, 0, 0, 0, 0, 0, 0, 0, 0, 0, 0, 0, 0, 0, 0, 0, 0, 0, 0, 0, 0, 0, 0, 0, 0, 0, 0, 0, 0, 0, 0, 0, 0, 0, 0, 0, 0, 0, 0, 0, 0, 0, 0, 0, 0, 0, 0, 0, 0, 0, 0, 0, 0, 0, 0, 0, 0, 0, 0, 0, 0, 0, 0, 0, 0, 0, 0, 0, 0, 0, 0, 0, 0, 0, 0, 0, 0, 0, 0, 0, 0, 0, 0, 0, 0, 0, 0, 0, 0, 0, 0, 0, 0, 0, 0, 0, 0, 0, 0, 0, 0, 0, 0, 0, 0, 0, 0, 0, 0, 0, 0, 0, 0, 0, 0, 0, 0, 0, 0, 0, 0, 0, 0, 0, 0, 0, 0, 0, 0, 0, 0, 0, 0, 0, 0, 0, 0, 0, 0, 0, 0, 0, 0, 0, 0, 0, 0, 0, 0, 0, 0, 0, 0, 0, 0, 0, 0, 0, 0, 0, 0, 0, 0, 0, 0, 0, 0, 0, 0, 0, 0, 0, 0, 0, 0, 0, 0, 0, 0, 0, 0, 0, 0, 0, 0, 0, 0, 0, 0, 0, 0, 0, 0, 0, 0, 0, 0, 0, 0, 0, 0, 0, 0, 0, 0, 0, 0, 0, 0, 0, 0, 0, 0, 0, 0, 0, 0, 0, 0, 0, 0, 0, 0, 0, 0, 0, 0, 0, 0, 0, 0, 0, 0, 0, 0, 0, 0, 0, 0, 0, 0, 0, 0, 0, 0, 0, 0, 0, 0, 0, 0, 0, 0, 0, 0, 0, 0, 0, 0, 0, 0, 0, 0, 0, 0, 0, 0, 0, 0, 0, 0, 0, 0, 0, 0, 0, 0, 0, 0, 0, 0, 0, 0, 0, 0, 0, 0, 0, 0, 0, 0, 0, 0, 0, 0, 0, 0, 0, 0, 0, 0, 0, 0, 0, 0, 0, 0, 0, 0, 0, 0, 0, 0, 0, 0, 0, 0, 0, 0, 0, 0, 0, 0, 0, 0, 0, 0, 0, 0, 0, 0, 0, 0, 0, 0, 0, 0, 0, 0, 0, 0, 0, 0, 0, 0, 0, 0, 0, 0, 0, 0, 0, 0, 0, 0, 0, 0, 0, 0, 0, 0, 0, 0, 0, 0, 0, 0, 0, 0, 0, 0, 0, 0, 0, 0, 0, 0, 0, 0, 0, 0, 0, 0, 0, 0, 0, 0, 0, 0, 0, 0, 0, 0, 0, 0, 0, 0, 0, 0, 0, 0, 0, 0, 0, 0, 0, 0, 0, 0, 0, 0, 0, 0, 0, 0, 0, 0, 0, 0, 0, 0, 0, 0, 0, 0, 0, 0, 0, 0, 0, 0, 0, 0, 0, 0, 0, 0, 0, 0, 0, 0, 1, 0, 0, 0, 0, 0, 0, 0, 0, 0, 0, 0, 0, 0, 0, 0, 0, 0, 0, 0, 0, 0, 0, 0, 0, 0, 0, 0, 0, 0, 0, 0, 0, 0, 0, 0, 0, 0, 0, 0, 0, 0, 0, 0, 0, 0, 0, 0, 0, 0, 0, 0, 0, 0, 0, 0, 0, 0, 0, 0, 0, 0, 0, 0, 0, 0, 0, 0, 0, 0, 0, 0, 0, 0, 0, 1, 0, 0, 0, 0, 0, 0, 0, 0, 0, 0, 0, 0, 0, 0, 0, 0, 0, 0, 0, 0, 1, 0, 0, 1, 0, 0, 0, 0, 0, 0, 0, 0, 0, 0, 0, 0, 0, 0, 0, 0, 0, 0, 0, 0, 0, 0, 0, 0, 0, 0, 0, 0, 0, 0, 0, 0, 0, 0, 0, 0, 0, 0, 0, 0, 0, 0, 0, 0, 0, 0, 0, 0, 0, 0, 0, 0, 0, 0, 0, 0, 0, 0, 0, 0, 0, 0, 0, 0, 0, 0, 0, 0, 0, 0, 0, 0, 0, 0, 0, 0, 0, 0, 0, 0, 0, 0, 0, 0, 0, 0, 0, 0, 0, 0, 0, 0, 0, 0, 0, 0, 0, 0, 0, 0, 0, 0, 0, 0, 0, 0, 0, 0, 0, 0, 0, 0, 0, 0, 0, 0, 0, 0, 0, 0, 0, 0, 0, 0, 0, 0, 0, 0, 0, 0, 0, 0, 0, 0, 0, 0, 0, 0, 0, 0, 0, 0, 0, 0, 0, 0, 0, 0, 0, 0, 0, 0, 0, 0, 0, 0, 0, 0, 0, 0, 0, 0, 0, 0, 0, 0, 0, 0, 0, 0, 0, 0, 0, 0, 0, 0, 0, 0, 0, 0, 0, 0, 0, 0, 0, 0, 0, 0, 0, 0, 0, 0, 0, 0, 0, 0, 0, 0, 0, 0, 0, 0, 0, 0, 0, 0, 0, 0, 0, 0, 0, 0, 0, 0, 0, 0, 0, 0, 0, 0, 0, 0, 0, 0, 0, 0, 0, 0, 0, 0, 0, 0, 0, 0, 0, 0, 0, 0, 0, 0, 0, 0, 0, 0, 0, 0, 0, 0, 0, 0, 0, 0, 0, 0, 0, 0, 0, 0, 0, 0, 0, 0, 0, 0, 0, 0, 0, 0, 0, 0, 0, 0, 0, 0, 0, 0, 0, 0, 0, 0, 0, 0, 0, 0, 0, 0, 0, 0, 0, 0, 0, 0, 0, 0, 0, 0, 0, 0, 0, 0, 0, 0, 0, 0, 0, 0, 0, 0, 0, 0, 0, 0, 0, 0, 0, 0, 0, 0, 0, 0, 0, 0, 0, 0, 0, 0, 0, 0, 0, 0, 0, 0, 0, 0, 0, 0, 0, 0, 0, 0, 0, 0, 0, 0, 0, 0, 0, 0, 0, 0, 0, 0, 0, 0, 0, 0, 0, 0, 0, 0, 0, 0, 0, 0, 0, 0, 0, 0, 0, 0, 0, 0, 0, 0, 0, 0, 0, 0, 0, 0, 0, 0, 0, 0, 0, 0, 0, 0, 0, 0, 0, 0, 0, 0, 0, 0, 0, 0, 0, 0, 0, 0, 0, 0, 0, 0, 0, 0, 0, 0, 0, 0, 0, 0, 0, 0, 0, 0, 0, 0, 0, 0, 0, 0, 0, 0, 0, 0, 0, 0, 0, 0, 0, 0, 0, 0, 0, 0, 0, 0, 0, 0, 0, 0, 0, 0, 0, 0, 0, 0, 0, 0, 0, 0, 0, 0, 0, 0, 0, 0, 0, 0, 0, 0, 0, 0, 1, 0, 0, 0, 0, 0, 0, 0, 0, 0, 0, 0, 0, 0, 0, 0, 0, 0, 0, 0, 0, 0, 0, 0, 0, 0, 0, 0, 0, 0, 0, 0, 0, 0, 0, 0, 0, 0, 0, 0, 0, 0, 0, 0, 0, 0, 0, 0, 0, 0, 0, 0, 0, 0, 0, 0, 0, 0, 0, 0, 0, 0, 0, 0, 0, 0, 0, 0, 0, 0, 0, 0, 0, 0, 0, 0, 0, 0, 0, 0, 0, 0, 0, 0, 0, 0, 0, 0, 0, 0, 0, 0, 0, 0, 0, 0, 0, 0, 0, 0, 0, 0, 0, 0, 0, 0, 0, 0, 0, 0, 0, 0, 0, 0, 0, 0, 0, 0, 0, 0, 0, 0, 0, 0, 0, 0, 0, 0, 0, 0, 0, 0, 0, 0, 0, 0, 0, 0, 0, 0, 0, 0, 0, 0, 0, 0, 0, 0, 0, 0, 0, 0, 0, 0, 0, 0, 0, 0, 0, 0, 0, 0, 0, 0, 0, 0, 0, 0, 0, 0, 0, 0, 0, 0, 0, 0, 0, 0, 0, 0, 0, 0, 0, 0, 0, 0, 0, 0, 0, 0, 0, 0, 0, 0, 0, 0, 0, 0, 0, 0, 0, 0, 0, 0, 0, 0, 0, 0, 0, 0, 0, 0, 0, 0, 0, 0, 0, 0, 0, 0, 0, 0, 0, 0, 0, 0, 0, 0, 0, 0, 0, 0, 0, 0, 0, 0, 0, 0, 0, 0, 0, 0, 0, 0, 0, 0, 0, 0, 0, 0, 0, 0, 0, 0, 0, 0, 0, 0, 0, 0, 0, 0, 0, 0, 0, 0, 0, 0, 0, 0, 0, 0, 0, 0, 0, 0, 0, 0, 0, 0, 0, 0, 0, 0, 0, 0, 0, 0, 0, 0, 0, 0, 0, 0, 0, 0, 0, 0, 0, 0, 0, 0, 0, 0, 0, 0, 0, 0, 0, 0, 0, 0, 0, 0, 0, 0, 0, 0, 0, 0, 0, 0, 0, 0, 0, 0, 0, 0, 0, 0, 0, 0, 0, 0, 0, 0, 0, 0, 0, 0, 0, 0, 0, 0, 0, 0, 0, 0, 0, 0, 0, 0, 0, 0, 0, 0, 0, 0, 0, 0, 0, 0, 0, 0, 0, 0, 0, 0, 0, 0, 0, 0, 0, 0, 0, 0, 0, 0, 0, 0, 0, 0, 0, 0, 0, 0, 0, 0, 0, 0, 0, 0, 0, 0, 0, 0, 0, 0, 0, 0, 0, 0, 0, 0, 0, 0, 0, 0, 0, 0, 0, 0, 0, 0, 0, 0, 0, 0, 0, 0, 0, 0, 0, 0, 0, 0, 0, 0, 0, 0, 0, 0, 0, 0, 0, 0, 0, 0, 0, 0, 0, 0, 0, 0, 0, 0, 0, 0, 0, 0, 0, 0, 0, 0, 0, 0, 0, 0, 0, 0, 0, 0, 0, 0, 0, 0, 0, 0, 0, 0, 0, 0, 0, 0, 0, 0, 0, 0, 0, 0, 0, 0, 0, 0, 0, 0, 0, 0, 0, 0, 0, 0, 0, 0, 0, 0, 0, 0, 0, 0, 0, 0, 0, 0, 0, 0, 0, 0, 0, 0, 0, 0, 0, 1, 0, 0, 0, 0, 0, 0, 0, 0, 0, 0, 0, 0, 0, 0, 0, 0, 0, 0, 0, 0, 0, 0, 0, 0, 0, 0, 0, 0, 0, 0, 0, 0, 0, 0, 0, 2, 0, 0, 0, 0, 0, 0, 0, 0, 0, 0, 0, 0, 0, 0, 0, 0, 0, 0, 0, 0, 0, 0, 0, 0, 0, 0, 0, 0, 0, 0, 0, 0, 0, 0, 0, 0, 0, 0, 0, 0, 1, 0, 0, 0, 0, 0, 0, 0, 0, 0, 0, 0, 0, 0, 0, 0, 0, 0, 0, 0, 0, 0, 0, 0, 0, 0, 0, 0, 0, 0, 0, 0, 0, 0, 0, 0, 0, 0, 0, 0, 0, 0, 0, 0, 0, 0, 0, 0, 0, 0, 0, 0, 0, 0, 0, 0, 0, 0, 0, 0, 0, 0, 0, 0, 0, 0, 0, 0, 0, 0, 0, 0, 0, 0, 0, 0, 0, 0, 0, 0, 0, 0, 0, 0, 0, 0, 0, 0, 0, 0, 0, 0, 0, 0, 0, 0, 0, 0, 0, 0, 0, 0, 0, 0, 0, 0, 0, 0, 0, 0, 0, 0, 0, 0, 0, 0, 0, 0, 0, 0, 0, 0, 0, 0, 0, 0, 0, 0, 0, 0, 0, 0, 0, 0, 0, 0, 0, 0, 0, 0, 0, 0, 0, 0, 0, 0, 0, 0, 0, 0, 0, 0, 0, 0, 0, 0, 0, 0, 0, 0, 0, 0, 0, 0, 0, 0, 0, 0, 0, 0, 0, 0, 0, 0, 0, 0, 0, 0, 0, 0, 0, 0, 0, 0, 0, 0, 0, 0, 0, 0, 0, 0, 0, 0, 0, 0, 0, 0, 0, 0, 0, 0, 0, 0, 0, 0, 0, 0, 0, 0, 0, 0, 0, 0, 0, 0, 0, 0, 0, 0, 0, 0, 0, 0, 0, 0, 0, 0, 0, 0, 0, 0, 0, 0, 0, 0, 0, 0, 0, 0, 0, 0, 0, 0, 0, 0, 0, 0, 0, 0, 0, 0, 0, 0, 0, 0, 0, 0, 0, 0, 0, 0, 0, 0, 0, 0, 0, 0, 0, 0, 0, 0, 0, 0, 0, 0, 0, 0, 0, 0, 0, 0, 0, 0, 0, 0, 0, 0, 0, 0, 0, 0, 0, 0, 0, 0, 0, 0, 0, 0, 0, 0, 0, 0, 0, 0, 0, 0, 0, 0, 0, 0, 0, 0, 0, 0, 0, 0, 0, 0, 0, 0, 0, 0, 0, 0, 0, 0, 0, 0, 0, 0, 0, 0, 0, 0, 0, 0, 0, 0, 0, 0, 0, 0, 0, 0, 0, 0, 0, 0, 0, 0, 0, 0, 0, 0, 0, 0, 0, 0, 0, 0, 0, 0, 0, 0, 0, 0, 0, 0, 0, 0, 0, 0, 0, 0, 0, 0, 0, 0, 0, 0, 0, 0, 0, 0, 0, 0, 0, 0, 0, 0, 0, 0, 0, 0, 0, 0, 0, 0, 0, 0, 0, 0, 0, 0, 0, 0, 0, 0, 0, 0, 0, 0, 0, 0, 0, 0, 0, 0, 0, 0, 0, 0, 0, 0, 0, 0, 0, 0, 0, 0, 0, 0, 0, 0, 0, 0, 0, 0, 0, 0, 0, 0, 0, 0, 0, 0, 0, 0, 0, 0, 0, 0, 0, 0, 0, 0, 0, 0, 0, 0, 0, 0, 0, 0, 0, 0, 0, 0, 0, 0, 0, 0, 0, 0, 0, 0, 0, 0, 0, 0, 0, 0, 0, 0, 0, 0, 0, 0, 0, 0, 0, 0, 0, 0, 0, 0, 1, 0, 0, 0, 0, 0, 0, 0, 0, 0, 0, 0, 0, 0, 0, 0, 0, 0, 0, 0, 0, 0, 0, 0, 0, 0, 0, 0, 0, 0, 0, 0, 0, 0, 0, 0, 0, 0, 0, 0, 0, 0, 0, 0, 0, 0, 0, 0, 0, 0, 0, 0, 0, 0, 0, 0, 0, 0, 0, 0, 0, 0, 0, 0, 0, 0, 0, 0, 0, 0, 0, 0, 0, 0, 0, 0, 0, 0, 0, 0, 0, 0, 0, 0, 0, 0, 0, 0, 0, 0, 0, 0, 0, 0, 0, 0, 0, 0, 0, 0, 0, 0, 0, 0, 0, 0, 0, 0, 0, 0, 0, 2, 0, 0, 0, 0, 0, 0, 0, 0, 0, 0, 0, 0, 0, 0, 0, 0, 0, 0, 0, 0, 0, 0, 0, 0, 0, 0, 0, 0, 0, 0, 0, 0, 0, 0, 0, 0, 0, 0, 0, 0, 0, 0, 0, 0, 0, 0, 0, 0, 0, 0, 0, 0, 0, 0, 0, 0, 0, 0, 0, 0, 0, 0, 0, 0, 0, 0, 0, 0, 0, 0, 0, 0, 0, 0, 0, 0, 0, 0, 0, 0, 0, 0, 0, 0, 0, 0, 0, 0, 0, 0, 0, 0, 0, 0, 0, 0, 0, 0, 0, 0, 0, 0, 0, 0, 0, 0, 0, 0, 0, 0, 0, 0, 0, 0, 0, 0, 0, 0, 0, 0, 0, 0, 0, 0, 0, 0, 0, 0, 0, 0, 0, 0, 0, 0, 0, 0, 0, 0, 0, 0, 0, 0, 0, 0, 0, 0, 0, 0, 0, 0, 0, 0, 0, 0, 0, 0, 0, 0, 0, 0, 0, 0, 0, 0, 0, 0, 0, 0, 0, 0, 0, 0, 0, 0, 0, 0, 0, 0, 0, 0, 0, 0, 0, 0, 0, 0, 0, 0, 0, 0, 0, 0, 0, 0, 0, 0, 0, 0, 0, 0, 0, 0, 0, 0, 0, 0, 0, 0, 0, 0, 0, 0, 0, 0, 0, 0, 0, 0, 0, 0, 0, 0, 0, 0, 0, 0, 0, 0, 0, 0, 0, 0, 0, 0, 0, 0, 0, 0, 0, 0, 0, 0, 0, 0, 0, 0, 0, 0, 0, 0, 0, 0, 0, 0, 0, 0, 0, 0, 0, 0, 0, 0, 0, 0, 0, 0, 0, 0, 0, 0, 0, 0, 0, 0, 0, 0, 0, 0, 0, 0, 0, 0, 0, 0, 0, 0, 0, 0, 0, 0, 0, 0, 0, 0, 0, 0, 0, 0, 0, 0, 0, 0, 0, 0, 0, 0, 0, 0, 0, 0, 0, 0, 0, 0, 0, 0, 0, 0, 0, 0, 0, 0, 0, 0, 0, 0, 0, 0, 0, 0, 0, 0, 0, 0, 0, 0, 0, 0, 0, 0, 0, 0, 0, 0, 0, 0, 0, 0, 0, 0, 0, 0, 0, 0, 0, 0, 0, 0, 0, 0, 0, 0, 0, 0, 0, 0, 0, 0, 0, 0, 0, 0, 0, 0, 0, 0, 0, 0, 0, 0, 0, 0, 0, 0, 0, 0, 0, 0, 0, 0, 0, 0, 0, 0, 0, 0, 0, 0, 0, 0, 0, 0, 0, 0, 0, 0, 0, 0, 0, 0, 0, 0, 0, 0, 0, 0, 0, 0, 0, 0, 0, 0, 0, 0, 0, 0, 0, 0, 0, 0, 0, 0, 0, 0, 0, 0, 0, 0, 0, 0, 0, 0, 0, 0, 0, 0, 0, 0, 0, 0, 0, 0, 0, 0, 0, 0, 0, 0, 0, 0, 0, 0, 0, 0, 0, 0, 0, 0, 0, 0, 0, 0, 0, 0, 0, 0, 0, 0, 0, 0, 0, 0, 0, 0, 0, 0, 0, 0, 0, 0, 0, 0, 0, 0, 0, 0, 0, 0, 0, 0, 0, 0, 0, 0, 0, 0, 0, 0, 0, 0, 0, 0, 0, 0, 0, 0, 0, 0, 0, 0, 0, 0, 0, 0, 0, 0, 0, 0, 0, 0, 0, 0, 0, 0, 0, 0, 0, 0, 0, 0, 0, 0, 0, 0, 0, 0, 0, 0, 0, 0, 0, 0, 0, 0, 0, 0, 0, 0, 0, 0, 0, 0, 0, 0, 0, 0, 0, 0, 0, 0, 0, 0, 0, 0, 0, 0, 0, 0, 0, 0, 0, 0, 0, 0, 0, 0, 0, 0, 0, 0, 0, 0, 0, 0, 0, 0, 0, 0, 0, 0, 0, 0, 0, 0, 0, 0, 0, 0, 0, 0, 0, 0, 0, 0, 0, 0, 0, 0, 0, 0, 0, 0, 0, 0, 0, 0, 0, 0, 0, 0, 0, 0, 0, 0, 0, 0, 0, 0, 0, 0, 0, 0, 0, 0, 0, 0, 0, 0, 0, 0, 0, 0, 0, 0, 0, 0, 0, 0, 0, 0, 0, 0, 0, 0, 0, 0, 0, 0, 0, 0, 0, 0, 0, 0, 0, 0, 0, 0, 0, 0, 0, 0, 0, 0, 0, 0, 0, 0, 0, 0, 1, 0, 0, 0, 0, 0, 0, 0, 0, 0, 0, 0, 0, 0, 0, 0, 0, 0, 0, 0, 0, 0, 0, 0, 0, 0, 0, 0, 0, 0, 0, 0, 0, 0, 0, 0, 0, 0, 0, 0, 0, 0, 0, 0, 0, 0, 0, 0, 0, 0, 0, 0, 0, 0, 0, 0, 0, 0, 0, 0, 0, 0, 0, 0, 0, 0, 0, 0, 0, 0, 0, 0, 0, 0, 0, 0, 0, 0, 0, 0, 0, 0, 0, 0, 0, 0, 0, 0, 0, 0, 0, 0, 0, 0, 0, 0, 0, 0, 0, 0, 0, 0, 0, 0, 0, 0, 0, 0, 1, 0, 0, 0, 0, 0, 0, 0, 0, 0, 0, 0, 0, 0, 0, 0, 0, 0, 0, 0, 0, 0, 0, 0, 0, 0, 0, 0, 0, 0, 0, 0, 0, 0, 0, 0, 0, 0, 0, 0, 0, 0, 0, 0, 0, 0, 0, 0, 0, 0, 0, 0, 0, 0, 0, 0, 0, 0, 0, 0, 0, 0, 0, 0, 0, 0, 0, 0, 0, 0, 0, 0, 0, 0, 0, 0, 0, 0, 0, 0, 0, 0, 0, 0, 0, 0, 0, 0, 0, 0, 0, 0, 0, 0, 0, 0, 0, 0, 0, 0, 0, 0, 0, 0, 0, 0, 0, 0, 0, 0, 0, 0, 0, 0, 0, 0, 0, 0, 0, 0, 0, 0, 0, 0, 0, 0, 0, 0, 0, 0, 0, 0, 0, 0, 0, 0, 0, 0, 0, 0, 0, 0, 0, 0, 0, 0, 0, 0, 0, 0, 0, 0, 0, 0, 0, 0, 0, 0, 0, 0, 0, 0, 0, 0, 0, 0, 0, 0, 0, 0, 0, 0, 0, 0, 0, 0, 0, 0, 0, 0, 0, 0, 0, 0, 0, 0, 0, 0, 0, 0, 0, 0, 0, 0, 0, 0, 0, 0, 0, 0, 0, 0, 0, 0, 0, 0, 0, 0, 0, 0, 0, 0, 0, 0, 0, 0, 0, 0, 0, 0, 0, 0, 0, 0, 0, 0, 0, 0, 0, 0, 0, 0, 0, 0, 0, 0, 0, 0, 0, 0, 0, 0, 0, 0, 0, 0, 0, 0, 0, 0, 0, 0, 0, 0, 0, 0, 0, 0, 0, 0, 0, 0, 0, 0, 0, 0, 0, 0, 0, 0, 0, 0, 0, 0, 0, 0, 0, 0, 0, 0, 0, 0, 0, 0, 0, 0, 0, 0, 0, 0, 0, 0, 0, 0, 0, 0, 0, 0, 0, 0, 0, 0, 0, 0, 0, 0, 0, 0, 0, 0, 0, 0, 0, 0, 0, 0, 0, 0, 0, 0, 0, 0, 0, 0, 0, 0, 0, 0, 0, 0, 0, 0, 0, 0, 0, 0, 0, 0, 0, 0, 0, 0, 0, 0, 0, 0, 0, 0, 0, 0, 0, 0, 0, 0, 0, 0, 0, 0, 0, 0, 0, 0, 0, 0, 0, 0, 0, 0, 0, 0, 0, 0, 0, 0, 0, 0, 0, 0, 0, 0, 0, 0, 0, 0, 0, 0, 0, 0, 0, 0, 0, 0, 0, 0, 0, 0, 0, 0, 0, 0, 0, 0, 0, 0, 0, 0, 0, 0, 0, 0, 0, 0, 0, 0, 0, 0, 0, 0, 0, 0, 0, 0, 0, 0, 0, 0, 0, 0, 0, 0, 0, 0, 0, 0, 0, 0, 0, 0, 0, 0, 0, 0, 0, 0, 0, 0, 0, 0, 0, 0, 0, 0, 0, 0, 0, 0, 0, 0, 0, 0, 0, 0, 0, 0, 2, 0, 1, 0], type: <class 'list'>, valid types: <class 'bytes'>, <class 'bytearray'>, file-like object"
     ]
    }
   ],
   "source": [
    "response = runtime.invoke_endpoint(EndpointName = xgb_predictor.endpoint, # The name of the endpoint we created\n",
    "                                       ContentType = 'text/csv',                     # The data format that is expected\n",
    "                                       Body = test_bow)"
   ]
  },
  {
   "cell_type": "markdown",
   "metadata": {},
   "source": [
    "So why did we get an error?\n",
    "\n",
    "Because we tried to send the endpoint a list of integers but it expected us to send data of type `text/csv`. So, we need to convert it."
   ]
  },
  {
   "cell_type": "code",
   "execution_count": 47,
   "metadata": {},
   "outputs": [],
   "source": [
    "response = runtime.invoke_endpoint(EndpointName = xgb_predictor.endpoint, # The name of the endpoint we created\n",
    "                                       ContentType = 'text/csv',                     # The data format that is expected\n",
    "                                       Body = ','.join([str(val) for val in test_bow]).encode('utf-8'))"
   ]
  },
  {
   "cell_type": "code",
   "execution_count": 48,
   "metadata": {},
   "outputs": [
    {
     "name": "stdout",
     "output_type": "stream",
     "text": [
      "{'ResponseMetadata': {'RequestId': '41ea27c3-8c16-4357-933a-ef55f5000fc7', 'HTTPStatusCode': 200, 'HTTPHeaders': {'x-amzn-requestid': '41ea27c3-8c16-4357-933a-ef55f5000fc7', 'x-amzn-invoked-production-variant': 'AllTraffic', 'date': 'Mon, 06 Jun 2022 09:48:18 GMT', 'content-type': 'text/csv; charset=utf-8', 'content-length': '19'}, 'RetryAttempts': 0}, 'ContentType': 'text/csv; charset=utf-8', 'InvokedProductionVariant': 'AllTraffic', 'Body': <botocore.response.StreamingBody object at 0x7f633b241978>}\n"
     ]
    }
   ],
   "source": [
    "print(response)"
   ]
  },
  {
   "cell_type": "markdown",
   "metadata": {},
   "source": [
    "As we can see, the response from our model is a somewhat complicated looking dict that contains a bunch of information. The bit that we are most interested in is `'Body'` object which is a streaming object that we need to `read` in order to make use of."
   ]
  },
  {
   "cell_type": "code",
   "execution_count": 49,
   "metadata": {},
   "outputs": [
    {
     "name": "stdout",
     "output_type": "stream",
     "text": [
      "0.44650498032569885\n"
     ]
    }
   ],
   "source": [
    "response = response['Body'].read().decode('utf-8')\n",
    "print(response)"
   ]
  },
  {
   "cell_type": "markdown",
   "metadata": {},
   "source": [
    "Now that we know how to process the incoming user data we can start setting up the infrastructure to make our simple web app work. To do this we will make use of two different services. Amazon's Lambda and API Gateway services.\n",
    "\n",
    "Lambda is a service which allows someone to write some relatively simple code and have it executed whenever a chosen trigger occurs. For example, you may want to update a database whenever new data is uploaded to a folder stored on S3.\n",
    "\n",
    "API Gateway is a service that allows you to create HTTP endpoints (url addresses) which are connected to other AWS services. One of the benefits to this is that you get to decide what credentials, if any, are required to access these endpoints.\n",
    "\n",
    "In our case we are going to set up an HTTP endpoint through API Gateway which is open to the public. Then, whenever anyone sends data to our public endpoint we will trigger a Lambda function which will send the input (in our case a review) to our model's endpoint and then return the result."
   ]
  },
  {
   "cell_type": "markdown",
   "metadata": {},
   "source": [
    "### Setting up a Lambda function\n",
    "\n",
    "The first thing we are going to do is set up a Lambda function. This Lambda function will be executed whenever our public API has data sent to it. When it is executed it will receive the data, perform any sort of processing that is required, send the data (the review) to the SageMaker endpoint we've created and then return the result.\n",
    "\n",
    "#### Part A: Create an IAM Role for the Lambda function\n",
    "\n",
    "Since we want the Lambda function to call a SageMaker endpoint, we need to make sure that it has permission to do so. To do this, we will construct a role that we can later give the Lambda function.\n",
    "\n",
    "Using the AWS Console, navigate to the **IAM** page and click on **Roles**. Then, click on **Create role**. Make sure that the **AWS service** is the type of trusted entity selected and choose **Lambda** as the service that will use this role, then click **Next: Permissions**.\n",
    "\n",
    "In the search box type `sagemaker` and select the check box next to the **AmazonSageMakerFullAccess** policy. Then, click on **Next: Review**.\n",
    "\n",
    "Lastly, give this role a name. Make sure you use a name that you will remember later on, for example `LambdaSageMakerRole`. Then, click on **Create role**."
   ]
  },
  {
   "cell_type": "markdown",
   "metadata": {},
   "source": [
    "#### Part B: Create a Lambda function\n",
    "\n",
    "Now it is time to actually create the Lambda function. Remember from earlier that in order to process the user provided input and send it to our endpoint we need to gather two pieces of information:\n",
    "\n",
    " - The name of the endpoint, and\n",
    " - the vocabulary object.\n",
    "\n",
    "We will copy these pieces of information to our Lambda function after we create it.\n",
    "\n",
    "To start, using the AWS Console, navigate to the AWS Lambda page and click on **Create a function**. When you get to the next page, make sure that **Author from scratch** is selected. Now, name your Lambda function, using a name that you will remember later on, for example `sentiment_analysis_xgboost_func`. Make sure that the **Python 3.6** runtime is selected and then choose the role that you created in the previous part. Then, click on **Create Function**.\n",
    "\n",
    "On the next page you will see some information about the Lambda function you've just created. If you scroll down you should see an editor in which you can write the code that will be executed when your Lambda function is triggered. Collecting the code we wrote above to process a single review and adding it to the provided example `lambda_handler` we arrive at the following.\n",
    "\n",
    "```python\n",
    "# We need to use the low-level library to interact with SageMaker since the SageMaker API\n",
    "# is not available natively through Lambda.\n",
    "import boto3\n",
    "\n",
    "# And we need the regular expression library to do some of the data processing\n",
    "import re\n",
    "\n",
    "REPLACE_NO_SPACE = re.compile(\"(\\.)|(\\;)|(\\:)|(\\!)|(\\')|(\\?)|(\\,)|(\\\")|(\\()|(\\))|(\\[)|(\\])\")\n",
    "REPLACE_WITH_SPACE = re.compile(\"(<br\\s*/><br\\s*/>)|(\\-)|(\\/)\")\n",
    "\n",
    "def review_to_words(review):\n",
    "    words = REPLACE_NO_SPACE.sub(\"\", review.lower())\n",
    "    words = REPLACE_WITH_SPACE.sub(\" \", words)\n",
    "    return words\n",
    "    \n",
    "def bow_encoding(words, vocabulary):\n",
    "    bow = [0] * len(vocabulary) # Start by setting the count for each word in the vocabulary to zero.\n",
    "    for word in words.split():  # For each word in the string\n",
    "        if word in vocabulary:  # If the word is one that occurs in the vocabulary, increase its count.\n",
    "            bow[vocabulary[word]] += 1\n",
    "    return bow\n",
    "\n",
    "\n",
    "def lambda_handler(event, context):\n",
    "    \n",
    "    vocab = \"*** ACTUAL VOCABULARY GOES HERE ***\"\n",
    "    \n",
    "    words = review_to_words(event['body'])\n",
    "    bow = bow_encoding(words, vocab)\n",
    "\n",
    "    # The SageMaker runtime is what allows us to invoke the endpoint that we've created.\n",
    "    runtime = boto3.Session().client('sagemaker-runtime')\n",
    "\n",
    "    # Now we use the SageMaker runtime to invoke our endpoint, sending the review we were given\n",
    "    response = runtime.invoke_endpoint(EndpointName = '***ENDPOINT NAME HERE***',# The name of the endpoint we created\n",
    "                                       ContentType = 'text/csv',                 # The data format that is expected\n",
    "                                       Body = ','.join([str(val) for val in bow]).encode('utf-8')) # The actual review\n",
    "\n",
    "    # The response is an HTTP response whose body contains the result of our inference\n",
    "    result = response['Body'].read().decode('utf-8')\n",
    "    \n",
    "    # Round the result so that our web app only gets '1' or '0' as a response.\n",
    "    result = round(float(result))\n",
    "\n",
    "    return {\n",
    "        'statusCode' : 200,\n",
    "        'headers' : { 'Content-Type' : 'text/plain', 'Access-Control-Allow-Origin' : '*' },\n",
    "        'body' : str(result)\n",
    "    }\n",
    "```"
   ]
  },
  {
   "cell_type": "markdown",
   "metadata": {},
   "source": [
    "Once you have copy and pasted the code above into the Lambda code editor, replace the `**ENDPOINT NAME HERE**` portion with the name of the endpoint that we deployed earlier. You can determine the name of the endpoint using the code cell below."
   ]
  },
  {
   "cell_type": "code",
   "execution_count": 50,
   "metadata": {},
   "outputs": [
    {
     "data": {
      "text/plain": [
       "'xgboost-2022-06-06-09-18-59-310'"
      ]
     },
     "execution_count": 50,
     "metadata": {},
     "output_type": "execute_result"
    }
   ],
   "source": [
    "xgb_predictor.endpoint"
   ]
  },
  {
   "cell_type": "markdown",
   "metadata": {},
   "source": [
    "In addition, you will need to copy the vocabulary dict to the appropriate place in the code at the beginning of the `lambda_handler` method. The cell below prints out the vocabulary dict in a way that is easy to copy and paste."
   ]
  },
  {
   "cell_type": "code",
   "execution_count": 51,
   "metadata": {},
   "outputs": [
    {
     "name": "stdout",
     "output_type": "stream",
     "text": [
      "{'when': 4862, 'you': 4986, 'have': 2052, 'an': 223, 'empty': 1465, 'mansion': 2731, 'wife': 4884, 'and': 226, 'throw': 4479, 'in': 2257, 'his': 2118, 'what': 4858, 'got': 1944, 'answer': 251, 'to': 4507, 'the': 4426, 'screaming': 3827, 'gets': 1900, 'points': 3319, 'for': 1784, 'offering': 3089, 'free': 1827, 'anyone': 259, 'who': 4871, 'dies': 1245, 'of': 3083, 'from': 1840, 'watching': 4815, 'film': 1716, 'pretty': 3384, 'safe': 3771, 'bet': 470, 'youre': 4992, 'into': 2332, 'by': 642, 'people': 3221, 'think': 4452, 'theyre': 4445, 'production': 3419, 'suspense': 4330, 'but': 636, 'was': 4805, 'anyway': 261, 'she': 3923, 'had': 2003, 'few': 1700, 'good': 1937, 'moments': 2887, 'acting': 99, 'here': 2086, 'there': 4438, 'especially': 1520, 'trying': 4601, 'with': 4911, 'no': 3020, 'one': 3107, 'else': 1448, 'like': 2599, 'that': 4424, 'scared': 3805, 'face': 1616, 'makes': 2716, 'scary': 3807, 'itself': 2371, 'as': 311, 'whole': 4873, 'though': 4461, 'is': 2360, 'little': 2624, 'everything': 1544, 'punch': 3466, 'thrown': 4481, 'cant': 671, 'be': 418, 'this': 4457, 'its': 2370, 'impossible': 2249, 'it': 2366, 'has': 2043, 'not': 3040, 'enough': 1491, 'them': 4432, 'however': 2183, 'thanks': 4423, 'certain': 737, 'mike': 2838, 'nelson': 2997, 'two': 4620, 'robot': 3717, 'are': 285, 'several': 3905, 'pure': 3471, 'joy': 2422, 'copy': 994, 'they': 4442, 'hold': 2129, 'jumped': 2430, 'really': 3556, 'star': 4150, 'eight': 1436, 'half': 2007, 'mst3k': 2932, 'version': 4720, 'talk': 4358, 'about': 67, 'bore': 540, 'films': 1721, 'left': 2561, 'me': 2778, 'such': 4268, 'feeling': 1685, 'since': 3990, 'saw': 3798, 'theater': 4427, 'how': 2181, 'ended': 1470, 'can': 665, 'only': 3110, 'wonder': 4926, '90': 60, 'garbage': 1870, 'main': 2707, 'impression': 2252, 'being': 448, 'bit': 488, 'other': 3135, 'sick': 3963, 'movie': 2926, 'dont': 1324, 'phone': 3255, 'worse': 4951, 'all': 187, 'rape': 3521, 'shown': 3959, 'without': 4913, 'any': 256, 'distance': 1294, 'unlike': 4670, 'strong': 4229, 'stuff': 4243, 'last': 2521, 'house': 2178, 'on': 3105, 'utter': 4701, 'perfect': 3224, 'victims': 4730, 'everybody': 1540, 'involved': 2346, 'leaving': 2557, 'viewer': 4738, 'treated': 4573, 'sadistic': 3768, 'at': 331, 'end': 1468, 'felt': 1692, 'taking': 4352, 'shower': 3957, 'credits': 1050, 'director': 1264, 'theres': 4440, 'first': 1736, 'commercial': 902, 'product': 3418, 'adaptation': 113, 'popular': 3333, 'cast': 710, 'young': 4989, 'attractive': 351, 'actors': 104, 'certainly': 738, 'wasnt': 4807, 'lacking': 2504, 'budget': 610, 'department': 1182, 'yet': 4984, 'more': 2904, 'than': 4420, 'entertained': 1498, 'enjoyed': 1486, 'immensely': 2243, 'lacks': 2505, 'just': 2437, 'made': 2697, 'original': 3129, 'so': 4046, 'wonderful': 4928, 'thing': 4450, 'should': 3951, 'set': 3898, 'absence': 70, 'superb': 4296, 'him': 2110, 'he': 2056, 'seemed': 3862, 'take': 4349, 'own': 3158, 'visual': 4757, 'style': 4249, 'beauty': 430, 'most': 2909, 'importantly': 2248, 'heart': 2064, 'while': 4868, 'simple': 3983, 'plot': 3309, 'mess': 2818, 'story': 4207, 'too': 4522, 'many': 2732, 'dull': 1384, 'characters': 760, 'each': 1395, 'back': 378, 'times': 4497, 'potential': 3355, 'sympathy': 4343, 'or': 3124, 'gone': 1935, 'effective': 1429, 'between': 475, 'lead': 2545, 'her': 2085, 'often': 3095, 'reduced': 3579, 'bunch': 623, 'teenagers': 4391, 'forest': 1791, 'non': 3027, 'existent': 1572, 'if': 2222, 'actually': 109, 'cares': 690, 'lives': 2628, 'ill': 2228, 'shocked': 3939, 'same': 3778, 'villains': 4745, 'final': 1722, 'battle': 414, 'fact': 1621, 'battles': 415, 'completely': 922, 'devoid': 1230, 'sort': 4077, 'tension': 4404, 'poorly': 3329, 'choreographed': 801, 'directed': 1259, 'mention': 2810, 'far': 1653, 'their': 4431, 'sheer': 3925, 'themselves': 4435, 'try': 4600, 'hard': 2033, 'campy': 664, 'even': 1533, 'were': 4848, 'combined': 885, 'come': 886, 'within': 4912, 'country': 1014, 'mile': 2842, 'antics': 255, 'major': 2711, 'spoiler': 4123, 'tries': 4585, 'best': 469, 'said': 3774, 'also': 199, 'managed': 2723, 'keep': 2449, 'hair': 2005, 'condition': 937, 'now': 3054, 'fully': 1847, 'meaning': 2780, 'wave': 4818, 'sword': 4340, 'around': 297, 'slow': 4031, 'motion': 2913, 'unfortunately': 4654, 'character': 758, 'man': 2721, 'name': 2960, 'model': 2880, 'looks': 2649, 'become': 433, 'inappropriate': 2259, 'know': 2489, 'supposed': 4306, 'point': 3316, 'everyone': 1542, 'stupidity': 4248, 'general': 1880, 'means': 2783, 'downright': 1337, 'get': 1899, 'behind': 447, 'time': 4495, 'less': 2575, 'remember': 3616, 'kill': 2468, 'bill': 481, 'performance': 3228, 'better': 472, 'say': 3799, 'turn': 4605, 'evil': 1548, 'subtle': 4260, 'overall': 3150, 'disappointment': 1275, 'merits': 2817, 'does': 1308, 'done': 1322, 'ten': 4399, 'lazy': 2543, 'generally': 1881, 'boring': 543, 'before': 440, 'viewing': 4740, 'please': 3304, 'make': 2713, 'sure': 4308, 'seen': 3865, 'night': 3013, 'living': 2629, 'dead': 1132, 'might': 2835, 'well': 4843, 'minute': 2858, 'parody': 3192, 'ever': 1538, 'absurd': 73, 'crappy': 1032, 'special': 4097, 'effects': 1431, 'do': 1302, 'need': 2987, 'watch': 4811, 'eating': 1413, 'where': 4864, 'see': 3855, 'season': 3843, 'episodes': 1508, 'internet': 2327, 'because': 432, 'would': 4957, 'die': 1243, 'germany': 1898, 'wont': 4932, 'tv': 4610, 'help': 2079, 'wanna': 4786, 'badly': 383, 'already': 197, 'episode': 1507, '18': 10, 'couldnt': 1008, 'find': 1726, 'maybe': 2776, 'website': 4834, 'ive': 2372, 'read': 3543, 'some': 4061, 'comments': 901, 'which': 4867, 'havent': 2053, 'been': 438, 'am': 204, 'happy': 2032, 'every': 1539, 'information': 2288, 'kate': 2446, 'us': 4690, 'our': 3139, 'dreams': 1355, 'friends': 1837, 'fears': 1677, 'brilliant': 583, 'group': 1980, 'through': 4477, 'growing': 1983, 'up': 4683, 'small': 4033, 'town': 4541, 'significant': 3972, 'decades': 1145, 'century': 736, 'doesnt': 1309, 'sad': 3767, 'approach': 282, 'things': 4451, 'tells': 4397, 'could': 1007, 'experienced': 1581, 'happiness': 2031, 'excitement': 1562, 'sadness': 3770, 'power': 3359, 'we': 4823, 'grow': 1982, 'love': 2669, 'those': 4460, 'movies': 2927, 'will': 4886, 'over': 3148, 'again': 146, 'closer': 856, 'takes': 4351, 'place': 3282, 'hoping': 2160, 'day': 1129, 'able': 66, 'finally': 1724, 'walk': 4775, 'streets': 4217, 'next': 3007, 'listening': 2620, 'music': 2946, 'changed': 750, 'world': 4946, 'sound': 4081, 'old': 3100, 'radio': 3504, 'playing': 3300, 'international': 2326, 'laugh': 2529, 'cry': 1073, 'shock': 3938, 'give': 1912, 'personally': 3243, 'believe': 454, 'played': 3297, 'important': 2247, 'part': 3193, 'my': 2951, 'life': 2592, 'suggest': 4280, 'let': 2579, 'oh': 3096, 'god': 1926, 'horrible': 2163, 'meant': 2784, 'comment': 898, 'state': 4160, 'society': 4050, 'reflection': 3585, 'worst': 4952, 'reality': 3551, 'jason': 2383, 'jones': 2418, 'don': 1320, 'obnoxious': 3067, 'written': 4972, 'tone': 4517, 'perhaps': 3235, 'rather': 3528, 'these': 4441, 'mind': 2849, 'speak': 4094, 'camera': 659, 'dialogue': 1234, 'someone': 4064, 'insulting': 2310, 'speech': 4102, 'down': 1335, 'viewers': 4739, 'throat': 4476, 'filmmakers': 1720, 'long': 2644, 'quiet': 3492, 'scenes': 3811, 'equal': 1509, 'art': 304, 'neither': 2996, 'extreme': 1609, 'angles': 237, 'logic': 2638, 'stretched': 4222, 'out': 3141, 'interested': 2324, 'seriously': 3892, 'business': 633, 'usual': 4699, 'close': 853, 'big': 478, 'owner': 3159, 'staff': 4138, 'leave': 2555, 'modesty': 2883, 'charge': 761, 'suddenly': 4273, 'armed': 293, 'gangsters': 1869, 'storm': 4206, 'shooting': 3943, 'unknown': 4668, 'killed': 2469, 'after': 143, 'money': 2888, 'hidden': 2096, 'present': 3374, 'still': 4188, 'alive': 186, 'knows': 2493, 'code': 869, 'open': 3112, 'heavily': 2069, 'trapped': 4564, 'blow': 514, 'door': 1328, 'planned': 3290, 'finds': 1728, 'herself': 2092, 'eye': 1611, 'leader': 2546, 'game': 1864, 'review': 3676, 'connection': 946, 'media': 2789, 'nor': 3032, 'slightly': 4029, 'thought': 4462, 'thriller': 4472, 'action': 100, 'mentioned': 2811, 'filled': 1715, 'scene': 3809, 'innovative': 2295, 'intriguing': 2335, 'way': 4820, 'revealing': 3672, 'background': 380, 'doing': 1312, 'much': 2934, 'outside': 3146, 'earlier': 1399, 'almost': 193, 'pilot': 3276, 'series': 3890, 'indeed': 2271, 'used': 4693, 'introduce': 2336, 'disappointed': 1273, 'lack': 2502, 'instead': 2307, 'history': 2121, 'stars': 4155, 'did': 1241, 'very': 4723, 'portrays': 3344, 'carries': 699, 'talented': 4355, '10': 0, 'started': 4157, 'nick': 3012, 'cage': 645, 'kick': 2460, 'full': 1846, 'twists': 4619, 'turns': 4609, 'motives': 2916, 'moves': 2925, 'course': 1019, 'dennis': 1179, 'hopper': 2161, 'ham': 2011, 'laura': 2536, 'pair': 3176, 'catch': 714, 'fallen': 1638, 'web': 4833, 'cinematography': 820, 'pace': 3161, 'hero': 2088, 'caught': 722, 'warned': 4798, 'bad': 382, 'storyline': 4208, 'gruesome': 1986, 'settle': 3902, 'your': 4991, 'enjoy': 1484, 'begins': 444, 'party': 3200, 'average': 362, 'guy': 2000, 'hes': 2093, 'im': 2232, 'saying': 3800, 'itll': 2369, 'later': 2525, 'goes': 1930, 'george': 1893, 'didnt': 1242, 'thats': 4425, 'london': 2641, 'underground': 4640, 'middle': 2833, 'shes': 3930, 'stupid': 4247, 'says': 3801, 'train': 4556, 'minutes': 2859, 'dumb': 1385, 'girl': 1909, 'decides': 1150, 'spare': 4093, 'typically': 4624, 'misses': 2868, 'locked': 2637, 'alone': 194, 'blood': 512, 'guts': 1999, 'parts': 3199, 'body': 527, 'shall': 3916, 'eventually': 1537, 'short': 3946, 'typical': 4623, 'horror': 2168, 'thick': 4447, 'type': 4621, 'women': 4923, 'weird': 4841, 'psycho': 3457, 'case': 707, 'may': 2775, 'creep': 1051, 'id': 2212, 'go': 1924, 'texas': 4418, 'massacre': 2754, 'rest': 3657, 'scream': 3826, 'satisfy': 3790, 'needs': 2990, 'married': 2744, 'having': 2054, 'closest': 857, 'bar': 396, 'smooth': 4041, 'until': 4680, 'hat': 2045, 'off': 3084, 'talking': 4360, 'dancers': 1105, 'then': 4436, 'sleeping': 4025, 'exact': 1550, 'cousin': 1021, 'new': 3003, 'low': 2676, 'right': 3696, 'paul': 3214, 'lee': 2559, 'leads': 2548, 'experience': 1580, 'leading': 2547, 'roles': 3727, 'role': 3726, 'sky': 4017, 'acted': 98, 'named': 2961, 'karen': 2444, 'actress': 105, 'blair': 497, 'lovely': 2671, 'julia': 2427, 'getting': 1901, 'deal': 1135, 'problem': 3408, 'another': 250, 'play': 3296, 'lie': 2590, 'games': 1865, 'member': 2800, 'families': 1644, 'including': 2264, 'relatives': 3601, 'hasnt': 2044, 'movement': 2923, '14': 6, 'days': 1130, 'wedding': 4836, 'hilarious': 2106, 'hell': 2077, 'brother': 598, 'quite': 3495, 'funny': 1852, 'sometimes': 4067, 'seem': 3861, 'nowhere': 3056, 'tired': 4501, 'mixed': 2877, 'canadian': 667, 'fellow': 1691, 'fan': 1648, 'butt': 638, 'sitcom': 4004, 'corner': 996, 'gas': 1874, 'youd': 4987, 'recognize': 3569, 'fred': 1825, 'plays': 3301, 'hank': 2024, 'lees': 2560, 'rating': 3529, 'definitely': 1162, 'tedious': 4387, 'cheesy': 781, 'jokes': 2415, 'actor': 103, 'joke': 2414, 'beginning': 443, 'tim': 4494, 'butler': 637, 'disgusting': 1286, 'hand': 2015, 'always': 203, 'worthy': 4956, 'spoof': 4127, 'host': 2173, 'along': 195, 'stay': 4166, 'creepy': 1052, 'survive': 4321, 'bored': 541, 'stands': 4147, 'great': 1964, 'science': 3816, 'fiction': 1702, 'remarkable': 3613, 'start': 4156, 'second': 3846, 'war': 4792, 'year': 4978, 'real': 3547, 'depicting': 1184, 'nuclear': 3057, 'weapons': 4829, 'exist': 1569, 'hour': 2176, 'incredible': 2269, 'sight': 3969, 'making': 2718, 'use': 4692, 'models': 2881, 'genre': 1888, 'sci': 3815, 'fi': 1701, 'stereotype': 4178, 'wouldnt': 4958, 'broken': 594, 'space': 4090, '30': 42, 'years': 4979, 'theyd': 4443, 'stuck': 4237, 'quality': 3484, 'different': 1248, 'hollywood': 2137, 'raymond': 3534, 'co': 867, 'multiple': 2936, 'effect': 1428, 'doctor': 1304, 'advanced': 128, 'civilization': 827, 'win': 4892, 'minded': 2850, 'ralph': 3510, 'richardson': 3688, 'ultimately': 4628, 'covers': 1024, '100': 1, 'isnt': 2362, 'somewhat': 4068, 'reminiscent': 3621, 'conventional': 979, 'material': 2766, 'although': 201, 'visuals': 4759, 'third': 4455, 'picture': 3269, 'stunning': 4244, 'worth': 4953, 'price': 3389, 'ends': 1474, 'interesting': 2325, 'producers': 3416, 'thinking': 4453, 'future': 1856, 'sequel': 3885, 'serious': 3891, 'buff': 611, 'least': 2554, 'once': 3106, 'bear': 420, 'repeated': 3631, 'viewings': 4741, 'chance': 747, 'seeing': 3857, 'shocking': 3940, 'issues': 2365, 'opinion': 3118, 'piece': 3272, 'beautifully': 429, 'filmed': 1717, 'fine': 1729, 'styles': 4250, 'impressive': 2253, 'level': 2584, 'expect': 1575, 'bbc': 417, 'drama': 1346, 'press': 3379, 'convincing': 985, 'depressed': 1187, 'teenager': 4390, 'male': 2719, 'gives': 1914, 'knowledge': 2491, 'normal': 3033, 'timothy': 4499, 'surely': 4309, 'greatest': 1966, 'isolated': 2363, 'hotel': 2175, 'picks': 3268, 'twisted': 4618, 'ways': 4822, 'unfortunate': 4653, 'head': 2057, 'fire': 1734, 'mouth': 2920, 'eyes': 1613, 'hurt': 2202, 'ready': 3546, 'write': 4967, 'otherwise': 3137, 'competent': 917, 'finale': 1723, 'admit': 122, 'loved': 2670, 'ending': 1471, 'involves': 2348, 'boy': 557, 'toy': 4542, 'tape': 4365, 'linda': 2609, 'looking': 2648, 'possessed': 3347, 'youve': 4995, 'forgive': 1795, 'anything': 260, 'todd': 4510, 'mad': 2696, 'genius': 1887, 'realized': 3553, 'sense': 3877, 'humor': 2192, 'heads': 2059, 'disagree': 1269, 'regular': 3592, 'joe': 2407, 'confidence': 938, 'inspiration': 2300, 'yourself': 4993, 'festival': 1697, 'youll': 4988, 'glad': 1916, 'check': 777, 'single': 3996, 'scenario': 3808, 'hot': 2174, 'girls': 1911, 'ugly': 4625, 'early': 1400, '90s': 61, 'away': 369, 'week': 4837, 'together': 4511, 'amongst': 218, 'nobody': 3022, 'couple': 1016, 'werent': 4849, 'date': 1118, 'work': 4940, 'pick': 3265, 'tell': 4395, 'risk': 3704, 'losing': 2658, 'job': 2405, 'spend': 4105, 'cabin': 643, 'arent': 288, 'waste': 4808, 'home': 2142, 'jazz': 2387, 'treasure': 4571, 'classic': 835, 'showing': 3958, 'men': 2805, 'video': 4733, 'today': 4508, 'treat': 4572, 'person': 3238, 'marie': 2737, 'sings': 3997, 'side': 3965, 'street': 4216, 'never': 3001, 'heard': 2062, 'sing': 3992, 'sounds': 4084, 'remarkably': 3614, 'folks': 1771, 'black': 493, 'cinema': 816, 'fed': 1682, 'lot': 2661, 'white': 4870, 'stereotypes': 4179, 'watched': 4813, 'values': 4710, 'question': 3487, 'care': 684, 'reviewers': 3678, 'etc': 1527, 'listen': 2619, 'redemption': 3578, 'performances': 3229, 'john': 2409, 'jessica': 2398, 'size': 4012, 'breathtaking': 574, 'virtually': 4751, 'flawless': 1751, 'casting': 711, 'directing': 1260, 'writing': 4971, 'amazed': 208, 'top': 4525, '50': 51, 'imdb': 2240, 'must': 2950, 'awake': 365, 'pay': 3216, 'attention': 345, 'carefully': 689, 'longer': 2645, 'kids': 2467, 'reviews': 3679, 'site': 4005, 'lord': 2652, 'rings': 3699, 'matrix': 2767, 'show': 3953, 'age': 148, 'range': 3516, 'kind': 2476, 'rangers': 3517, 'vs': 4767, 'freddy': 1826, 'watchable': 4812, 'protagonists': 3442, 'super': 4295, 'powers': 3361, 'childish': 791, 'rated': 3527, 'pg': 3250, '13': 4, 'expected': 1577, 'mature': 2773, 'plus': 3311, 'focused': 1767, 'demon': 1177, 'fight': 1707, 'demons': 1178, 'why': 4878, 'total': 4531, 'loves': 2674, 'pokemon': 3320, 'terrible': 4407, 'graphics': 1959, 'decent': 1147, 'flat': 1748, 'built': 618, 'interaction': 2322, 'addition': 118, 'offers': 3090, 'comic': 893, 'relief': 3605, 'called': 652, 'girlfriend': 1910, 'entertaining': 1499, 'renting': 3629, 'consider': 949, 'ourselves': 3140, 'rock': 3720, 'violence': 4747, 'forced': 1787, 'uses': 4697, 'technique': 4383, '1950s': 14, 'physical': 3262, 'differences': 1247, 'represents': 3639, 'highly': 2105, 'exaggerated': 1552, 'fashion': 1659, 'represented': 3638, 'period': 3236, 'idea': 2213, 'spoke': 4125, 'contemporary': 965, 'language': 2516, 'stilted': 4190, 'serves': 3895, 'common': 906, 'past': 3207, 'seems': 3864, 'distant': 1295, 'therefore': 4439, 'particular': 3194, 'universal': 4665, 'features': 1680, 'ian': 2209, 'hart': 2041, 'annoying': 249, 'ones': 3108, 'latter': 2528, 'struggling': 4236, 'build': 614, 'post': 3352, 'career': 686, 'feels': 1687, 'modern': 2882, 'painful': 3171, 'example': 1553, 'cheap': 774, 'unoriginal': 4673, 'produced': 3414, 'australian': 357, 'local': 2634, 'content': 966, 'truly': 4597, 'surprised': 4313, 'writers': 4969, 'responsible': 3656, 'recent': 3566, 'memory': 2804, 'norman': 3035, 'nothing': 3047, 'mildly': 2840, 'amusing': 221, 'simply': 3986, 'embarrassing': 1454, 'something': 4066, 'given': 1913, 'crazy': 1035, 'funnier': 1850, 'avoid': 363, 'cost': 1003, 'dvd': 1391, 'laughter': 2535, 'deserves': 1201, 'unintentional': 4658, 'three': 4469, 'portrayed': 3342, 'turned': 4606, 'extremely': 1610, 'lower': 2677, 'class': 833, 'shows': 3960, 'contrast': 975, 'similarities': 3979, 'higher': 2101, 'classes': 834, 'carried': 698, 'greed': 1968, 'fast': 1661, 'cars': 702, 'cool': 989, 'probably': 3407, 'liked': 2600, 'singer': 3993, 'gave': 1875, 'lousy': 2667, 'songs': 4072, 'mean': 2779, 'exactly': 1551, 'across': 96, 'drive': 1363, 'race': 3499, 'car': 680, 'fix': 1744, 'silly': 3976, 'note': 3044, 'willing': 4889, '25': 40, 'million': 2847, 'kinda': 2477, 'stops': 4203, 'finish': 1732, 'line': 2610, 'michael': 2829, 'priceless': 3390, 'recommend': 3571, 'kidding': 2465, 'wishes': 4906, 'death': 1141, 'father': 1666, 'arrives': 302, 'theory': 4437, 'anybody': 257, 'passed': 3202, 'pull': 3461, 'indian': 2274, 'problems': 3409, 'issue': 2364, 'khan': 2459, 'passing': 3204, 'yeah': 4977, 'success': 4265, 'susan': 4326, 'woman': 4921, 'uk': 4626, 'rare': 3523, 'suspend': 4329, 'disbelief': 1277, 'conceived': 929, '40s': 49, 'desperately': 1209, 'hang': 2022, 'lets': 2580, 'self': 3869, 'screen': 3829, 'hopeless': 2158, 'concerns': 934, 'giving': 1915, 'dragged': 1343, 'trust': 4598, 'clichéd': 845, 'going': 1931, 'happen': 2026, 'honestly': 2147, 'trailers': 4555, 'chosen': 805, 'choice': 797, 'german': 1896, 'guns': 1998, 'title': 4504, 'wrong': 4973, 'spot': 4131, 'bought': 552, 'sit': 4003, 'count': 1010, 'bodies': 526, 'followed': 1773, 'sitting': 4007, 'began': 441, 'hey': 2095, 'clever': 841, 'officer': 3092, 'save': 3794, 'troops': 4591, 'waiting': 4772, 'based': 404, 'events': 1536, 'imagination': 2236, 'found': 1811, 'wrote': 4974, 'fault': 1668, 'marketing': 2741, 'raised': 3508, 'expectations': 1576, 'high': 2100, 'above': 68, 'installment': 2303, 'training': 4558, 'five': 1743, 'details': 1219, 'investigation': 2343, 'performed': 3230, 'order': 3126, 'blind': 506, 'historical': 2119, 'japan': 2381, 'western': 4853, 'technology': 4385, 'gory': 1943, 'ride': 3692, 'whos': 4876, 'gold': 1932, 'manages': 2725, 'connect': 944, 'brings': 587, 'sex': 3907, 'needless': 2989, 'commented': 900, 'stays': 4169, '24': 39, 'hours': 2177, 'affected': 137, 'possibly': 3351, 'compare': 911, 'myself': 2953, 'ben': 463, 'totally': 4532, 'guessing': 1991, 'wondering': 4930, 'feel': 1684, 'emotions': 1461, 'amazing': 209, 'wanted': 4789, 'emily': 1456, 'forever': 1792, 'want': 4788, 'library': 2589, 'light': 2595, 'hearted': 2065, 'comedy': 890, 'wish': 4904, 'escape': 1517, 'disappear': 1270, 'enjoyable': 1485, 'starring': 4154, 'duo': 1386, 'yes': 4982, 'confused': 941, 'eager': 1396, 'return': 3665, 'hear': 2061, 'random': 3514, 'necessary': 2984, 'frame': 1815, 'trailer': 4554, 'others': 3136, 'came': 656, 'poor': 3328, 'guess': 1989, 'rental': 3627, 'store': 4204, 'look': 2646, 'wear': 4830, 'private': 3404, 'perfectly': 3226, 'dialog': 1232, 'unreal': 4676, 'lines': 2612, 'showed': 3956, 'mid': 2832, '80s': 59, 'released': 3603, 'apparently': 270, 'pictures': 3270, 'partly': 3197, 'kept': 2456, 'whether': 4866, 'engaging': 1481, '3rd': 47, 'rate': 3526, 'america': 212, 'imitation': 2241, 'none': 3028, 'either': 1438, 'biggest': 480, 'newspaper': 3006, 'reviewer': 3677, 'spent': 4108, 'huge': 2185, 'zombie': 4997, 'zombies': 4998, 'honest': 2146, 'ripped': 3701, 'bare': 398, 'company': 910, 'walking': 4779, 'familiar': 1643, 'dancing': 1107, 'ah': 158, 'wide': 4880, 'shut': 3961, 'track': 4544, 'arrived': 301, 'composed': 926, 'city': 825, 'went': 4847, 'picked': 3266, 'soundtrack': 4085, 'score': 3822, 'fifteen': 1706, 'tracks': 4545, 'besides': 468, 'delightful': 1168, 'entirely': 1503, 'dedicated': 1153, 'reminds': 3620, 'favorite': 1671, 'scores': 3823, 'notes': 3046, 'georges': 1894, 'barry': 401, 'piano': 3264, 'delivered': 1170, 'intimate': 2331, 'inner': 2292, 'generous': 1886, 'bold': 528, 'understanding': 4645, 'relationship': 3597, 'both': 547, '1996': 26, 'academy': 77, 'awards': 367, 'foreign': 1790, 'sensitive': 3879, 'unsettling': 4679, 'human': 2188, 'conflicts': 940, 'family': 1645, 'respect': 3652, 'front': 1841, 'subject': 4253, 'chess': 783, 'beneath': 464, 'mild': 2839, 'late': 2523, 'captures': 678, 'lake': 2509, 'italy': 2368, 'near': 2979, 'border': 539, 'complete': 921, 'costumes': 1006, 'unique': 4662, 'impressed': 2251, 'detail': 1217, 'kelly': 2452, 'saga': 3773, 'flow': 1762, 'attitudes': 347, 'basic': 406, 'accent': 78, 'during': 1387, 'ok': 3098, 'elements': 1443, 'required': 3641, 'following': 1774, 'extra': 1606, 'feature': 1678, 'interest': 2323, 'happened': 2027, 'thumbs': 4485, 'sorry': 4076, 'hammer': 2014, 'buck': 605, 'sexy': 3911, 'mistake': 2871, 'morgan': 2905, 'eva': 1531, 'beaten': 424, 'raped': 3522, 'orange': 3125, 'sleep': 4024, 'bed': 436, 'kinds': 2478, 'purchased': 3470, 'school': 3813, 'musical': 2947, 'entire': 1502, 'rip': 3700, 'amanda': 205, 'chris': 806, 'french': 1830, 'awful': 372, 'adorable': 124, 'aired': 165, 'comparison': 914, 'earth': 1403, 'discovery': 1282, 'channel': 753, 'planet': 3289, 'nature': 2975, 'jaw': 2384, 'dropping': 1371, 'footage': 1782, 'awesome': 371, 'animals': 240, 'natural': 2973, 'message': 2819, 'circle': 821, 'cruel': 1070, 'witness': 4914, 'shark': 3921, 'quick': 3490, 'various': 4715, 'narrator': 2967, 'james': 2378, 'earl': 1398, 'gods': 1928, 'views': 4742, 'literally': 2622, 'hundreds': 2196, 'comes': 891, 'format': 1799, 'couldve': 1009, 'disney': 1289, 'studios': 4241, 'mark': 2739, 'williams': 4888, 'odd': 3080, 'guarantee': 1987, 'pacing': 3163, '2006': 36, 'dramatic': 1348, 'predictable': 3367, 'secrets': 3852, 'outcome': 3142, 'excellent': 1555, 'damn': 1100, 'bruce': 602, 'jim': 2402, 'carrey': 696, 'freeman': 1829, 'target': 4366, 'resort': 3650, 'facial': 1619, 'expressions': 1603, 'opening': 3114, 'instance': 2304, 'miss': 2866, 'francis': 1818, 'aka': 168, 'reporter': 3636, 'award': 366, 'winning': 4898, 'stinker': 4191, 'decide': 1148, 'follow': 1772, 'mediocre': 2791, 'dated': 1119, 'voice': 4761, 'realism': 3549, 'unless': 4669, 'remembered': 3617, 'suspects': 4328, 'relation': 3595, 'trick': 4582, 'pulled': 3462, 'convince': 983, 'audience': 352, 'pieces': 3273, 'starts': 4159, 'fantastic': 1651, 'smart': 4035, 'premise': 3370, 'alas': 172, 'destruction': 1216, 'cuts': 1091, 'explain': 1586, 'brain': 562, 'capable': 672, 'explaining': 1588, 'existence': 1571, 'plausible': 3295, 'degree': 1164, 'dozen': 1338, 'explained': 1587, 'someones': 4065, 'himself': 2111, 'criminal': 1057, 'enemies': 1476, 'terribly': 4408, 'apart': 264, 'blunt': 520, 'books': 536, 'club': 863, 'dealing': 1136, 'blatant': 502, 'robbery': 3711, 'drunk': 1375, 'speed': 4103, 'attraction': 350, 'drinking': 1362, 'grasp': 1960, 'direction': 1261, 'anywhere': 263, 'paper': 3183, 'david': 1124, 'lynch': 2691, 'seek': 3858, 'professional': 3421, 'easily': 1406, 'gem': 1877, 'becomes': 434, 'contrived': 976, 'food': 1778, 'pseudo': 3454, 'soul': 4079, 'stomach': 4196, 'facing': 1620, 'suicide': 4283, 'mission': 2870, 'sent': 3880, 'sun': 4292, 'bomb': 531, 'crisis': 1060, 'burned': 626, 'change': 749, 'apparent': 269, '1990': 24, 'returned': 3666, 'barely': 399, 'buy': 640, 'straight': 4210, 're': 3535, 'edited': 1420, 'alan': 171, 'sunshine': 4294, 'board': 522, 'except': 1556, 'reach': 3536, 'voiced': 4762, 'wants': 4791, 'crew': 1053, 'includes': 2263, 'jack': 2373, 'heston': 2094, 'hills': 2109, 'unforgettable': 4652, 'peter': 3247, 'succeeds': 4264, 'saved': 3795, 'share': 3920, 'reel': 3581, 'fate': 1665, 'hanging': 2023, 'balance': 387, 'shot': 3949, 'deadly': 1133, 'key': 2458, 'stand': 4143, 'screens': 3832, 'darkness': 1117, 'suffer': 4275, 'hed': 2072, 'looked': 2647, 'lively': 2627, 'attempt': 340, 'fails': 1628, 'raise': 3507, 'mostly': 2910, 'standing': 4146, 'spends': 4107, 'running': 3756, 'son': 4070, 'landscape': 2513, 'insane': 2296, 'desert': 1198, 'artist': 307, 'chicks': 787, 'dig': 1250, 'max': 2774, 'corporate': 998, 'suits': 4287, 'release': 3602, 'nice': 3008, 'beach': 419, 'guessed': 1990, 'moment': 2886, 'baby': 376, 'fired': 1735, 'hip': 2114, 'office': 3091, 'window': 4894, 'beating': 425, 'likes': 2602, 'welcome': 4842, 'camp': 662, 'richard': 3686, 'cut': 1089, 'six': 4010, '17': 9, 'lucky': 2683, 'excuse': 1564, 'painfully': 3172, 'unfunny': 4655, 'sequence': 3887, 'paris': 3189, 'pile': 3275, 'wearing': 4831, 'army': 295, 'sign': 3970, 'flick': 1754, 'turkey': 4604, 'red': 3576, 'dark': 1115, 'blue': 518, 'working': 4944, 'put': 3480, 'van': 4713, 'remake': 3612, 'directors': 1266, 'sorts': 4078, 'mistakes': 2873, 'effort': 1432, 'animation': 242, 'lots': 2662, 'older': 3101, 'cartoons': 705, 'basically': 407, 'constructed': 959, 'goofy': 1939, 'shouldnt': 3952, 'annoyed': 248, 'sisters': 4002, 'laughing': 2533, 'rented': 3628, 'ranks': 3519, 'view': 4736, 'drawing': 1350, 'matthew': 2772, 'pretentious': 3383, 'giant': 1905, 'asian': 314, 'whale': 4857, 'experiment': 1583, 'minimal': 2855, 'philip': 3252, 'glass': 1917, 'among': 217, 'adds': 119, 'boot': 538, 'call': 651, 'color': 877, 'documentary': 1307, 'christ': 807, 'coming': 896, 'surface': 4310, 'ship': 3934, 'fat': 1663, 'form': 1798, 'forget': 1793, 'creativity': 1042, 'creative': 1041, 'interpretation': 2328, 'wait': 4770, 'sentence': 3881, 'taken': 4350, 'realistic': 3550, 'pearl': 3220, 'construction': 960, 'obviously': 3072, 'whatever': 4859, 'standards': 4145, 'dear': 1140, 'wisdom': 4902, 'crude': 1069, 'shape': 3919, 'element': 1442, 'inside': 2297, 'portion': 3338, 'states': 4163, 'crap': 1031, 'arrive': 300, 'separate': 3883, 'ships': 3935, 'strange': 4211, 'ran': 3513, 'quit': 3494, 'smoking': 4040, 'learn': 2550, 'japanese': 2382, 'wise': 4903, 'hit': 2122, 'crash': 1033, 'cutting': 1092, 'legs': 2566, 'eat': 1411, 'fall': 1637, 'grade': 1951, 'social': 4049, 'ear': 1397, 'symbolism': 4341, 'hopes': 2159, 'reaction': 3541, 'cross': 1066, 'becoming': 435, 'terms': 4406, 'frequently': 1832, 'surreal': 4317, 'nonsense': 3030, 'coherent': 871, 'trash': 4565, 'un': 4630, 'imagery': 2234, 'usually': 4700, 'urban': 4688, 'african': 142, 'americans': 214, 'difference': 1246, 'groups': 1981, 'commentary': 899, 'relations': 3596, 'afraid': 140, 'laughed': 2532, 'bits': 490, 'blacks': 494, 'stayed': 4167, 'silent': 3975, 'thus': 4486, 'satire': 3788, 'rap': 3520, 'culture': 1079, 'believed': 455, 'documentaries': 1306, 'mighty': 2836, 'wind': 4893, 'melodrama': 2797, 'barbara': 397, 'stanwyck': 4149, 'harris': 2038, 'reason': 3557, 'advantage': 129, 'opportunities': 3120, 'easy': 1410, 'road': 3709, 'york': 4985, 'lily': 2605, 'faster': 1662, 'famous': 1647, 'floor': 1759, 'trouble': 4592, 'follows': 1775, 'soon': 4074, 'wears': 4832, 'makeup': 2717, 'innocent': 2294, 'victim': 4729, 'sits': 4006, 'staring': 4152, 'kings': 2481, 'dress': 1357, 'asks': 319, 'talent': 4354, 'dancer': 1104, 'theme': 4433, 'st': 4137, 'louis': 2665, 'throughout': 4478, 'worked': 4941, 'dozens': 1339, 'friend': 1835, 'era': 1513, 'bizarre': 492, 'sexually': 3910, '70': 55, 'moral': 2902, 'endings': 1472, 'learns': 2553, 'lessons': 2578, 'added': 116, 'pass': 3201, 'neat': 2982, 'surprise': 4312, 'ahead': 159, '50s': 52, 'understood': 4647, 'medium': 2792, 'vision': 4754, 'bring': 585, 'clearly': 840, 'ring': 3698, 'twice': 4613, 'achieved': 93, 'included': 2262, 'knew': 2486, 'passion': 3205, 'beings': 449, 'recently': 3567, 'fans': 1650, 'text': 4419, 'true': 4596, 'american': 213, 'lacked': 2503, 'intensity': 2317, 'players': 3299, 'magnificent': 2705, 'appears': 278, 'rid': 3690, 'opportunity': 3121, 'ms': 2931, 'italian': 2367, 'ironic': 2355, 'twist': 4617, 'crime': 1055, 'committed': 905, 'equally': 1510, 'generation': 1883, 'mr': 2929, 'projects': 3428, 'ease': 1404, 'fell': 1690, 'photographed': 3258, 'opera': 3116, 'fit': 1740, 'context': 968, 'till': 4493, 'hope': 2155, 'critic': 1061, 'expert': 1585, 'notice': 3048, 'incredibly': 2270, 'affair': 135, 'accepted': 82, 'screenplay': 3831, 'appear': 273, 'driven': 1365, 'brazil': 568, 'danny': 1112, 'double': 1331, 'secret': 3849, 'tall': 4362, 'menacing': 2807, 'latin': 2527, 'sports': 4130, 'deliberately': 1166, 'obvious': 3071, 'blond': 510, 'animated': 241, 'jewish': 2401, 'sympathetic': 4342, 'references': 3583, 'setting': 3900, 'eighties': 1437, 'military': 2844, 'whose': 4877, 'writer': 4968, 'reveals': 3673, 'wealth': 4826, 'further': 1853, 'jonathan': 2417, 'winters': 4901, 'truth': 4599, 'cia': 814, 'station': 4164, 'chief': 788, 'figure': 1711, 'powerful': 3360, 'president': 3378, 'influence': 2286, 'largely': 2518, 'racial': 3501, 'elsewhere': 1449, 'due': 1382, 'wars': 4804, 'against': 147, 'larger': 2519, 'neighbors': 2994, '20th': 38, 'population': 3335, 'nearly': 2981, 'strongly': 4231, 'united': 4664, 'madonna': 2699, 'former': 1800, 'pleasure': 3306, 'television': 4394, 'politically': 3325, 'correct': 1000, 'revolution': 3680, 'event': 1535, 'beloved': 461, 'held': 2074, 'lasted': 2522, 'husband': 2204, 'legendary': 2565, 'remotely': 3623, 'insult': 2309, 'word': 4937, 'stephen': 4176, 'attempts': 343, 'monkeys': 2891, 'shining': 3933, 'frightening': 1839, 'nail': 2957, 'neck': 2985, 'creates': 1038, 'ghost': 1902, 'somewhere': 4069, 'disturbing': 1300, 'learned': 2551, 'masters': 2761, 'cat': 713, 'robert': 3713, 'haunting': 2051, 'horrifying': 2167, 'gross': 1978, 'rubbish': 3748, 'lewis': 2586, 'allen': 188, 'henry': 2084, 'master': 2757, 'hitchcock': 2123, 'edge': 1418, 'seat': 3845, 'building': 615, 'burning': 627, 'under': 4639, 'authentic': 358, 'england': 1482, 'memorable': 2802, 'tried': 4584, 'mainstream': 2709, 'ordinary': 3128, 'jane': 2380, 'fonda': 1777, 'unable': 4631, 'hide': 2097, 'believable': 453, 'wondered': 4927, 'factory': 1623, 'loser': 2655, 'ford': 1789, 'thomas': 4458, 'successfully': 4267, 'handled': 2019, 'fool': 1779, '2003': 33, 'multi': 2935, 'efforts': 1433, 'al': 170, 'pacino': 3164, 'godfather': 1927, 'thirty': 4456, 'sunday': 4293, 'nights': 3016, 'ago': 154, 'news': 3005, 'flash': 1745, 'prisoners': 3403, 'force': 1786, 'education': 1424, 'falls': 1640, 'frankly': 1823, 'smith': 4038, 'starred': 4153, 'ruined': 3751, 'script': 3834, 'fake': 1635, 'donald': 1321, 'laughable': 2530, 'describe': 1194, 'speaks': 4096, 'run': 3755, 'miles': 2843, 'months': 2897, 'negative': 2991, 'uneven': 4649, 'witty': 4917, 'gags': 1862, 'energy': 1478, 'west': 4852, 'rachel': 3500, 'roger': 3724, 'shines': 3932, 'rex': 3683, 'reed': 3580, 'hardly': 2036, 'fighting': 1709, 'user': 4696, 'provided': 3449, 'wasted': 4809, 'clips': 852, 'sub': 4252, 'par': 3184, 'likely': 2601, 'tale': 4353, 'absolutely': 72, 'worn': 4948, 'clichés': 846, 'gun': 1996, 'killers': 2471, 'push': 3477, 'daughter': 1121, 'freak': 1824, 'forgettable': 1794, 'suck': 4269, 'omen': 3104, 'luck': 2681, 'accident': 84, 'asked': 317, 'eyed': 1612, 'smile': 4036, 'presumably': 3380, 'mask': 2752, 'ask': 316, 'keeps': 2451, 'dollar': 1314, 'closet': 858, 'breaks': 571, 'machine': 2693, 'player': 3298, 'ridiculous': 3693, '2001': 31, 'airplane': 166, 'team': 4378, 'suffice': 4279, 'faced': 1617, 'bell': 458, 'romance': 3732, 'unbelievable': 4634, 'temple': 4398, 'doom': 1326, 'puts': 3481, 'wannabe': 4787, 'hands': 2020, 'feet': 1688, 'band': 391, '40': 48, 'sharp': 3922, 'brian': 576, 'wilson': 4891, 'loud': 2664, 'clear': 839, 'tap': 4364, 'memories': 2803, 'pig': 3274, 'somebody': 4062, 'delight': 1167, 'stiff': 4187, 'spooky': 4128, 'tooth': 4524, 'fairy': 1632, 'tales': 4357, 'shelley': 3928, 'imaginative': 2237, 'childhood': 790, 'scripts': 3836, 'offer': 3087, 'grew': 1972, 'handful': 2017, 'cinderella': 815, 'exception': 1557, 'standard': 4144, 'jennifer': 2392, 'jean': 2389, 'southern': 4088, 'eve': 1532, 'wicked': 4879, 'edie': 1419, 'prince': 3396, 'associated': 327, 'british': 589, 'upper': 4685, 'wealthy': 4827, 'charming': 768, 'hint': 2112, 'manner': 2729, 'murder': 2939, 'murdered': 2940, 'ingredients': 2289, 'mystery': 2956, 'exotic': 1574, 'nose': 3037, 'island': 2361, 'killings': 2473, 'solve': 4060, 'room': 3735, 'plenty': 3307, 'detective': 1220, 'proved': 3446, 'page': 3167, 'editing': 1421, 'altogether': 202, 'similar': 3978, 'william': 4887, 'successful': 4266, 'thin': 4449, 'mgm': 2828, 'erotic': 1515, 'soft': 4051, 'porn': 3336, 'gothic': 1945, 'flicks': 1755, 'morning': 2906, 'scare': 3803, 'factor': 1622, 'limited': 2606, 'exists': 1573, 'dance': 1103, 'cannot': 670, 'begin': 442, 'purpose': 3474, 'minimum': 2856, 'firstly': 1737, 'bears': 421, 'resemblance': 3645, 'whats': 4860, 'dances': 1106, 'suitable': 4285, 'castle': 712, 'fits': 1741, 'dubbing': 1380, 'appalling': 268, 'wooden': 4934, 'saving': 3797, 'lesbian': 2573, 'female': 1693, 'bonus': 534, 'birth': 486, 'vampires': 4712, 'brutal': 603, 'beautiful': 428, 'oscar': 3133, 'shed': 3924, 'tear': 4379, 'kay': 2447, 'creation': 1040, 'gift': 1906, 'personal': 3240, 'thank': 4421, 'brought': 600, 'precious': 3366, 'decade': 1144, 'swedish': 4335, 'individuals': 2278, 'gabriel': 1859, 'south': 4087, 'africa': 141, 'mary': 2751, 'moore': 2901, 'combination': 883, 'reunion': 3669, 'forward': 1808, 'hitting': 2126, 'youth': 4994, 'wit': 4908, 'charm': 767, 'touch': 4533, '2000': 30, 'lou': 2663, 'grant': 1956, 'sue': 4274, 'ann': 244, 'relatively': 3600, 'captain': 674, 'join': 2412, 'brief': 579, 'irrelevant': 2358, 'appearance': 274, 'chemistry': 782, 'hunter': 2199, 'martin': 2748, 'led': 2558, 'search': 3841, 'souls': 4080, 'stolen': 4195, 'occurs': 3078, 'pointless': 3318, 'blew': 505, 'command': 897, 'provide': 3448, 'laughs': 2534, 'dreary': 1356, 'wild': 4885, 'delivery': 1173, 'repeatedly': 3632, 'nuts': 3064, 'assume': 328, 'sucked': 4270, 'knowing': 2490, 'rob': 3710, 'helps': 2082, 'children': 792, 'careers': 687, 'blend': 504, 'busy': 635, 'ball': 388, 'raising': 3509, 'wanting': 4790, 'appealing': 272, 'ages': 152, 'overwhelming': 3157, 'abc': 63, 'deserve': 1199, 'witch': 4909, 'project': 3427, '20': 29, 'excited': 1561, 'capture': 676, 'heroine': 2091, 'worthless': 4954, 'homeless': 2143, 'villain': 4744, 'revealed': 3671, 'spoil': 4121, 'sister': 4001, 'beat': 423, 'wrestling': 4966, 'match': 2762, 'trap': 4563, 'formula': 1802, 'failed': 1626, 'highlight': 2103, 'lame': 2510, 'technically': 4382, 'greatly': 1967, 'sets': 3899, '30s': 44, 'locations': 2636, 'shake': 3914, 'move': 2921, 'fashioned': 1660, 'slapstick': 4019, 'pleasant': 3302, 'humorous': 2193, 'stage': 4139, 'atmosphere': 333, 'technical': 4381, 'create': 1036, 'sequences': 3888, 'plan': 3287, 'comical': 894, 'despite': 1211, 'simplicity': 3984, 'cleverly': 842, 'entertain': 1497, 'fun': 1848, 'stereotypical': 4180, 'decision': 1151, 'wow': 4962, 'harsh': 2040, 'stopped': 4202, 'spoilers': 4124, 'alert': 178, 'device': 1227, 'moving': 2928, 'intentionally': 2320, 'situations': 4009, 'irony': 2357, 'awkward': 374, 'scripted': 3835, 'designed': 1203, 'journey': 2421, 'expecting': 1578, 'frank': 1821, 'masterpiece': 2759, 'lyrics': 2692, 'themes': 4434, 'solid': 4057, 'adapted': 114, 'damon': 1101, 'musicals': 2948, 'book': 535, 'surprising': 4315, 'numbers': 3061, 'outstanding': 3147, 'joseph': 2419, 'told': 4513, 'sinatra': 3989, 'cash': 709, 'floating': 1758, 'julie': 2428, 'chicago': 785, 'mob': 2879, 'boss': 546, 'odds': 3082, 'presented': 3376, 'brando': 566, 'wins': 4899, 'saves': 3796, 'attend': 344, 'service': 3896, 'lady': 2507, 'suffering': 4277, 'include': 2261, 'johnny': 2410, 'silver': 3977, 'leonard': 2572, 'simmons': 3981, 'sarah': 3785, 'brown': 601, 'broadway': 592, 'guys': 2001, 'dolls': 1316, 'develop': 1222, 'cold': 872, 'established': 1524, 'letter': 2581, 'wives': 4918, 'fame': 1642, 'proceedings': 3410, 'challenging': 744, 'section': 3853, 'created': 1037, 'song': 4071, 'pet': 3246, 'works': 4945, 'singing': 3995, 'instinct': 2308, 'reasons': 3560, 'theatrical': 4430, 'selling': 3873, 'closing': 859, 'triumph': 4590, 'live': 2625, 'france': 1816, 'lately': 2524, 'stories': 4205, 'magic': 2703, 'individual': 2277, 'segment': 3867, 'value': 4709, 'segments': 3868, 'confusion': 943, 'pays': 3218, 'leaves': 2556, 'satisfied': 3789, 'occur': 3076, 'upon': 4684, 'hated': 2047, 'initial': 2290, 'cinematic': 818, 'relate': 3593, 'english': 1483, 'number': 3060, 'supernatural': 4302, 'parents': 3188, 'husbands': 2205, 'romantic': 3733, 'storytelling': 4209, 'quirky': 3493, 'somehow': 4063, 'types': 4622, 'per': 3223, 'skills': 4014, 'filmmaker': 1719, '11': 2, 'fascinating': 1658, 'narrative': 2966, 'inspired': 2301, 'edgar': 1417, 'king': 2479, 'revenge': 3675, 'arthur': 305, 'johnson': 2411, 'latest': 2526, 'act': 97, 'achievement': 94, 'royal': 3746, 'discovered': 1280, 'ignorant': 2223, 'orders': 3127, 'stone': 4197, 'slowly': 4032, 'placed': 3283, 'methods': 2825, 'creating': 1039, 'became': 431, 'finding': 1727, 'lovers': 2673, 'shots': 3950, 'lengthy': 2570, 'parallel': 3185, 'darker': 1116, 'matter': 2769, 'crucial': 1068, 'continuity': 972, 'aware': 368, 'actions': 101, 'suffers': 4278, 'rooms': 3736, 'captured': 677, 'madness': 2698, 'particularly': 3195, 'attempted': 341, 'replaced': 3634, 'wall': 4781, 'reactions': 3542, 'accompanied': 86, 'serve': 3893, 'surprisingly': 4316, 'quickly': 3491, 'brains': 563, 'rocket': 3721, 'boys': 559, 'program': 3424, 'forms': 1801, 'words': 4938, 'ie': 2221, 'letters': 2582, 'term': 4405, 'revolves': 3682, 'homer': 2144, 'jr': 2423, 'poster': 3353, 'novel': 3052, 'took': 4523, 'contrary': 974, 'chuck': 812, 'currently': 1085, 'blowing': 515, 'packed': 3166, 'fail': 1625, 'fill': 1714, 'originally': 3131, 'filming': 1718, 'terrorist': 4413, 'attacks': 339, 'paying': 3217, 'bin': 483, 'attempting': 342, 'understand': 4643, 'grace': 1950, 'humour': 2194, 'appreciated': 280, 'definite': 1161, 'heroic': 2090, 'nervous': 2999, 'system': 4345, 'appeared': 276, 'presence': 3373, 'needed': 2988, 'presentation': 3375, 'situation': 4008, 'involvement': 2347, 'politics': 3326, 'facts': 1624, 'accurate': 90, 'deeply': 1156, 'support': 4303, 'spirit': 4113, 'communist': 907, 'propaganda': 3435, 'known': 2492, 'presents': 3377, 'activities': 102, 'positive': 3346, 'europe': 1529, 'east': 1407, 'european': 1530, 'happens': 2029, 'countries': 1013, 'dirty': 1268, 'monster': 2892, 'soviet': 4089, 'wouldve': 4959, 'corrupt': 1001, '2005': 35, 'author': 359, 'tom': 4514, 'twins': 4616, 'genres': 1889, 'previous': 3387, 'lost': 2660, 'la': 2500, 'lose': 2654, 'flashbacks': 1747, 'dream': 1354, 'promised': 3431, 'roll': 3728, 'reminded': 3619, 'angry': 238, 'similarly': 3980, 'disappointing': 1274, 'haunted': 2050, 'jump': 2429, 'anyways': 262, 'samurai': 3779, 'lover': 2672, 'naturally': 2974, 'stretch': 4221, 'horrid': 2165, 'thoughtful': 4463, 'whenever': 4863, 'beyond': 476, 'candy': 668, 'nude': 3058, 'topless': 4527, 'proper': 3436, 'complex': 923, 'concerned': 932, 'hate': 2046, 'jake': 2377, 'newly': 3004, 'ex': 1549, 'con': 928, 'ridiculously': 3694, 'dorothy': 1330, 'superbly': 4297, 'ray': 3533, '3000': 43, 'outfit': 3144, 'restaurant': 3658, 'flawed': 1750, 'stock': 4193, 'harder': 2035, 'theatre': 4429, 'adults': 126, 'teen': 4388, 'quote': 3496, 'appeal': 271, 'remote': 3622, 'control': 977, 'trite': 4589, 'add': 115, 'favor': 1670, 'skip': 4016, 'fantasy': 1652, 'desire': 1205, 'majority': 2712, 'drug': 1373, 'abuse': 74, 'brothers': 599, 'drugs': 1374, 'related': 3594, 'portraying': 3343, 'theyve': 4446, 'grown': 1984, 'minds': 2852, 'meet': 2793, 'accept': 80, 'daily': 1097, 'basis': 408, 'fairly': 1631, 'behavior': 446, 'peoples': 3222, 'boredom': 542, 'describes': 1196, 'logical': 2639, 'perform': 3227, 'sat': 3786, 'nudity': 3059, 'hints': 2113, 'portrayal': 3341, 'absolute': 71, 'scheme': 3812, 'russell': 3761, 'timing': 4498, 'heaven': 2068, 'thoroughly': 4459, 'alongside': 196, 'adequate': 120, 'intelligent': 2314, 'brilliantly': 584, 'tends': 4402, 'vague': 4705, '60': 53, 'acceptable': 81, 'shop': 3945, 'comedies': 889, 'possible': 3350, 'contained': 963, 'sweet': 4336, 'warming': 4795, 'alfred': 181, 'stewart': 4184, 'margaret': 2735, 'nine': 3017, 'asking': 318, 'box': 555, 'opened': 3113, 'thinks': 4454, 'ludicrous': 2685, 'sell': 3871, 'hired': 2117, 'base': 402, 'supporting': 4304, 'lonely': 2643, 'felix': 1689, 'sidekick': 3966, 'possibility': 3349, 'ambitious': 211, 'tracy': 4546, 'position': 3345, 'subsequent': 4257, 'manager': 2724, 'developed': 1223, 'touching': 4536, 'charles': 764, 'christmas': 810, 'dinner': 1254, 'snow': 4045, 'winter': 4900, 'aside': 315, 'jimmy': 2403, 'persona': 3239, 'washington': 4806, 'loving': 2675, 'description': 1197, 'fictional': 1703, 'reveal': 3670, 'believes': 456, 'identity': 2217, 'members': 2801, 'vivid': 4760, 'jealous': 2388, 'loyal': 2679, 'wonderfully': 4929, 'russian': 3762, 'hung': 2197, 'proud': 3444, 'names': 2963, 'chose': 804, 'lies': 2591, 'machines': 2694, 'mail': 2706, 'missing': 2869, 'depicted': 1183, 'laughably': 2531, 'handed': 2016, 'air': 164, 'concept': 930, 'college': 875, 'endless': 1473, 'development': 1225, 'strictly': 4223, 'dimensional': 1253, 'spending': 4106, 'forty': 1807, 'horrific': 2166, 'dressed': 1358, 'vampire': 4711, 'amateur': 206, 'using': 4698, 'gore': 1941, 'scares': 3806, 'tight': 4492, 'suspenseful': 4331, 'moved': 2922, 'pathetic': 3210, 'monsters': 2893, 'genuine': 1891, 'meaningless': 2782, 'christian': 808, 'satan': 3787, 'sadly': 3769, 'explains': 1589, 'spread': 4133, 'gorgeous': 1942, 'continues': 971, 'douglas': 1334, 'loose': 2650, 'village': 4743, 'albeit': 173, 'sinister': 3998, 'explanation': 1590, 'moronic': 2907, 'discover': 1279, 'murderer': 2941, 'fay': 1674, 'cover': 1022, 'claims': 830, 'buying': 641, 'homage': 2141, 'horrors': 2169, 'notably': 3042, 'mini': 2854, 'lit': 2621, 'finished': 1733, 'mans': 2730, 'rubber': 3747, 'torn': 4528, 'creature': 1045, 'cg': 739, 'via': 4726, 'witnessed': 4915, 'formulaic': 1803, 'runs': 3757, 'mental': 2808, 'semi': 3874, 'cell': 730, 'four': 1812, 'wandering': 4785, 'available': 361, 'appearances': 275, 'breasts': 572, 'downhill': 1336, 'alex': 179, 'evidence': 1546, 'league': 2549, 'shadows': 3913, 'amateurish': 207, 'ratings': 3530, 'slight': 4027, 'skill': 4013, 'actual': 108, 'kid': 2464, 'decided': 1149, 'yesterday': 4983, 'inspector': 2299, 'gadget': 1860, 'bright': 581, 'toilet': 4512, 'plain': 3286, 'computer': 927, 'transformation': 4560, 'wrapped': 4964, 'whatsoever': 4861, 'strangely': 4212, 'dvds': 1392, 'sold': 4052, 'mere': 2814, 'seconds': 3848, 'appreciate': 279, 'genuinely': 1892, 'subtlety': 4261, 'elegant': 1441, 'shame': 3918, 'anymore': 258, 'artistic': 308, 'spectacular': 4101, 'vast': 4716, 'variety': 4714, 'aspects': 322, 'petty': 3249, 'lights': 2597, 'sexuality': 3909, 'depression': 1189, 'laid': 2508, 'central': 735, 'complexity': 924, 'racist': 3503, 'initially': 2291, 'patients': 3212, 'changes': 751, 'props': 3439, 'involve': 2345, 'struggles': 4235, 'whom': 4875, 'ward': 4793, 'reference': 3582, 'struggle': 4234, 'water': 4816, 'levels': 2585, 'born': 544, 'moon': 2900, '1972': 18, 'easier': 1405, 'landing': 2512, 'breath': 573, 'community': 908, 'claim': 828, 'enthusiasm': 1501, 'died': 1244, 'prove': 3445, 'proof': 3434, 'lived': 2626, 'jamie': 2379, 'jail': 2376, 'cop': 991, 'tough': 4537, 'meets': 2795, 'green': 1971, 'hopefully': 2157, 'represent': 3637, 'feed': 1683, 'talked': 4359, 'fresh': 1833, 'boat': 523, 'dad': 1095, 'feminist': 1695, 'muslim': 2949, 'abilities': 64, 'theaters': 4428, 'steve': 4181, 'falling': 1639, 'category': 718, 'elvira': 1450, 'mistress': 2874, 'tongue': 4518, 'cheek': 779, 'gratuitous': 1961, 'paced': 3162, 'whereas': 4865, 'holy': 2140, 'sappy': 3784, 'swear': 4334, 'foul': 1810, 'lesser': 2576, 'talks': 4361, 'whilst': 4869, 'plague': 3285, 'surprises': 4314, 'spell': 4104, 'wing': 4896, 'arguably': 289, 'gripping': 1976, 'telling': 4396, 'rise': 3702, 'seasons': 3844, 'glorious': 1921, 'captivating': 675, 'heres': 2087, 'conspiracy': 956, 'adding': 117, 'resist': 3648, 'tour': 4538, 'summary': 4290, 'vote': 4766, 'werewolf': 4850, 'imagine': 2238, 'difficult': 1249, 'ideas': 2215, 'naked': 2959, 'ed': 1415, 'stop': 4201, 'kitchen': 2485, 'sink': 3999, 'larry': 2520, 'mel': 2796, 'brooks': 596, 'critics': 1064, 'critical': 1062, 'brand': 565, 'rent': 3626, 'watches': 4814, 'bob': 524, 'briefly': 580, 'child': 789, 'react': 3540, 'mine': 2853, 'mother': 2911, 'disneys': 1290, 'nightmares': 3015, 'impress': 2250, 'understated': 4646, 'courage': 1018, 'integrity': 2311, 'visually': 4758, 'compelling': 916, 'le': 2544, 'personality': 3242, 'allowed': 190, 'discussion': 1284, 'results': 3662, 'rolled': 3729, 'table': 4346, 'iraq': 2351, 'bush': 632, 'prior': 3400, 'gangster': 1868, 'choose': 799, 'pop': 3330, 'promise': 3430, 'dry': 1377, 'epic': 1506, 'questions': 3489, '2007': 37, 'superior': 4300, 'irish': 2353, 'chain': 741, 'crimes': 1056, 'stealing': 4171, 'houses': 2180, 'adult': 125, 'meanwhile': 2785, 'police': 3322, 'jon': 2416, 'voight': 4764, 'marvelous': 2750, 'aforementioned': 139, 'masterpieces': 2760, 'cinematographer': 819, 'belong': 459, 'list': 2617, 'blown': 516, 'lighting': 2596, 'distracting': 1297, 'design': 1202, 'noir': 3023, 'opinions': 3119, 'okay': 3099, 'strike': 4224, 'impact': 2244, 'viewed': 4737, 'demented': 1176, 'execution': 1566, 'cringe': 1059, 'nasty': 2968, 'forth': 1804, 'ultra': 4629, 'violent': 4748, 'belief': 451, 'regardless': 3590, 'sucks': 4271, 'maker': 2714, 'lawrence': 2539, 'grand': 1953, 'worry': 4950, 'deep': 1154, 'glover': 1923, 'kevin': 2457, 'succeed': 4262, 'length': 2569, 'dawson': 1128, 'cause': 723, 'break': 569, 'stick': 4185, 'uninteresting': 4660, 'aimed': 162, 'teens': 4392, 'curious': 1083, 'described': 1195, 'searching': 3842, 'remain': 3609, 'land': 2511, 'drop': 1369, 'turner': 4607, 'aunt': 355, 'favorites': 1672, 'instantly': 2306, 'considering': 952, 'nominated': 3025, 'saturday': 3792, 'afternoon': 144, 'popcorn': 3331, 'doubt': 1332, 'alike': 185, 'emphasis': 1463, 'tears': 4380, 'aspect': 321, 'specifically': 4100, 'toward': 4539, 'dangerous': 1110, 'daring': 1114, 'dan': 1102, 'screams': 3828, 'cartoon': 704, 'nowadays': 3055, 'depth': 1190, 'jungle': 2434, 'practice': 3363, 'molly': 2884, 'cute': 1090, 'relationships': 3598, 'expression': 1602, 'hook': 2152, 'prepared': 3371, 'motivation': 2914, 'sea': 3838, 'necessarily': 2983, 'jobs': 2406, 'weapon': 4828, 'relies': 3606, 'vehicle': 4718, 'cable': 644, 'ad': 110, 'notable': 3041, 'chick': 786, 'sequels': 3886, 'makers': 2715, 'recommended': 3572, 'credible': 1048, 'hanks': 2025, 'cameo': 657, 'pink': 3277, 'vegas': 4717, 'deliver': 1169, 'elvis': 1451, 'suit': 4284, 'numerous': 3062, 'fbi': 1675, 'serial': 3889, 'killer': 2470, 'warn': 4797, 'wwii': 4975, 'maria': 2736, 'soldier': 4053, 'marriage': 2743, 'disappeared': 1271, 'tragedy': 4551, 'trained': 4557, 'essence': 1521, 'psychological': 3458, 'danger': 1109, 'terror': 4412, 'resulting': 3661, 'political': 3324, 'forces': 1788, 'destiny': 1212, 'explicit': 1591, 'discuss': 1283, 'attack': 337, 'official': 3094, 'wounded': 4961, 'borrowed': 545, 'survived': 4322, 'influenced': 2287, 'copies': 992, 'hamlet': 2013, 'dare': 1113, 'suspect': 4327, 'charlie': 765, 'persons': 3244, 'directs': 1267, 'allows': 192, 'freedom': 1828, 'techniques': 4384, 'resolution': 3649, 'oliver': 3102, 'masterful': 2758, 'unseen': 4678, 'relative': 3599, 'walks': 4780, 'valley': 4707, 'shadow': 3912, 'humanity': 2189, 'bottom': 551, 'innocence': 2293, 'nancy': 2964, 'worthwhile': 4955, '70s': 56, 'appropriate': 283, 'audiences': 353, 'devil': 1228, 'kiss': 2483, 'gene': 1879, 'metal': 2823, 'vhs': 4725, 'pre': 3365, 'featured': 1679, 'figured': 1712, 'em': 1452, 'nicholson': 3011, 'helped': 2080, 'album': 175, 'atrocious': 335, 'implausible': 2245, 'trip': 4588, 'clothes': 860, 'daughters': 1122, 'panic': 3181, 'woods': 4935, 'boyfriend': 558, 'advertising': 132, 'emotional': 1459, 'feelings': 1686, 'stole': 4194, 'scientists': 3819, 'everywhere': 1545, 'teeth': 4393, 'ability': 65, 'ha': 2002, 'load': 2631, 'sudden': 4272, 'fox': 1814, 'killing': 2472, 'hearts': 2066, 'accidentally': 85, 'bedroom': 437, 'smiling': 4037, 'warmth': 4796, 'strip': 4228, 'bathroom': 412, 'network': 3000, 'remaining': 3610, 'midnight': 2834, 'flesh': 1753, 'horribly': 2164, 'paid': 3169, 'produce': 3413, 'urge': 4689, 'clue': 864, 'photography': 3260, 'occasion': 3073, 'channels': 754, 'benefit': 465, 'shallow': 3917, 'narration': 2965, 'poetry': 3314, 'clumsy': 866, 'compelled': 915, 'direct': 1258, 'stylish': 4251, 'gritty': 1977, 'weight': 4840, 'noticed': 3049, 'serving': 3897, 'pregnant': 3369, 'recognized': 3570, 'closely': 855, 'crying': 1074, 'sends': 3876, 'minor': 2857, '12': 3, 'essentially': 1523, 'de': 1131, 'providing': 3451, 'chasing': 772, 'officers': 3093, 'suggested': 4281, 'checking': 778, 'rendition': 3625, 'timeless': 4496, 'carol': 693, 'transition': 4561, 'voices': 4763, 'signs': 3973, 'winds': 4895, 'juvenile': 2441, 'headed': 2058, 'gang': 1867, 'law': 2538, 'ensues': 1493, 'tunes': 4603, 'china': 795, 'embarrassment': 1455, 'proves': 3447, 'carry': 700, 'comedic': 888, 'returns': 3668, 'psychic': 3456, 'dating': 1120, 'bringing': 586, 'task': 4368, 'leo': 2571, 'titanic': 4503, 'amounts': 220, 'bland': 500, 'public': 3460, 'directorial': 1265, 'debut': 1143, 'topic': 4526, 'dialogs': 1233, 'naive': 2958, 'met': 2822, 'fabulous': 1615, 'translation': 4562, 'disjointed': 1287, 'randomly': 3515, 'reading': 3544, 'ireland': 2352, '1970s': 17, 'utterly': 4702, '1960s': 15, 'respected': 3653, 'dog': 1310, 'ass': 323, 'crocodile': 1065, 'enormous': 1490, 'shy': 3962, 'redeeming': 3577, 'qualities': 3483, 'remains': 3611, 'combat': 882, 'source': 4086, 'jerk': 2395, 'heroes': 2089, 'planning': 3291, 'elaborate': 1439, '15': 7, 'gay': 1876, 'cgi': 740, 'bullets': 621, 'causing': 726, 'clean': 838, 'noise': 3024, 'kicking': 2462, 'wasting': 4810, 'funeral': 1849, 'senseless': 3878, 'advance': 127, 'passes': 3203, 'enterprise': 1495, 'performing': 3233, 'false': 1641, 'hill': 2108, 'shell': 3927, 'devils': 1229, 'hardcore': 2034, 'consists': 955, 'hundred': 2195, 'chair': 742, 'fear': 1676, 'bath': 411, 'executed': 1565, 'tree': 4576, 'torture': 4529, 'yelling': 4980, 'spanish': 4092, 'conversation': 980, 'friendship': 1838, 'notch': 3043, 'evening': 1534, 'terrific': 4409, 'entertainment': 1500, 'joan': 2404, 'walker': 4778, 'farce': 1654, 'importance': 2246, 'caring': 691, 'kirk': 2482, 'elderly': 1440, 'advice': 133, 'explosion': 1596, 'ice': 2210, 'travel': 4567, 'rich': 3685, 'lone': 2642, 'personalities': 3241, 'buddy': 609, 'scott': 3824, 'wayne': 4821, 'adventures': 131, 'pursuit': 3476, 'mexican': 2826, 'inevitable': 2282, 'accused': 91, 'grab': 1949, 'exciting': 1563, 'horses': 2171, 'foot': 1781, 'queen': 3485, 'buried': 624, 'ps': 3453, 'thankfully': 4422, 'revolutionary': 3681, 'miller': 2846, 'cliche': 843, 'access': 83, 'failure': 1629, 'constantly': 958, 'field': 1704, 'cases': 708, 'justice': 2438, 'potentially': 3356, 'bound': 553, 'helping': 2081, 'exercise': 1568, 'harry': 2039, 'provides': 3450, 'thrill': 4471, 'murders': 2943, 'vacation': 4704, 'clint': 850, 'eastwood': 1409, 'university': 4667, 'extras': 1608, 'students': 4239, 'stunt': 4245, 'bother': 548, 'compared': 912, 'pointed': 3317, 'silence': 3974, 'bridge': 578, 'pity': 3281, 'colour': 880, 'staged': 4140, 'victor': 4731, 'lemmon': 2567, 'chaos': 755, 'carl': 692, 'delivering': 1171, 'spirited': 4114, 'center': 732, 'performer': 3231, 'controversial': 978, 'opposed': 3122, 'nicely': 3009, 'hall': 2009, 'dreadful': 1353, 'weeks': 4839, 'rushed': 3760, 'anti': 254, 'displayed': 1292, 'chorus': 803, 'steals': 4172, 'justify': 2439, 'blows': 517, 'cake': 648, 'duke': 1383, 'lane': 2515, 'pain': 3170, 'pitt': 3280, 'rescue': 3643, 'cheated': 775, 'intelligence': 2313, 'warning': 4800, 'priest': 3392, 'judge': 2424, 'weak': 4824, 'severe': 3906, 'thugs': 4484, 'mall': 2720, 'surrounded': 4318, 'security': 3854, 'guard': 1988, 'kim': 2475, 'immediately': 2242, 'towards': 4540, 'drives': 1367, 'hood': 2151, 'sneak': 4043, 'demands': 1175, 'opens': 3115, 'anger': 235, 'enemy': 1477, 'refuses': 3587, 'shoot': 3942, 'tribute': 4581, 'dude': 1381, 'chased': 770, 'perspective': 3245, 'possibilities': 3348, 'hunting': 2201, 'chances': 748, 'gentle': 1890, 'donna': 1323, 'likable': 2598, 'ups': 4686, 'plane': 3288, 'trek': 4578, 'occasionally': 3075, 'actresses': 106, 'comfortable': 892, 'seven': 3903, 'emotionally': 1460, 'illogical': 2231, 'research': 3644, 'bond': 532, 'empathy': 1462, 'incident': 2260, 'core': 995, 'caused': 724, 'guilt': 1994, 'according': 88, 'bible': 477, 'disease': 1285, 'destroyed': 1214, 'physically': 3263, 'focus': 1766, 'subjects': 4254, 'beats': 426, 'furthermore': 1854, 'supposedly': 4307, 'lifetime': 2594, 'wed': 4835, 'distinct': 1296, 'literature': 2623, 'angle': 236, 'attached': 336, 'mood': 2898, 'reflect': 3584, 'infamous': 2284, 'afterwards': 145, 'closed': 854, 'bitter': 491, 'poetic': 3313, 'changing': 752, 'ancient': 225, 'massive': 2756, 'overlooked': 3154, 'focusing': 1769, 'frustrated': 1842, 'liberal': 2588, 'obsessed': 3069, 'passionate': 3206, 'sons': 4073, 'drawn': 1351, 'consistently': 954, 'bleak': 503, 'twin': 4615, 'deaths': 1142, 'twenty': 4612, 'martial': 2747, 'arts': 310, 'childrens': 793, 'walls': 4783, 'unbearable': 4633, 'gotten': 1947, 'fortunately': 1805, 'agent': 150, 'holiday': 2134, 'fancy': 1649, 'widow': 4883, 'display': 1291, 'spin': 4112, 'measure': 2786, 'hoped': 2156, 'tony': 4521, 'tragic': 4552, 'conclusion': 936, 'missed': 2867, 'north': 3036, 'doc': 1303, 'glimpse': 1919, 'skin': 4015, 'student': 4238, 'blade': 495, 'admittedly': 123, 'noted': 3045, 'seventies': 3904, 'companion': 909, 'mirror': 2861, 'image': 2233, 'deals': 1137, 'profound': 3423, 'realizes': 3554, 'contact': 961, 'disaster': 1276, 'oddly': 3081, 'taught': 4370, 'illness': 2230, 'fever': 1699, 'government': 1948, 'greater': 1965, 'doctors': 1305, 'widmark': 4882, 'health': 2060, 'walter': 4784, 'zero': 4996, 'stunts': 4246, 'heavy': 2070, 'tense': 4403, 'unfolds': 4651, 'taxi': 4371, 'cameras': 660, 'rough': 3741, 'editor': 1423, 'subtitles': 4259, 'eg': 1434, 'images': 2235, 'object': 3066, 'cynical': 1093, 'appreciation': 281, 'sexual': 3908, 'ego': 1435, 'chaplin': 756, 'praise': 3364, 'falk': 1636, 'blockbuster': 509, 'disc': 1278, 'waited': 4771, 'agree': 155, 'grandfather': 1954, '16': 8, 'rats': 3531, 'steal': 4170, 'giallo': 1904, 'spoiled': 4122, 'calls': 654, 'partner': 3198, 'asleep': 320, 'tiny': 4500, 'overcome': 3151, 'california': 650, '60s': 54, 'bay': 416, 'area': 286, '1968': 16, 'dave': 1123, 'mouse': 2919, 'dying': 1393, 'alcoholic': 177, 'pitch': 3279, 'theyll': 4444, 'loosely': 2651, 'instant': 2305, 'ruth': 3763, '2002': 32, 'cusack': 1088, 'unexpected': 4650, 'drivel': 1364, 'drew': 1360, 'wishing': 4907, 'lloyd': 2630, '45': 50, 'bobby': 525, 'protagonist': 3441, 'park': 3190, 'weekend': 4838, 'behave': 445, 'rarely': 3524, 'requires': 3642, 'lovable': 2668, 'stronger': 4230, 'rotten': 3740, 'adventure': 130, 'stevens': 4183, 'anthony': 253, 'ruthless': 3764, 'flynn': 1765, 'quest': 3486, 'magical': 2704, 'kingdom': 2480, 'corny': 997, 'princess': 3397, 'bride': 577, 'claire': 831, 'danes': 1108, 'michelle': 2830, 'delivers': 1172, 'stellar': 4174, 'hop': 2154, 'regret': 3591, 'putting': 3482, 'faith': 1633, 'church': 813, 'jesus': 2399, 'humble': 2191, 'daniel': 1111, 'businessman': 634, 'unlikely': 4671, 'assistant': 326, 'professor': 3422, 'humans': 2190, 'craft': 1028, 'stones': 4198, 'rocks': 3722, 'junk': 2436, 'suppose': 4305, 'bela': 450, 'lugosi': 2686, 'scientist': 3818, 'aged': 149, 'nightmare': 3014, 'gain': 1863, 'reaching': 3539, 'collection': 874, 'realize': 3552, 'santa': 3783, 'gag': 1861, 'iron': 2354, 'catchy': 717, 'everyones': 1543, 'morris': 2908, 'gender': 1878, 'amount': 219, 'root': 3737, 'prime': 3395, 'corruption': 1002, 'ryan': 3765, 'tea': 4373, 'hence': 2083, 'household': 2179, 'recall': 3562, 'splatter': 4118, 'plots': 3310, 'forgotten': 1797, 'convey': 982, 'receive': 3563, 'seemingly': 3863, 'essential': 1522, 'forgot': 1796, 'ned': 2986, 'beatty': 427, 'burt': 629, 'reynolds': 3684, 'mario': 2738, 'brady': 561, 'tender': 4401, 'crafted': 1029, 'blame': 499, 'billy': 482, 'cox': 1026, 'birds': 485, 'imagined': 2239, 'mountain': 2917, 'trial': 4580, 'bank': 394, 'failing': 1627, 'unpredictable': 4675, 'gifted': 1907, 'cowboy': 1025, 'underrated': 4642, 'determined': 1221, 'string': 4227, 'morality': 2903, 'choices': 798, 'devoted': 1231, 'streisand': 4218, 'concert': 935, 'howard': 2182, 'descent': 1193, 'hoffman': 2128, 'troubles': 4594, 'acts': 107, 'escapes': 1519, 'inevitably': 2283, 'handle': 2018, 'talents': 4356, 'draw': 1349, 'manipulative': 2727, 'flaws': 1752, 'ideal': 2214, 'rising': 3703, 'pops': 3332, 'poignant': 3315, 'dynamic': 1394, 'climactic': 848, 'response': 3654, 'honesty': 2148, 'pride': 3391, 'strikes': 4225, 'gary': 1873, 'veteran': 4724, 'print': 3399, 'transfer': 4559, 'digital': 1251, 'troubled': 4593, 'peters': 3248, 'producer': 3415, 'specific': 4099, 'directly': 1263, 'repeat': 3630, 'test': 4416, 'shirt': 3937, 'twelve': 4611, 'extended': 1604, 'alternate': 200, 'versions': 4721, 'calling': 653, 'holes': 2133, 'confusing': 942, 'flop': 1760, 'spike': 4111, 'sam': 3777, 'stanley': 4148, 'refreshing': 3586, 'river': 3707, 'displays': 1293, 'rocky': 3723, 'mountains': 2918, 'montana': 2895, 'albert': 174, 'fly': 1763, 'brenda': 575, 'craig': 1030, 'brad': 560, 'encounter': 1466, 'teenage': 4389, 'tie': 4488, 'spoken': 4126, 'animal': 239, 'soap': 4047, 'melodramatic': 2798, 'catches': 715, 'mass': 2753, 'crowd': 1067, 'destroy': 1213, 'soccer': 4048, 'authority': 360, 'frustration': 1843, 'womens': 4924, 'shoes': 3941, 'titled': 4505, 'canada': 666, 'mummy': 2937, 'intended': 2315, 'current': 1084, 'mysterious': 2955, 'travels': 4569, 'kidnapped': 2466, 'cult': 1077, 'swimming': 4338, 'pool': 3327, 'crush': 1072, 'blonde': 511, 'catching': 716, 'flies': 1756, 'sake': 3775, 'agrees': 157, 'mechanical': 2788, 'lips': 2615, 'meeting': 2794, 'anne': 246, 'chest': 784, 'suggests': 4282, 'frequent': 1831, 'stinks': 4192, 'graphic': 1958, 'miike': 2837, 'fascinated': 1657, 'succeeded': 4263, 'hits': 2125, 'artists': 309, 'promising': 3433, 'friday': 1834, 'thrilling': 4474, 'miserably': 2864, 'luckily': 2682, 'credit': 1049, 'performers': 3232, 'believing': 457, 'accents': 79, 'desperation': 1210, 'accomplished': 87, 'emotion': 1458, 'enjoys': 1489, 'depiction': 1185, 'punishment': 3467, 'finest': 1730, 'afford': 138, 'onto': 3111, 'grandmother': 1955, 'museum': 2945, 'golden': 1934, 'jerry': 2396, 'leslie': 2574, 'engaged': 1480, 'drag': 1342, 'ballet': 389, 'won': 4925, 'oscars': 3134, 'costume': 1005, 'contain': 962, 'rick': 3689, 'argue': 290, 'returning': 3667, 'previously': 3388, 'bite': 489, 'marks': 2742, 'switch': 4339, 'creatures': 1046, 'lying': 2690, 'ground': 1979, 'bothered': 549, 'mainly': 2708, 'suited': 4286, 'fitting': 1742, 'practically': 3362, 'pants': 3182, 'concerning': 933, 'sum': 4289, 'tonight': 4519, 'month': 2896, 'winner': 4897, 'andrews': 229, 'mixture': 2878, 'summer': 4291, 'boom': 537, 'ironically': 2356, 'soldiers': 4054, 'india': 2273, 'scottish': 3825, 'angela': 232, 'sole': 4055, 'deserved': 1200, 'shortly': 3947, 'gray': 1963, 'yellow': 4981, 'bird': 484, 'harvey': 2042, 'learning': 2552, 'roy': 3745, 'sides': 3967, 'bigger': 479, 'countryside': 1015, 'seeking': 3859, 'inducing': 2279, 'ignore': 2224, 'aint': 163, 'eastern': 1408, 'religion': 3607, 'served': 3894, 'examples': 1554, 'ken': 2453, 'incoherent': 2265, 'decisions': 1152, 'workers': 4943, 'flight': 1757, 'fair': 1630, 'poverty': 3357, 'blah': 496, 'younger': 4990, 'normally': 3034, 'australia': 356, 'settings': 3901, 'industry': 2280, 'location': 2635, '3d': 46, 'vietnam': 4735, 'attacked': 338, 'spirits': 4115, 'contains': 964, 'assault': 324, 'holds': 2131, 'throws': 4482, 'womans': 4922, 'bone': 533, 'letting': 2583, 'defined': 1160, 'notion': 3050, 'fighter': 1708, 'depressing': 1188, 'intent': 2318, 'cared': 685, 'considered': 951, 'regarding': 3589, 'manage': 2722, 'colors': 879, 'painted': 3174, 'executive': 1567, '1933': 12, 'faces': 1618, 'obscure': 3068, 'dubbed': 1379, 'inferior': 2285, 'kicked': 2461, 'studio': 4240, 'traveling': 4568, 'rights': 3697, 'advise': 134, 'ashley': 313, 'hong': 2149, 'kong': 2494, 'carrying': 701, 'prison': 3401, 'developing': 1224, 'attorney': 348, 'ties': 4490, '1940s': 13, 'breaking': 570, 'endure': 1475, 'tremendous': 4579, 'fourth': 1813, 'starting': 4158, 'restored': 3659, 'clip': 851, 'glory': 1922, 'dracula': 1341, 'frankenstein': 1822, 'row': 3744, 'chilling': 794, 'titles': 4506, 'arrival': 299, 'overdone': 3152, 'dr': 1340, 'von': 4765, 'bat': 410, 'unnecessary': 4672, 'holmes': 2139, 'kissing': 2484, 'showcase': 3954, 'miscast': 2862, 'cardboard': 682, 'dire': 1257, 'bus': 631, 'rage': 3505, 'merely': 2815, 'wet': 4855, 'bag': 384, 'attitude': 346, 'draws': 1352, 'andy': 230, 'ethan': 1528, 'enjoying': 1487, 'estate': 1525, 'market': 2740, 'existed': 1570, 'expensive': 1579, 'intentions': 2321, 'motivations': 2915, 'explored': 1595, 'greedy': 1969, 'desperate': 1208, 'consequences': 947, 'affect': 136, 'ultimate': 4627, 'answers': 252, 'appearing': 277, 'speaking': 4095, 'encounters': 1467, 'reasonably': 3559, 'builds': 617, 'warren': 4801, 'kills': 2474, '2nd': 41, 'escaped': 1518, 'visit': 4755, 'snl': 4044, 'intense': 2316, 'columbo': 881, 'funniest': 1851, 'admire': 121, 'san': 3780, 'francisco': 1819, 'fights': 1710, 'boxing': 556, 'worker': 4942, 'victoria': 4732, 'secretly': 3851, 'handsome': 2021, 'equipment': 1511, 'visits': 4756, 'defeat': 1157, 'warner': 4799, 'pat': 3208, 'pushed': 3478, 'drink': 1361, 'report': 3635, 'huh': 2187, 'faults': 1669, 'traditional': 4550, 'versus': 4722, 'concern': 931, 'exploitation': 1592, 'treats': 4575, 'scale': 3802, 'improve': 2254, 'split': 4120, 'parent': 3187, 'junior': 2435, 'pleasantly': 3303, 'eccentric': 1414, 'simon': 3982, 'robots': 3718, 'witches': 4910, 'aliens': 184, 'creator': 1043, 'carter': 703, 'ron': 3734, 'shine': 3931, 'cliché': 844, 'intention': 2319, 'tomatoes': 4515, 'rolling': 3730, 'overacting': 3149, 'granted': 1957, 'dollars': 1315, 'dentist': 1180, 'demand': 1174, 'centered': 733, 'grave': 1962, 'below': 462, 'sounded': 4082, 'enjoyment': 1488, 'burn': 625, 'horrendous': 2162, 'highest': 2102, 'result': 3660, 'tons': 4520, 'territory': 4411, 'process': 3412, 'emma': 1457, 'ellen': 1446, 'ya': 4976, 'surviving': 4323, 'patient': 3211, 'sees': 3866, 'prize': 3405, 'complain': 919, 'engage': 1479, 'murderous': 2942, 'quotes': 3497, 'removed': 3624, 'insight': 2298, 'rain': 3506, 'horse': 2170, 'indians': 2275, 'continue': 969, 'competition': 918, 'received': 3564, 'nevertheless': 3002, 'flying': 1764, 'helicopter': 2076, 'countless': 1012, 'cops': 993, 'investigate': 2342, 'solution': 4059, 'taste': 4369, 'knock': 2488, 'financial': 1725, 'schools': 3814, 'teach': 4374, 'lesson': 2577, 'idiot': 2218, 'explore': 1594, 'curiosity': 1082, 'productions': 3420, 'diamond': 1236, 'highlights': 2104, 'inept': 2281, 'jenny': 2393, 'drunken': 1376, 'halfway': 2008, 'contract': 973, 'jaws': 2385, 'steven': 4182, 'spielberg': 4110, 'superhero': 4299, 'fatal': 1664, 'nyc': 3065, 'unpleasant': 4674, 'resident': 3647, 'superman': 4301, 'introduction': 2339, 'luke': 2687, 'buddies': 608, 'ladies': 2506, 'june': 2433, 'christopher': 811, 'annie': 247, '1930s': 11, 'tricks': 4583, 'lowest': 2678, 'native': 2972, 'weakest': 4825, 'backgrounds': 381, 'plight': 3308, 'nearby': 2980, 'defend': 1158, 'catherine': 719, 'everyday': 1541, 'slasher': 4020, 'cannibal': 669, 'fare': 1655, 'mix': 2876, 'couples': 1017, 'cave': 727, 'ghosts': 1903, 'knife': 2487, 'flashback': 1746, 'cheating': 776, 'liking': 2604, 'sticks': 4186, 'continued': 970, 'irritating': 2359, 'joey': 2408, 'philosophy': 3254, 'thousand': 4465, 'shakespeare': 3915, 'medical': 2790, 'uwe': 4703, 'boll': 529, 'wood': 4933, 'embarrassed': 1453, 'pit': 3278, 'los': 2653, 'angeles': 233, 'screenwriter': 3833, 'drags': 1345, 'ninja': 3018, 'apartment': 265, 'paint': 3173, 'spring': 4134, 'cruise': 1071, 'focuses': 1768, 'tortured': 4530, 'covered': 1023, 'large': 2517, 'tune': 4602, 'germans': 1897, 'roots': 3738, 'sophisticated': 4075, 'todays': 4509, 'slave': 4022, 'trade': 4547, 'hatred': 2049, 'caine': 647, 'proceeds': 3411, 'ape': 266, 'generic': 1885, 'pretending': 3382, 'females': 1694, 'solely': 4056, 'balls': 390, 'extent': 1605, 'connected': 945, 'agreed': 156, 'arrogant': 303, 'eric': 1514, 'centers': 734, 'touched': 4534, 'alright': 198, 'racism': 3502, 'usa': 4691, 'walked': 4776, 'generations': 1884, 'lifestyle': 2593, 'causes': 725, 'secretary': 3850, 'commit': 904, 'psychotic': 3459, 'paranoia': 3186, 'vaguely': 4706, 'polished': 3323, 'adams': 112, 'happening': 2028, 'illegal': 2229, 'argument': 291, 'offended': 3085, 'brosnan': 597, 'grey': 1973, 'hearing': 2063, 'revelation': 3674, 'unconvincing': 4638, 'express': 1600, 'robin': 3715, 'dramas': 1347, 'photo': 3257, 'suffered': 4276, 'aids': 161, 'online': 3109, 'bergman': 466, 'terry': 4415, 'folk': 1770, 'liners': 2611, 'alice': 182, 'superficial': 4298, 'improved': 2255, 'invisible': 2344, '75': 57, 'rank': 3518, 'routine': 3743, 'limits': 2607, 'chases': 771, 'buildings': 616, 'loss': 2659, 'mom': 2885, 'helen': 2075, 'carrie': 697, 'baker': 385, 'hire': 2116, 'block': 508, 'hates': 2048, 'colorful': 878, 'pulls': 3464, 'tame': 4363, 'wreck': 4965, 'historically': 2120, 'stooges': 4200, 'steps': 4177, 'reached': 3537, 'september': 3884, 'plans': 3292, 'hbo': 2055, 'movements': 2924, 'strength': 4219, 'clown': 862, 'introduced': 2337, 'hiding': 2099, 'square': 4136, 'parties': 3196, 'undoubtedly': 4648, 'amitabh': 216, 'duty': 1390, 'kapoor': 2443, 'patrick': 3213, 'arm': 292, 'atmospheric': 334, 'progress': 3425, 'doors': 1329, 'ted': 4386, 'dislike': 1288, 'involving': 2349, 'grim': 1974, 'commercials': 903, 'unrealistic': 4677, 'carpenter': 694, 'curtis': 1087, 'status': 4165, 'independent': 2272, 'simplistic': 3985, 'beast': 422, 'caliber': 649, 'mars': 2746, 'halloween': 2010, 'places': 3284, 'originality': 3130, 'thrills': 4475, 'terrifying': 4410, 'intrigued': 2334, 'synopsis': 4344, 'purchase': 3469, 'videos': 4734, 'conflict': 939, 'ashamed': 312, 'allow': 189, 'stood': 4199, 'reasonable': 3558, 'opposite': 3123, 'dogs': 1311, 'dinosaurs': 1256, 'overlook': 3153, 'keaton': 2448, '1984': 23, 'da': 1094, 'operation': 3117, 'kenneth': 2455, 'branagh': 564, 'principal': 3398, 'derek': 1192, 'depicts': 1186, 'nicholas': 3010, 'hippie': 2115, 'rebel': 3561, 'environment': 1505, 'destroying': 1215, 'joined': 2413, 'belongs': 460, 'capturing': 679, 'cure': 1081, 'karloff': 2445, 'visible': 4753, 'millions': 2848, 'cultural': 1078, 'figures': 1713, 'happily': 2030, 'cooper': 990, 'rule': 3753, 'hadnt': 2004, 'step': 4175, 'judging': 2425, 'convoluted': 987, 'cagney': 646, 'ruby': 3749, 'dick': 1239, 'powell': 3358, 'endearing': 1469, 'pack': 3165, 'repetitive': 3633, 'nostalgic': 3039, 'friendly': 1836, 'challenge': 743, 'sir': 4000, 'tommy': 4516, '1983': 22, 'bo': 521, 'shirley': 3936, 'clues': 865, '13th': 5, 'upset': 4687, 'birthday': 487, 'bloody': 513, 'tradition': 4549, 'banned': 395, 'fulci': 1845, 'prefer': 3368, 'court': 1020, 'interview': 2329, 'jet': 2400, 'sounding': 4083, 'assigned': 325, 'receives': 3565, 'celebrity': 729, 'rules': 3754, 'responsibility': 3655, 'jackson': 2375, 'recognition': 3568, 'sacrifice': 3766, 'losers': 2656, 'cameron': 661, 'april': 284, 'remind': 3618, 'rose': 3739, 'combine': 884, 'seeks': 3860, 'ocean': 3079, 'experiences': 1582, 'offensive': 3086, 'fooled': 1780, 'hello': 2078, 'arnold': 296, 'heights': 2073, 'obsession': 3070, 'lion': 2614, 'angel': 231, 'trio': 4587, 'holding': 2130, 'counter': 1011, 'purely': 3472, 'climax': 849, 'effectively': 1430, 'sidney': 3968, 'lab': 2501, 'mill': 2845, 'awfully': 373, 'miracle': 2860, 'fish': 1738, 'loses': 2657, 'pan': 3180, 'alexander': 180, 'scientific': 3817, 'classics': 837, 'charisma': 762, 'defense': 1159, 'paltrow': 3178, 'complaint': 920, 'staying': 4168, 'hardy': 2037, 'weve': 4856, 'listed': 2618, 'wizard': 4919, 'oz': 3160, 'chase': 769, 'mistaken': 2872, 'backdrop': 379, 'eyre': 1614, 'dalton': 1098, 'rochester': 3719, 'clark': 832, 'waves': 4819, 'surfing': 4311, 'sean': 3840, 'aging': 153, 'mundane': 2938, 'meat': 2787, 'trilogy': 4586, 'babe': 375, 'faithful': 1634, 'satisfying': 3791, 'plastic': 3294, 'turning': 4608, 'truck': 4595, 'allowing': 191, 'finger': 1731, 'religious': 3608, 'protect': 3443, 'featuring': 1681, 'species': 4098, 'enters': 1496, 'anime': 243, 'mrs': 2930, 'wacky': 4769, 'robinson': 3716, 'burns': 628, 'mexico': 2827, 'cried': 1054, 'bargain': 400, 'lawyer': 2541, 'enter': 1494, 'ruin': 3750, 'pro': 3406, 'wrap': 4963, 'warm': 4794, 'blues': 519, 'explosions': 1597, 'favourite': 1673, 'rabbit': 3498, 'toys': 4543, 'unbelievably': 4635, 'shorts': 3948, 'loads': 2633, 'cole': 873, 'willis': 4890, 'progresses': 3426, 'ho': 2127, 'warrior': 4802, 'gradually': 1952, 'broad': 590, 'increasingly': 2268, 'convinced': 984, 'airport': 167, 'survivor': 4324, 'performs': 3234, 'merit': 2816, 'recording': 3575, 'judy': 2426, 'vulnerable': 4768, 'characterization': 759, 'vicious': 4728, 'solo': 4058, 'criticism': 1063, 'inane': 2258, 'nonsensical': 3031, 'fathers': 1667, 'considerable': 950, 'lena': 2568, 'familys': 1646, 'woody': 4936, 'angels': 234, 'threw': 4470, 'christians': 809, 'treatment': 4574, 'spain': 4091, 'slap': 4018, 'claimed': 829, 'misery': 2865, 'remarks': 3615, 'expressed': 1601, 'spiritual': 4116, 'poem': 3312, 'photos': 3261, 'photographer': 3259, 'hooked': 2153, 'cheese': 780, 'grinch': 1975, 'taylor': 4372, 'virginia': 4750, 'civil': 826, 'dawn': 1127, 'consistent': 953, 'introduces': 2338, 'intellectual': 2312, 'mate': 2765, 'hyde': 2206, 'resembles': 3646, 'spy': 4135, 'threatening': 4468, 'novels': 3053, 'edward': 1426, 'stargate': 4151, 'korean': 2495, 'legend': 2564, 'unusual': 4681, 'dragon': 1344, 'kurt': 2499, 'slaughter': 4021, 'overly': 3155, '1990s': 25, 'buffs': 612, 'vincent': 4746, 'stated': 4161, '1973': 19, 'useless': 4695, 'lust': 2689, 'worlds': 4947, 'detailed': 1218, 'extraordinary': 1607, 'ears': 1402, 'tarzan': 4367, 'entry': 1504, 'whoever': 4872, 'florida': 1761, 'indie': 2276, '1980s': 21, 'witnesses': 4916, 'worried': 4949, '1980': 20, 'gordon': 1940, 'drops': 1372, 'classical': 836, 'costs': 1004, 'porno': 3337, 'pie': 3271, 'jeremy': 2394, 'uncle': 4636, 'universe': 4666, 'record': 3573, 'menace': 2806, 'corpse': 999, 'denzel': 1181, 'cities': 823, 'earned': 1401, 'structure': 4233, 'trademark': 4548, 'creators': 1044, 'sutherland': 4333, 'unit': 4663, 'primary': 3394, 'tend': 4400, 'matches': 2764, 'ought': 3138, 'account': 89, 'flaw': 1749, 'sixties': 4011, 'inspiring': 2302, 'credibility': 1047, 'charismatic': 763, 'philosophical': 3253, 'hollow': 2135, 'stale': 4141, 'neo': 2998, 'matters': 2770, 'pleased': 3305, 'relevant': 3604, 'moody': 2899, 'goodness': 1938, 'jeffrey': 2391, 'diane': 1238, 'jeff': 2390, 'selfish': 3870, 'anna': 245, 'abysmal': 76, 'attracted': 349, 'portrait': 3339, 'peace': 3219, 'chinese': 796, 'invasion': 2340, 'map': 2733, 'et': 1526, 'dignity': 1252, 'godzilla': 1929, 'monkey': 2890, 'namely': 2962, 'mafia': 2700, 'ii': 2226, 'jackie': 2374, 'chan': 746, 'tiger': 4491, 'davies': 1125, 'warriors': 4803, 'secondly': 3847, 'properly': 3437, 'gonna': 1936, 'eddie': 1416, 'adam': 111, 'cameos': 658, 'bottle': 550, 'franchise': 1817, 'jumps': 2432, 'dropped': 1370, 'kudos': 2497, 'wholly': 4874, 'paulie': 3215, 'inventive': 2341, 'spite': 4117, 'westerns': 4854, 'messages': 2820, 'edition': 1422, 'broke': 593, 'jumping': 2431, 'anderson': 227, 'awe': 370, 'exploration': 1593, 'pulling': 3463, 'punk': 3468, 'sandra': 3782, 'exposure': 1599, 'shoots': 3944, 'brilliance': 582, 'swim': 4337, 'national': 2970, 'sentimental': 3882, 'pot': 3354, 'screening': 3830, 'keeping': 2450, 'develops': 1226, 'distribution': 1298, 'scope': 3821, 'smaller': 4034, 'lol': 2640, 'outrageous': 3145, 'homosexual': 2145, 'wells': 4845, 'mindless': 2851, 'subplots': 4256, 'bette': 471, 'davis': 1126, 'mildred': 2841, 'rogers': 3725, 'waitress': 4773, 'widely': 4881, 'complicated': 925, 'pages': 3168, 'experiments': 1584, 'method': 2824, 'maintain': 2710, 'provoking': 3452, 'striking': 4226, 'fest': 1696, 'offered': 3088, 'purposes': 3475, 'dickens': 1240, 'kennedy': 2454, 'excessive': 1560, 'property': 3438, 'evident': 1547, 'perfection': 3225, 'eerie': 1427, 'kubrick': 2496, 'heck': 2071, 'hysterical': 2208, 'terrorists': 4414, 'hunt': 2198, 'noble': 3021, 'study': 4242, 'realizing': 3555, 'disappoint': 1272, 'circumstances': 822, 'doubts': 1333, 'scenery': 3810, 'careful': 688, 'thru': 4483, 'hospital': 2172, 'thief': 4448, 'hunters': 2200, 'abandoned': 62, 'trail': 4553, 'rival': 3706, 'astaire': 330, 'choreography': 802, 'snake': 4042, 'discovers': 1281, 'valuable': 4708, 'americas': 215, 'nation': 2969, 'catholic': 720, 'carradine': 695, 'walken': 4777, 'cats': 721, 'outer': 3143, '1st': 28, 'fx': 1858, 'blake': 498, 'guilty': 1995, 'riding': 3695, 'overrated': 3156, 'maggie': 2702, 'garden': 1872, 'sin': 3988, 'sellers': 3872, 'touches': 4535, 'audio': 354, 'cd': 728, 'statement': 4162, 'deeper': 1155, 'fury': 1855, 'seagal': 3839, 'achieve': 92, 'directions': 1262, 'foster': 1809, 'sally': 3776, 'richards': 3687, 'stiller': 4189, 'louise': 2666, 'rush': 3759, 'ensemble': 1492, 'wes': 4851, 'macy': 2695, 'struck': 4232, 'crack': 1027, 'atlantis': 332, 'landscapes': 2514, 'doomed': 1327, 'roman': 3731, 'constant': 957, 'survival': 4320, 'areas': 287, 'send': 3875, 'pulp': 3465, 'avoided': 364, 'acid': 95, 'welles': 4844, 'comics': 895, 'strangers': 4214, 'cards': 683, 'definition': 1163, 'resources': 3651, 'baseball': 403, 'retired': 3664, 'marry': 2745, 'preview': 3386, 'march': 2734, 'guest': 1992, 'marty': 2749, 'mayor': 2777, 'notorious': 3051, 'hitler': 2124, 'thousands': 4466, 'suspicious': 4332, 'laws': 2540, 'mentions': 2813, 'alien': 183, 'tied': 4489, 'nurse': 3063, 'calm': 655, 'mothers': 2912, 'surrounding': 4319, 'hamilton': 2012, 'promises': 3432, 'elizabeth': 1445, 'wake': 4774, 'thoughts': 4464, 'global': 1920, 'dealt': 1138, 'franco': 1820, '80': 58, 'nostalgia': 3038, 'educational': 1425, 'virus': 4752, 'hudson': 2184, 'dean': 1139, 'oil': 3097, 'coffee': 870, 'neighborhood': 2993, 'convincingly': 986, 'exceptionally': 1559, 'improvement': 2256, 'tag': 4348, 'unintentionally': 4659, 'domestic': 1318, 'equivalent': 1512, 'mentally': 2809, 'riveting': 3708, 'uninspired': 4657, 'coach': 868, 'slick': 4026, 'arms': 294, 'likewise': 2603, 'wound': 4960, 'lay': 2542, 'sloppy': 4030, 'matt': 2768, 'blank': 501, 'brutally': 604, 'teacher': 4375, 'orson': 3132, 'citizen': 824, 'kane': 2442, 'kung': 2498, 'fu': 1844, 'arrested': 298, 'virgin': 4749, 'threat': 4467, 'hideous': 2098, 'pushing': 3479, 'mitchell': 2875, 'subplot': 4255, 'comedian': 887, 'bumbling': 622, 'assumed': 329, 'analysis': 224, 'empire': 1464, 'zone': 4999, 'substance': 4258, 'masses': 2755, 'fields': 1705, 'miserable': 2863, 'hole': 2132, 'throwing': 4480, 'lucy': 2684, 'primarily': 3393, 'splendid': 4119, 'bugs': 613, 'streep': 4215, 'brave': 567, 'craven': 1034, 'round': 3742, 'identify': 2216, 'stranger': 4213, 'tad': 4347, 'waters': 4817, 'regard': 3588, 'reads': 3545, 'justin': 2440, 'daddy': 1096, 'lucas': 2680, 'prevent': 3385, 'beliefs': 452, 'wonders': 4931, 'twilight': 4614, 'underlying': 4641, 'hype': 2207, 'portray': 3340, 'driving': 1368, 'colonel': 876, 'generated': 1882, 'amazingly': 210, 'prom': 3429, 'fortune': 1806, 'bull': 619, 'conversations': 981, 'mann': 2728, 'contest': 967, 'driver': 1366, 'safety': 3772, 'painting': 3175, '2004': 34, 'deceased': 1146, 'stress': 4220, 'sport': 4129, 'sullivan': 4288, 'grows': 1985, 'reputation': 3640, 'testament': 4417, 'hurts': 2203, 'savage': 3793, 'matched': 2763, 'slightest': 4028, 'intrigue': 2333, 'hollywoods': 2138, 'montage': 2894, 'questionable': 3488, 'union': 4661, 'blob': 507, 'bollywood': 530, 'prostitute': 3440, 'path': 3209, 'incomprehensible': 2267, 'elm': 1447, 'farm': 1656, '35': 45, 'parker': 3191, 'glenn': 1918, 'exceptional': 1558, 'nations': 2971, 'teaching': 4377, 'clothing': 861, 'doll': 1313, 'steel': 4173, 'wished': 4905, 'cube': 1076, 'picking': 3267, 'nonetheless': 3029, 'retarded': 3663, 'myers': 2952, 'abusive': 75, 'spots': 4132, 'criminals': 1058, 'raw': 3532, 'sincere': 3991, 'dub': 1378, 'realise': 3548, 'smoke': 4039, 'batman': 413, 'fond': 1776, 'card': 681, 'signed': 3971, 'seed': 3856, 'phony': 3256, 'football': 1783, 'leg': 2562, 'popularity': 3334, 'button': 639, 'damage': 1099, 'gerard': 1895, 'meaningful': 2781, 'thrillers': 4473, 'ritter': 3705, 'uncomfortable': 4637, 'ignored': 2225, 'cary': 706, 'wolf': 4920, 'survivors': 4325, 'olivier': 3103, 'pal': 3177, 'futuristic': 1857, 'disturbed': 1299, 'phantom': 3251, 'betty': 474, 'kicks': 2463, 'psychiatrist': 3455, 'britain': 588, 'cliff': 847, 'neighbor': 2992, 'link': 2613, 'guide': 1993, 'eaten': 1412, 'murphy': 2944, 'understandable': 4644, 'idiotic': 2219, 'travesty': 4570, 'nazi': 2977, 'cinemas': 817, 'burton': 630, 'purple': 3473, '1999': 27, 'beer': 439, 'conservative': 948, 'charlotte': 766, 'dressing': 1359, 'mentioning': 2812, 'cup': 1080, 'wallace': 4782, 'sleazy': 4023, 'unaware': 4632, 'jesse': 2397, 'monk': 2889, 'brooklyn': 595, 'idiots': 2220, 'goal': 1925, 'bourne': 554, 'ramones': 3512, 'deaf': 1134, 'recorded': 3574, 'producing': 3417, 'heat': 2067, 'ginger': 1908, 'occasional': 3074, 'greek': 1970, 'basement': 405, 'roberts': 3714, 'dust': 1388, 'che': 773, 'cuba': 1075, 'li': 2587, 'akshay': 169, 'loaded': 2632, 'campbell': 663, 'unhappy': 4656, 'mysteries': 2954, 'interviews': 2330, 'errors': 1516, 'shelf': 3926, 'berlin': 467, 'navy': 2976, 'prequel': 3372, 'occurred': 3077, 'icon': 2211, 'apes': 267, 'teachers': 4376, 'perry': 3237, 'manhattan': 2726, 'bullet': 620, 'basketball': 409, 'ticket': 4487, 'gandhi': 1866, 'exposed': 1598, 'singers': 3994, 'wore': 4939, 'trees': 4577, 'hal': 2006, 'sheriff': 3929, 'desired': 1206, 'writes': 4970, 'chooses': 800, 'fisher': 1739, 'nazis': 2978, 'divorce': 1301, 'legal': 2563, 'rural': 3758, 'journalist': 2420, 'curse': 1086, 'trashy': 4566, 'chapter': 757, 'abraham': 69, 'lincoln': 2608, 'spider': 4109, 'prisoner': 3402, 'matthau': 2771, 'lisa': 2616, 'vengeance': 4719, 'cook': 988, 'elephant': 1444, 'scooby': 3820, 'doo': 1325, 'messed': 2821, 'polanski': 3321, 'pretend': 3381, 'forbidden': 1785, 'ruins': 3752, 'simpson': 3987, 'domino': 1319, 'magazine': 2701, 'bacall': 377, 'sandler': 3781, 'bands': 392, 'goldberg': 1933, 'despair': 1207, 'broadcast': 591, 'useful': 4694, 'honor': 2150, 'rambo': 3511, 'agents': 151, 'gotta': 1946, 'unwatchable': 4682, 'dialogues': 1235, 'nomination': 3026, 'capital': 673, 'bucks': 606, 'hugh': 2186, 'niro': 3019, 'alcohol': 176, 'rat': 3525, 'designs': 1204, 'jay': 2386, 'bakshi': 386, 'sid': 3964, 'reaches': 3538, 'artificial': 306, 'vice': 4727, 'bud': 607, 'der': 1191, 'holly': 2136, 'mtv': 2933, 'plant': 3293, 'melting': 2799, 'neil': 2995, 'amy': 222, 'bang': 393, 'gundam': 1997, 'championship': 745, 'showdown': 3955, 'pamela': 3179, 'tiresome': 4502, 'iii': 2227, 'robbins': 3712, 'scarecrow': 3804, 'incompetent': 2266, 'celluloid': 731, 'aid': 160, 'diana': 1237, 'mickey': 2831, 'hilariously': 2107, 'del': 1165, 'stan': 4142, 'ridden': 3691, 'laurel': 2537, 'bettie': 473, 'andrew': 228, 'dutch': 1389, 'dinosaur': 1255, 'comparing': 913, 'lumet': 2688, 'scrooge': 3837, 'fetched': 1698, 'iran': 2350, 'wendy': 4846, 'dolph': 1317, 'garbo': 1871}\n"
     ]
    }
   ],
   "source": [
    "print(str(vocabulary))"
   ]
  },
  {
   "cell_type": "markdown",
   "metadata": {},
   "source": [
    "Once you have added the endpoint name to the Lambda function, click on **Save**. Your Lambda function is now up and running. Next we need to create a way for our web app to execute the Lambda function."
   ]
  },
  {
   "cell_type": "markdown",
   "metadata": {},
   "source": [
    "### Setting up API Gateway\n",
    "\n",
    "Now that our Lambda function is set up, it is time to create a new API using API Gateway that will trigger the Lambda function we have just created.\n",
    "\n",
    "Using AWS Console, navigate to **Amazon API Gateway** and then click on **Get started**.\n",
    "\n",
    "On the next page, make sure that **New API** is selected and give the new api a name, for example, `sentiment_analysis_web_app`. Then, click on **Create API**.\n",
    "\n",
    "Now we have created an API, however it doesn't currently do anything. What we want it to do is to trigger the Lambda function that we created earlier.\n",
    "\n",
    "Select the **Actions** dropdown menu and click **Create Method**. A new blank method will be created, select its dropdown menu and select **POST**, then click on the check mark beside it.\n",
    "\n",
    "For the integration point, make sure that **Lambda Function** is selected and click on the **Use Lambda Proxy integration**. This option makes sure that the data that is sent to the API is then sent directly to the Lambda function with no processing. It also means that the return value must be a proper response object as it will also not be processed by API Gateway.\n",
    "\n",
    "Type the name of the Lambda function you created earlier into the **Lambda Function** text entry box and then click on **Save**. Click on **OK** in the pop-up box that then appears, giving permission to API Gateway to invoke the Lambda function you created.\n",
    "\n",
    "The last step in creating the API Gateway is to select the **Actions** dropdown and click on **Deploy API**. You will need to create a new Deployment stage and name it anything you like, for example `prod`.\n",
    "\n",
    "You have now successfully set up a public API to access your SageMaker model. Make sure to copy or write down the URL provided to invoke your newly created public API as this will be needed in the next step. This URL can be found at the top of the page, highlighted in blue next to the text **Invoke URL**."
   ]
  },
  {
   "cell_type": "markdown",
   "metadata": {},
   "source": [
    "## Step 7: Deploying our web app\n",
    "\n",
    "Now that we have a publicly available API, we can start using it in a web app. For our purposes, we have provided a simple static html file which can make use of the public api you created earlier.\n",
    "\n",
    "In the `website` folder there should be a file called `index.html`. Download the file to your computer and open that file up in a text editor of your choice. There should be a line which contains **\\*\\*REPLACE WITH PUBLIC API URL\\*\\***. Replace this string with the url that you wrote down in the last step and then save the file.\n",
    "\n",
    "Now, if you open `index.html` on your local computer, your browser will behave as a local web server and you can use the provided site to interact with your SageMaker model.\n",
    "\n",
    "If you'd like to go further, you can host this html file anywhere you'd like, for example using github or hosting a static site on Amazon's S3. Once you have done this you can share the link with anyone you'd like and have them play with it too!\n",
    "\n",
    "> **Important Note** In order for the web app to communicate with the SageMaker endpoint, the endpoint has to actually be deployed and running. This means that you are paying for it. Make sure that the endpoint is running when you want to use the web app but that you shut it down when you don't need it, otherwise you will end up with a surprisingly large AWS bill."
   ]
  },
  {
   "cell_type": "markdown",
   "metadata": {},
   "source": [
    "### Delete the endpoint\n",
    "\n",
    "Remember to always shut down your endpoint if you are no longer using it. You are charged for the length of time that the endpoint is running so if you forget and leave it on you could end up with an unexpectedly large bill."
   ]
  },
  {
   "cell_type": "code",
   "execution_count": 52,
   "metadata": {},
   "outputs": [],
   "source": [
    "xgb_predictor.delete_endpoint()"
   ]
  },
  {
   "cell_type": "markdown",
   "metadata": {},
   "source": [
    "## Optional: Clean up\n",
    "\n",
    "The default notebook instance on SageMaker doesn't have a lot of excess disk space available. As you continue to complete and execute notebooks you will eventually fill up this disk space, leading to errors which can be difficult to diagnose. Once you are completely finished using a notebook it is a good idea to remove the files that you created along the way. Of course, you can do this from the terminal or from the notebook hub if you would like. The cell below contains some commands to clean up the created files from within the notebook."
   ]
  },
  {
   "cell_type": "code",
   "execution_count": 53,
   "metadata": {},
   "outputs": [
    {
     "ename": "OSError",
     "evalue": "[Errno 12] Cannot allocate memory",
     "output_type": "error",
     "traceback": [
      "\u001b[0;31m---------------------------------------------------------------------------\u001b[0m",
      "\u001b[0;31mOSError\u001b[0m                                   Traceback (most recent call last)",
      "\u001b[0;32m<ipython-input-53-2c87d8eefdf2>\u001b[0m in \u001b[0;36m<module>\u001b[0;34m\u001b[0m\n\u001b[1;32m      1\u001b[0m \u001b[0;31m# First we will remove all of the files contained in the data_dir directory\u001b[0m\u001b[0;34m\u001b[0m\u001b[0;34m\u001b[0m\u001b[0;34m\u001b[0m\u001b[0m\n\u001b[0;32m----> 2\u001b[0;31m \u001b[0mget_ipython\u001b[0m\u001b[0;34m(\u001b[0m\u001b[0;34m)\u001b[0m\u001b[0;34m.\u001b[0m\u001b[0msystem\u001b[0m\u001b[0;34m(\u001b[0m\u001b[0;34m'rm $data_dir/*'\u001b[0m\u001b[0;34m)\u001b[0m\u001b[0;34m\u001b[0m\u001b[0;34m\u001b[0m\u001b[0m\n\u001b[0m\u001b[1;32m      3\u001b[0m \u001b[0;34m\u001b[0m\u001b[0m\n\u001b[1;32m      4\u001b[0m \u001b[0;31m# And then we delete the directory itself\u001b[0m\u001b[0;34m\u001b[0m\u001b[0;34m\u001b[0m\u001b[0;34m\u001b[0m\u001b[0m\n\u001b[1;32m      5\u001b[0m \u001b[0mget_ipython\u001b[0m\u001b[0;34m(\u001b[0m\u001b[0;34m)\u001b[0m\u001b[0;34m.\u001b[0m\u001b[0msystem\u001b[0m\u001b[0;34m(\u001b[0m\u001b[0;34m'rmdir $data_dir'\u001b[0m\u001b[0;34m)\u001b[0m\u001b[0;34m\u001b[0m\u001b[0;34m\u001b[0m\u001b[0m\n",
      "\u001b[0;32m~/anaconda3/envs/pytorch_p36/lib/python3.6/site-packages/ipykernel/zmqshell.py\u001b[0m in \u001b[0;36msystem_piped\u001b[0;34m(self, cmd)\u001b[0m\n\u001b[1;32m    648\u001b[0m                 \u001b[0mself\u001b[0m\u001b[0;34m.\u001b[0m\u001b[0muser_ns\u001b[0m\u001b[0;34m[\u001b[0m\u001b[0;34m'_exit_code'\u001b[0m\u001b[0;34m]\u001b[0m \u001b[0;34m=\u001b[0m \u001b[0msystem\u001b[0m\u001b[0;34m(\u001b[0m\u001b[0mcmd\u001b[0m\u001b[0;34m)\u001b[0m\u001b[0;34m\u001b[0m\u001b[0;34m\u001b[0m\u001b[0m\n\u001b[1;32m    649\u001b[0m         \u001b[0;32melse\u001b[0m\u001b[0;34m:\u001b[0m\u001b[0;34m\u001b[0m\u001b[0;34m\u001b[0m\u001b[0m\n\u001b[0;32m--> 650\u001b[0;31m             \u001b[0mself\u001b[0m\u001b[0;34m.\u001b[0m\u001b[0muser_ns\u001b[0m\u001b[0;34m[\u001b[0m\u001b[0;34m'_exit_code'\u001b[0m\u001b[0;34m]\u001b[0m \u001b[0;34m=\u001b[0m \u001b[0msystem\u001b[0m\u001b[0;34m(\u001b[0m\u001b[0mself\u001b[0m\u001b[0;34m.\u001b[0m\u001b[0mvar_expand\u001b[0m\u001b[0;34m(\u001b[0m\u001b[0mcmd\u001b[0m\u001b[0;34m,\u001b[0m \u001b[0mdepth\u001b[0m\u001b[0;34m=\u001b[0m\u001b[0;36m1\u001b[0m\u001b[0;34m)\u001b[0m\u001b[0;34m)\u001b[0m\u001b[0;34m\u001b[0m\u001b[0;34m\u001b[0m\u001b[0m\n\u001b[0m\u001b[1;32m    651\u001b[0m \u001b[0;34m\u001b[0m\u001b[0m\n\u001b[1;32m    652\u001b[0m     \u001b[0;31m# Ensure new system_piped implementation is used\u001b[0m\u001b[0;34m\u001b[0m\u001b[0;34m\u001b[0m\u001b[0;34m\u001b[0m\u001b[0m\n",
      "\u001b[0;32m~/anaconda3/envs/pytorch_p36/lib/python3.6/site-packages/IPython/utils/_process_posix.py\u001b[0m in \u001b[0;36msystem\u001b[0;34m(self, cmd)\u001b[0m\n\u001b[1;32m    155\u001b[0m                 \u001b[0mchild\u001b[0m \u001b[0;34m=\u001b[0m \u001b[0mpexpect\u001b[0m\u001b[0;34m.\u001b[0m\u001b[0mspawnb\u001b[0m\u001b[0;34m(\u001b[0m\u001b[0mself\u001b[0m\u001b[0;34m.\u001b[0m\u001b[0msh\u001b[0m\u001b[0;34m,\u001b[0m \u001b[0margs\u001b[0m\u001b[0;34m=\u001b[0m\u001b[0;34m[\u001b[0m\u001b[0;34m'-c'\u001b[0m\u001b[0;34m,\u001b[0m \u001b[0mcmd\u001b[0m\u001b[0;34m]\u001b[0m\u001b[0;34m)\u001b[0m \u001b[0;31m# Pexpect-U\u001b[0m\u001b[0;34m\u001b[0m\u001b[0;34m\u001b[0m\u001b[0m\n\u001b[1;32m    156\u001b[0m             \u001b[0;32melse\u001b[0m\u001b[0;34m:\u001b[0m\u001b[0;34m\u001b[0m\u001b[0;34m\u001b[0m\u001b[0m\n\u001b[0;32m--> 157\u001b[0;31m                 \u001b[0mchild\u001b[0m \u001b[0;34m=\u001b[0m \u001b[0mpexpect\u001b[0m\u001b[0;34m.\u001b[0m\u001b[0mspawn\u001b[0m\u001b[0;34m(\u001b[0m\u001b[0mself\u001b[0m\u001b[0;34m.\u001b[0m\u001b[0msh\u001b[0m\u001b[0;34m,\u001b[0m \u001b[0margs\u001b[0m\u001b[0;34m=\u001b[0m\u001b[0;34m[\u001b[0m\u001b[0;34m'-c'\u001b[0m\u001b[0;34m,\u001b[0m \u001b[0mcmd\u001b[0m\u001b[0;34m]\u001b[0m\u001b[0;34m)\u001b[0m  \u001b[0;31m# Vanilla Pexpect\u001b[0m\u001b[0;34m\u001b[0m\u001b[0;34m\u001b[0m\u001b[0m\n\u001b[0m\u001b[1;32m    158\u001b[0m             \u001b[0mflush\u001b[0m \u001b[0;34m=\u001b[0m \u001b[0msys\u001b[0m\u001b[0;34m.\u001b[0m\u001b[0mstdout\u001b[0m\u001b[0;34m.\u001b[0m\u001b[0mflush\u001b[0m\u001b[0;34m\u001b[0m\u001b[0;34m\u001b[0m\u001b[0m\n\u001b[1;32m    159\u001b[0m             \u001b[0;32mwhile\u001b[0m \u001b[0;32mTrue\u001b[0m\u001b[0;34m:\u001b[0m\u001b[0;34m\u001b[0m\u001b[0;34m\u001b[0m\u001b[0m\n",
      "\u001b[0;32m~/anaconda3/envs/pytorch_p36/lib/python3.6/site-packages/pexpect/pty_spawn.py\u001b[0m in \u001b[0;36m__init__\u001b[0;34m(self, command, args, timeout, maxread, searchwindowsize, logfile, cwd, env, ignore_sighup, echo, preexec_fn, encoding, codec_errors, dimensions, use_poll)\u001b[0m\n\u001b[1;32m    203\u001b[0m             \u001b[0mself\u001b[0m\u001b[0;34m.\u001b[0m\u001b[0mname\u001b[0m \u001b[0;34m=\u001b[0m \u001b[0;34m'<pexpect factory incomplete>'\u001b[0m\u001b[0;34m\u001b[0m\u001b[0;34m\u001b[0m\u001b[0m\n\u001b[1;32m    204\u001b[0m         \u001b[0;32melse\u001b[0m\u001b[0;34m:\u001b[0m\u001b[0;34m\u001b[0m\u001b[0;34m\u001b[0m\u001b[0m\n\u001b[0;32m--> 205\u001b[0;31m             \u001b[0mself\u001b[0m\u001b[0;34m.\u001b[0m\u001b[0m_spawn\u001b[0m\u001b[0;34m(\u001b[0m\u001b[0mcommand\u001b[0m\u001b[0;34m,\u001b[0m \u001b[0margs\u001b[0m\u001b[0;34m,\u001b[0m \u001b[0mpreexec_fn\u001b[0m\u001b[0;34m,\u001b[0m \u001b[0mdimensions\u001b[0m\u001b[0;34m)\u001b[0m\u001b[0;34m\u001b[0m\u001b[0;34m\u001b[0m\u001b[0m\n\u001b[0m\u001b[1;32m    206\u001b[0m         \u001b[0mself\u001b[0m\u001b[0;34m.\u001b[0m\u001b[0muse_poll\u001b[0m \u001b[0;34m=\u001b[0m \u001b[0muse_poll\u001b[0m\u001b[0;34m\u001b[0m\u001b[0;34m\u001b[0m\u001b[0m\n\u001b[1;32m    207\u001b[0m \u001b[0;34m\u001b[0m\u001b[0m\n",
      "\u001b[0;32m~/anaconda3/envs/pytorch_p36/lib/python3.6/site-packages/pexpect/pty_spawn.py\u001b[0m in \u001b[0;36m_spawn\u001b[0;34m(self, command, args, preexec_fn, dimensions)\u001b[0m\n\u001b[1;32m    302\u001b[0m \u001b[0;34m\u001b[0m\u001b[0m\n\u001b[1;32m    303\u001b[0m         self.ptyproc = self._spawnpty(self.args, env=self.env,\n\u001b[0;32m--> 304\u001b[0;31m                                      cwd=self.cwd, **kwargs)\n\u001b[0m\u001b[1;32m    305\u001b[0m \u001b[0;34m\u001b[0m\u001b[0m\n\u001b[1;32m    306\u001b[0m         \u001b[0mself\u001b[0m\u001b[0;34m.\u001b[0m\u001b[0mpid\u001b[0m \u001b[0;34m=\u001b[0m \u001b[0mself\u001b[0m\u001b[0;34m.\u001b[0m\u001b[0mptyproc\u001b[0m\u001b[0;34m.\u001b[0m\u001b[0mpid\u001b[0m\u001b[0;34m\u001b[0m\u001b[0;34m\u001b[0m\u001b[0m\n",
      "\u001b[0;32m~/anaconda3/envs/pytorch_p36/lib/python3.6/site-packages/pexpect/pty_spawn.py\u001b[0m in \u001b[0;36m_spawnpty\u001b[0;34m(self, args, **kwargs)\u001b[0m\n\u001b[1;32m    313\u001b[0m     \u001b[0;32mdef\u001b[0m \u001b[0m_spawnpty\u001b[0m\u001b[0;34m(\u001b[0m\u001b[0mself\u001b[0m\u001b[0;34m,\u001b[0m \u001b[0margs\u001b[0m\u001b[0;34m,\u001b[0m \u001b[0;34m**\u001b[0m\u001b[0mkwargs\u001b[0m\u001b[0;34m)\u001b[0m\u001b[0;34m:\u001b[0m\u001b[0;34m\u001b[0m\u001b[0;34m\u001b[0m\u001b[0m\n\u001b[1;32m    314\u001b[0m         \u001b[0;34m'''Spawn a pty and return an instance of PtyProcess.'''\u001b[0m\u001b[0;34m\u001b[0m\u001b[0;34m\u001b[0m\u001b[0m\n\u001b[0;32m--> 315\u001b[0;31m         \u001b[0;32mreturn\u001b[0m \u001b[0mptyprocess\u001b[0m\u001b[0;34m.\u001b[0m\u001b[0mPtyProcess\u001b[0m\u001b[0;34m.\u001b[0m\u001b[0mspawn\u001b[0m\u001b[0;34m(\u001b[0m\u001b[0margs\u001b[0m\u001b[0;34m,\u001b[0m \u001b[0;34m**\u001b[0m\u001b[0mkwargs\u001b[0m\u001b[0;34m)\u001b[0m\u001b[0;34m\u001b[0m\u001b[0;34m\u001b[0m\u001b[0m\n\u001b[0m\u001b[1;32m    316\u001b[0m \u001b[0;34m\u001b[0m\u001b[0m\n\u001b[1;32m    317\u001b[0m     \u001b[0;32mdef\u001b[0m \u001b[0mclose\u001b[0m\u001b[0;34m(\u001b[0m\u001b[0mself\u001b[0m\u001b[0;34m,\u001b[0m \u001b[0mforce\u001b[0m\u001b[0;34m=\u001b[0m\u001b[0;32mTrue\u001b[0m\u001b[0;34m)\u001b[0m\u001b[0;34m:\u001b[0m\u001b[0;34m\u001b[0m\u001b[0;34m\u001b[0m\u001b[0m\n",
      "\u001b[0;32m~/anaconda3/envs/pytorch_p36/lib/python3.6/site-packages/ptyprocess/ptyprocess.py\u001b[0m in \u001b[0;36mspawn\u001b[0;34m(cls, argv, cwd, env, echo, preexec_fn, dimensions, pass_fds)\u001b[0m\n\u001b[1;32m    228\u001b[0m \u001b[0;34m\u001b[0m\u001b[0m\n\u001b[1;32m    229\u001b[0m         \u001b[0;32mif\u001b[0m \u001b[0muse_native_pty_fork\u001b[0m\u001b[0;34m:\u001b[0m\u001b[0;34m\u001b[0m\u001b[0;34m\u001b[0m\u001b[0m\n\u001b[0;32m--> 230\u001b[0;31m             \u001b[0mpid\u001b[0m\u001b[0;34m,\u001b[0m \u001b[0mfd\u001b[0m \u001b[0;34m=\u001b[0m \u001b[0mpty\u001b[0m\u001b[0;34m.\u001b[0m\u001b[0mfork\u001b[0m\u001b[0;34m(\u001b[0m\u001b[0;34m)\u001b[0m\u001b[0;34m\u001b[0m\u001b[0;34m\u001b[0m\u001b[0m\n\u001b[0m\u001b[1;32m    231\u001b[0m         \u001b[0;32melse\u001b[0m\u001b[0;34m:\u001b[0m\u001b[0;34m\u001b[0m\u001b[0;34m\u001b[0m\u001b[0m\n\u001b[1;32m    232\u001b[0m             \u001b[0;31m# Use internal fork_pty, for Solaris\u001b[0m\u001b[0;34m\u001b[0m\u001b[0;34m\u001b[0m\u001b[0;34m\u001b[0m\u001b[0m\n",
      "\u001b[0;32m~/anaconda3/envs/pytorch_p36/lib/python3.6/pty.py\u001b[0m in \u001b[0;36mfork\u001b[0;34m()\u001b[0m\n\u001b[1;32m     95\u001b[0m \u001b[0;34m\u001b[0m\u001b[0m\n\u001b[1;32m     96\u001b[0m     \u001b[0mmaster_fd\u001b[0m\u001b[0;34m,\u001b[0m \u001b[0mslave_fd\u001b[0m \u001b[0;34m=\u001b[0m \u001b[0mopenpty\u001b[0m\u001b[0;34m(\u001b[0m\u001b[0;34m)\u001b[0m\u001b[0;34m\u001b[0m\u001b[0;34m\u001b[0m\u001b[0m\n\u001b[0;32m---> 97\u001b[0;31m     \u001b[0mpid\u001b[0m \u001b[0;34m=\u001b[0m \u001b[0mos\u001b[0m\u001b[0;34m.\u001b[0m\u001b[0mfork\u001b[0m\u001b[0;34m(\u001b[0m\u001b[0;34m)\u001b[0m\u001b[0;34m\u001b[0m\u001b[0;34m\u001b[0m\u001b[0m\n\u001b[0m\u001b[1;32m     98\u001b[0m     \u001b[0;32mif\u001b[0m \u001b[0mpid\u001b[0m \u001b[0;34m==\u001b[0m \u001b[0mCHILD\u001b[0m\u001b[0;34m:\u001b[0m\u001b[0;34m\u001b[0m\u001b[0;34m\u001b[0m\u001b[0m\n\u001b[1;32m     99\u001b[0m         \u001b[0;31m# Establish a new session.\u001b[0m\u001b[0;34m\u001b[0m\u001b[0;34m\u001b[0m\u001b[0;34m\u001b[0m\u001b[0m\n",
      "\u001b[0;31mOSError\u001b[0m: [Errno 12] Cannot allocate memory"
     ]
    }
   ],
   "source": [
    "# First we will remove all of the files contained in the data_dir directory\n",
    "!rm $data_dir/*\n",
    "\n",
    "# And then we delete the directory itself\n",
    "!rmdir $data_dir\n",
    "\n",
    "# Similarly we remove the files in the cache_dir directory and the directory itself\n",
    "!rm $cache_dir/*\n",
    "!rmdir $cache_dir"
   ]
  },
  {
   "cell_type": "code",
   "execution_count": null,
   "metadata": {},
   "outputs": [],
   "source": []
  }
 ],
 "metadata": {
  "kernelspec": {
   "display_name": "conda_pytorch_p36",
   "language": "python",
   "name": "conda_pytorch_p36"
  },
  "language_info": {
   "codemirror_mode": {
    "name": "ipython",
    "version": 3
   },
   "file_extension": ".py",
   "mimetype": "text/x-python",
   "name": "python",
   "nbconvert_exporter": "python",
   "pygments_lexer": "ipython3",
   "version": "3.6.13"
  }
 },
 "nbformat": 4,
 "nbformat_minor": 2
}
